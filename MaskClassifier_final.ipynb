{
 "cells": [
  {
   "cell_type": "code",
   "execution_count": 100,
   "metadata": {},
   "outputs": [],
   "source": [
    "!pip install -Uqq fastbook\n",
    "import fastbook\n",
    "fastbook.setup_book()"
   ]
  },
  {
   "cell_type": "code",
   "execution_count": 101,
   "metadata": {},
   "outputs": [],
   "source": [
    "from fastbook import *"
   ]
  },
  {
   "cell_type": "code",
   "execution_count": 102,
   "metadata": {},
   "outputs": [],
   "source": [
    "from fastai.vision.all import *\n",
    "from fastai.vision.widgets import *\n",
    "import os"
   ]
  },
  {
   "cell_type": "code",
   "execution_count": 103,
   "metadata": {},
   "outputs": [
    {
     "name": "stdout",
     "output_type": "stream",
     "text": [
      "archive.zip\t\t\t  imgs.zip\t\t    pascal_2012.tgz\n",
      "cuda_10.2.89_440.33.01_linux.run  label\t\t\t    Test\n",
      "Face Mask Dataset\t\t  MaskClassifier.ipynb\t    Test.zip\n",
      "fastbook\t\t\t  MaskData\t\t    tutorials\n",
      "firstProject.ipynb\t\t  MaskData.zip\t\t    Untitled.ipynb\n",
      "GPT-4 dataSet\t\t\t  Mask.ipynb\n",
      "GPT-4.ipynb\t\t\t  NVIDIA_CUDA-10.2_Samples\n"
     ]
    }
   ],
   "source": [
    "!ls"
   ]
  },
  {
   "cell_type": "code",
   "execution_count": 104,
   "metadata": {},
   "outputs": [],
   "source": [
    "import zipfile\n",
    "with zipfile.ZipFile(\"archive.zip\", 'r') as zip_ref:\n",
    "    zip_ref.extractall()"
   ]
  },
  {
   "cell_type": "code",
   "execution_count": 105,
   "metadata": {},
   "outputs": [
    {
     "name": "stdout",
     "output_type": "stream",
     "text": [
      "archive.zip\t\t\t  imgs.zip\t\t    pascal_2012.tgz\n",
      "cuda_10.2.89_440.33.01_linux.run  label\t\t\t    Test\n",
      "Face Mask Dataset\t\t  MaskClassifier.ipynb\t    Test.zip\n",
      "fastbook\t\t\t  MaskData\t\t    tutorials\n",
      "firstProject.ipynb\t\t  MaskData.zip\t\t    Untitled.ipynb\n",
      "GPT-4 dataSet\t\t\t  Mask.ipynb\n",
      "GPT-4.ipynb\t\t\t  NVIDIA_CUDA-10.2_Samples\n"
     ]
    }
   ],
   "source": [
    "!ls"
   ]
  },
  {
   "cell_type": "code",
   "execution_count": 106,
   "metadata": {},
   "outputs": [],
   "source": [
    "path = Path(\"Face Mask Dataset\")"
   ]
  },
  {
   "cell_type": "code",
   "execution_count": 107,
   "metadata": {},
   "outputs": [
    {
     "name": "stdout",
     "output_type": "stream",
     "text": [
      "Face Mask Dataset\n"
     ]
    }
   ],
   "source": [
    "print(path)"
   ]
  },
  {
   "cell_type": "code",
   "execution_count": 108,
   "metadata": {},
   "outputs": [
    {
     "data": {
      "text/plain": [
       "(#3) [Path('Face Mask Dataset/Test'),Path('Face Mask Dataset/Validation'),Path('Face Mask Dataset/Train')]"
      ]
     },
     "execution_count": 108,
     "metadata": {},
     "output_type": "execute_result"
    }
   ],
   "source": [
    "path.ls()"
   ]
  },
  {
   "cell_type": "code",
   "execution_count": 109,
   "metadata": {},
   "outputs": [
    {
     "data": {
      "text/plain": [
       "(#2) [Path('Face Mask Dataset/Train/WithMask'),Path('Face Mask Dataset/Train/WithoutMask')]"
      ]
     },
     "execution_count": 109,
     "metadata": {},
     "output_type": "execute_result"
    }
   ],
   "source": [
    "(path/'Train').ls()"
   ]
  },
  {
   "cell_type": "code",
   "execution_count": 110,
   "metadata": {},
   "outputs": [
    {
     "data": {
      "text/plain": [
       "(#5000) [Path('Face Mask Dataset/Train/WithMask/1194.png'),Path('Face Mask Dataset/Train/WithMask/Augmented_24_1758250.png'),Path('Face Mask Dataset/Train/WithMask/Augmented_507_967442.png'),Path('Face Mask Dataset/Train/WithMask/Augmented_599_1211289.png'),Path('Face Mask Dataset/Train/WithMask/Augmented_186_6357304.png'),Path('Face Mask Dataset/Train/WithMask/Augmented_486_5233717.png'),Path('Face Mask Dataset/Train/WithMask/Augmented_51_1772026.png'),Path('Face Mask Dataset/Train/WithMask/Augmented_362_2770068.png'),Path('Face Mask Dataset/Train/WithMask/439.png'),Path('Face Mask Dataset/Train/WithMask/Augmented_634_1718996.png')...]"
      ]
     },
     "execution_count": 110,
     "metadata": {},
     "output_type": "execute_result"
    }
   ],
   "source": [
    "(path/'Train'/'WithMask').ls()\n"
   ]
  },
  {
   "cell_type": "code",
   "execution_count": 111,
   "metadata": {},
   "outputs": [
    {
     "data": {
      "text/plain": [
       "(#5000) [Path('Face Mask Dataset/Train/WithoutMask/1485.png'),Path('Face Mask Dataset/Train/WithoutMask/3015.png'),Path('Face Mask Dataset/Train/WithoutMask/371.png'),Path('Face Mask Dataset/Train/WithoutMask/2891.png'),Path('Face Mask Dataset/Train/WithoutMask/2556.png'),Path('Face Mask Dataset/Train/WithoutMask/1194.png'),Path('Face Mask Dataset/Train/WithoutMask/1534.png'),Path('Face Mask Dataset/Train/WithoutMask/1738.png'),Path('Face Mask Dataset/Train/WithoutMask/4309.png'),Path('Face Mask Dataset/Train/WithoutMask/5148.png')...]"
      ]
     },
     "execution_count": 111,
     "metadata": {},
     "output_type": "execute_result"
    }
   ],
   "source": [
    "(path/'Train'/'WithoutMask').ls()"
   ]
  },
  {
   "cell_type": "code",
   "execution_count": 19,
   "metadata": {},
   "outputs": [
    {
     "data": {
      "text/plain": [
       "(#400) [Path('Face Mask Dataset/Validation/WithoutMask/4032.png'),Path('Face Mask Dataset/Validation/WithoutMask/948.png'),Path('Face Mask Dataset/Validation/WithoutMask/5264.png'),Path('Face Mask Dataset/Validation/WithoutMask/5729.png'),Path('Face Mask Dataset/Validation/WithoutMask/4620.png'),Path('Face Mask Dataset/Validation/WithoutMask/4393.png'),Path('Face Mask Dataset/Validation/WithoutMask/3956.png'),Path('Face Mask Dataset/Validation/WithoutMask/2287.png'),Path('Face Mask Dataset/Validation/WithoutMask/2645.png'),Path('Face Mask Dataset/Validation/WithoutMask/780.png')...]"
      ]
     },
     "execution_count": 19,
     "metadata": {},
     "output_type": "execute_result"
    }
   ],
   "source": [
    "(path/'Validation'/'WithoutMask').ls()"
   ]
  },
  {
   "cell_type": "code",
   "execution_count": 20,
   "metadata": {},
   "outputs": [
    {
     "data": {
      "text/plain": [
       "(#400) [Path('Face Mask Dataset/Validation/WithMask/Augmented_815_1430967.png'),Path('Face Mask Dataset/Validation/WithMask/Augmented_504_9511834.png'),Path('Face Mask Dataset/Validation/WithMask/Augmented_407_9927816.png'),Path('Face Mask Dataset/Validation/WithMask/Augmented_476_4240039.png'),Path('Face Mask Dataset/Validation/WithMask/Augmented_87_429586.png'),Path('Face Mask Dataset/Validation/WithMask/Augmented_358_4474074.png'),Path('Face Mask Dataset/Validation/WithMask/Augmented_350_8452092.png'),Path('Face Mask Dataset/Validation/WithMask/Augmented_810_151971.png'),Path('Face Mask Dataset/Validation/WithMask/Augmented_726_3130124.png'),Path('Face Mask Dataset/Validation/WithMask/Augmented_441_9412325.png')...]"
      ]
     },
     "execution_count": 20,
     "metadata": {},
     "output_type": "execute_result"
    }
   ],
   "source": [
    "(path/'Validation'/'WithMask').ls()"
   ]
  },
  {
   "cell_type": "code",
   "execution_count": 22,
   "metadata": {},
   "outputs": [
    {
     "data": {
      "text/plain": [
       "(#483) [Path('Face Mask Dataset/Test/WithMask/Augmented_795_3842686.png'),Path('Face Mask Dataset/Test/WithMask/Augmented_191_8931369.png'),Path('Face Mask Dataset/Test/WithMask/Augmented_180_5062898.png'),Path('Face Mask Dataset/Test/WithMask/Augmented_248_3771284.png'),Path('Face Mask Dataset/Test/WithMask/Augmented_559_2684759.png'),Path('Face Mask Dataset/Test/WithMask/Augmented_73_2500918.png'),Path('Face Mask Dataset/Test/WithMask/Augmented_686_1196640.png'),Path('Face Mask Dataset/Test/WithMask/Augmented_518_5008869.png'),Path('Face Mask Dataset/Test/WithMask/Augmented_610_9957879.png'),Path('Face Mask Dataset/Test/WithMask/Augmented_534_7216053.png')...]"
      ]
     },
     "execution_count": 22,
     "metadata": {},
     "output_type": "execute_result"
    }
   ],
   "source": [
    "(path/'Test'/'WithMask').ls()"
   ]
  },
  {
   "cell_type": "code",
   "execution_count": 23,
   "metadata": {},
   "outputs": [],
   "source": [
    "with zipfile.ZipFile(\"MaskData.zip\", 'r') as zip_ref:\n",
    "    zip_ref.extractall()"
   ]
  },
  {
   "cell_type": "code",
   "execution_count": 11,
   "metadata": {},
   "outputs": [],
   "source": [
    "path = Path(\"MaskData\")"
   ]
  },
  {
   "cell_type": "code",
   "execution_count": 12,
   "metadata": {},
   "outputs": [
    {
     "data": {
      "text/plain": [
       "(#2) [Path('MaskData/WithMask'),Path('MaskData/WithoutMask')]"
      ]
     },
     "execution_count": 12,
     "metadata": {},
     "output_type": "execute_result"
    }
   ],
   "source": [
    "path.ls()"
   ]
  },
  {
   "cell_type": "code",
   "execution_count": 13,
   "metadata": {},
   "outputs": [
    {
     "data": {
      "text/plain": [
       "(#5400) [Path('MaskData/WithoutMask/1485.png'),Path('MaskData/WithoutMask/3015.png'),Path('MaskData/WithoutMask/371.png'),Path('MaskData/WithoutMask/2891.png'),Path('MaskData/WithoutMask/2556.png'),Path('MaskData/WithoutMask/1194.png'),Path('MaskData/WithoutMask/1534.png'),Path('MaskData/WithoutMask/1738.png'),Path('MaskData/WithoutMask/4309.png'),Path('MaskData/WithoutMask/5148.png')...]"
      ]
     },
     "execution_count": 13,
     "metadata": {},
     "output_type": "execute_result"
    }
   ],
   "source": [
    "(path/\"WithoutMask\").ls()"
   ]
  },
  {
   "cell_type": "code",
   "execution_count": 14,
   "metadata": {},
   "outputs": [
    {
     "data": {
      "text/plain": [
       "Path('MaskData/WithoutMask/1485.png')"
      ]
     },
     "execution_count": 14,
     "metadata": {},
     "output_type": "execute_result"
    }
   ],
   "source": [
    "(path/\"WithoutMask\").ls()[0]"
   ]
  },
  {
   "cell_type": "code",
   "execution_count": 15,
   "metadata": {},
   "outputs": [],
   "source": [
    "SampleImag = (path/\"WithoutMask\").ls()[0]"
   ]
  },
  {
   "cell_type": "code",
   "execution_count": null,
   "metadata": {},
   "outputs": [],
   "source": [
    "\n"
   ]
  },
  {
   "cell_type": "code",
   "execution_count": 131,
   "metadata": {},
   "outputs": [],
   "source": [
    "MaskDataBlock = DataBlock( blocks = (ImageBlock, CategoryBlock),\n",
    "                         get_items = get_image_files,\n",
    "                         splitter = RandomSplitter(valid_pct=0.3, seed=42),\n",
    "                         get_y = parent_label,\n",
    "                         item_tfms = Resize(460),)"
   ]
  },
  {
   "cell_type": "code",
   "execution_count": 132,
   "metadata": {},
   "outputs": [],
   "source": [
    "dls = MaskDataBlock.dataloaders(path)"
   ]
  },
  {
   "cell_type": "code",
   "execution_count": 133,
   "metadata": {},
   "outputs": [
    {
     "data": {
      "image/png": "[encoded data removed]",
      "text/plain": [
       "<Figure size 1080x216 with 5 Axes>"
      ]
     },
     "metadata": {
      "needs_background": "light"
     },
     "output_type": "display_data"
    }
   ],
   "source": [
    "dls.show_batch(nrows=1, ncols=5)"
   ]
  },
  {
   "cell_type": "code",
   "execution_count": 19,
   "metadata": {},
   "outputs": [
    {
     "data": {
      "image/png": "[encoded data removed]",
      "text/plain": [
       "<Figure size 1080x216 with 5 Axes>"
      ]
     },
     "metadata": {
      "needs_background": "light"
     },
     "output_type": "display_data"
    }
   ],
   "source": [
    "dls.show_batch(nrows=1, ncols=5)"
   ]
  },
  {
   "cell_type": "code",
   "execution_count": 134,
   "metadata": {},
   "outputs": [
    {
     "data": {
      "text/html": [
       "<table border=\"1\" class=\"dataframe\">\n",
       "  <thead>\n",
       "    <tr style=\"text-align: left;\">\n",
       "      <th>epoch</th>\n",
       "      <th>train_loss</th>\n",
       "      <th>valid_loss</th>\n",
       "      <th>error_rate</th>\n",
       "      <th>time</th>\n",
       "    </tr>\n",
       "  </thead>\n",
       "  <tbody>\n",
       "    <tr>\n",
       "      <td>0</td>\n",
       "      <td>0.099723</td>\n",
       "      <td>0.036751</td>\n",
       "      <td>0.012440</td>\n",
       "      <td>01:12</td>\n",
       "    </tr>\n",
       "  </tbody>\n",
       "</table>"
      ],
      "text/plain": [
       "<IPython.core.display.HTML object>"
      ]
     },
     "metadata": {},
     "output_type": "display_data"
    },
    {
     "data": {
      "text/html": [
       "<table border=\"1\" class=\"dataframe\">\n",
       "  <thead>\n",
       "    <tr style=\"text-align: left;\">\n",
       "      <th>epoch</th>\n",
       "      <th>train_loss</th>\n",
       "      <th>valid_loss</th>\n",
       "      <th>error_rate</th>\n",
       "      <th>time</th>\n",
       "    </tr>\n",
       "  </thead>\n",
       "  <tbody>\n",
       "    <tr>\n",
       "      <td>0</td>\n",
       "      <td>0.025473</td>\n",
       "      <td>0.019346</td>\n",
       "      <td>0.003958</td>\n",
       "      <td>01:33</td>\n",
       "    </tr>\n",
       "    <tr>\n",
       "      <td>1</td>\n",
       "      <td>0.006338</td>\n",
       "      <td>0.010866</td>\n",
       "      <td>0.002827</td>\n",
       "      <td>01:33</td>\n",
       "    </tr>\n",
       "  </tbody>\n",
       "</table>"
      ],
      "text/plain": [
       "<IPython.core.display.HTML object>"
      ]
     },
     "metadata": {},
     "output_type": "display_data"
    }
   ],
   "source": [
    "learn = cnn_learner(dls, resnet18, metrics=error_rate)\n",
    "learn.fine_tune(2)"
   ]
  },
  {
   "cell_type": "code",
   "execution_count": 21,
   "metadata": {},
   "outputs": [
    {
     "data": {
      "text/html": [
       "<table border=\"1\" class=\"dataframe\">\n",
       "  <thead>\n",
       "    <tr style=\"text-align: left;\">\n",
       "      <th>epoch</th>\n",
       "      <th>train_loss</th>\n",
       "      <th>valid_loss</th>\n",
       "      <th>error_rate</th>\n",
       "      <th>time</th>\n",
       "    </tr>\n",
       "  </thead>\n",
       "  <tbody>\n",
       "    <tr>\n",
       "      <td>0</td>\n",
       "      <td>0.088105</td>\n",
       "      <td>0.025080</td>\n",
       "      <td>0.007874</td>\n",
       "      <td>01:11</td>\n",
       "    </tr>\n",
       "  </tbody>\n",
       "</table>"
      ],
      "text/plain": [
       "<IPython.core.display.HTML object>"
      ]
     },
     "metadata": {},
     "output_type": "display_data"
    },
    {
     "data": {
      "text/html": [
       "<table border=\"1\" class=\"dataframe\">\n",
       "  <thead>\n",
       "    <tr style=\"text-align: left;\">\n",
       "      <th>epoch</th>\n",
       "      <th>train_loss</th>\n",
       "      <th>valid_loss</th>\n",
       "      <th>error_rate</th>\n",
       "      <th>time</th>\n",
       "    </tr>\n",
       "  </thead>\n",
       "  <tbody>\n",
       "    <tr>\n",
       "      <td>0</td>\n",
       "      <td>0.025872</td>\n",
       "      <td>0.016167</td>\n",
       "      <td>0.003242</td>\n",
       "      <td>01:33</td>\n",
       "    </tr>\n",
       "    <tr>\n",
       "      <td>1</td>\n",
       "      <td>0.010235</td>\n",
       "      <td>0.003662</td>\n",
       "      <td>0.001853</td>\n",
       "      <td>01:32</td>\n",
       "    </tr>\n",
       "  </tbody>\n",
       "</table>"
      ],
      "text/plain": [
       "<IPython.core.display.HTML object>"
      ]
     },
     "metadata": {},
     "output_type": "display_data"
    },
    {
     "data": {
      "text/html": [
       "<table border=\"1\" class=\"dataframe\">\n",
       "  <thead>\n",
       "    <tr style=\"text-align: left;\">\n",
       "      <th>epoch</th>\n",
       "      <th>train_loss</th>\n",
       "      <th>valid_loss</th>\n",
       "      <th>error_rate</th>\n",
       "      <th>time</th>\n",
       "    </tr>\n",
       "  </thead>\n",
       "  <tbody>\n",
       "    <tr>\n",
       "      <td>0</td>\n",
       "      <td>0.094794</td>\n",
       "      <td>0.082178</td>\n",
       "      <td>0.024085</td>\n",
       "      <td>01:11</td>\n",
       "    </tr>\n",
       "  </tbody>\n",
       "</table>"
      ],
      "text/plain": [
       "<IPython.core.display.HTML object>"
      ]
     },
     "metadata": {},
     "output_type": "display_data"
    },
    {
     "data": {
      "text/html": [
       "<table border=\"1\" class=\"dataframe\">\n",
       "  <thead>\n",
       "    <tr style=\"text-align: left;\">\n",
       "      <th>epoch</th>\n",
       "      <th>train_loss</th>\n",
       "      <th>valid_loss</th>\n",
       "      <th>error_rate</th>\n",
       "      <th>time</th>\n",
       "    </tr>\n",
       "  </thead>\n",
       "  <tbody>\n",
       "    <tr>\n",
       "      <td>0</td>\n",
       "      <td>0.030077</td>\n",
       "      <td>0.009804</td>\n",
       "      <td>0.002779</td>\n",
       "      <td>01:33</td>\n",
       "    </tr>\n",
       "    <tr>\n",
       "      <td>1</td>\n",
       "      <td>0.008461</td>\n",
       "      <td>0.004521</td>\n",
       "      <td>0.000926</td>\n",
       "      <td>01:33</td>\n",
       "    </tr>\n",
       "  </tbody>\n",
       "</table>"
      ],
      "text/plain": [
       "<IPython.core.display.HTML object>"
      ]
     },
     "metadata": {},
     "output_type": "display_data"
    },
    {
     "data": {
      "text/html": [
       "<table border=\"1\" class=\"dataframe\">\n",
       "  <thead>\n",
       "    <tr style=\"text-align: left;\">\n",
       "      <th>epoch</th>\n",
       "      <th>train_loss</th>\n",
       "      <th>valid_loss</th>\n",
       "      <th>error_rate</th>\n",
       "      <th>time</th>\n",
       "    </tr>\n",
       "  </thead>\n",
       "  <tbody>\n",
       "    <tr>\n",
       "      <td>0</td>\n",
       "      <td>0.094670</td>\n",
       "      <td>0.025421</td>\n",
       "      <td>0.008800</td>\n",
       "      <td>01:11</td>\n",
       "    </tr>\n",
       "  </tbody>\n",
       "</table>"
      ],
      "text/plain": [
       "<IPython.core.display.HTML object>"
      ]
     },
     "metadata": {},
     "output_type": "display_data"
    },
    {
     "data": {
      "text/html": [
       "<table border=\"1\" class=\"dataframe\">\n",
       "  <thead>\n",
       "    <tr style=\"text-align: left;\">\n",
       "      <th>epoch</th>\n",
       "      <th>train_loss</th>\n",
       "      <th>valid_loss</th>\n",
       "      <th>error_rate</th>\n",
       "      <th>time</th>\n",
       "    </tr>\n",
       "  </thead>\n",
       "  <tbody>\n",
       "    <tr>\n",
       "      <td>0</td>\n",
       "      <td>0.031968</td>\n",
       "      <td>0.009103</td>\n",
       "      <td>0.003242</td>\n",
       "      <td>01:32</td>\n",
       "    </tr>\n",
       "    <tr>\n",
       "      <td>1</td>\n",
       "      <td>0.007979</td>\n",
       "      <td>0.004283</td>\n",
       "      <td>0.000926</td>\n",
       "      <td>01:33</td>\n",
       "    </tr>\n",
       "  </tbody>\n",
       "</table>"
      ],
      "text/plain": [
       "<IPython.core.display.HTML object>"
      ]
     },
     "metadata": {},
     "output_type": "display_data"
    },
    {
     "data": {
      "text/html": [
       "<table border=\"1\" class=\"dataframe\">\n",
       "  <thead>\n",
       "    <tr style=\"text-align: left;\">\n",
       "      <th>epoch</th>\n",
       "      <th>train_loss</th>\n",
       "      <th>valid_loss</th>\n",
       "      <th>error_rate</th>\n",
       "      <th>time</th>\n",
       "    </tr>\n",
       "  </thead>\n",
       "  <tbody>\n",
       "    <tr>\n",
       "      <td>0</td>\n",
       "      <td>0.095254</td>\n",
       "      <td>0.030430</td>\n",
       "      <td>0.010653</td>\n",
       "      <td>01:11</td>\n",
       "    </tr>\n",
       "  </tbody>\n",
       "</table>"
      ],
      "text/plain": [
       "<IPython.core.display.HTML object>"
      ]
     },
     "metadata": {},
     "output_type": "display_data"
    },
    {
     "data": {
      "text/html": [
       "<table border=\"1\" class=\"dataframe\">\n",
       "  <thead>\n",
       "    <tr style=\"text-align: left;\">\n",
       "      <th>epoch</th>\n",
       "      <th>train_loss</th>\n",
       "      <th>valid_loss</th>\n",
       "      <th>error_rate</th>\n",
       "      <th>time</th>\n",
       "    </tr>\n",
       "  </thead>\n",
       "  <tbody>\n",
       "    <tr>\n",
       "      <td>0</td>\n",
       "      <td>0.026891</td>\n",
       "      <td>0.012989</td>\n",
       "      <td>0.001853</td>\n",
       "      <td>01:33</td>\n",
       "    </tr>\n",
       "    <tr>\n",
       "      <td>1</td>\n",
       "      <td>0.007134</td>\n",
       "      <td>0.005092</td>\n",
       "      <td>0.001390</td>\n",
       "      <td>01:33</td>\n",
       "    </tr>\n",
       "  </tbody>\n",
       "</table>"
      ],
      "text/plain": [
       "<IPython.core.display.HTML object>"
      ]
     },
     "metadata": {},
     "output_type": "display_data"
    },
    {
     "data": {
      "text/html": [
       "<table border=\"1\" class=\"dataframe\">\n",
       "  <thead>\n",
       "    <tr style=\"text-align: left;\">\n",
       "      <th>epoch</th>\n",
       "      <th>train_loss</th>\n",
       "      <th>valid_loss</th>\n",
       "      <th>error_rate</th>\n",
       "      <th>time</th>\n",
       "    </tr>\n",
       "  </thead>\n",
       "  <tbody>\n",
       "    <tr>\n",
       "      <td>0</td>\n",
       "      <td>0.095148</td>\n",
       "      <td>0.028732</td>\n",
       "      <td>0.009264</td>\n",
       "      <td>01:11</td>\n",
       "    </tr>\n",
       "  </tbody>\n",
       "</table>"
      ],
      "text/plain": [
       "<IPython.core.display.HTML object>"
      ]
     },
     "metadata": {},
     "output_type": "display_data"
    },
    {
     "data": {
      "text/html": [
       "<table border=\"1\" class=\"dataframe\">\n",
       "  <thead>\n",
       "    <tr style=\"text-align: left;\">\n",
       "      <th>epoch</th>\n",
       "      <th>train_loss</th>\n",
       "      <th>valid_loss</th>\n",
       "      <th>error_rate</th>\n",
       "      <th>time</th>\n",
       "    </tr>\n",
       "  </thead>\n",
       "  <tbody>\n",
       "    <tr>\n",
       "      <td>0</td>\n",
       "      <td>0.026306</td>\n",
       "      <td>0.013894</td>\n",
       "      <td>0.004632</td>\n",
       "      <td>01:33</td>\n",
       "    </tr>\n",
       "    <tr>\n",
       "      <td>1</td>\n",
       "      <td>0.006734</td>\n",
       "      <td>0.007324</td>\n",
       "      <td>0.001390</td>\n",
       "      <td>01:33</td>\n",
       "    </tr>\n",
       "  </tbody>\n",
       "</table>"
      ],
      "text/plain": [
       "<IPython.core.display.HTML object>"
      ]
     },
     "metadata": {},
     "output_type": "display_data"
    },
    {
     "data": {
      "text/html": [
       "<table border=\"1\" class=\"dataframe\">\n",
       "  <thead>\n",
       "    <tr style=\"text-align: left;\">\n",
       "      <th>epoch</th>\n",
       "      <th>train_loss</th>\n",
       "      <th>valid_loss</th>\n",
       "      <th>error_rate</th>\n",
       "      <th>time</th>\n",
       "    </tr>\n",
       "  </thead>\n",
       "  <tbody>\n",
       "    <tr>\n",
       "      <td>0</td>\n",
       "      <td>0.082309</td>\n",
       "      <td>0.029098</td>\n",
       "      <td>0.011116</td>\n",
       "      <td>01:11</td>\n",
       "    </tr>\n",
       "  </tbody>\n",
       "</table>"
      ],
      "text/plain": [
       "<IPython.core.display.HTML object>"
      ]
     },
     "metadata": {},
     "output_type": "display_data"
    },
    {
     "data": {
      "text/html": [
       "<table border=\"1\" class=\"dataframe\">\n",
       "  <thead>\n",
       "    <tr style=\"text-align: left;\">\n",
       "      <th>epoch</th>\n",
       "      <th>train_loss</th>\n",
       "      <th>valid_loss</th>\n",
       "      <th>error_rate</th>\n",
       "      <th>time</th>\n",
       "    </tr>\n",
       "  </thead>\n",
       "  <tbody>\n",
       "    <tr>\n",
       "      <td>0</td>\n",
       "      <td>0.040041</td>\n",
       "      <td>0.006912</td>\n",
       "      <td>0.003242</td>\n",
       "      <td>01:33</td>\n",
       "    </tr>\n",
       "    <tr>\n",
       "      <td>1</td>\n",
       "      <td>0.007871</td>\n",
       "      <td>0.004902</td>\n",
       "      <td>0.001390</td>\n",
       "      <td>01:32</td>\n",
       "    </tr>\n",
       "  </tbody>\n",
       "</table>"
      ],
      "text/plain": [
       "<IPython.core.display.HTML object>"
      ]
     },
     "metadata": {},
     "output_type": "display_data"
    },
    {
     "data": {
      "text/html": [
       "<table border=\"1\" class=\"dataframe\">\n",
       "  <thead>\n",
       "    <tr style=\"text-align: left;\">\n",
       "      <th>epoch</th>\n",
       "      <th>train_loss</th>\n",
       "      <th>valid_loss</th>\n",
       "      <th>error_rate</th>\n",
       "      <th>time</th>\n",
       "    </tr>\n",
       "  </thead>\n",
       "  <tbody>\n",
       "    <tr>\n",
       "      <td>0</td>\n",
       "      <td>0.085495</td>\n",
       "      <td>0.034323</td>\n",
       "      <td>0.010653</td>\n",
       "      <td>01:11</td>\n",
       "    </tr>\n",
       "  </tbody>\n",
       "</table>"
      ],
      "text/plain": [
       "<IPython.core.display.HTML object>"
      ]
     },
     "metadata": {},
     "output_type": "display_data"
    },
    {
     "data": {
      "text/html": [
       "<table border=\"1\" class=\"dataframe\">\n",
       "  <thead>\n",
       "    <tr style=\"text-align: left;\">\n",
       "      <th>epoch</th>\n",
       "      <th>train_loss</th>\n",
       "      <th>valid_loss</th>\n",
       "      <th>error_rate</th>\n",
       "      <th>time</th>\n",
       "    </tr>\n",
       "  </thead>\n",
       "  <tbody>\n",
       "    <tr>\n",
       "      <td>0</td>\n",
       "      <td>0.025735</td>\n",
       "      <td>0.023139</td>\n",
       "      <td>0.007874</td>\n",
       "      <td>01:33</td>\n",
       "    </tr>\n",
       "    <tr>\n",
       "      <td>1</td>\n",
       "      <td>0.010378</td>\n",
       "      <td>0.002580</td>\n",
       "      <td>0.000463</td>\n",
       "      <td>01:32</td>\n",
       "    </tr>\n",
       "  </tbody>\n",
       "</table>"
      ],
      "text/plain": [
       "<IPython.core.display.HTML object>"
      ]
     },
     "metadata": {},
     "output_type": "display_data"
    },
    {
     "data": {
      "text/html": [
       "<table border=\"1\" class=\"dataframe\">\n",
       "  <thead>\n",
       "    <tr style=\"text-align: left;\">\n",
       "      <th>epoch</th>\n",
       "      <th>train_loss</th>\n",
       "      <th>valid_loss</th>\n",
       "      <th>error_rate</th>\n",
       "      <th>time</th>\n",
       "    </tr>\n",
       "  </thead>\n",
       "  <tbody>\n",
       "    <tr>\n",
       "      <td>0</td>\n",
       "      <td>0.082739</td>\n",
       "      <td>0.029675</td>\n",
       "      <td>0.009727</td>\n",
       "      <td>01:11</td>\n",
       "    </tr>\n",
       "  </tbody>\n",
       "</table>"
      ],
      "text/plain": [
       "<IPython.core.display.HTML object>"
      ]
     },
     "metadata": {},
     "output_type": "display_data"
    },
    {
     "data": {
      "text/html": [
       "<table border=\"1\" class=\"dataframe\">\n",
       "  <thead>\n",
       "    <tr style=\"text-align: left;\">\n",
       "      <th>epoch</th>\n",
       "      <th>train_loss</th>\n",
       "      <th>valid_loss</th>\n",
       "      <th>error_rate</th>\n",
       "      <th>time</th>\n",
       "    </tr>\n",
       "  </thead>\n",
       "  <tbody>\n",
       "    <tr>\n",
       "      <td>0</td>\n",
       "      <td>0.035340</td>\n",
       "      <td>0.009835</td>\n",
       "      <td>0.002779</td>\n",
       "      <td>01:32</td>\n",
       "    </tr>\n",
       "    <tr>\n",
       "      <td>1</td>\n",
       "      <td>0.012134</td>\n",
       "      <td>0.008611</td>\n",
       "      <td>0.001390</td>\n",
       "      <td>01:33</td>\n",
       "    </tr>\n",
       "  </tbody>\n",
       "</table>"
      ],
      "text/plain": [
       "<IPython.core.display.HTML object>"
      ]
     },
     "metadata": {},
     "output_type": "display_data"
    },
    {
     "data": {
      "text/html": [
       "<table border=\"1\" class=\"dataframe\">\n",
       "  <thead>\n",
       "    <tr style=\"text-align: left;\">\n",
       "      <th>epoch</th>\n",
       "      <th>train_loss</th>\n",
       "      <th>valid_loss</th>\n",
       "      <th>error_rate</th>\n",
       "      <th>time</th>\n",
       "    </tr>\n",
       "  </thead>\n",
       "  <tbody>\n",
       "    <tr>\n",
       "      <td>0</td>\n",
       "      <td>0.086949</td>\n",
       "      <td>0.050714</td>\n",
       "      <td>0.016211</td>\n",
       "      <td>01:11</td>\n",
       "    </tr>\n",
       "  </tbody>\n",
       "</table>"
      ],
      "text/plain": [
       "<IPython.core.display.HTML object>"
      ]
     },
     "metadata": {},
     "output_type": "display_data"
    },
    {
     "data": {
      "text/html": [
       "<table border=\"1\" class=\"dataframe\">\n",
       "  <thead>\n",
       "    <tr style=\"text-align: left;\">\n",
       "      <th>epoch</th>\n",
       "      <th>train_loss</th>\n",
       "      <th>valid_loss</th>\n",
       "      <th>error_rate</th>\n",
       "      <th>time</th>\n",
       "    </tr>\n",
       "  </thead>\n",
       "  <tbody>\n",
       "    <tr>\n",
       "      <td>0</td>\n",
       "      <td>0.031552</td>\n",
       "      <td>0.016688</td>\n",
       "      <td>0.005095</td>\n",
       "      <td>01:33</td>\n",
       "    </tr>\n",
       "    <tr>\n",
       "      <td>1</td>\n",
       "      <td>0.014759</td>\n",
       "      <td>0.005247</td>\n",
       "      <td>0.000926</td>\n",
       "      <td>01:33</td>\n",
       "    </tr>\n",
       "  </tbody>\n",
       "</table>"
      ],
      "text/plain": [
       "<IPython.core.display.HTML object>"
      ]
     },
     "metadata": {},
     "output_type": "display_data"
    },
    {
     "data": {
      "text/html": [
       "<table border=\"1\" class=\"dataframe\">\n",
       "  <thead>\n",
       "    <tr style=\"text-align: left;\">\n",
       "      <th>epoch</th>\n",
       "      <th>train_loss</th>\n",
       "      <th>valid_loss</th>\n",
       "      <th>error_rate</th>\n",
       "      <th>time</th>\n",
       "    </tr>\n",
       "  </thead>\n",
       "  <tbody>\n",
       "    <tr>\n",
       "      <td>0</td>\n",
       "      <td>0.087951</td>\n",
       "      <td>0.026593</td>\n",
       "      <td>0.009727</td>\n",
       "      <td>01:11</td>\n",
       "    </tr>\n",
       "  </tbody>\n",
       "</table>"
      ],
      "text/plain": [
       "<IPython.core.display.HTML object>"
      ]
     },
     "metadata": {},
     "output_type": "display_data"
    },
    {
     "data": {
      "text/html": [
       "<table border=\"1\" class=\"dataframe\">\n",
       "  <thead>\n",
       "    <tr style=\"text-align: left;\">\n",
       "      <th>epoch</th>\n",
       "      <th>train_loss</th>\n",
       "      <th>valid_loss</th>\n",
       "      <th>error_rate</th>\n",
       "      <th>time</th>\n",
       "    </tr>\n",
       "  </thead>\n",
       "  <tbody>\n",
       "    <tr>\n",
       "      <td>0</td>\n",
       "      <td>0.036613</td>\n",
       "      <td>0.010280</td>\n",
       "      <td>0.002316</td>\n",
       "      <td>01:33</td>\n",
       "    </tr>\n",
       "    <tr>\n",
       "      <td>1</td>\n",
       "      <td>0.005022</td>\n",
       "      <td>0.003815</td>\n",
       "      <td>0.000926</td>\n",
       "      <td>01:32</td>\n",
       "    </tr>\n",
       "  </tbody>\n",
       "</table>"
      ],
      "text/plain": [
       "<IPython.core.display.HTML object>"
      ]
     },
     "metadata": {},
     "output_type": "display_data"
    }
   ],
   "source": [
    "for i in range(10):\n",
    "    MaskDataBlock = DataBlock( blocks = (ImageBlock, CategoryBlock),\n",
    "                         get_items = get_image_files,\n",
    "                         splitter = RandomSplitter(seed=42),\n",
    "                         get_y = parent_label,\n",
    "                         item_tfms = Resize(460),)\n",
    "    learn = cnn_learner(dls, resnet18, metrics=error_rate)\n",
    "    dls = MaskDataBlock.dataloaders(path)\n",
    "    learn.fine_tune(2)"
   ]
  },
  {
   "cell_type": "code",
   "execution_count": 22,
   "metadata": {},
   "outputs": [
    {
     "data": {
      "text/html": [
       "<table border=\"1\" class=\"dataframe\">\n",
       "  <thead>\n",
       "    <tr style=\"text-align: left;\">\n",
       "      <th>epoch</th>\n",
       "      <th>train_loss</th>\n",
       "      <th>valid_loss</th>\n",
       "      <th>error_rate</th>\n",
       "      <th>time</th>\n",
       "    </tr>\n",
       "  </thead>\n",
       "  <tbody>\n",
       "    <tr>\n",
       "      <td>0</td>\n",
       "      <td>0.087535</td>\n",
       "      <td>0.029956</td>\n",
       "      <td>0.010653</td>\n",
       "      <td>01:11</td>\n",
       "    </tr>\n",
       "  </tbody>\n",
       "</table>"
      ],
      "text/plain": [
       "<IPython.core.display.HTML object>"
      ]
     },
     "metadata": {},
     "output_type": "display_data"
    },
    {
     "data": {
      "text/html": [
       "<table border=\"1\" class=\"dataframe\">\n",
       "  <thead>\n",
       "    <tr style=\"text-align: left;\">\n",
       "      <th>epoch</th>\n",
       "      <th>train_loss</th>\n",
       "      <th>valid_loss</th>\n",
       "      <th>error_rate</th>\n",
       "      <th>time</th>\n",
       "    </tr>\n",
       "  </thead>\n",
       "  <tbody>\n",
       "    <tr>\n",
       "      <td>0</td>\n",
       "      <td>0.018324</td>\n",
       "      <td>0.014923</td>\n",
       "      <td>0.004632</td>\n",
       "      <td>01:33</td>\n",
       "    </tr>\n",
       "    <tr>\n",
       "      <td>1</td>\n",
       "      <td>0.021813</td>\n",
       "      <td>0.013949</td>\n",
       "      <td>0.003242</td>\n",
       "      <td>01:32</td>\n",
       "    </tr>\n",
       "    <tr>\n",
       "      <td>2</td>\n",
       "      <td>0.011671</td>\n",
       "      <td>0.011392</td>\n",
       "      <td>0.002316</td>\n",
       "      <td>01:33</td>\n",
       "    </tr>\n",
       "    <tr>\n",
       "      <td>3</td>\n",
       "      <td>0.003397</td>\n",
       "      <td>0.008215</td>\n",
       "      <td>0.001390</td>\n",
       "      <td>01:32</td>\n",
       "    </tr>\n",
       "    <tr>\n",
       "      <td>4</td>\n",
       "      <td>0.001424</td>\n",
       "      <td>0.007854</td>\n",
       "      <td>0.000926</td>\n",
       "      <td>01:32</td>\n",
       "    </tr>\n",
       "  </tbody>\n",
       "</table>"
      ],
      "text/plain": [
       "<IPython.core.display.HTML object>"
      ]
     },
     "metadata": {},
     "output_type": "display_data"
    }
   ],
   "source": [
    " MaskDataBlock = DataBlock( blocks = (ImageBlock, CategoryBlock),\n",
    "                         get_items = get_image_files,\n",
    "                         splitter = RandomSplitter(valid_pct=0.35,seed=42),\n",
    "                         get_y = parent_label,\n",
    "                         item_tfms = Resize(460),)\n",
    "learn = cnn_learner(dls, resnet18, metrics=error_rate)\n",
    "learn.fine_tune(5)"
   ]
  },
  {
   "cell_type": "code",
   "execution_count": 114,
   "metadata": {},
   "outputs": [],
   "source": [
    "MaskDataBlock = DataBlock( blocks = (ImageBlock, CategoryBlock),\n",
    "                         get_items = get_image_files,\n",
    "                         splitter = RandomSplitter(valid_pct=0.35,seed=42),\n",
    "                         get_y = parent_label,\n",
    "                         item_tfms = Resize(460),)\n",
    "dls = MaskDataBlock.dataloaders(path)"
   ]
  },
  {
   "cell_type": "code",
   "execution_count": 115,
   "metadata": {},
   "outputs": [],
   "source": [
    "learn2 = cnn_learner(dls, resnet18, metrics=error_rate)"
   ]
  },
  {
   "cell_type": "code",
   "execution_count": 116,
   "metadata": {},
   "outputs": [
    {
     "data": {
      "text/html": [
       "<table border=\"1\" class=\"dataframe\">\n",
       "  <thead>\n",
       "    <tr style=\"text-align: left;\">\n",
       "      <th>epoch</th>\n",
       "      <th>train_loss</th>\n",
       "      <th>valid_loss</th>\n",
       "      <th>error_rate</th>\n",
       "      <th>time</th>\n",
       "    </tr>\n",
       "  </thead>\n",
       "  <tbody>\n",
       "    <tr>\n",
       "      <td>0</td>\n",
       "      <td>0.110322</td>\n",
       "      <td>0.023440</td>\n",
       "      <td>0.006542</td>\n",
       "      <td>01:09</td>\n",
       "    </tr>\n",
       "  </tbody>\n",
       "</table>"
      ],
      "text/plain": [
       "<IPython.core.display.HTML object>"
      ]
     },
     "metadata": {},
     "output_type": "display_data"
    },
    {
     "data": {
      "text/html": [
       "<table border=\"1\" class=\"dataframe\">\n",
       "  <thead>\n",
       "    <tr style=\"text-align: left;\">\n",
       "      <th>epoch</th>\n",
       "      <th>train_loss</th>\n",
       "      <th>valid_loss</th>\n",
       "      <th>error_rate</th>\n",
       "      <th>time</th>\n",
       "    </tr>\n",
       "  </thead>\n",
       "  <tbody>\n",
       "    <tr>\n",
       "      <td>0</td>\n",
       "      <td>0.019480</td>\n",
       "      <td>0.009956</td>\n",
       "      <td>0.002423</td>\n",
       "      <td>01:29</td>\n",
       "    </tr>\n",
       "    <tr>\n",
       "      <td>1</td>\n",
       "      <td>0.016966</td>\n",
       "      <td>0.007460</td>\n",
       "      <td>0.001938</td>\n",
       "      <td>01:29</td>\n",
       "    </tr>\n",
       "    <tr>\n",
       "      <td>2</td>\n",
       "      <td>0.013535</td>\n",
       "      <td>0.007149</td>\n",
       "      <td>0.002181</td>\n",
       "      <td>01:29</td>\n",
       "    </tr>\n",
       "    <tr>\n",
       "      <td>3</td>\n",
       "      <td>0.010471</td>\n",
       "      <td>0.011704</td>\n",
       "      <td>0.002181</td>\n",
       "      <td>01:29</td>\n",
       "    </tr>\n",
       "    <tr>\n",
       "      <td>4</td>\n",
       "      <td>0.002396</td>\n",
       "      <td>0.008157</td>\n",
       "      <td>0.001938</td>\n",
       "      <td>01:29</td>\n",
       "    </tr>\n",
       "    <tr>\n",
       "      <td>5</td>\n",
       "      <td>0.004453</td>\n",
       "      <td>0.013449</td>\n",
       "      <td>0.002181</td>\n",
       "      <td>01:29</td>\n",
       "    </tr>\n",
       "    <tr>\n",
       "      <td>6</td>\n",
       "      <td>0.002952</td>\n",
       "      <td>0.009164</td>\n",
       "      <td>0.000969</td>\n",
       "      <td>01:29</td>\n",
       "    </tr>\n",
       "    <tr>\n",
       "      <td>7</td>\n",
       "      <td>0.000912</td>\n",
       "      <td>0.007063</td>\n",
       "      <td>0.001212</td>\n",
       "      <td>01:29</td>\n",
       "    </tr>\n",
       "    <tr>\n",
       "      <td>8</td>\n",
       "      <td>0.000917</td>\n",
       "      <td>0.007623</td>\n",
       "      <td>0.000969</td>\n",
       "      <td>01:29</td>\n",
       "    </tr>\n",
       "  </tbody>\n",
       "</table>"
      ],
      "text/plain": [
       "<IPython.core.display.HTML object>"
      ]
     },
     "metadata": {},
     "output_type": "display_data"
    }
   ],
   "source": [
    "learn2.fine_tune(9)"
   ]
  },
  {
   "cell_type": "code",
   "execution_count": 31,
   "metadata": {},
   "outputs": [],
   "source": [
    "with zipfile.ZipFile(\"Test.zip\", 'r') as zip_ref:\n",
    "    zip_ref.extractall()"
   ]
  },
  {
   "cell_type": "code",
   "execution_count": 33,
   "metadata": {},
   "outputs": [],
   "source": [
    "imgPath = Path(\"Test/WithMask/1163.png\")"
   ]
  },
  {
   "cell_type": "code",
   "execution_count": 40,
   "metadata": {},
   "outputs": [],
   "source": [
    "im = PILImage.create(imgPath)"
   ]
  },
  {
   "cell_type": "code",
   "execution_count": 41,
   "metadata": {},
   "outputs": [
    {
     "data": {
      "image/png": "[encoded data removed]",
      "text/plain": [
       "PILImage mode=RGB size=36x36"
      ]
     },
     "execution_count": 41,
     "metadata": {},
     "output_type": "execute_result"
    }
   ],
   "source": [
    "im"
   ]
  },
  {
   "cell_type": "code",
   "execution_count": 42,
   "metadata": {},
   "outputs": [
    {
     "data": {
      "text/html": [],
      "text/plain": [
       "<IPython.core.display.HTML object>"
      ]
     },
     "metadata": {},
     "output_type": "display_data"
    }
   ],
   "source": [
    "pred,pred_idx,probs = learn2.predict(im)"
   ]
  },
  {
   "cell_type": "code",
   "execution_count": 44,
   "metadata": {},
   "outputs": [
    {
     "name": "stdout",
     "output_type": "stream",
     "text": [
      "pred: WithMask  pred_idx:  tensor(0)  probs:  tensor([9.9999e-01, 1.0013e-05])\n"
     ]
    }
   ],
   "source": [
    "print(\"pred:\",str(pred),\" pred_idx: \",str(pred_idx), \" probs: \", str(probs))"
   ]
  },
  {
   "cell_type": "code",
   "execution_count": 45,
   "metadata": {},
   "outputs": [],
   "source": [
    "imgPath = Path(\"Test/WithMask\")"
   ]
  },
  {
   "cell_type": "code",
   "execution_count": 54,
   "metadata": {},
   "outputs": [],
   "source": []
  },
  {
   "cell_type": "code",
   "execution_count": 58,
   "metadata": {},
   "outputs": [
    {
     "name": "stdout",
     "output_type": "stream",
     "text": [
      "Augmented_795_3842686.png\n",
      "Augmented_191_8931369.png\n",
      "Augmented_180_5062898.png\n",
      "Augmented_248_3771284.png\n",
      "Augmented_559_2684759.png\n",
      "Augmented_73_2500918.png\n",
      "Augmented_686_1196640.png\n",
      "Augmented_518_5008869.png\n",
      "Augmented_610_9957879.png\n",
      "Augmented_534_7216053.png\n",
      "1767.png\n",
      "Augmented_540_2621888.png\n",
      "Augmented_685_4424522.png\n",
      "Augmented_388_639616.png\n",
      "Augmented_30_1910857.png\n",
      "Augmented_346_7132980.png\n",
      "1835.png\n",
      "Augmented_296_5925088.png\n",
      "Augmented_278_1541983.png\n",
      "Augmented_115_6749830.png\n",
      "Augmented_807_7260691.png\n",
      "Augmented_450_9264733.png\n",
      "Augmented_258_734349.png\n",
      "Augmented_569_2915532.png\n",
      "Augmented_543_6655051.png\n",
      "Augmented_433_46994.png\n",
      "Augmented_336_5249925.png\n",
      "Augmented_337_8119646.png\n",
      "84.png\n",
      "Augmented_152_1390337.png\n",
      "Augmented_153_5418708.png\n",
      "Augmented_326_3854988.png\n",
      "Augmented_769_667110.png\n",
      "Augmented_353_5799649.png\n",
      "92.png\n",
      "Augmented_530_6846848.png\n",
      "1174.png\n",
      "Augmented_447_5366952.png\n",
      "Augmented_727_693753.png\n",
      "Augmented_809_2047241.png\n",
      "Augmented_421_7857639.png\n",
      "Augmented_472_4433541.png\n",
      "Augmented_708_8762628.png\n",
      "Augmented_189_8038201.png\n",
      "Augmented_591_5722478.png\n",
      "Augmented_125_3402457.png\n",
      "Augmented_261_9123056.png\n",
      "Augmented_158_6991349.png\n",
      "Augmented_630_5770721.png\n",
      "Augmented_662_6532412.png\n",
      "Augmented_56_323581.png\n",
      "Augmented_91_2221096.png\n",
      "Augmented_285_2813106.png\n",
      "Augmented_500_7577126.png\n",
      "Augmented_668_2762294.png\n",
      "Augmented_505_5586774.png\n",
      "Augmented_469_9166340.png\n",
      "Augmented_757_1202049.png\n",
      "Augmented_723_4945416.png\n",
      "Augmented_58_3749134.png\n",
      "Augmented_842_5019414.png\n",
      "807.png\n",
      "Augmented_600_228831.png\n",
      "Augmented_539_2126763.png\n",
      "219.png\n",
      "Augmented_61_202942.png\n",
      "Augmented_315_4030649.png\n",
      "Augmented_660_9937342.png\n",
      "Augmented_522_9697933.png\n",
      "Augmented_297_2673384.png\n",
      "Augmented_273_7700407.png\n",
      "Augmented_296_3645163.png\n",
      "Augmented_434_955774.png\n",
      "Augmented_875_8286837.png\n",
      "Augmented_756_476277.png\n",
      "1175.png\n",
      "85.png\n",
      "Augmented_676_174316.png\n",
      "Augmented_164_2235307.png\n",
      "230.png\n",
      "Augmented_816_7608349.png\n",
      "225.png\n",
      "Augmented_221_8830238.png\n",
      "Augmented_765_7946380.png\n",
      "1611.png\n",
      "Augmented_498_5793255.png\n",
      "Augmented_142_4240524.png\n",
      "Augmented_391_7745278.png\n",
      "178.png\n",
      "Augmented_346_6949456.png\n",
      "Augmented_214_4163448.png\n",
      "998.png\n",
      "Augmented_199_1537768.png\n",
      "Augmented_434_8719736.png\n",
      "Augmented_615_4416878.png\n",
      "Augmented_709_3873803.png\n",
      "542.png\n",
      "Augmented_297_8385866.png\n",
      "Augmented_72_4737960.png\n",
      "1834.png\n",
      "Augmented_511_6421814.png\n",
      "Augmented_772_3075581.png\n",
      "Augmented_26_6411441.png\n",
      "Augmented_675_3668206.png\n",
      "Augmented_672_5034927.png\n",
      "Augmented_545_2091737.png\n",
      "Augmented_677_9933265.png\n",
      "Augmented_292_9405685.png\n",
      "Augmented_844_376909.png\n",
      "Augmented_120_536902.png\n",
      "Augmented_520_4710062.png\n",
      "1439.png\n",
      "Augmented_687_9015476.png\n",
      "Augmented_105_2879173.png\n",
      "1559.png\n",
      "Augmented_235_7961702.png\n",
      "Augmented_194_786765.png\n",
      "Augmented_507_2627970.png\n",
      "190.png\n",
      "Augmented_71_9889238.png\n",
      "385.png\n",
      "Augmented_496_5989036.png\n",
      "Augmented_356_4535797.png\n",
      "Augmented_528_8560280.png\n",
      "393.png\n",
      "1203.png\n",
      "Augmented_470_9850673.png\n",
      "Augmented_440_5403192.png\n",
      "Augmented_549_4150433.png\n",
      "Augmented_883_7724386.png\n",
      "Augmented_498_2402579.png\n",
      "Augmented_371_9016609.png\n",
      "580.png\n",
      "Augmented_275_4307929.png\n",
      "Augmented_243_4129225.png\n",
      "Augmented_49_8740803.png\n",
      "Augmented_284_1494726.png\n",
      "Augmented_254_6791340.png\n",
      "46.png\n",
      "1558.png\n",
      "Augmented_272_3768963.png\n",
      "Augmented_130_939150.png\n",
      "Augmented_542_9776314.png\n",
      "Augmented_28_4225269.png\n",
      "Augmented_296_4640915.png\n",
      "Augmented_88_4985252.png\n",
      "Augmented_744_5930625.png\n",
      "Augmented_851_4693399.png\n",
      "Augmented_696_9874270.png\n",
      "Augmented_340_1318554.png\n",
      "Augmented_509_3793317.png\n",
      "Augmented_169_5650611.png\n",
      "1363.png\n",
      "Augmented_698_2753022.png\n",
      "Augmented_461_3573149.png\n",
      "Augmented_771_1349807.png\n",
      "Augmented_831_8950035.png\n",
      "Augmented_335_9335154.png\n",
      "1565.png\n",
      "Augmented_141_8092740.png\n",
      "Augmented_659_6392762.png\n",
      "51.png\n",
      "Augmented_546_8939403.png\n",
      "Augmented_26_5028003.png\n",
      "Augmented_363_1896885.png\n",
      "Augmented_178_1929527.png\n",
      "Augmented_798_6343266.png\n",
      "Augmented_398_6983652.png\n",
      "Augmented_632_723572.png\n",
      "Augmented_889_8712565.png\n",
      "Augmented_654_8030736.png\n",
      "971.png\n",
      "Augmented_206_4426311.png\n",
      "Augmented_223_9512903.png\n",
      "Augmented_582_8469463.png\n",
      "Augmented_456_6815089.png\n",
      "Augmented_193_9039527.png\n",
      "Augmented_190_1383450.png\n",
      "Augmented_735_9235977.png\n",
      "Augmented_446_4264806.png\n",
      "Augmented_854_5503218.png\n",
      "1389.png\n",
      "Augmented_824_6606851.png\n",
      "Augmented_787_7903268.png\n",
      "Augmented_55_3312596.png\n",
      "Augmented_775_3431886.png\n",
      "768.png\n",
      "Augmented_309_8768397.png\n",
      "Augmented_778_7420187.png\n",
      "Augmented_713_2498193.png\n",
      "Augmented_787_5812521.png\n",
      "Augmented_427_5858648.png\n",
      "Augmented_109_7550607.png\n",
      "556.png\n",
      "Augmented_689_9677847.png\n",
      "351.png\n",
      "Augmented_578_3000548.png\n",
      "Augmented_230_3671570.png\n",
      "Augmented_738_7833036.png\n",
      "1361.png\n",
      "Augmented_672_6536868.png\n",
      "Augmented_677_2423388.png\n",
      "Augmented_128_7642144.png\n",
      "Augmented_459_57017.png\n",
      "Augmented_144_2572190.png\n",
      "231.png\n",
      "1836.png\n",
      "Augmented_615_4655292.png\n",
      "Augmented_175_7003720.png\n",
      "Augmented_197_8170067.png\n",
      "Augmented_445_1389312.png\n",
      "1821.png\n",
      "1405.png\n",
      "Augmented_329_2839019.png\n",
      "Augmented_60_6882193.png\n",
      "Augmented_479_3971974.png\n",
      "Augmented_532_6705344.png\n",
      "Augmented_219_7900518.png\n",
      "Augmented_229_8982593.png\n",
      "Augmented_240_1871116.png\n",
      "Augmented_779_5850416.png\n",
      "Augmented_171_659127.png\n",
      "Augmented_562_8830079.png\n",
      "Augmented_604_2668181.png\n",
      "Augmented_506_9184556.png\n",
      "Augmented_94_1984948.png\n",
      "Augmented_251_3805250.png\n",
      "Augmented_817_1915596.png\n",
      "Augmented_211_7481384.png\n",
      "Augmented_447_5861423.png\n",
      "392.png\n",
      "Augmented_626_1326835.png\n",
      "53.png\n",
      "Augmented_384_8742839.png\n",
      "Augmented_638_473985.png\n",
      "Augmented_879_7740828.png\n",
      "608.png\n",
      "1606.png\n",
      "Augmented_498_3423715.png\n",
      "Augmented_97_6413107.png\n",
      "Augmented_518_6448487.png\n",
      "Augmented_452_7610253.png\n",
      "Augmented_699_7879059.png\n",
      "Augmented_692_4183950.png\n",
      "Augmented_394_6115301.png\n",
      "783.png\n",
      "45.png\n",
      "Augmented_315_9550573.png\n",
      "Augmented_191_53771.png\n",
      "224.png\n",
      "Augmented_572_9213014.png\n",
      "Augmented_232_1994026.png\n",
      "Augmented_823_3389615.png\n",
      "Augmented_75_7687487.png\n",
      "Augmented_767_9298576.png\n",
      "Augmented_742_5777738.png\n",
      "Augmented_492_43814.png\n",
      "Augmented_391_9802469.png\n",
      "Augmented_17_8008174.png\n",
      "Augmented_140_6205781.png\n",
      "754.png\n",
      "Augmented_233_8700277.png\n",
      "Augmented_836_6995595.png\n",
      "Augmented_530_6138724.png\n",
      "Augmented_207_7840097.png\n",
      "Augmented_35_9785520.png\n",
      "91.png\n",
      "Augmented_52_3808930.png\n",
      "1607.png\n",
      "Augmented_517_3605586.png\n",
      "Augmented_340_8941937.png\n",
      "Augmented_187_5733934.png\n",
      "Augmented_11_641260.png\n",
      "Augmented_331_9746126.png\n",
      "Augmented_365_2778718.png\n",
      "408.png\n",
      "Augmented_655_6706084.png\n",
      "Augmented_490_62045.png\n",
      "Augmented_701_7344076.png\n",
      "86.png\n",
      "Augmented_483_3692546.png\n",
      "Augmented_89_289762.png\n",
      "Augmented_746_8416316.png\n",
      "Augmented_883_4616128.png\n",
      "Augmented_106_3549951.png\n",
      "Augmented_443_9987555.png\n",
      "Augmented_189_1692194.png\n",
      "Augmented_509_4867833.png\n",
      "1388.png\n",
      "90.png\n",
      "Augmented_567_5594021.png\n",
      "3.png\n",
      "Augmented_236_7866802.png\n",
      "Augmented_794_1795298.png\n",
      "1407.png\n",
      "Augmented_430_1476011.png\n",
      "Augmented_478_1172838.png\n",
      "Augmented_199_453096.png\n",
      "Augmented_568_6994589.png\n",
      "Augmented_543_9105735.png\n",
      "Augmented_606_3078349.png\n",
      "Augmented_867_239766.png\n",
      "Augmented_678_3521762.png\n",
      "Augmented_792_909469.png\n",
      "Augmented_791_3816269.png\n",
      "Augmented_167_447307.png\n",
      "Augmented_19_9334896.png\n",
      "Augmented_617_8208877.png\n",
      "Augmented_812_7357598.png\n",
      "Augmented_349_6184398.png\n",
      "Augmented_606_8251766.png\n",
      "Augmented_501_3197024.png\n",
      "Augmented_744_2437969.png\n",
      "Augmented_870_3232968.png\n",
      "Augmented_451_3711634.png\n",
      "Augmented_304_6499564.png\n",
      "Augmented_553_7964791.png\n",
      "609.png\n",
      "Augmented_840_410277.png\n",
      "Augmented_146_1287815.png\n",
      "Augmented_153_1350544.png\n",
      "Augmented_660_9255922.png\n",
      "Augmented_18_2644445.png\n",
      "Augmented_1_6551508.png\n",
      "Augmented_170_1484889.png\n",
      "Augmented_224_1661606.png\n",
      "350.png\n",
      "Augmented_536_7576091.png\n",
      "Augmented_185_1096150.png\n",
      "1612.png\n",
      "Augmented_91_4468966.png\n",
      "Augmented_454_5039650.png\n",
      "Augmented_542_4711617.png\n",
      "Augmented_615_7582235.png\n",
      "Augmented_820_119.png\n",
      "Augmented_316_5748974.png\n",
      "Augmented_309_2910491.png\n",
      "Augmented_844_2449172.png\n",
      "Augmented_104_6573201.png\n",
      "Augmented_161_850777.png\n",
      "Augmented_766_9906050.png\n",
      "Augmented_116_7228146.png\n",
      "Augmented_428_1598598.png\n",
      "Augmented_164_2705812.png\n",
      "782.png\n",
      "Augmented_819_7886690.png\n",
      "595.png\n",
      "Augmented_282_1324197.png\n",
      "Augmented_744_9749775.png\n",
      "423.png\n",
      "1820.png\n",
      "Augmented_796_8740990.png\n",
      "Augmented_751_4594356.png\n",
      "Augmented_105_2237800.png\n",
      "Augmented_238_2487939.png\n",
      "Augmented_360_795496.png\n",
      "Augmented_817_307724.png\n",
      "Augmented_589_1358873.png\n",
      "Augmented_219_1494132.png\n",
      "Augmented_749_2186904.png\n",
      "Augmented_12_5160421.png\n",
      "Augmented_579_3176705.png\n",
      "Augmented_594_986215.png\n",
      "Augmented_49_7071345.png\n",
      "Augmented_621_9566044.png\n",
      "187.png\n",
      "Augmented_172_8199254.png\n",
      "Augmented_463_5576613.png\n",
      "Augmented_328_7802777.png\n",
      "769.png\n",
      "Augmented_432_321017.png\n",
      "Augmented_743_3883023.png\n",
      "Augmented_626_760061.png\n",
      "Augmented_766_5128363.png\n",
      "Augmented_301_4901087.png\n",
      "Augmented_285_1609604.png\n",
      "Augmented_367_4095639.png\n",
      "Augmented_869_9499871.png\n",
      "Augmented_530_370029.png\n",
      "Augmented_866_337490.png\n",
      "Augmented_2_5931815.png\n",
      "Augmented_96_996275.png\n",
      "Augmented_710_1583284.png\n",
      "Augmented_169_2180197.png\n",
      "Augmented_570_4040588.png\n",
      "Augmented_666_6106924.png\n",
      "Augmented_691_3472023.png\n",
      "Augmented_169_9173795.png\n",
      "Augmented_289_205760.png\n",
      "Augmented_752_6839684.png\n",
      "Augmented_161_3678243.png\n",
      "Augmented_355_3262252.png\n",
      "Augmented_31_6326889.png\n",
      "Augmented_646_5216553.png\n",
      "Augmented_206_4931582.png\n",
      "Augmented_643_188913.png\n",
      "Augmented_619_458230.png\n",
      "Augmented_722_9432865.png\n",
      "Augmented_682_8173193.png\n",
      "Augmented_863_5474294.png\n",
      "Augmented_535_101453.png\n",
      "Augmented_195_7369506.png\n",
      "Augmented_117_9479645.png\n",
      "Augmented_687_7521088.png\n",
      "1404.png\n",
      "Augmented_165_2430673.png\n",
      "Augmented_263_1124850.png\n",
      "Augmented_144_1849746.png\n",
      "1413.png\n",
      "741.png\n",
      "Augmented_53_6320831.png\n",
      "Augmented_561_1833142.png\n",
      "Augmented_399_5149958.png\n",
      "Augmented_814_3182702.png\n",
      "Augmented_268_6102153.png\n",
      "Augmented_411_871195.png\n",
      "Augmented_82_1801844.png\n",
      "740.png\n",
      "Augmented_406_4576935.png\n",
      "Augmented_477_1922227.png\n",
      "Augmented_610_3698057.png\n",
      "152.png\n",
      "Augmented_306_7724194.png\n",
      "Augmented_211_1296894.png\n",
      "Augmented_369_3360104.png\n",
      "Augmented_57_4079686.png\n",
      "Augmented_83_5828350.png\n",
      "Augmented_815_3384993.png\n",
      "Augmented_235_4640860.png\n",
      "1573.png\n",
      "Augmented_655_7556911.png\n",
      "79.png\n",
      "Augmented_317_3224825.png\n",
      "Augmented_564_5435112.png\n",
      "Augmented_423_5573198.png\n",
      "Augmented_697_3351776.png\n",
      "Augmented_890_8528242.png\n",
      "Augmented_334_6408301.png\n",
      "635.png\n",
      "Augmented_6_4264821.png\n",
      "Augmented_860_3976451.png\n",
      "Augmented_51_2701700.png\n",
      "153.png\n",
      "Augmented_156_3078196.png\n",
      "422.png\n",
      "796.png\n",
      "Augmented_388_7900852.png\n",
      "Augmented_347_7369004.png\n",
      "Augmented_879_5921906.png\n",
      "Augmented_153_259583.png\n",
      "147.png\n",
      "Augmented_707_8340153.png\n",
      "Augmented_673_1693056.png\n",
      "Augmented_785_9106221.png\n",
      "Augmented_329_8455316.png\n",
      "Augmented_320_4942257.png\n",
      "Augmented_381_7867997.png\n",
      "Augmented_797_8118850.png\n",
      "742.png\n",
      "Augmented_847_6245094.png\n",
      "Augmented_541_812397.png\n",
      "Augmented_381_9147363.png\n",
      "Augmented_82_8198527.png\n",
      "Augmented_559_9982535.png\n",
      "Augmented_722_742669.png\n",
      "Augmented_133_8515405.png\n",
      "Augmented_740_6001.png\n",
      "Augmented_874_8372890.png\n",
      "Augmented_323_5712323.png\n",
      "Augmented_665_116492.png\n",
      "Augmented_13_9945827.png\n",
      "Augmented_79_1641944.png\n",
      "1163.png\n",
      "Augmented_99_5504654.png\n",
      "Augmented_297_6884580.png\n",
      "Augmented_804_4243225.png\n",
      "Augmented_238_3915124.png\n",
      "557.png\n",
      "1362.png\n",
      "Augmented_434_7331768.png\n",
      "Augmented_445_7982531.png\n",
      "Augmented_402_75116.png\n",
      "Augmented_342_4906195.png\n"
     ]
    }
   ],
   "source": [
    "for image in os.listdir(imgPath):\n",
    "    if image.endswith(\".png\"):\n",
    "        print(image)"
   ]
  },
  {
   "cell_type": "code",
   "execution_count": 118,
   "metadata": {},
   "outputs": [
    {
     "name": "stdout",
     "output_type": "stream",
     "text": [
      "\n",
      " The image is:  Augmented_795_3842686.png "
     ]
    },
    {
     "data": {
      "text/html": [],
      "text/plain": [
       "<IPython.core.display.HTML object>"
      ]
     },
     "metadata": {},
     "output_type": "display_data"
    },
    {
     "name": "stdout",
     "output_type": "stream",
     "text": [
      "pred: WithMask  pred_idx:  tensor(0)  probs:  tensor([1.0000e+00, 7.1397e-07])\n",
      "______________________________\n",
      "\n",
      " The image is:  Augmented_191_8931369.png "
     ]
    },
    {
     "data": {
      "text/html": [],
      "text/plain": [
       "<IPython.core.display.HTML object>"
      ]
     },
     "metadata": {},
     "output_type": "display_data"
    },
    {
     "name": "stdout",
     "output_type": "stream",
     "text": [
      "pred: WithMask  pred_idx:  tensor(0)  probs:  tensor([1.0000e+00, 2.9239e-08])\n",
      "______________________________\n",
      "\n",
      " The image is:  Augmented_180_5062898.png "
     ]
    },
    {
     "data": {
      "text/html": [],
      "text/plain": [
       "<IPython.core.display.HTML object>"
      ]
     },
     "metadata": {},
     "output_type": "display_data"
    },
    {
     "name": "stdout",
     "output_type": "stream",
     "text": [
      "pred: WithMask  pred_idx:  tensor(0)  probs:  tensor([1.0000e+00, 2.4887e-10])\n",
      "______________________________\n",
      "\n",
      " The image is:  Augmented_248_3771284.png "
     ]
    },
    {
     "data": {
      "text/html": [],
      "text/plain": [
       "<IPython.core.display.HTML object>"
      ]
     },
     "metadata": {},
     "output_type": "display_data"
    },
    {
     "name": "stdout",
     "output_type": "stream",
     "text": [
      "pred: WithMask  pred_idx:  tensor(0)  probs:  tensor([1.0000e+00, 6.4700e-09])\n",
      "______________________________\n",
      "\n",
      " The image is:  Augmented_559_2684759.png "
     ]
    },
    {
     "data": {
      "text/html": [],
      "text/plain": [
       "<IPython.core.display.HTML object>"
      ]
     },
     "metadata": {},
     "output_type": "display_data"
    },
    {
     "name": "stdout",
     "output_type": "stream",
     "text": [
      "pred: WithMask  pred_idx:  tensor(0)  probs:  tensor([1.0000e+00, 5.6392e-11])\n",
      "______________________________\n",
      "\n",
      " The image is:  Augmented_73_2500918.png "
     ]
    },
    {
     "data": {
      "text/html": [],
      "text/plain": [
       "<IPython.core.display.HTML object>"
      ]
     },
     "metadata": {},
     "output_type": "display_data"
    },
    {
     "name": "stdout",
     "output_type": "stream",
     "text": [
      "pred: WithMask  pred_idx:  tensor(0)  probs:  tensor([1.0000e+00, 2.9682e-11])\n",
      "______________________________\n",
      "\n",
      " The image is:  Augmented_686_1196640.png "
     ]
    },
    {
     "data": {
      "text/html": [],
      "text/plain": [
       "<IPython.core.display.HTML object>"
      ]
     },
     "metadata": {},
     "output_type": "display_data"
    },
    {
     "name": "stdout",
     "output_type": "stream",
     "text": [
      "pred: WithMask  pred_idx:  tensor(0)  probs:  tensor([1.0000e+00, 2.4827e-09])\n",
      "______________________________\n",
      "\n",
      " The image is:  Augmented_518_5008869.png "
     ]
    },
    {
     "data": {
      "text/html": [],
      "text/plain": [
       "<IPython.core.display.HTML object>"
      ]
     },
     "metadata": {},
     "output_type": "display_data"
    },
    {
     "name": "stdout",
     "output_type": "stream",
     "text": [
      "pred: WithMask  pred_idx:  tensor(0)  probs:  tensor([1.0000e+00, 1.8565e-07])\n",
      "______________________________\n",
      "\n",
      " The image is:  Augmented_610_9957879.png "
     ]
    },
    {
     "data": {
      "text/html": [],
      "text/plain": [
       "<IPython.core.display.HTML object>"
      ]
     },
     "metadata": {},
     "output_type": "display_data"
    },
    {
     "name": "stdout",
     "output_type": "stream",
     "text": [
      "pred: WithMask  pred_idx:  tensor(0)  probs:  tensor([1.0000e+00, 4.4312e-06])\n",
      "______________________________\n",
      "\n",
      " The image is:  Augmented_534_7216053.png "
     ]
    },
    {
     "data": {
      "text/html": [],
      "text/plain": [
       "<IPython.core.display.HTML object>"
      ]
     },
     "metadata": {},
     "output_type": "display_data"
    },
    {
     "name": "stdout",
     "output_type": "stream",
     "text": [
      "pred: WithMask  pred_idx:  tensor(0)  probs:  tensor([1.0000e+00, 2.9188e-08])\n",
      "______________________________\n",
      "\n",
      " The image is:  1767.png "
     ]
    },
    {
     "data": {
      "text/html": [],
      "text/plain": [
       "<IPython.core.display.HTML object>"
      ]
     },
     "metadata": {},
     "output_type": "display_data"
    },
    {
     "name": "stdout",
     "output_type": "stream",
     "text": [
      "pred: WithMask  pred_idx:  tensor(0)  probs:  tensor([1.0000e+00, 2.4016e-08])\n",
      "______________________________\n",
      "\n",
      " The image is:  Augmented_540_2621888.png "
     ]
    },
    {
     "data": {
      "text/html": [],
      "text/plain": [
       "<IPython.core.display.HTML object>"
      ]
     },
     "metadata": {},
     "output_type": "display_data"
    },
    {
     "name": "stdout",
     "output_type": "stream",
     "text": [
      "pred: WithMask  pred_idx:  tensor(0)  probs:  tensor([1.0000e+00, 7.0887e-08])\n",
      "______________________________\n",
      "\n",
      " The image is:  Augmented_685_4424522.png "
     ]
    },
    {
     "data": {
      "text/html": [],
      "text/plain": [
       "<IPython.core.display.HTML object>"
      ]
     },
     "metadata": {},
     "output_type": "display_data"
    },
    {
     "name": "stdout",
     "output_type": "stream",
     "text": [
      "pred: WithMask  pred_idx:  tensor(0)  probs:  tensor([1.0000e+00, 1.7605e-06])\n",
      "______________________________\n",
      "\n",
      " The image is:  Augmented_388_639616.png "
     ]
    },
    {
     "data": {
      "text/html": [],
      "text/plain": [
       "<IPython.core.display.HTML object>"
      ]
     },
     "metadata": {},
     "output_type": "display_data"
    },
    {
     "name": "stdout",
     "output_type": "stream",
     "text": [
      "pred: WithMask  pred_idx:  tensor(0)  probs:  tensor([1.0000e+00, 2.8221e-07])\n",
      "______________________________\n",
      "\n",
      " The image is:  Augmented_30_1910857.png "
     ]
    },
    {
     "data": {
      "text/html": [],
      "text/plain": [
       "<IPython.core.display.HTML object>"
      ]
     },
     "metadata": {},
     "output_type": "display_data"
    },
    {
     "name": "stdout",
     "output_type": "stream",
     "text": [
      "pred: WithMask  pred_idx:  tensor(0)  probs:  tensor([9.9999e-01, 7.5545e-06])\n",
      "______________________________\n",
      "\n",
      " The image is:  Augmented_346_7132980.png "
     ]
    },
    {
     "data": {
      "text/html": [],
      "text/plain": [
       "<IPython.core.display.HTML object>"
      ]
     },
     "metadata": {},
     "output_type": "display_data"
    },
    {
     "name": "stdout",
     "output_type": "stream",
     "text": [
      "pred: WithMask  pred_idx:  tensor(0)  probs:  tensor([1.0000e+00, 2.6672e-09])\n",
      "______________________________\n",
      "\n",
      " The image is:  1835.png "
     ]
    },
    {
     "data": {
      "text/html": [],
      "text/plain": [
       "<IPython.core.display.HTML object>"
      ]
     },
     "metadata": {},
     "output_type": "display_data"
    },
    {
     "name": "stdout",
     "output_type": "stream",
     "text": [
      "pred: WithMask  pred_idx:  tensor(0)  probs:  tensor([1.0000e+00, 6.0730e-14])\n",
      "______________________________\n",
      "\n",
      " The image is:  Augmented_296_5925088.png "
     ]
    },
    {
     "data": {
      "text/html": [],
      "text/plain": [
       "<IPython.core.display.HTML object>"
      ]
     },
     "metadata": {},
     "output_type": "display_data"
    },
    {
     "name": "stdout",
     "output_type": "stream",
     "text": [
      "pred: WithMask  pred_idx:  tensor(0)  probs:  tensor([1.0000e+00, 8.4537e-11])\n",
      "______________________________\n",
      "\n",
      " The image is:  Augmented_278_1541983.png "
     ]
    },
    {
     "data": {
      "text/html": [],
      "text/plain": [
       "<IPython.core.display.HTML object>"
      ]
     },
     "metadata": {},
     "output_type": "display_data"
    },
    {
     "name": "stdout",
     "output_type": "stream",
     "text": [
      "pred: WithMask  pred_idx:  tensor(0)  probs:  tensor([1.0000e+00, 1.4106e-08])\n",
      "______________________________\n",
      "\n",
      " The image is:  Augmented_115_6749830.png "
     ]
    },
    {
     "data": {
      "text/html": [],
      "text/plain": [
       "<IPython.core.display.HTML object>"
      ]
     },
     "metadata": {},
     "output_type": "display_data"
    },
    {
     "name": "stdout",
     "output_type": "stream",
     "text": [
      "pred: WithMask  pred_idx:  tensor(0)  probs:  tensor([1.0000e+00, 7.0879e-10])\n",
      "______________________________\n",
      "\n",
      " The image is:  Augmented_807_7260691.png "
     ]
    },
    {
     "data": {
      "text/html": [],
      "text/plain": [
       "<IPython.core.display.HTML object>"
      ]
     },
     "metadata": {},
     "output_type": "display_data"
    },
    {
     "name": "stdout",
     "output_type": "stream",
     "text": [
      "pred: WithMask  pred_idx:  tensor(0)  probs:  tensor([1.0000e+00, 7.0047e-09])\n",
      "______________________________\n",
      "\n",
      " The image is:  Augmented_450_9264733.png "
     ]
    },
    {
     "data": {
      "text/html": [],
      "text/plain": [
       "<IPython.core.display.HTML object>"
      ]
     },
     "metadata": {},
     "output_type": "display_data"
    },
    {
     "name": "stdout",
     "output_type": "stream",
     "text": [
      "pred: WithMask  pred_idx:  tensor(0)  probs:  tensor([1.0000e+00, 1.1616e-07])\n",
      "______________________________\n",
      "\n",
      " The image is:  Augmented_258_734349.png "
     ]
    },
    {
     "data": {
      "text/html": [],
      "text/plain": [
       "<IPython.core.display.HTML object>"
      ]
     },
     "metadata": {},
     "output_type": "display_data"
    },
    {
     "name": "stdout",
     "output_type": "stream",
     "text": [
      "pred: WithMask  pred_idx:  tensor(0)  probs:  tensor([1.0000e+00, 2.5292e-06])\n",
      "______________________________\n",
      "\n",
      " The image is:  Augmented_569_2915532.png "
     ]
    },
    {
     "data": {
      "text/html": [],
      "text/plain": [
       "<IPython.core.display.HTML object>"
      ]
     },
     "metadata": {},
     "output_type": "display_data"
    },
    {
     "name": "stdout",
     "output_type": "stream",
     "text": [
      "pred: WithMask  pred_idx:  tensor(0)  probs:  tensor([1.0000e+00, 3.9771e-08])\n",
      "______________________________\n",
      "\n",
      " The image is:  Augmented_543_6655051.png "
     ]
    },
    {
     "data": {
      "text/html": [],
      "text/plain": [
       "<IPython.core.display.HTML object>"
      ]
     },
     "metadata": {},
     "output_type": "display_data"
    },
    {
     "name": "stdout",
     "output_type": "stream",
     "text": [
      "pred: WithMask  pred_idx:  tensor(0)  probs:  tensor([1.0000e+00, 1.7591e-08])\n",
      "______________________________\n",
      "\n",
      " The image is:  Augmented_433_46994.png "
     ]
    },
    {
     "data": {
      "text/html": [],
      "text/plain": [
       "<IPython.core.display.HTML object>"
      ]
     },
     "metadata": {},
     "output_type": "display_data"
    },
    {
     "name": "stdout",
     "output_type": "stream",
     "text": [
      "pred: WithMask  pred_idx:  tensor(0)  probs:  tensor([1.0000e+00, 1.0391e-10])\n",
      "______________________________\n",
      "\n",
      " The image is:  Augmented_336_5249925.png "
     ]
    },
    {
     "data": {
      "text/html": [],
      "text/plain": [
       "<IPython.core.display.HTML object>"
      ]
     },
     "metadata": {},
     "output_type": "display_data"
    },
    {
     "name": "stdout",
     "output_type": "stream",
     "text": [
      "pred: WithMask  pred_idx:  tensor(0)  probs:  tensor([1.0000e+00, 2.3142e-08])\n",
      "______________________________\n",
      "\n",
      " The image is:  Augmented_337_8119646.png "
     ]
    },
    {
     "data": {
      "text/html": [],
      "text/plain": [
       "<IPython.core.display.HTML object>"
      ]
     },
     "metadata": {},
     "output_type": "display_data"
    },
    {
     "name": "stdout",
     "output_type": "stream",
     "text": [
      "pred: WithMask  pred_idx:  tensor(0)  probs:  tensor([1.0000e+00, 9.8394e-08])\n",
      "______________________________\n",
      "\n",
      " The image is:  84.png "
     ]
    },
    {
     "data": {
      "text/html": [],
      "text/plain": [
       "<IPython.core.display.HTML object>"
      ]
     },
     "metadata": {},
     "output_type": "display_data"
    },
    {
     "name": "stdout",
     "output_type": "stream",
     "text": [
      "pred: WithMask  pred_idx:  tensor(0)  probs:  tensor([1.0000e+00, 1.2090e-11])\n",
      "______________________________\n",
      "\n",
      " The image is:  Augmented_152_1390337.png "
     ]
    },
    {
     "data": {
      "text/html": [],
      "text/plain": [
       "<IPython.core.display.HTML object>"
      ]
     },
     "metadata": {},
     "output_type": "display_data"
    },
    {
     "name": "stdout",
     "output_type": "stream",
     "text": [
      "pred: WithMask  pred_idx:  tensor(0)  probs:  tensor([1.0000e+00, 1.2235e-08])\n",
      "______________________________\n",
      "\n",
      " The image is:  Augmented_153_5418708.png "
     ]
    },
    {
     "data": {
      "text/html": [],
      "text/plain": [
       "<IPython.core.display.HTML object>"
      ]
     },
     "metadata": {},
     "output_type": "display_data"
    },
    {
     "name": "stdout",
     "output_type": "stream",
     "text": [
      "pred: WithMask  pred_idx:  tensor(0)  probs:  tensor([1.0000e+00, 6.2158e-07])\n",
      "______________________________\n",
      "\n",
      " The image is:  Augmented_326_3854988.png "
     ]
    },
    {
     "data": {
      "text/html": [],
      "text/plain": [
       "<IPython.core.display.HTML object>"
      ]
     },
     "metadata": {},
     "output_type": "display_data"
    },
    {
     "name": "stdout",
     "output_type": "stream",
     "text": [
      "pred: WithMask  pred_idx:  tensor(0)  probs:  tensor([1.0000e+00, 2.4705e-08])\n",
      "______________________________\n",
      "\n",
      " The image is:  Augmented_769_667110.png "
     ]
    },
    {
     "data": {
      "text/html": [],
      "text/plain": [
       "<IPython.core.display.HTML object>"
      ]
     },
     "metadata": {},
     "output_type": "display_data"
    },
    {
     "name": "stdout",
     "output_type": "stream",
     "text": [
      "pred: WithMask  pred_idx:  tensor(0)  probs:  tensor([1.0000e+00, 1.6807e-09])\n",
      "______________________________\n",
      "\n",
      " The image is:  Augmented_353_5799649.png "
     ]
    },
    {
     "data": {
      "text/html": [],
      "text/plain": [
       "<IPython.core.display.HTML object>"
      ]
     },
     "metadata": {},
     "output_type": "display_data"
    },
    {
     "name": "stdout",
     "output_type": "stream",
     "text": [
      "pred: WithMask  pred_idx:  tensor(0)  probs:  tensor([9.9988e-01, 1.1582e-04])\n",
      "______________________________\n",
      "\n",
      " The image is:  92.png "
     ]
    },
    {
     "data": {
      "text/html": [],
      "text/plain": [
       "<IPython.core.display.HTML object>"
      ]
     },
     "metadata": {},
     "output_type": "display_data"
    },
    {
     "name": "stdout",
     "output_type": "stream",
     "text": [
      "pred: WithMask  pred_idx:  tensor(0)  probs:  tensor([1.0000e+00, 7.4161e-11])\n",
      "______________________________\n",
      "\n",
      " The image is:  Augmented_530_6846848.png "
     ]
    },
    {
     "data": {
      "text/html": [],
      "text/plain": [
       "<IPython.core.display.HTML object>"
      ]
     },
     "metadata": {},
     "output_type": "display_data"
    },
    {
     "name": "stdout",
     "output_type": "stream",
     "text": [
      "pred: WithMask  pred_idx:  tensor(0)  probs:  tensor([1.0000e+00, 1.9658e-10])\n",
      "______________________________\n",
      "\n",
      " The image is:  1174.png "
     ]
    },
    {
     "data": {
      "text/html": [],
      "text/plain": [
       "<IPython.core.display.HTML object>"
      ]
     },
     "metadata": {},
     "output_type": "display_data"
    },
    {
     "name": "stdout",
     "output_type": "stream",
     "text": [
      "pred: WithMask  pred_idx:  tensor(0)  probs:  tensor([9.9975e-01, 2.5213e-04])\n",
      "______________________________\n",
      "\n",
      " The image is:  Augmented_447_5366952.png "
     ]
    },
    {
     "data": {
      "text/html": [],
      "text/plain": [
       "<IPython.core.display.HTML object>"
      ]
     },
     "metadata": {},
     "output_type": "display_data"
    },
    {
     "name": "stdout",
     "output_type": "stream",
     "text": [
      "pred: WithMask  pred_idx:  tensor(0)  probs:  tensor([1.0000e+00, 7.5252e-09])\n",
      "______________________________\n",
      "\n",
      " The image is:  Augmented_727_693753.png "
     ]
    },
    {
     "data": {
      "text/html": [],
      "text/plain": [
       "<IPython.core.display.HTML object>"
      ]
     },
     "metadata": {},
     "output_type": "display_data"
    },
    {
     "name": "stdout",
     "output_type": "stream",
     "text": [
      "pred: WithMask  pred_idx:  tensor(0)  probs:  tensor([1.0000e+00, 9.0928e-08])\n",
      "______________________________\n",
      "\n",
      " The image is:  Augmented_809_2047241.png "
     ]
    },
    {
     "data": {
      "text/html": [],
      "text/plain": [
       "<IPython.core.display.HTML object>"
      ]
     },
     "metadata": {},
     "output_type": "display_data"
    },
    {
     "name": "stdout",
     "output_type": "stream",
     "text": [
      "pred: WithMask  pred_idx:  tensor(0)  probs:  tensor([1.0000e+00, 6.3596e-08])\n",
      "______________________________\n",
      "\n",
      " The image is:  Augmented_421_7857639.png "
     ]
    },
    {
     "data": {
      "text/html": [],
      "text/plain": [
       "<IPython.core.display.HTML object>"
      ]
     },
     "metadata": {},
     "output_type": "display_data"
    },
    {
     "name": "stdout",
     "output_type": "stream",
     "text": [
      "pred: WithMask  pred_idx:  tensor(0)  probs:  tensor([1.0000e+00, 1.8557e-07])\n",
      "______________________________\n",
      "\n",
      " The image is:  Augmented_472_4433541.png "
     ]
    },
    {
     "data": {
      "text/html": [],
      "text/plain": [
       "<IPython.core.display.HTML object>"
      ]
     },
     "metadata": {},
     "output_type": "display_data"
    },
    {
     "name": "stdout",
     "output_type": "stream",
     "text": [
      "pred: WithMask  pred_idx:  tensor(0)  probs:  tensor([1.0000e+00, 9.3864e-07])\n",
      "______________________________\n",
      "\n",
      " The image is:  Augmented_708_8762628.png "
     ]
    },
    {
     "data": {
      "text/html": [],
      "text/plain": [
       "<IPython.core.display.HTML object>"
      ]
     },
     "metadata": {},
     "output_type": "display_data"
    },
    {
     "name": "stdout",
     "output_type": "stream",
     "text": [
      "pred: WithMask  pred_idx:  tensor(0)  probs:  tensor([1.0000e+00, 1.7315e-07])\n",
      "______________________________\n",
      "\n",
      " The image is:  Augmented_189_8038201.png "
     ]
    },
    {
     "data": {
      "text/html": [],
      "text/plain": [
       "<IPython.core.display.HTML object>"
      ]
     },
     "metadata": {},
     "output_type": "display_data"
    },
    {
     "name": "stdout",
     "output_type": "stream",
     "text": [
      "pred: WithMask  pred_idx:  tensor(0)  probs:  tensor([1.0000e+00, 5.2127e-08])\n",
      "______________________________\n",
      "\n",
      " The image is:  Augmented_591_5722478.png "
     ]
    },
    {
     "data": {
      "text/html": [],
      "text/plain": [
       "<IPython.core.display.HTML object>"
      ]
     },
     "metadata": {},
     "output_type": "display_data"
    },
    {
     "name": "stdout",
     "output_type": "stream",
     "text": [
      "pred: WithMask  pred_idx:  tensor(0)  probs:  tensor([1.0000e+00, 3.7757e-09])\n",
      "______________________________\n",
      "\n",
      " The image is:  Augmented_125_3402457.png "
     ]
    },
    {
     "data": {
      "text/html": [],
      "text/plain": [
       "<IPython.core.display.HTML object>"
      ]
     },
     "metadata": {},
     "output_type": "display_data"
    },
    {
     "name": "stdout",
     "output_type": "stream",
     "text": [
      "pred: WithMask  pred_idx:  tensor(0)  probs:  tensor([9.9999e-01, 1.1197e-05])\n",
      "______________________________\n",
      "\n",
      " The image is:  Augmented_261_9123056.png "
     ]
    },
    {
     "data": {
      "text/html": [],
      "text/plain": [
       "<IPython.core.display.HTML object>"
      ]
     },
     "metadata": {},
     "output_type": "display_data"
    },
    {
     "name": "stdout",
     "output_type": "stream",
     "text": [
      "pred: WithMask  pred_idx:  tensor(0)  probs:  tensor([1.0000e+00, 3.3804e-10])\n",
      "______________________________\n",
      "\n",
      " The image is:  Augmented_158_6991349.png "
     ]
    },
    {
     "data": {
      "text/html": [],
      "text/plain": [
       "<IPython.core.display.HTML object>"
      ]
     },
     "metadata": {},
     "output_type": "display_data"
    },
    {
     "name": "stdout",
     "output_type": "stream",
     "text": [
      "pred: WithMask  pred_idx:  tensor(0)  probs:  tensor([1.0000e+00, 3.5552e-10])\n",
      "______________________________\n",
      "\n",
      " The image is:  Augmented_630_5770721.png "
     ]
    },
    {
     "data": {
      "text/html": [],
      "text/plain": [
       "<IPython.core.display.HTML object>"
      ]
     },
     "metadata": {},
     "output_type": "display_data"
    },
    {
     "name": "stdout",
     "output_type": "stream",
     "text": [
      "pred: WithMask  pred_idx:  tensor(0)  probs:  tensor([1.0000e+00, 2.8558e-07])\n",
      "______________________________\n",
      "\n",
      " The image is:  Augmented_662_6532412.png "
     ]
    },
    {
     "data": {
      "text/html": [],
      "text/plain": [
       "<IPython.core.display.HTML object>"
      ]
     },
     "metadata": {},
     "output_type": "display_data"
    },
    {
     "name": "stdout",
     "output_type": "stream",
     "text": [
      "pred: WithMask  pred_idx:  tensor(0)  probs:  tensor([1.0000e+00, 7.4053e-10])\n",
      "______________________________\n",
      "\n",
      " The image is:  Augmented_56_323581.png "
     ]
    },
    {
     "data": {
      "text/html": [],
      "text/plain": [
       "<IPython.core.display.HTML object>"
      ]
     },
     "metadata": {},
     "output_type": "display_data"
    },
    {
     "name": "stdout",
     "output_type": "stream",
     "text": [
      "pred: WithMask  pred_idx:  tensor(0)  probs:  tensor([1.0000e+00, 4.7362e-07])\n",
      "______________________________\n",
      "\n",
      " The image is:  Augmented_91_2221096.png "
     ]
    },
    {
     "data": {
      "text/html": [],
      "text/plain": [
       "<IPython.core.display.HTML object>"
      ]
     },
     "metadata": {},
     "output_type": "display_data"
    },
    {
     "name": "stdout",
     "output_type": "stream",
     "text": [
      "pred: WithMask  pred_idx:  tensor(0)  probs:  tensor([1.0000e+00, 3.0452e-08])\n",
      "______________________________\n",
      "\n",
      " The image is:  Augmented_285_2813106.png "
     ]
    },
    {
     "data": {
      "text/html": [],
      "text/plain": [
       "<IPython.core.display.HTML object>"
      ]
     },
     "metadata": {},
     "output_type": "display_data"
    },
    {
     "name": "stdout",
     "output_type": "stream",
     "text": [
      "pred: WithMask  pred_idx:  tensor(0)  probs:  tensor([1.0000e+00, 2.0109e-06])\n",
      "______________________________\n",
      "\n",
      " The image is:  Augmented_500_7577126.png "
     ]
    },
    {
     "data": {
      "text/html": [],
      "text/plain": [
       "<IPython.core.display.HTML object>"
      ]
     },
     "metadata": {},
     "output_type": "display_data"
    },
    {
     "name": "stdout",
     "output_type": "stream",
     "text": [
      "pred: WithMask  pred_idx:  tensor(0)  probs:  tensor([1.0000e+00, 2.7664e-07])\n",
      "______________________________\n",
      "\n",
      " The image is:  Augmented_668_2762294.png "
     ]
    },
    {
     "data": {
      "text/html": [],
      "text/plain": [
       "<IPython.core.display.HTML object>"
      ]
     },
     "metadata": {},
     "output_type": "display_data"
    },
    {
     "name": "stdout",
     "output_type": "stream",
     "text": [
      "pred: WithMask  pred_idx:  tensor(0)  probs:  tensor([1.0000e+00, 3.8992e-08])\n",
      "______________________________\n",
      "\n",
      " The image is:  Augmented_505_5586774.png "
     ]
    },
    {
     "data": {
      "text/html": [],
      "text/plain": [
       "<IPython.core.display.HTML object>"
      ]
     },
     "metadata": {},
     "output_type": "display_data"
    },
    {
     "name": "stdout",
     "output_type": "stream",
     "text": [
      "pred: WithMask  pred_idx:  tensor(0)  probs:  tensor([1.0000e+00, 4.0185e-11])\n",
      "______________________________\n",
      "\n",
      " The image is:  Augmented_469_9166340.png "
     ]
    },
    {
     "data": {
      "text/html": [],
      "text/plain": [
       "<IPython.core.display.HTML object>"
      ]
     },
     "metadata": {},
     "output_type": "display_data"
    },
    {
     "name": "stdout",
     "output_type": "stream",
     "text": [
      "pred: WithMask  pred_idx:  tensor(0)  probs:  tensor([1.0000e+00, 2.3042e-10])\n",
      "______________________________\n",
      "\n",
      " The image is:  Augmented_757_1202049.png "
     ]
    },
    {
     "data": {
      "text/html": [],
      "text/plain": [
       "<IPython.core.display.HTML object>"
      ]
     },
     "metadata": {},
     "output_type": "display_data"
    },
    {
     "name": "stdout",
     "output_type": "stream",
     "text": [
      "pred: WithMask  pred_idx:  tensor(0)  probs:  tensor([1.0000e+00, 1.6963e-11])\n",
      "______________________________\n",
      "\n",
      " The image is:  Augmented_723_4945416.png "
     ]
    },
    {
     "data": {
      "text/html": [],
      "text/plain": [
       "<IPython.core.display.HTML object>"
      ]
     },
     "metadata": {},
     "output_type": "display_data"
    },
    {
     "name": "stdout",
     "output_type": "stream",
     "text": [
      "pred: WithMask  pred_idx:  tensor(0)  probs:  tensor([1.0000e+00, 7.5740e-11])\n",
      "______________________________\n",
      "\n",
      " The image is:  Augmented_58_3749134.png "
     ]
    },
    {
     "data": {
      "text/html": [],
      "text/plain": [
       "<IPython.core.display.HTML object>"
      ]
     },
     "metadata": {},
     "output_type": "display_data"
    },
    {
     "name": "stdout",
     "output_type": "stream",
     "text": [
      "pred: WithMask  pred_idx:  tensor(0)  probs:  tensor([1.0000e+00, 4.5354e-06])\n",
      "______________________________\n",
      "\n",
      " The image is:  Augmented_842_5019414.png "
     ]
    },
    {
     "data": {
      "text/html": [],
      "text/plain": [
       "<IPython.core.display.HTML object>"
      ]
     },
     "metadata": {},
     "output_type": "display_data"
    },
    {
     "name": "stdout",
     "output_type": "stream",
     "text": [
      "pred: WithMask  pred_idx:  tensor(0)  probs:  tensor([1.0000e+00, 9.1322e-11])\n",
      "______________________________\n",
      "\n",
      " The image is:  807.png "
     ]
    },
    {
     "data": {
      "text/html": [],
      "text/plain": [
       "<IPython.core.display.HTML object>"
      ]
     },
     "metadata": {},
     "output_type": "display_data"
    },
    {
     "name": "stdout",
     "output_type": "stream",
     "text": [
      "pred: WithMask  pred_idx:  tensor(0)  probs:  tensor([1.0000e+00, 3.0741e-14])\n",
      "______________________________\n",
      "\n",
      " The image is:  Augmented_600_228831.png "
     ]
    },
    {
     "data": {
      "text/html": [],
      "text/plain": [
       "<IPython.core.display.HTML object>"
      ]
     },
     "metadata": {},
     "output_type": "display_data"
    },
    {
     "name": "stdout",
     "output_type": "stream",
     "text": [
      "pred: WithMask  pred_idx:  tensor(0)  probs:  tensor([1.0000e+00, 8.1067e-14])\n",
      "______________________________\n",
      "\n",
      " The image is:  Augmented_539_2126763.png "
     ]
    },
    {
     "data": {
      "text/html": [],
      "text/plain": [
       "<IPython.core.display.HTML object>"
      ]
     },
     "metadata": {},
     "output_type": "display_data"
    },
    {
     "name": "stdout",
     "output_type": "stream",
     "text": [
      "pred: WithMask  pred_idx:  tensor(0)  probs:  tensor([1.0000e+00, 5.8822e-10])\n",
      "______________________________\n",
      "\n",
      " The image is:  219.png "
     ]
    },
    {
     "data": {
      "text/html": [],
      "text/plain": [
       "<IPython.core.display.HTML object>"
      ]
     },
     "metadata": {},
     "output_type": "display_data"
    },
    {
     "name": "stdout",
     "output_type": "stream",
     "text": [
      "pred: WithMask  pred_idx:  tensor(0)  probs:  tensor([1.0000e+00, 8.3316e-11])\n",
      "______________________________\n",
      "\n",
      " The image is:  Augmented_61_202942.png "
     ]
    },
    {
     "data": {
      "text/html": [],
      "text/plain": [
       "<IPython.core.display.HTML object>"
      ]
     },
     "metadata": {},
     "output_type": "display_data"
    },
    {
     "name": "stdout",
     "output_type": "stream",
     "text": [
      "pred: WithMask  pred_idx:  tensor(0)  probs:  tensor([1.0000e+00, 2.0730e-07])\n",
      "______________________________\n",
      "\n",
      " The image is:  Augmented_315_4030649.png "
     ]
    },
    {
     "data": {
      "text/html": [],
      "text/plain": [
       "<IPython.core.display.HTML object>"
      ]
     },
     "metadata": {},
     "output_type": "display_data"
    },
    {
     "name": "stdout",
     "output_type": "stream",
     "text": [
      "pred: WithMask  pred_idx:  tensor(0)  probs:  tensor([1.0000e+00, 2.1087e-07])\n",
      "______________________________\n",
      "\n",
      " The image is:  Augmented_660_9937342.png "
     ]
    },
    {
     "data": {
      "text/html": [],
      "text/plain": [
       "<IPython.core.display.HTML object>"
      ]
     },
     "metadata": {},
     "output_type": "display_data"
    },
    {
     "name": "stdout",
     "output_type": "stream",
     "text": [
      "pred: WithMask  pred_idx:  tensor(0)  probs:  tensor([1.0000e+00, 1.3963e-06])\n",
      "______________________________\n",
      "\n",
      " The image is:  Augmented_522_9697933.png "
     ]
    },
    {
     "data": {
      "text/html": [],
      "text/plain": [
       "<IPython.core.display.HTML object>"
      ]
     },
     "metadata": {},
     "output_type": "display_data"
    },
    {
     "name": "stdout",
     "output_type": "stream",
     "text": [
      "pred: WithMask  pred_idx:  tensor(0)  probs:  tensor([1.0000e+00, 2.4439e-08])\n",
      "______________________________\n",
      "\n",
      " The image is:  Augmented_297_2673384.png "
     ]
    },
    {
     "data": {
      "text/html": [],
      "text/plain": [
       "<IPython.core.display.HTML object>"
      ]
     },
     "metadata": {},
     "output_type": "display_data"
    },
    {
     "name": "stdout",
     "output_type": "stream",
     "text": [
      "pred: WithMask  pred_idx:  tensor(0)  probs:  tensor([1.0000e+00, 8.9817e-11])\n",
      "______________________________\n",
      "\n",
      " The image is:  Augmented_273_7700407.png "
     ]
    },
    {
     "data": {
      "text/html": [],
      "text/plain": [
       "<IPython.core.display.HTML object>"
      ]
     },
     "metadata": {},
     "output_type": "display_data"
    },
    {
     "name": "stdout",
     "output_type": "stream",
     "text": [
      "pred: WithMask  pred_idx:  tensor(0)  probs:  tensor([1.0000e+00, 1.8224e-09])\n",
      "______________________________\n",
      "\n",
      " The image is:  Augmented_296_3645163.png "
     ]
    },
    {
     "data": {
      "text/html": [],
      "text/plain": [
       "<IPython.core.display.HTML object>"
      ]
     },
     "metadata": {},
     "output_type": "display_data"
    },
    {
     "name": "stdout",
     "output_type": "stream",
     "text": [
      "pred: WithMask  pred_idx:  tensor(0)  probs:  tensor([1.0000e+00, 9.5792e-12])\n",
      "______________________________\n",
      "\n",
      " The image is:  Augmented_434_955774.png "
     ]
    },
    {
     "data": {
      "text/html": [],
      "text/plain": [
       "<IPython.core.display.HTML object>"
      ]
     },
     "metadata": {},
     "output_type": "display_data"
    },
    {
     "name": "stdout",
     "output_type": "stream",
     "text": [
      "pred: WithMask  pred_idx:  tensor(0)  probs:  tensor([1.0000e+00, 4.6363e-10])\n",
      "______________________________\n",
      "\n",
      " The image is:  Augmented_875_8286837.png "
     ]
    },
    {
     "data": {
      "text/html": [],
      "text/plain": [
       "<IPython.core.display.HTML object>"
      ]
     },
     "metadata": {},
     "output_type": "display_data"
    },
    {
     "name": "stdout",
     "output_type": "stream",
     "text": [
      "pred: WithMask  pred_idx:  tensor(0)  probs:  tensor([1.0000e+00, 2.3323e-08])\n",
      "______________________________\n",
      "\n",
      " The image is:  Augmented_756_476277.png "
     ]
    },
    {
     "data": {
      "text/html": [],
      "text/plain": [
       "<IPython.core.display.HTML object>"
      ]
     },
     "metadata": {},
     "output_type": "display_data"
    },
    {
     "name": "stdout",
     "output_type": "stream",
     "text": [
      "pred: WithMask  pred_idx:  tensor(0)  probs:  tensor([1.0000e+00, 1.4542e-08])\n",
      "______________________________\n",
      "\n",
      " The image is:  1175.png "
     ]
    },
    {
     "data": {
      "text/html": [],
      "text/plain": [
       "<IPython.core.display.HTML object>"
      ]
     },
     "metadata": {},
     "output_type": "display_data"
    },
    {
     "name": "stdout",
     "output_type": "stream",
     "text": [
      "pred: WithMask  pred_idx:  tensor(0)  probs:  tensor([9.9996e-01, 4.0457e-05])\n",
      "______________________________\n",
      "\n",
      " The image is:  85.png "
     ]
    },
    {
     "data": {
      "text/html": [],
      "text/plain": [
       "<IPython.core.display.HTML object>"
      ]
     },
     "metadata": {},
     "output_type": "display_data"
    },
    {
     "name": "stdout",
     "output_type": "stream",
     "text": [
      "pred: WithMask  pred_idx:  tensor(0)  probs:  tensor([1.0000e+00, 3.6440e-11])\n",
      "______________________________\n",
      "\n",
      " The image is:  Augmented_676_174316.png "
     ]
    },
    {
     "data": {
      "text/html": [],
      "text/plain": [
       "<IPython.core.display.HTML object>"
      ]
     },
     "metadata": {},
     "output_type": "display_data"
    },
    {
     "name": "stdout",
     "output_type": "stream",
     "text": [
      "pred: WithMask  pred_idx:  tensor(0)  probs:  tensor([1.0000e+00, 4.4375e-11])\n",
      "______________________________\n",
      "\n",
      " The image is:  Augmented_164_2235307.png "
     ]
    },
    {
     "data": {
      "text/html": [],
      "text/plain": [
       "<IPython.core.display.HTML object>"
      ]
     },
     "metadata": {},
     "output_type": "display_data"
    },
    {
     "name": "stdout",
     "output_type": "stream",
     "text": [
      "pred: WithMask  pred_idx:  tensor(0)  probs:  tensor([1.0000e+00, 1.0838e-09])\n",
      "______________________________\n",
      "\n",
      " The image is:  230.png "
     ]
    },
    {
     "data": {
      "text/html": [],
      "text/plain": [
       "<IPython.core.display.HTML object>"
      ]
     },
     "metadata": {},
     "output_type": "display_data"
    },
    {
     "name": "stdout",
     "output_type": "stream",
     "text": [
      "pred: WithMask  pred_idx:  tensor(0)  probs:  tensor([9.9998e-01, 2.3226e-05])\n",
      "______________________________\n",
      "\n",
      " The image is:  Augmented_816_7608349.png "
     ]
    },
    {
     "data": {
      "text/html": [],
      "text/plain": [
       "<IPython.core.display.HTML object>"
      ]
     },
     "metadata": {},
     "output_type": "display_data"
    },
    {
     "name": "stdout",
     "output_type": "stream",
     "text": [
      "pred: WithMask  pred_idx:  tensor(0)  probs:  tensor([1.0000e+00, 9.9767e-10])\n",
      "______________________________\n",
      "\n",
      " The image is:  225.png "
     ]
    },
    {
     "data": {
      "text/html": [],
      "text/plain": [
       "<IPython.core.display.HTML object>"
      ]
     },
     "metadata": {},
     "output_type": "display_data"
    },
    {
     "name": "stdout",
     "output_type": "stream",
     "text": [
      "pred: WithMask  pred_idx:  tensor(0)  probs:  tensor([1.0000e+00, 1.5942e-14])\n",
      "______________________________\n",
      "\n",
      " The image is:  Augmented_221_8830238.png "
     ]
    },
    {
     "data": {
      "text/html": [],
      "text/plain": [
       "<IPython.core.display.HTML object>"
      ]
     },
     "metadata": {},
     "output_type": "display_data"
    },
    {
     "name": "stdout",
     "output_type": "stream",
     "text": [
      "pred: WithMask  pred_idx:  tensor(0)  probs:  tensor([1.0000e+00, 1.3454e-11])\n",
      "______________________________\n",
      "\n",
      " The image is:  Augmented_765_7946380.png "
     ]
    },
    {
     "data": {
      "text/html": [],
      "text/plain": [
       "<IPython.core.display.HTML object>"
      ]
     },
     "metadata": {},
     "output_type": "display_data"
    },
    {
     "name": "stdout",
     "output_type": "stream",
     "text": [
      "pred: WithMask  pred_idx:  tensor(0)  probs:  tensor([1.0000e+00, 1.1570e-07])\n",
      "______________________________\n",
      "\n",
      " The image is:  1611.png "
     ]
    },
    {
     "data": {
      "text/html": [],
      "text/plain": [
       "<IPython.core.display.HTML object>"
      ]
     },
     "metadata": {},
     "output_type": "display_data"
    },
    {
     "name": "stdout",
     "output_type": "stream",
     "text": [
      "pred: WithMask  pred_idx:  tensor(0)  probs:  tensor([1.0000e+00, 3.0954e-11])\n",
      "______________________________\n",
      "\n",
      " The image is:  Augmented_498_5793255.png "
     ]
    },
    {
     "data": {
      "text/html": [],
      "text/plain": [
       "<IPython.core.display.HTML object>"
      ]
     },
     "metadata": {},
     "output_type": "display_data"
    },
    {
     "name": "stdout",
     "output_type": "stream",
     "text": [
      "pred: WithMask  pred_idx:  tensor(0)  probs:  tensor([1.0000e+00, 1.3058e-07])\n",
      "______________________________\n",
      "\n",
      " The image is:  Augmented_142_4240524.png "
     ]
    },
    {
     "data": {
      "text/html": [],
      "text/plain": [
       "<IPython.core.display.HTML object>"
      ]
     },
     "metadata": {},
     "output_type": "display_data"
    },
    {
     "name": "stdout",
     "output_type": "stream",
     "text": [
      "pred: WithMask  pred_idx:  tensor(0)  probs:  tensor([1.0000e+00, 6.8767e-10])\n",
      "______________________________\n",
      "\n",
      " The image is:  Augmented_391_7745278.png "
     ]
    },
    {
     "data": {
      "text/html": [],
      "text/plain": [
       "<IPython.core.display.HTML object>"
      ]
     },
     "metadata": {},
     "output_type": "display_data"
    },
    {
     "name": "stdout",
     "output_type": "stream",
     "text": [
      "pred: WithMask  pred_idx:  tensor(0)  probs:  tensor([1.0000e+00, 4.6970e-06])\n",
      "______________________________\n",
      "\n",
      " The image is:  178.png "
     ]
    },
    {
     "data": {
      "text/html": [],
      "text/plain": [
       "<IPython.core.display.HTML object>"
      ]
     },
     "metadata": {},
     "output_type": "display_data"
    },
    {
     "name": "stdout",
     "output_type": "stream",
     "text": [
      "pred: WithMask  pred_idx:  tensor(0)  probs:  tensor([9.9995e-01, 4.8713e-05])\n",
      "______________________________\n",
      "\n",
      " The image is:  Augmented_346_6949456.png "
     ]
    },
    {
     "data": {
      "text/html": [],
      "text/plain": [
       "<IPython.core.display.HTML object>"
      ]
     },
     "metadata": {},
     "output_type": "display_data"
    },
    {
     "name": "stdout",
     "output_type": "stream",
     "text": [
      "pred: WithMask  pred_idx:  tensor(0)  probs:  tensor([1.0000e+00, 6.2223e-08])\n",
      "______________________________\n",
      "\n",
      " The image is:  Augmented_214_4163448.png "
     ]
    },
    {
     "data": {
      "text/html": [],
      "text/plain": [
       "<IPython.core.display.HTML object>"
      ]
     },
     "metadata": {},
     "output_type": "display_data"
    },
    {
     "name": "stdout",
     "output_type": "stream",
     "text": [
      "pred: WithMask  pred_idx:  tensor(0)  probs:  tensor([1.0000e+00, 4.2989e-10])\n",
      "______________________________\n",
      "\n",
      " The image is:  998.png "
     ]
    },
    {
     "data": {
      "text/html": [],
      "text/plain": [
       "<IPython.core.display.HTML object>"
      ]
     },
     "metadata": {},
     "output_type": "display_data"
    },
    {
     "name": "stdout",
     "output_type": "stream",
     "text": [
      "pred: WithMask  pred_idx:  tensor(0)  probs:  tensor([1.0000e+00, 6.9807e-07])\n",
      "______________________________\n",
      "\n",
      " The image is:  Augmented_199_1537768.png "
     ]
    },
    {
     "data": {
      "text/html": [],
      "text/plain": [
       "<IPython.core.display.HTML object>"
      ]
     },
     "metadata": {},
     "output_type": "display_data"
    },
    {
     "name": "stdout",
     "output_type": "stream",
     "text": [
      "pred: WithMask  pred_idx:  tensor(0)  probs:  tensor([1.0000e+00, 3.2048e-15])\n",
      "______________________________\n",
      "\n",
      " The image is:  Augmented_434_8719736.png "
     ]
    },
    {
     "data": {
      "text/html": [],
      "text/plain": [
       "<IPython.core.display.HTML object>"
      ]
     },
     "metadata": {},
     "output_type": "display_data"
    },
    {
     "name": "stdout",
     "output_type": "stream",
     "text": [
      "pred: WithMask  pred_idx:  tensor(0)  probs:  tensor([1.0000e+00, 7.2667e-09])\n",
      "______________________________\n",
      "\n",
      " The image is:  Augmented_615_4416878.png "
     ]
    },
    {
     "data": {
      "text/html": [],
      "text/plain": [
       "<IPython.core.display.HTML object>"
      ]
     },
     "metadata": {},
     "output_type": "display_data"
    },
    {
     "name": "stdout",
     "output_type": "stream",
     "text": [
      "pred: WithMask  pred_idx:  tensor(0)  probs:  tensor([1.0000e+00, 6.4273e-08])\n",
      "______________________________\n",
      "\n",
      " The image is:  Augmented_709_3873803.png "
     ]
    },
    {
     "data": {
      "text/html": [],
      "text/plain": [
       "<IPython.core.display.HTML object>"
      ]
     },
     "metadata": {},
     "output_type": "display_data"
    },
    {
     "name": "stdout",
     "output_type": "stream",
     "text": [
      "pred: WithMask  pred_idx:  tensor(0)  probs:  tensor([1.0000e+00, 7.2422e-07])\n",
      "______________________________\n",
      "\n",
      " The image is:  542.png "
     ]
    },
    {
     "data": {
      "text/html": [],
      "text/plain": [
       "<IPython.core.display.HTML object>"
      ]
     },
     "metadata": {},
     "output_type": "display_data"
    },
    {
     "name": "stdout",
     "output_type": "stream",
     "text": [
      "pred: WithMask  pred_idx:  tensor(0)  probs:  tensor([1.0000e+00, 6.5161e-08])\n",
      "______________________________\n",
      "\n",
      " The image is:  Augmented_297_8385866.png "
     ]
    },
    {
     "data": {
      "text/html": [],
      "text/plain": [
       "<IPython.core.display.HTML object>"
      ]
     },
     "metadata": {},
     "output_type": "display_data"
    },
    {
     "name": "stdout",
     "output_type": "stream",
     "text": [
      "pred: WithMask  pred_idx:  tensor(0)  probs:  tensor([1.0000e+00, 8.5947e-11])\n",
      "______________________________\n",
      "\n",
      " The image is:  Augmented_72_4737960.png "
     ]
    },
    {
     "data": {
      "text/html": [],
      "text/plain": [
       "<IPython.core.display.HTML object>"
      ]
     },
     "metadata": {},
     "output_type": "display_data"
    },
    {
     "name": "stdout",
     "output_type": "stream",
     "text": [
      "pred: WithMask  pred_idx:  tensor(0)  probs:  tensor([1.0000e+00, 2.3424e-11])\n",
      "______________________________\n",
      "\n",
      " The image is:  1834.png "
     ]
    },
    {
     "data": {
      "text/html": [],
      "text/plain": [
       "<IPython.core.display.HTML object>"
      ]
     },
     "metadata": {},
     "output_type": "display_data"
    },
    {
     "name": "stdout",
     "output_type": "stream",
     "text": [
      "pred: WithMask  pred_idx:  tensor(0)  probs:  tensor([1.0000e+00, 3.3520e-08])\n",
      "______________________________\n",
      "\n",
      " The image is:  Augmented_511_6421814.png "
     ]
    },
    {
     "data": {
      "text/html": [],
      "text/plain": [
       "<IPython.core.display.HTML object>"
      ]
     },
     "metadata": {},
     "output_type": "display_data"
    },
    {
     "name": "stdout",
     "output_type": "stream",
     "text": [
      "pred: WithMask  pred_idx:  tensor(0)  probs:  tensor([1.0000e+00, 2.7421e-14])\n",
      "______________________________\n",
      "\n",
      " The image is:  Augmented_772_3075581.png "
     ]
    },
    {
     "data": {
      "text/html": [],
      "text/plain": [
       "<IPython.core.display.HTML object>"
      ]
     },
     "metadata": {},
     "output_type": "display_data"
    },
    {
     "name": "stdout",
     "output_type": "stream",
     "text": [
      "pred: WithMask  pred_idx:  tensor(0)  probs:  tensor([1.0000e+00, 8.7711e-07])\n",
      "______________________________\n",
      "\n",
      " The image is:  Augmented_26_6411441.png "
     ]
    },
    {
     "data": {
      "text/html": [],
      "text/plain": [
       "<IPython.core.display.HTML object>"
      ]
     },
     "metadata": {},
     "output_type": "display_data"
    },
    {
     "name": "stdout",
     "output_type": "stream",
     "text": [
      "pred: WithMask  pred_idx:  tensor(0)  probs:  tensor([1.0000e+00, 6.5795e-10])\n",
      "______________________________\n",
      "\n",
      " The image is:  Augmented_675_3668206.png "
     ]
    },
    {
     "data": {
      "text/html": [],
      "text/plain": [
       "<IPython.core.display.HTML object>"
      ]
     },
     "metadata": {},
     "output_type": "display_data"
    },
    {
     "name": "stdout",
     "output_type": "stream",
     "text": [
      "pred: WithMask  pred_idx:  tensor(0)  probs:  tensor([1.0000e+00, 4.9060e-09])\n",
      "______________________________\n",
      "\n",
      " The image is:  Augmented_672_5034927.png "
     ]
    },
    {
     "data": {
      "text/html": [],
      "text/plain": [
       "<IPython.core.display.HTML object>"
      ]
     },
     "metadata": {},
     "output_type": "display_data"
    },
    {
     "name": "stdout",
     "output_type": "stream",
     "text": [
      "pred: WithMask  pred_idx:  tensor(0)  probs:  tensor([1.0000e+00, 4.9202e-10])\n",
      "______________________________\n",
      "\n",
      " The image is:  Augmented_545_2091737.png "
     ]
    },
    {
     "data": {
      "text/html": [],
      "text/plain": [
       "<IPython.core.display.HTML object>"
      ]
     },
     "metadata": {},
     "output_type": "display_data"
    },
    {
     "name": "stdout",
     "output_type": "stream",
     "text": [
      "pred: WithMask  pred_idx:  tensor(0)  probs:  tensor([9.9995e-01, 4.5579e-05])\n",
      "______________________________\n",
      "\n",
      " The image is:  Augmented_677_9933265.png "
     ]
    },
    {
     "data": {
      "text/html": [],
      "text/plain": [
       "<IPython.core.display.HTML object>"
      ]
     },
     "metadata": {},
     "output_type": "display_data"
    },
    {
     "name": "stdout",
     "output_type": "stream",
     "text": [
      "pred: WithMask  pred_idx:  tensor(0)  probs:  tensor([1.0000e+00, 1.8969e-10])\n",
      "______________________________\n",
      "\n",
      " The image is:  Augmented_292_9405685.png "
     ]
    },
    {
     "data": {
      "text/html": [],
      "text/plain": [
       "<IPython.core.display.HTML object>"
      ]
     },
     "metadata": {},
     "output_type": "display_data"
    },
    {
     "name": "stdout",
     "output_type": "stream",
     "text": [
      "pred: WithMask  pred_idx:  tensor(0)  probs:  tensor([1.0000e+00, 8.4792e-09])\n",
      "______________________________\n",
      "\n",
      " The image is:  Augmented_844_376909.png "
     ]
    },
    {
     "data": {
      "text/html": [],
      "text/plain": [
       "<IPython.core.display.HTML object>"
      ]
     },
     "metadata": {},
     "output_type": "display_data"
    },
    {
     "name": "stdout",
     "output_type": "stream",
     "text": [
      "pred: WithMask  pred_idx:  tensor(0)  probs:  tensor([1.0000e+00, 1.1742e-07])\n",
      "______________________________\n",
      "\n",
      " The image is:  Augmented_120_536902.png "
     ]
    },
    {
     "data": {
      "text/html": [],
      "text/plain": [
       "<IPython.core.display.HTML object>"
      ]
     },
     "metadata": {},
     "output_type": "display_data"
    },
    {
     "name": "stdout",
     "output_type": "stream",
     "text": [
      "pred: WithMask  pred_idx:  tensor(0)  probs:  tensor([1.0000e+00, 1.3211e-07])\n",
      "______________________________\n",
      "\n",
      " The image is:  Augmented_520_4710062.png "
     ]
    },
    {
     "data": {
      "text/html": [],
      "text/plain": [
       "<IPython.core.display.HTML object>"
      ]
     },
     "metadata": {},
     "output_type": "display_data"
    },
    {
     "name": "stdout",
     "output_type": "stream",
     "text": [
      "pred: WithMask  pred_idx:  tensor(0)  probs:  tensor([1.0000e+00, 8.5892e-08])\n",
      "______________________________\n",
      "\n",
      " The image is:  1439.png "
     ]
    },
    {
     "data": {
      "text/html": [],
      "text/plain": [
       "<IPython.core.display.HTML object>"
      ]
     },
     "metadata": {},
     "output_type": "display_data"
    },
    {
     "name": "stdout",
     "output_type": "stream",
     "text": [
      "pred: WithMask  pred_idx:  tensor(0)  probs:  tensor([1.0000e+00, 2.0170e-08])\n",
      "______________________________\n",
      "\n",
      " The image is:  Augmented_687_9015476.png "
     ]
    },
    {
     "data": {
      "text/html": [],
      "text/plain": [
       "<IPython.core.display.HTML object>"
      ]
     },
     "metadata": {},
     "output_type": "display_data"
    },
    {
     "name": "stdout",
     "output_type": "stream",
     "text": [
      "pred: WithMask  pred_idx:  tensor(0)  probs:  tensor([1.0000e+00, 1.1608e-08])\n",
      "______________________________\n",
      "\n",
      " The image is:  Augmented_105_2879173.png "
     ]
    },
    {
     "data": {
      "text/html": [],
      "text/plain": [
       "<IPython.core.display.HTML object>"
      ]
     },
     "metadata": {},
     "output_type": "display_data"
    },
    {
     "name": "stdout",
     "output_type": "stream",
     "text": [
      "pred: WithMask  pred_idx:  tensor(0)  probs:  tensor([9.9999e-01, 1.0394e-05])\n",
      "______________________________\n",
      "\n",
      " The image is:  1559.png "
     ]
    },
    {
     "data": {
      "text/html": [],
      "text/plain": [
       "<IPython.core.display.HTML object>"
      ]
     },
     "metadata": {},
     "output_type": "display_data"
    },
    {
     "name": "stdout",
     "output_type": "stream",
     "text": [
      "pred: WithMask  pred_idx:  tensor(0)  probs:  tensor([1.0000e+00, 3.3838e-08])\n",
      "______________________________\n",
      "\n",
      " The image is:  Augmented_235_7961702.png "
     ]
    },
    {
     "data": {
      "text/html": [],
      "text/plain": [
       "<IPython.core.display.HTML object>"
      ]
     },
     "metadata": {},
     "output_type": "display_data"
    },
    {
     "name": "stdout",
     "output_type": "stream",
     "text": [
      "pred: WithMask  pred_idx:  tensor(0)  probs:  tensor([1.0000e+00, 5.8679e-09])\n",
      "______________________________\n",
      "\n",
      " The image is:  Augmented_194_786765.png "
     ]
    },
    {
     "data": {
      "text/html": [],
      "text/plain": [
       "<IPython.core.display.HTML object>"
      ]
     },
     "metadata": {},
     "output_type": "display_data"
    },
    {
     "name": "stdout",
     "output_type": "stream",
     "text": [
      "pred: WithMask  pred_idx:  tensor(0)  probs:  tensor([1.0000e+00, 3.6152e-07])\n",
      "______________________________\n",
      "\n",
      " The image is:  Augmented_507_2627970.png "
     ]
    },
    {
     "data": {
      "text/html": [],
      "text/plain": [
       "<IPython.core.display.HTML object>"
      ]
     },
     "metadata": {},
     "output_type": "display_data"
    },
    {
     "name": "stdout",
     "output_type": "stream",
     "text": [
      "pred: WithMask  pred_idx:  tensor(0)  probs:  tensor([1.0000e+00, 4.8550e-09])\n",
      "______________________________\n",
      "\n",
      " The image is:  190.png "
     ]
    },
    {
     "data": {
      "text/html": [],
      "text/plain": [
       "<IPython.core.display.HTML object>"
      ]
     },
     "metadata": {},
     "output_type": "display_data"
    },
    {
     "name": "stdout",
     "output_type": "stream",
     "text": [
      "pred: WithMask  pred_idx:  tensor(0)  probs:  tensor([1.0000e+00, 5.5790e-10])\n",
      "______________________________\n",
      "\n",
      " The image is:  Augmented_71_9889238.png "
     ]
    },
    {
     "data": {
      "text/html": [],
      "text/plain": [
       "<IPython.core.display.HTML object>"
      ]
     },
     "metadata": {},
     "output_type": "display_data"
    },
    {
     "name": "stdout",
     "output_type": "stream",
     "text": [
      "pred: WithMask  pred_idx:  tensor(0)  probs:  tensor([1.0000e+00, 2.0668e-09])\n",
      "______________________________\n",
      "\n",
      " The image is:  385.png "
     ]
    },
    {
     "data": {
      "text/html": [],
      "text/plain": [
       "<IPython.core.display.HTML object>"
      ]
     },
     "metadata": {},
     "output_type": "display_data"
    },
    {
     "name": "stdout",
     "output_type": "stream",
     "text": [
      "pred: WithMask  pred_idx:  tensor(0)  probs:  tensor([1.0000e+00, 2.3756e-12])\n",
      "______________________________\n",
      "\n",
      " The image is:  Augmented_496_5989036.png "
     ]
    },
    {
     "data": {
      "text/html": [],
      "text/plain": [
       "<IPython.core.display.HTML object>"
      ]
     },
     "metadata": {},
     "output_type": "display_data"
    },
    {
     "name": "stdout",
     "output_type": "stream",
     "text": [
      "pred: WithMask  pred_idx:  tensor(0)  probs:  tensor([9.9988e-01, 1.1643e-04])\n",
      "______________________________\n",
      "\n",
      " The image is:  Augmented_356_4535797.png "
     ]
    },
    {
     "data": {
      "text/html": [],
      "text/plain": [
       "<IPython.core.display.HTML object>"
      ]
     },
     "metadata": {},
     "output_type": "display_data"
    },
    {
     "name": "stdout",
     "output_type": "stream",
     "text": [
      "pred: WithMask  pred_idx:  tensor(0)  probs:  tensor([1.0000e+00, 5.9848e-10])\n",
      "______________________________\n",
      "\n",
      " The image is:  Augmented_528_8560280.png "
     ]
    },
    {
     "data": {
      "text/html": [],
      "text/plain": [
       "<IPython.core.display.HTML object>"
      ]
     },
     "metadata": {},
     "output_type": "display_data"
    },
    {
     "name": "stdout",
     "output_type": "stream",
     "text": [
      "pred: WithMask  pred_idx:  tensor(0)  probs:  tensor([9.9999e-01, 1.1843e-05])\n",
      "______________________________\n",
      "\n",
      " The image is:  393.png "
     ]
    },
    {
     "data": {
      "text/html": [],
      "text/plain": [
       "<IPython.core.display.HTML object>"
      ]
     },
     "metadata": {},
     "output_type": "display_data"
    },
    {
     "name": "stdout",
     "output_type": "stream",
     "text": [
      "pred: WithMask  pred_idx:  tensor(0)  probs:  tensor([1.0000e+00, 1.4680e-08])\n",
      "______________________________\n",
      "\n",
      " The image is:  1203.png "
     ]
    },
    {
     "data": {
      "text/html": [],
      "text/plain": [
       "<IPython.core.display.HTML object>"
      ]
     },
     "metadata": {},
     "output_type": "display_data"
    },
    {
     "name": "stdout",
     "output_type": "stream",
     "text": [
      "pred: WithMask  pred_idx:  tensor(0)  probs:  tensor([1.0000e+00, 1.9460e-10])\n",
      "______________________________\n",
      "\n",
      " The image is:  Augmented_470_9850673.png "
     ]
    },
    {
     "data": {
      "text/html": [],
      "text/plain": [
       "<IPython.core.display.HTML object>"
      ]
     },
     "metadata": {},
     "output_type": "display_data"
    },
    {
     "name": "stdout",
     "output_type": "stream",
     "text": [
      "pred: WithMask  pred_idx:  tensor(0)  probs:  tensor([1.0000e+00, 9.8302e-10])\n",
      "______________________________\n",
      "\n",
      " The image is:  Augmented_440_5403192.png "
     ]
    },
    {
     "data": {
      "text/html": [],
      "text/plain": [
       "<IPython.core.display.HTML object>"
      ]
     },
     "metadata": {},
     "output_type": "display_data"
    },
    {
     "name": "stdout",
     "output_type": "stream",
     "text": [
      "pred: WithMask  pred_idx:  tensor(0)  probs:  tensor([1.0000e+00, 3.0626e-06])\n",
      "______________________________\n",
      "\n",
      " The image is:  Augmented_549_4150433.png "
     ]
    },
    {
     "data": {
      "text/html": [],
      "text/plain": [
       "<IPython.core.display.HTML object>"
      ]
     },
     "metadata": {},
     "output_type": "display_data"
    },
    {
     "name": "stdout",
     "output_type": "stream",
     "text": [
      "pred: WithMask  pred_idx:  tensor(0)  probs:  tensor([1.0000e+00, 3.9148e-10])\n",
      "______________________________\n",
      "\n",
      " The image is:  Augmented_883_7724386.png "
     ]
    },
    {
     "data": {
      "text/html": [],
      "text/plain": [
       "<IPython.core.display.HTML object>"
      ]
     },
     "metadata": {},
     "output_type": "display_data"
    },
    {
     "name": "stdout",
     "output_type": "stream",
     "text": [
      "pred: WithMask  pred_idx:  tensor(0)  probs:  tensor([1.0000e+00, 2.2473e-08])\n",
      "______________________________\n",
      "\n",
      " The image is:  Augmented_498_2402579.png "
     ]
    },
    {
     "data": {
      "text/html": [],
      "text/plain": [
       "<IPython.core.display.HTML object>"
      ]
     },
     "metadata": {},
     "output_type": "display_data"
    },
    {
     "name": "stdout",
     "output_type": "stream",
     "text": [
      "pred: WithMask  pred_idx:  tensor(0)  probs:  tensor([1.0000e+00, 8.8248e-07])\n",
      "______________________________\n",
      "\n",
      " The image is:  Augmented_371_9016609.png "
     ]
    },
    {
     "data": {
      "text/html": [],
      "text/plain": [
       "<IPython.core.display.HTML object>"
      ]
     },
     "metadata": {},
     "output_type": "display_data"
    },
    {
     "name": "stdout",
     "output_type": "stream",
     "text": [
      "pred: WithMask  pred_idx:  tensor(0)  probs:  tensor([1.0000e+00, 2.2900e-07])\n",
      "______________________________\n",
      "\n",
      " The image is:  580.png "
     ]
    },
    {
     "data": {
      "text/html": [],
      "text/plain": [
       "<IPython.core.display.HTML object>"
      ]
     },
     "metadata": {},
     "output_type": "display_data"
    },
    {
     "name": "stdout",
     "output_type": "stream",
     "text": [
      "pred: WithMask  pred_idx:  tensor(0)  probs:  tensor([1.0000e+00, 1.0566e-14])\n",
      "______________________________\n",
      "\n",
      " The image is:  Augmented_275_4307929.png "
     ]
    },
    {
     "data": {
      "text/html": [],
      "text/plain": [
       "<IPython.core.display.HTML object>"
      ]
     },
     "metadata": {},
     "output_type": "display_data"
    },
    {
     "name": "stdout",
     "output_type": "stream",
     "text": [
      "pred: WithMask  pred_idx:  tensor(0)  probs:  tensor([1.0000e+00, 5.3984e-09])\n",
      "______________________________\n",
      "\n",
      " The image is:  Augmented_243_4129225.png "
     ]
    },
    {
     "data": {
      "text/html": [],
      "text/plain": [
       "<IPython.core.display.HTML object>"
      ]
     },
     "metadata": {},
     "output_type": "display_data"
    },
    {
     "name": "stdout",
     "output_type": "stream",
     "text": [
      "pred: WithMask  pred_idx:  tensor(0)  probs:  tensor([1.0000e+00, 4.1302e-09])\n",
      "______________________________\n",
      "\n",
      " The image is:  Augmented_49_8740803.png "
     ]
    },
    {
     "data": {
      "text/html": [],
      "text/plain": [
       "<IPython.core.display.HTML object>"
      ]
     },
     "metadata": {},
     "output_type": "display_data"
    },
    {
     "name": "stdout",
     "output_type": "stream",
     "text": [
      "pred: WithMask  pred_idx:  tensor(0)  probs:  tensor([1.0000e+00, 1.1614e-08])\n",
      "______________________________\n",
      "\n",
      " The image is:  Augmented_284_1494726.png "
     ]
    },
    {
     "data": {
      "text/html": [],
      "text/plain": [
       "<IPython.core.display.HTML object>"
      ]
     },
     "metadata": {},
     "output_type": "display_data"
    },
    {
     "name": "stdout",
     "output_type": "stream",
     "text": [
      "pred: WithMask  pred_idx:  tensor(0)  probs:  tensor([9.9999e-01, 5.2163e-06])\n",
      "______________________________\n",
      "\n",
      " The image is:  Augmented_254_6791340.png "
     ]
    },
    {
     "data": {
      "text/html": [],
      "text/plain": [
       "<IPython.core.display.HTML object>"
      ]
     },
     "metadata": {},
     "output_type": "display_data"
    },
    {
     "name": "stdout",
     "output_type": "stream",
     "text": [
      "pred: WithMask  pred_idx:  tensor(0)  probs:  tensor([1.0000e+00, 3.7182e-08])\n",
      "______________________________\n",
      "\n",
      " The image is:  46.png "
     ]
    },
    {
     "data": {
      "text/html": [],
      "text/plain": [
       "<IPython.core.display.HTML object>"
      ]
     },
     "metadata": {},
     "output_type": "display_data"
    },
    {
     "name": "stdout",
     "output_type": "stream",
     "text": [
      "pred: WithMask  pred_idx:  tensor(0)  probs:  tensor([1.0000e+00, 7.9906e-10])\n",
      "______________________________\n",
      "\n",
      " The image is:  1558.png "
     ]
    },
    {
     "data": {
      "text/html": [],
      "text/plain": [
       "<IPython.core.display.HTML object>"
      ]
     },
     "metadata": {},
     "output_type": "display_data"
    },
    {
     "name": "stdout",
     "output_type": "stream",
     "text": [
      "pred: WithMask  pred_idx:  tensor(0)  probs:  tensor([1.0000e+00, 1.7941e-08])\n",
      "______________________________\n",
      "\n",
      " The image is:  Augmented_272_3768963.png "
     ]
    },
    {
     "data": {
      "text/html": [],
      "text/plain": [
       "<IPython.core.display.HTML object>"
      ]
     },
     "metadata": {},
     "output_type": "display_data"
    },
    {
     "name": "stdout",
     "output_type": "stream",
     "text": [
      "pred: WithMask  pred_idx:  tensor(0)  probs:  tensor([1.0000e+00, 1.9530e-08])\n",
      "______________________________\n",
      "\n",
      " The image is:  Augmented_130_939150.png "
     ]
    },
    {
     "data": {
      "text/html": [],
      "text/plain": [
       "<IPython.core.display.HTML object>"
      ]
     },
     "metadata": {},
     "output_type": "display_data"
    },
    {
     "name": "stdout",
     "output_type": "stream",
     "text": [
      "pred: WithMask  pred_idx:  tensor(0)  probs:  tensor([1.0000e+00, 1.5877e-10])\n",
      "______________________________\n",
      "\n",
      " The image is:  Augmented_542_9776314.png "
     ]
    },
    {
     "data": {
      "text/html": [],
      "text/plain": [
       "<IPython.core.display.HTML object>"
      ]
     },
     "metadata": {},
     "output_type": "display_data"
    },
    {
     "name": "stdout",
     "output_type": "stream",
     "text": [
      "pred: WithMask  pred_idx:  tensor(0)  probs:  tensor([1.0000e+00, 1.9175e-09])\n",
      "______________________________\n",
      "\n",
      " The image is:  Augmented_28_4225269.png "
     ]
    },
    {
     "data": {
      "text/html": [],
      "text/plain": [
       "<IPython.core.display.HTML object>"
      ]
     },
     "metadata": {},
     "output_type": "display_data"
    },
    {
     "name": "stdout",
     "output_type": "stream",
     "text": [
      "pred: WithMask  pred_idx:  tensor(0)  probs:  tensor([1.0000e+00, 1.5449e-08])\n",
      "______________________________\n",
      "\n",
      " The image is:  Augmented_296_4640915.png "
     ]
    },
    {
     "data": {
      "text/html": [],
      "text/plain": [
       "<IPython.core.display.HTML object>"
      ]
     },
     "metadata": {},
     "output_type": "display_data"
    },
    {
     "name": "stdout",
     "output_type": "stream",
     "text": [
      "pred: WithMask  pred_idx:  tensor(0)  probs:  tensor([1.0000e+00, 1.3005e-10])\n",
      "______________________________\n",
      "\n",
      " The image is:  Augmented_88_4985252.png "
     ]
    },
    {
     "data": {
      "text/html": [],
      "text/plain": [
       "<IPython.core.display.HTML object>"
      ]
     },
     "metadata": {},
     "output_type": "display_data"
    },
    {
     "name": "stdout",
     "output_type": "stream",
     "text": [
      "pred: WithMask  pred_idx:  tensor(0)  probs:  tensor([1.0000e+00, 6.6910e-07])\n",
      "______________________________\n",
      "\n",
      " The image is:  Augmented_744_5930625.png "
     ]
    },
    {
     "data": {
      "text/html": [],
      "text/plain": [
       "<IPython.core.display.HTML object>"
      ]
     },
     "metadata": {},
     "output_type": "display_data"
    },
    {
     "name": "stdout",
     "output_type": "stream",
     "text": [
      "pred: WithMask  pred_idx:  tensor(0)  probs:  tensor([1.0000e+00, 4.8605e-07])\n",
      "______________________________\n",
      "\n",
      " The image is:  Augmented_851_4693399.png "
     ]
    },
    {
     "data": {
      "text/html": [],
      "text/plain": [
       "<IPython.core.display.HTML object>"
      ]
     },
     "metadata": {},
     "output_type": "display_data"
    },
    {
     "name": "stdout",
     "output_type": "stream",
     "text": [
      "pred: WithMask  pred_idx:  tensor(0)  probs:  tensor([1.0000e+00, 2.3662e-09])\n",
      "______________________________\n",
      "\n",
      " The image is:  Augmented_696_9874270.png "
     ]
    },
    {
     "data": {
      "text/html": [],
      "text/plain": [
       "<IPython.core.display.HTML object>"
      ]
     },
     "metadata": {},
     "output_type": "display_data"
    },
    {
     "name": "stdout",
     "output_type": "stream",
     "text": [
      "pred: WithMask  pred_idx:  tensor(0)  probs:  tensor([1.0000e+00, 6.6627e-08])\n",
      "______________________________\n",
      "\n",
      " The image is:  Augmented_340_1318554.png "
     ]
    },
    {
     "data": {
      "text/html": [],
      "text/plain": [
       "<IPython.core.display.HTML object>"
      ]
     },
     "metadata": {},
     "output_type": "display_data"
    },
    {
     "name": "stdout",
     "output_type": "stream",
     "text": [
      "pred: WithMask  pred_idx:  tensor(0)  probs:  tensor([1.0000e+00, 1.5225e-08])\n",
      "______________________________\n",
      "\n",
      " The image is:  Augmented_509_3793317.png "
     ]
    },
    {
     "data": {
      "text/html": [],
      "text/plain": [
       "<IPython.core.display.HTML object>"
      ]
     },
     "metadata": {},
     "output_type": "display_data"
    },
    {
     "name": "stdout",
     "output_type": "stream",
     "text": [
      "pred: WithMask  pred_idx:  tensor(0)  probs:  tensor([1.0000e+00, 1.6666e-10])\n",
      "______________________________\n",
      "\n",
      " The image is:  Augmented_169_5650611.png "
     ]
    },
    {
     "data": {
      "text/html": [],
      "text/plain": [
       "<IPython.core.display.HTML object>"
      ]
     },
     "metadata": {},
     "output_type": "display_data"
    },
    {
     "name": "stdout",
     "output_type": "stream",
     "text": [
      "pred: WithMask  pred_idx:  tensor(0)  probs:  tensor([1.0000e+00, 1.6991e-10])\n",
      "______________________________\n",
      "\n",
      " The image is:  1363.png "
     ]
    },
    {
     "data": {
      "text/html": [],
      "text/plain": [
       "<IPython.core.display.HTML object>"
      ]
     },
     "metadata": {},
     "output_type": "display_data"
    },
    {
     "name": "stdout",
     "output_type": "stream",
     "text": [
      "pred: WithMask  pred_idx:  tensor(0)  probs:  tensor([1.0000e+00, 2.0655e-14])\n",
      "______________________________\n",
      "\n",
      " The image is:  Augmented_698_2753022.png "
     ]
    },
    {
     "data": {
      "text/html": [],
      "text/plain": [
       "<IPython.core.display.HTML object>"
      ]
     },
     "metadata": {},
     "output_type": "display_data"
    },
    {
     "name": "stdout",
     "output_type": "stream",
     "text": [
      "pred: WithMask  pred_idx:  tensor(0)  probs:  tensor([9.9994e-01, 6.0216e-05])\n",
      "______________________________\n",
      "\n",
      " The image is:  Augmented_461_3573149.png "
     ]
    },
    {
     "data": {
      "text/html": [],
      "text/plain": [
       "<IPython.core.display.HTML object>"
      ]
     },
     "metadata": {},
     "output_type": "display_data"
    },
    {
     "name": "stdout",
     "output_type": "stream",
     "text": [
      "pred: WithMask  pred_idx:  tensor(0)  probs:  tensor([1.0000e+00, 1.6028e-08])\n",
      "______________________________\n",
      "\n",
      " The image is:  Augmented_771_1349807.png "
     ]
    },
    {
     "data": {
      "text/html": [],
      "text/plain": [
       "<IPython.core.display.HTML object>"
      ]
     },
     "metadata": {},
     "output_type": "display_data"
    },
    {
     "name": "stdout",
     "output_type": "stream",
     "text": [
      "pred: WithMask  pred_idx:  tensor(0)  probs:  tensor([1.0000e+00, 4.2126e-06])\n",
      "______________________________\n",
      "\n",
      " The image is:  Augmented_831_8950035.png "
     ]
    },
    {
     "data": {
      "text/html": [],
      "text/plain": [
       "<IPython.core.display.HTML object>"
      ]
     },
     "metadata": {},
     "output_type": "display_data"
    },
    {
     "name": "stdout",
     "output_type": "stream",
     "text": [
      "pred: WithMask  pred_idx:  tensor(0)  probs:  tensor([1.0000e+00, 1.9102e-07])\n",
      "______________________________\n",
      "\n",
      " The image is:  Augmented_335_9335154.png "
     ]
    },
    {
     "data": {
      "text/html": [],
      "text/plain": [
       "<IPython.core.display.HTML object>"
      ]
     },
     "metadata": {},
     "output_type": "display_data"
    },
    {
     "name": "stdout",
     "output_type": "stream",
     "text": [
      "pred: WithMask  pred_idx:  tensor(0)  probs:  tensor([1.0000e+00, 2.4228e-08])\n",
      "______________________________\n",
      "\n",
      " The image is:  1565.png "
     ]
    },
    {
     "data": {
      "text/html": [],
      "text/plain": [
       "<IPython.core.display.HTML object>"
      ]
     },
     "metadata": {},
     "output_type": "display_data"
    },
    {
     "name": "stdout",
     "output_type": "stream",
     "text": [
      "pred: WithMask  pred_idx:  tensor(0)  probs:  tensor([1.0000e+00, 1.6645e-12])\n",
      "______________________________\n",
      "\n",
      " The image is:  Augmented_141_8092740.png "
     ]
    },
    {
     "data": {
      "text/html": [],
      "text/plain": [
       "<IPython.core.display.HTML object>"
      ]
     },
     "metadata": {},
     "output_type": "display_data"
    },
    {
     "name": "stdout",
     "output_type": "stream",
     "text": [
      "pred: WithMask  pred_idx:  tensor(0)  probs:  tensor([1.0000e+00, 3.0403e-09])\n",
      "______________________________\n",
      "\n",
      " The image is:  Augmented_659_6392762.png "
     ]
    },
    {
     "data": {
      "text/html": [],
      "text/plain": [
       "<IPython.core.display.HTML object>"
      ]
     },
     "metadata": {},
     "output_type": "display_data"
    },
    {
     "name": "stdout",
     "output_type": "stream",
     "text": [
      "pred: WithMask  pred_idx:  tensor(0)  probs:  tensor([1.0000e+00, 6.2910e-07])\n",
      "______________________________\n",
      "\n",
      " The image is:  51.png "
     ]
    },
    {
     "data": {
      "text/html": [],
      "text/plain": [
       "<IPython.core.display.HTML object>"
      ]
     },
     "metadata": {},
     "output_type": "display_data"
    },
    {
     "name": "stdout",
     "output_type": "stream",
     "text": [
      "pred: WithMask  pred_idx:  tensor(0)  probs:  tensor([1.0000e+00, 4.7032e-10])\n",
      "______________________________\n",
      "\n",
      " The image is:  Augmented_546_8939403.png "
     ]
    },
    {
     "data": {
      "text/html": [],
      "text/plain": [
       "<IPython.core.display.HTML object>"
      ]
     },
     "metadata": {},
     "output_type": "display_data"
    },
    {
     "name": "stdout",
     "output_type": "stream",
     "text": [
      "pred: WithMask  pred_idx:  tensor(0)  probs:  tensor([1.0000e+00, 1.0747e-06])\n",
      "______________________________\n",
      "\n",
      " The image is:  Augmented_26_5028003.png "
     ]
    },
    {
     "data": {
      "text/html": [],
      "text/plain": [
       "<IPython.core.display.HTML object>"
      ]
     },
     "metadata": {},
     "output_type": "display_data"
    },
    {
     "name": "stdout",
     "output_type": "stream",
     "text": [
      "pred: WithMask  pred_idx:  tensor(0)  probs:  tensor([1.0000e+00, 1.1819e-08])\n",
      "______________________________\n",
      "\n",
      " The image is:  Augmented_363_1896885.png "
     ]
    },
    {
     "data": {
      "text/html": [],
      "text/plain": [
       "<IPython.core.display.HTML object>"
      ]
     },
     "metadata": {},
     "output_type": "display_data"
    },
    {
     "name": "stdout",
     "output_type": "stream",
     "text": [
      "pred: WithMask  pred_idx:  tensor(0)  probs:  tensor([1.0000e+00, 5.6871e-10])\n",
      "______________________________\n",
      "\n",
      " The image is:  Augmented_178_1929527.png "
     ]
    },
    {
     "data": {
      "text/html": [],
      "text/plain": [
       "<IPython.core.display.HTML object>"
      ]
     },
     "metadata": {},
     "output_type": "display_data"
    },
    {
     "name": "stdout",
     "output_type": "stream",
     "text": [
      "pred: WithMask  pred_idx:  tensor(0)  probs:  tensor([1.0000e+00, 1.2938e-07])\n",
      "______________________________\n",
      "\n",
      " The image is:  Augmented_798_6343266.png "
     ]
    },
    {
     "data": {
      "text/html": [],
      "text/plain": [
       "<IPython.core.display.HTML object>"
      ]
     },
     "metadata": {},
     "output_type": "display_data"
    },
    {
     "name": "stdout",
     "output_type": "stream",
     "text": [
      "pred: WithMask  pred_idx:  tensor(0)  probs:  tensor([1.0000e+00, 5.0851e-07])\n",
      "______________________________\n",
      "\n",
      " The image is:  Augmented_398_6983652.png "
     ]
    },
    {
     "data": {
      "text/html": [],
      "text/plain": [
       "<IPython.core.display.HTML object>"
      ]
     },
     "metadata": {},
     "output_type": "display_data"
    },
    {
     "name": "stdout",
     "output_type": "stream",
     "text": [
      "pred: WithMask  pred_idx:  tensor(0)  probs:  tensor([1.0000e+00, 6.9249e-09])\n",
      "______________________________\n",
      "\n",
      " The image is:  Augmented_632_723572.png "
     ]
    },
    {
     "data": {
      "text/html": [],
      "text/plain": [
       "<IPython.core.display.HTML object>"
      ]
     },
     "metadata": {},
     "output_type": "display_data"
    },
    {
     "name": "stdout",
     "output_type": "stream",
     "text": [
      "pred: WithMask  pred_idx:  tensor(0)  probs:  tensor([1.0000e+00, 5.5955e-08])\n",
      "______________________________\n",
      "\n",
      " The image is:  Augmented_889_8712565.png "
     ]
    },
    {
     "data": {
      "text/html": [],
      "text/plain": [
       "<IPython.core.display.HTML object>"
      ]
     },
     "metadata": {},
     "output_type": "display_data"
    },
    {
     "name": "stdout",
     "output_type": "stream",
     "text": [
      "pred: WithMask  pred_idx:  tensor(0)  probs:  tensor([1.0000e+00, 8.6130e-12])\n",
      "______________________________\n",
      "\n",
      " The image is:  Augmented_654_8030736.png "
     ]
    },
    {
     "data": {
      "text/html": [],
      "text/plain": [
       "<IPython.core.display.HTML object>"
      ]
     },
     "metadata": {},
     "output_type": "display_data"
    },
    {
     "name": "stdout",
     "output_type": "stream",
     "text": [
      "pred: WithMask  pred_idx:  tensor(0)  probs:  tensor([1.0000e+00, 1.4542e-06])\n",
      "______________________________\n",
      "\n",
      " The image is:  971.png "
     ]
    },
    {
     "data": {
      "text/html": [],
      "text/plain": [
       "<IPython.core.display.HTML object>"
      ]
     },
     "metadata": {},
     "output_type": "display_data"
    },
    {
     "name": "stdout",
     "output_type": "stream",
     "text": [
      "pred: WithMask  pred_idx:  tensor(0)  probs:  tensor([1.0000e+00, 1.8756e-08])\n",
      "______________________________\n",
      "\n",
      " The image is:  Augmented_206_4426311.png "
     ]
    },
    {
     "data": {
      "text/html": [],
      "text/plain": [
       "<IPython.core.display.HTML object>"
      ]
     },
     "metadata": {},
     "output_type": "display_data"
    },
    {
     "name": "stdout",
     "output_type": "stream",
     "text": [
      "pred: WithMask  pred_idx:  tensor(0)  probs:  tensor([1.0000e+00, 4.4290e-06])\n",
      "______________________________\n",
      "\n",
      " The image is:  Augmented_223_9512903.png "
     ]
    },
    {
     "data": {
      "text/html": [],
      "text/plain": [
       "<IPython.core.display.HTML object>"
      ]
     },
     "metadata": {},
     "output_type": "display_data"
    },
    {
     "name": "stdout",
     "output_type": "stream",
     "text": [
      "pred: WithMask  pred_idx:  tensor(0)  probs:  tensor([1.0000e+00, 7.3894e-08])\n",
      "______________________________\n",
      "\n",
      " The image is:  Augmented_582_8469463.png "
     ]
    },
    {
     "data": {
      "text/html": [],
      "text/plain": [
       "<IPython.core.display.HTML object>"
      ]
     },
     "metadata": {},
     "output_type": "display_data"
    },
    {
     "name": "stdout",
     "output_type": "stream",
     "text": [
      "pred: WithMask  pred_idx:  tensor(0)  probs:  tensor([1.0000e+00, 5.3458e-08])\n",
      "______________________________\n",
      "\n",
      " The image is:  Augmented_456_6815089.png "
     ]
    },
    {
     "data": {
      "text/html": [],
      "text/plain": [
       "<IPython.core.display.HTML object>"
      ]
     },
     "metadata": {},
     "output_type": "display_data"
    },
    {
     "name": "stdout",
     "output_type": "stream",
     "text": [
      "pred: WithMask  pred_idx:  tensor(0)  probs:  tensor([1.0000e+00, 1.5746e-09])\n",
      "______________________________\n",
      "\n",
      " The image is:  Augmented_193_9039527.png "
     ]
    },
    {
     "data": {
      "text/html": [],
      "text/plain": [
       "<IPython.core.display.HTML object>"
      ]
     },
     "metadata": {},
     "output_type": "display_data"
    },
    {
     "name": "stdout",
     "output_type": "stream",
     "text": [
      "pred: WithMask  pred_idx:  tensor(0)  probs:  tensor([1.0000e+00, 4.8734e-06])\n",
      "______________________________\n",
      "\n",
      " The image is:  Augmented_190_1383450.png "
     ]
    },
    {
     "data": {
      "text/html": [],
      "text/plain": [
       "<IPython.core.display.HTML object>"
      ]
     },
     "metadata": {},
     "output_type": "display_data"
    },
    {
     "name": "stdout",
     "output_type": "stream",
     "text": [
      "pred: WithMask  pred_idx:  tensor(0)  probs:  tensor([1.0000e+00, 1.0076e-06])\n",
      "______________________________\n",
      "\n",
      " The image is:  Augmented_735_9235977.png "
     ]
    },
    {
     "data": {
      "text/html": [],
      "text/plain": [
       "<IPython.core.display.HTML object>"
      ]
     },
     "metadata": {},
     "output_type": "display_data"
    },
    {
     "name": "stdout",
     "output_type": "stream",
     "text": [
      "pred: WithMask  pred_idx:  tensor(0)  probs:  tensor([1.0000e+00, 1.1767e-07])\n",
      "______________________________\n",
      "\n",
      " The image is:  Augmented_446_4264806.png "
     ]
    },
    {
     "data": {
      "text/html": [],
      "text/plain": [
       "<IPython.core.display.HTML object>"
      ]
     },
     "metadata": {},
     "output_type": "display_data"
    },
    {
     "name": "stdout",
     "output_type": "stream",
     "text": [
      "pred: WithMask  pred_idx:  tensor(0)  probs:  tensor([1.0000e+00, 9.9543e-08])\n",
      "______________________________\n",
      "\n",
      " The image is:  Augmented_854_5503218.png "
     ]
    },
    {
     "data": {
      "text/html": [],
      "text/plain": [
       "<IPython.core.display.HTML object>"
      ]
     },
     "metadata": {},
     "output_type": "display_data"
    },
    {
     "name": "stdout",
     "output_type": "stream",
     "text": [
      "pred: WithMask  pred_idx:  tensor(0)  probs:  tensor([1.0000e+00, 2.5162e-09])\n",
      "______________________________\n",
      "\n",
      " The image is:  1389.png "
     ]
    },
    {
     "data": {
      "text/html": [],
      "text/plain": [
       "<IPython.core.display.HTML object>"
      ]
     },
     "metadata": {},
     "output_type": "display_data"
    },
    {
     "name": "stdout",
     "output_type": "stream",
     "text": [
      "pred: WithMask  pred_idx:  tensor(0)  probs:  tensor([1.0000e+00, 5.3345e-13])\n",
      "______________________________\n",
      "\n",
      " The image is:  Augmented_824_6606851.png "
     ]
    },
    {
     "data": {
      "text/html": [],
      "text/plain": [
       "<IPython.core.display.HTML object>"
      ]
     },
     "metadata": {},
     "output_type": "display_data"
    },
    {
     "name": "stdout",
     "output_type": "stream",
     "text": [
      "pred: WithMask  pred_idx:  tensor(0)  probs:  tensor([1.0000e+00, 4.2458e-08])\n",
      "______________________________\n",
      "\n",
      " The image is:  Augmented_787_7903268.png "
     ]
    },
    {
     "data": {
      "text/html": [],
      "text/plain": [
       "<IPython.core.display.HTML object>"
      ]
     },
     "metadata": {},
     "output_type": "display_data"
    },
    {
     "name": "stdout",
     "output_type": "stream",
     "text": [
      "pred: WithMask  pred_idx:  tensor(0)  probs:  tensor([1.0000e+00, 1.7437e-10])\n",
      "______________________________\n",
      "\n",
      " The image is:  Augmented_55_3312596.png "
     ]
    },
    {
     "data": {
      "text/html": [],
      "text/plain": [
       "<IPython.core.display.HTML object>"
      ]
     },
     "metadata": {},
     "output_type": "display_data"
    },
    {
     "name": "stdout",
     "output_type": "stream",
     "text": [
      "pred: WithMask  pred_idx:  tensor(0)  probs:  tensor([1.0000e+00, 1.8523e-07])\n",
      "______________________________\n",
      "\n",
      " The image is:  Augmented_775_3431886.png "
     ]
    },
    {
     "data": {
      "text/html": [],
      "text/plain": [
       "<IPython.core.display.HTML object>"
      ]
     },
     "metadata": {},
     "output_type": "display_data"
    },
    {
     "name": "stdout",
     "output_type": "stream",
     "text": [
      "pred: WithMask  pred_idx:  tensor(0)  probs:  tensor([1.0000e+00, 1.8906e-07])\n",
      "______________________________\n",
      "\n",
      " The image is:  768.png "
     ]
    },
    {
     "data": {
      "text/html": [],
      "text/plain": [
       "<IPython.core.display.HTML object>"
      ]
     },
     "metadata": {},
     "output_type": "display_data"
    },
    {
     "name": "stdout",
     "output_type": "stream",
     "text": [
      "pred: WithMask  pred_idx:  tensor(0)  probs:  tensor([1.0000e+00, 2.1313e-10])\n",
      "______________________________\n",
      "\n",
      " The image is:  Augmented_309_8768397.png "
     ]
    },
    {
     "data": {
      "text/html": [],
      "text/plain": [
       "<IPython.core.display.HTML object>"
      ]
     },
     "metadata": {},
     "output_type": "display_data"
    },
    {
     "name": "stdout",
     "output_type": "stream",
     "text": [
      "pred: WithMask  pred_idx:  tensor(0)  probs:  tensor([1.0000e+00, 1.5250e-12])\n",
      "______________________________\n",
      "\n",
      " The image is:  Augmented_778_7420187.png "
     ]
    },
    {
     "data": {
      "text/html": [],
      "text/plain": [
       "<IPython.core.display.HTML object>"
      ]
     },
     "metadata": {},
     "output_type": "display_data"
    },
    {
     "name": "stdout",
     "output_type": "stream",
     "text": [
      "pred: WithMask  pred_idx:  tensor(0)  probs:  tensor([1.0000e+00, 6.3379e-07])\n",
      "______________________________\n",
      "\n",
      " The image is:  Augmented_713_2498193.png "
     ]
    },
    {
     "data": {
      "text/html": [],
      "text/plain": [
       "<IPython.core.display.HTML object>"
      ]
     },
     "metadata": {},
     "output_type": "display_data"
    },
    {
     "name": "stdout",
     "output_type": "stream",
     "text": [
      "pred: WithMask  pred_idx:  tensor(0)  probs:  tensor([1.0000e+00, 1.1739e-06])\n",
      "______________________________\n",
      "\n",
      " The image is:  Augmented_787_5812521.png "
     ]
    },
    {
     "data": {
      "text/html": [],
      "text/plain": [
       "<IPython.core.display.HTML object>"
      ]
     },
     "metadata": {},
     "output_type": "display_data"
    },
    {
     "name": "stdout",
     "output_type": "stream",
     "text": [
      "pred: WithMask  pred_idx:  tensor(0)  probs:  tensor([1.0000e+00, 1.9083e-09])\n",
      "______________________________\n",
      "\n",
      " The image is:  Augmented_427_5858648.png "
     ]
    },
    {
     "data": {
      "text/html": [],
      "text/plain": [
       "<IPython.core.display.HTML object>"
      ]
     },
     "metadata": {},
     "output_type": "display_data"
    },
    {
     "name": "stdout",
     "output_type": "stream",
     "text": [
      "pred: WithMask  pred_idx:  tensor(0)  probs:  tensor([1.0000e+00, 5.4178e-07])\n",
      "______________________________\n",
      "\n",
      " The image is:  Augmented_109_7550607.png "
     ]
    },
    {
     "data": {
      "text/html": [],
      "text/plain": [
       "<IPython.core.display.HTML object>"
      ]
     },
     "metadata": {},
     "output_type": "display_data"
    },
    {
     "name": "stdout",
     "output_type": "stream",
     "text": [
      "pred: WithMask  pred_idx:  tensor(0)  probs:  tensor([1.0000e+00, 3.2198e-09])\n",
      "______________________________\n",
      "\n",
      " The image is:  556.png "
     ]
    },
    {
     "data": {
      "text/html": [],
      "text/plain": [
       "<IPython.core.display.HTML object>"
      ]
     },
     "metadata": {},
     "output_type": "display_data"
    },
    {
     "name": "stdout",
     "output_type": "stream",
     "text": [
      "pred: WithMask  pred_idx:  tensor(0)  probs:  tensor([1.0000e+00, 2.1821e-10])\n",
      "______________________________\n",
      "\n",
      " The image is:  Augmented_689_9677847.png "
     ]
    },
    {
     "data": {
      "text/html": [],
      "text/plain": [
       "<IPython.core.display.HTML object>"
      ]
     },
     "metadata": {},
     "output_type": "display_data"
    },
    {
     "name": "stdout",
     "output_type": "stream",
     "text": [
      "pred: WithMask  pred_idx:  tensor(0)  probs:  tensor([1.0000e+00, 1.3803e-06])\n",
      "______________________________\n",
      "\n",
      " The image is:  351.png "
     ]
    },
    {
     "data": {
      "text/html": [],
      "text/plain": [
       "<IPython.core.display.HTML object>"
      ]
     },
     "metadata": {},
     "output_type": "display_data"
    },
    {
     "name": "stdout",
     "output_type": "stream",
     "text": [
      "pred: WithMask  pred_idx:  tensor(0)  probs:  tensor([1.0000e+00, 3.2983e-10])\n",
      "______________________________\n",
      "\n",
      " The image is:  Augmented_578_3000548.png "
     ]
    },
    {
     "data": {
      "text/html": [],
      "text/plain": [
       "<IPython.core.display.HTML object>"
      ]
     },
     "metadata": {},
     "output_type": "display_data"
    },
    {
     "name": "stdout",
     "output_type": "stream",
     "text": [
      "pred: WithMask  pred_idx:  tensor(0)  probs:  tensor([1.0000e+00, 2.0435e-09])\n",
      "______________________________\n",
      "\n",
      " The image is:  Augmented_230_3671570.png "
     ]
    },
    {
     "data": {
      "text/html": [],
      "text/plain": [
       "<IPython.core.display.HTML object>"
      ]
     },
     "metadata": {},
     "output_type": "display_data"
    },
    {
     "name": "stdout",
     "output_type": "stream",
     "text": [
      "pred: WithMask  pred_idx:  tensor(0)  probs:  tensor([1.0000e+00, 1.2085e-06])\n",
      "______________________________\n",
      "\n",
      " The image is:  Augmented_738_7833036.png "
     ]
    },
    {
     "data": {
      "text/html": [],
      "text/plain": [
       "<IPython.core.display.HTML object>"
      ]
     },
     "metadata": {},
     "output_type": "display_data"
    },
    {
     "name": "stdout",
     "output_type": "stream",
     "text": [
      "pred: WithMask  pred_idx:  tensor(0)  probs:  tensor([1.0000e+00, 1.6978e-08])\n",
      "______________________________\n",
      "\n",
      " The image is:  1361.png "
     ]
    },
    {
     "data": {
      "text/html": [],
      "text/plain": [
       "<IPython.core.display.HTML object>"
      ]
     },
     "metadata": {},
     "output_type": "display_data"
    },
    {
     "name": "stdout",
     "output_type": "stream",
     "text": [
      "pred: WithMask  pred_idx:  tensor(0)  probs:  tensor([1.0000e+00, 1.7685e-13])\n",
      "______________________________\n",
      "\n",
      " The image is:  Augmented_672_6536868.png "
     ]
    },
    {
     "data": {
      "text/html": [],
      "text/plain": [
       "<IPython.core.display.HTML object>"
      ]
     },
     "metadata": {},
     "output_type": "display_data"
    },
    {
     "name": "stdout",
     "output_type": "stream",
     "text": [
      "pred: WithMask  pred_idx:  tensor(0)  probs:  tensor([1.0000e+00, 2.9121e-09])\n",
      "______________________________\n",
      "\n",
      " The image is:  Augmented_677_2423388.png "
     ]
    },
    {
     "data": {
      "text/html": [],
      "text/plain": [
       "<IPython.core.display.HTML object>"
      ]
     },
     "metadata": {},
     "output_type": "display_data"
    },
    {
     "name": "stdout",
     "output_type": "stream",
     "text": [
      "pred: WithMask  pred_idx:  tensor(0)  probs:  tensor([1.0000e+00, 4.3977e-09])\n",
      "______________________________\n",
      "\n",
      " The image is:  Augmented_128_7642144.png "
     ]
    },
    {
     "data": {
      "text/html": [],
      "text/plain": [
       "<IPython.core.display.HTML object>"
      ]
     },
     "metadata": {},
     "output_type": "display_data"
    },
    {
     "name": "stdout",
     "output_type": "stream",
     "text": [
      "pred: WithMask  pred_idx:  tensor(0)  probs:  tensor([1.0000e+00, 7.5296e-07])\n",
      "______________________________\n",
      "\n",
      " The image is:  Augmented_459_57017.png "
     ]
    },
    {
     "data": {
      "text/html": [],
      "text/plain": [
       "<IPython.core.display.HTML object>"
      ]
     },
     "metadata": {},
     "output_type": "display_data"
    },
    {
     "name": "stdout",
     "output_type": "stream",
     "text": [
      "pred: WithMask  pred_idx:  tensor(0)  probs:  tensor([1.0000e+00, 1.0812e-09])\n",
      "______________________________\n",
      "\n",
      " The image is:  Augmented_144_2572190.png "
     ]
    },
    {
     "data": {
      "text/html": [],
      "text/plain": [
       "<IPython.core.display.HTML object>"
      ]
     },
     "metadata": {},
     "output_type": "display_data"
    },
    {
     "name": "stdout",
     "output_type": "stream",
     "text": [
      "pred: WithMask  pred_idx:  tensor(0)  probs:  tensor([1.0000e+00, 2.7790e-08])\n",
      "______________________________\n",
      "\n",
      " The image is:  231.png "
     ]
    },
    {
     "data": {
      "text/html": [],
      "text/plain": [
       "<IPython.core.display.HTML object>"
      ]
     },
     "metadata": {},
     "output_type": "display_data"
    },
    {
     "name": "stdout",
     "output_type": "stream",
     "text": [
      "pred: WithMask  pred_idx:  tensor(0)  probs:  tensor([1.0000e+00, 2.5171e-09])\n",
      "______________________________\n",
      "\n",
      " The image is:  1836.png "
     ]
    },
    {
     "data": {
      "text/html": [],
      "text/plain": [
       "<IPython.core.display.HTML object>"
      ]
     },
     "metadata": {},
     "output_type": "display_data"
    },
    {
     "name": "stdout",
     "output_type": "stream",
     "text": [
      "pred: WithMask  pred_idx:  tensor(0)  probs:  tensor([1.0000e+00, 4.2395e-10])\n",
      "______________________________\n",
      "\n",
      " The image is:  Augmented_615_4655292.png "
     ]
    },
    {
     "data": {
      "text/html": [],
      "text/plain": [
       "<IPython.core.display.HTML object>"
      ]
     },
     "metadata": {},
     "output_type": "display_data"
    },
    {
     "name": "stdout",
     "output_type": "stream",
     "text": [
      "pred: WithMask  pred_idx:  tensor(0)  probs:  tensor([1.0000e+00, 6.3149e-07])\n",
      "______________________________\n",
      "\n",
      " The image is:  Augmented_175_7003720.png "
     ]
    },
    {
     "data": {
      "text/html": [],
      "text/plain": [
       "<IPython.core.display.HTML object>"
      ]
     },
     "metadata": {},
     "output_type": "display_data"
    },
    {
     "name": "stdout",
     "output_type": "stream",
     "text": [
      "pred: WithMask  pred_idx:  tensor(0)  probs:  tensor([1.0000e+00, 5.3316e-08])\n",
      "______________________________\n",
      "\n",
      " The image is:  Augmented_197_8170067.png "
     ]
    },
    {
     "data": {
      "text/html": [],
      "text/plain": [
       "<IPython.core.display.HTML object>"
      ]
     },
     "metadata": {},
     "output_type": "display_data"
    },
    {
     "name": "stdout",
     "output_type": "stream",
     "text": [
      "pred: WithMask  pred_idx:  tensor(0)  probs:  tensor([1.0000e+00, 3.6393e-08])\n",
      "______________________________\n",
      "\n",
      " The image is:  Augmented_445_1389312.png "
     ]
    },
    {
     "data": {
      "text/html": [],
      "text/plain": [
       "<IPython.core.display.HTML object>"
      ]
     },
     "metadata": {},
     "output_type": "display_data"
    },
    {
     "name": "stdout",
     "output_type": "stream",
     "text": [
      "pred: WithMask  pred_idx:  tensor(0)  probs:  tensor([1.0000e+00, 1.2558e-07])\n",
      "______________________________\n",
      "\n",
      " The image is:  1821.png "
     ]
    },
    {
     "data": {
      "text/html": [],
      "text/plain": [
       "<IPython.core.display.HTML object>"
      ]
     },
     "metadata": {},
     "output_type": "display_data"
    },
    {
     "name": "stdout",
     "output_type": "stream",
     "text": [
      "pred: WithMask  pred_idx:  tensor(0)  probs:  tensor([1.0000e+00, 2.6358e-06])\n",
      "______________________________\n",
      "\n",
      " The image is:  1405.png "
     ]
    },
    {
     "data": {
      "text/html": [],
      "text/plain": [
       "<IPython.core.display.HTML object>"
      ]
     },
     "metadata": {},
     "output_type": "display_data"
    },
    {
     "name": "stdout",
     "output_type": "stream",
     "text": [
      "pred: WithMask  pred_idx:  tensor(0)  probs:  tensor([1.0000e+00, 8.2143e-08])\n",
      "______________________________\n",
      "\n",
      " The image is:  Augmented_329_2839019.png "
     ]
    },
    {
     "data": {
      "text/html": [],
      "text/plain": [
       "<IPython.core.display.HTML object>"
      ]
     },
     "metadata": {},
     "output_type": "display_data"
    },
    {
     "name": "stdout",
     "output_type": "stream",
     "text": [
      "pred: WithMask  pred_idx:  tensor(0)  probs:  tensor([1.0000e+00, 1.6676e-07])\n",
      "______________________________\n",
      "\n",
      " The image is:  Augmented_60_6882193.png "
     ]
    },
    {
     "data": {
      "text/html": [],
      "text/plain": [
       "<IPython.core.display.HTML object>"
      ]
     },
     "metadata": {},
     "output_type": "display_data"
    },
    {
     "name": "stdout",
     "output_type": "stream",
     "text": [
      "pred: WithMask  pred_idx:  tensor(0)  probs:  tensor([1.0000e+00, 4.8005e-13])\n",
      "______________________________\n",
      "\n",
      " The image is:  Augmented_479_3971974.png "
     ]
    },
    {
     "data": {
      "text/html": [],
      "text/plain": [
       "<IPython.core.display.HTML object>"
      ]
     },
     "metadata": {},
     "output_type": "display_data"
    },
    {
     "name": "stdout",
     "output_type": "stream",
     "text": [
      "pred: WithMask  pred_idx:  tensor(0)  probs:  tensor([9.9996e-01, 4.3324e-05])\n",
      "______________________________\n",
      "\n",
      " The image is:  Augmented_532_6705344.png "
     ]
    },
    {
     "data": {
      "text/html": [],
      "text/plain": [
       "<IPython.core.display.HTML object>"
      ]
     },
     "metadata": {},
     "output_type": "display_data"
    },
    {
     "name": "stdout",
     "output_type": "stream",
     "text": [
      "pred: WithMask  pred_idx:  tensor(0)  probs:  tensor([1.0000e+00, 8.6185e-07])\n",
      "______________________________\n",
      "\n",
      " The image is:  Augmented_219_7900518.png "
     ]
    },
    {
     "data": {
      "text/html": [],
      "text/plain": [
       "<IPython.core.display.HTML object>"
      ]
     },
     "metadata": {},
     "output_type": "display_data"
    },
    {
     "name": "stdout",
     "output_type": "stream",
     "text": [
      "pred: WithMask  pred_idx:  tensor(0)  probs:  tensor([1.0000e+00, 2.7102e-09])\n",
      "______________________________\n",
      "\n",
      " The image is:  Augmented_229_8982593.png "
     ]
    },
    {
     "data": {
      "text/html": [],
      "text/plain": [
       "<IPython.core.display.HTML object>"
      ]
     },
     "metadata": {},
     "output_type": "display_data"
    },
    {
     "name": "stdout",
     "output_type": "stream",
     "text": [
      "pred: WithMask  pred_idx:  tensor(0)  probs:  tensor([1.0000e+00, 1.2079e-06])\n",
      "______________________________\n",
      "\n",
      " The image is:  Augmented_240_1871116.png "
     ]
    },
    {
     "data": {
      "text/html": [],
      "text/plain": [
       "<IPython.core.display.HTML object>"
      ]
     },
     "metadata": {},
     "output_type": "display_data"
    },
    {
     "name": "stdout",
     "output_type": "stream",
     "text": [
      "pred: WithMask  pred_idx:  tensor(0)  probs:  tensor([1.0000e+00, 9.5765e-09])\n",
      "______________________________\n",
      "\n",
      " The image is:  Augmented_779_5850416.png "
     ]
    },
    {
     "data": {
      "text/html": [],
      "text/plain": [
       "<IPython.core.display.HTML object>"
      ]
     },
     "metadata": {},
     "output_type": "display_data"
    },
    {
     "name": "stdout",
     "output_type": "stream",
     "text": [
      "pred: WithMask  pred_idx:  tensor(0)  probs:  tensor([1.0000e+00, 2.7903e-07])\n",
      "______________________________\n",
      "\n",
      " The image is:  Augmented_171_659127.png "
     ]
    },
    {
     "data": {
      "text/html": [],
      "text/plain": [
       "<IPython.core.display.HTML object>"
      ]
     },
     "metadata": {},
     "output_type": "display_data"
    },
    {
     "name": "stdout",
     "output_type": "stream",
     "text": [
      "pred: WithMask  pred_idx:  tensor(0)  probs:  tensor([1.0000e+00, 2.2588e-06])\n",
      "______________________________\n",
      "\n",
      " The image is:  Augmented_562_8830079.png "
     ]
    },
    {
     "data": {
      "text/html": [],
      "text/plain": [
       "<IPython.core.display.HTML object>"
      ]
     },
     "metadata": {},
     "output_type": "display_data"
    },
    {
     "name": "stdout",
     "output_type": "stream",
     "text": [
      "pred: WithMask  pred_idx:  tensor(0)  probs:  tensor([1.0000e+00, 1.7623e-06])\n",
      "______________________________\n",
      "\n",
      " The image is:  Augmented_604_2668181.png "
     ]
    },
    {
     "data": {
      "text/html": [],
      "text/plain": [
       "<IPython.core.display.HTML object>"
      ]
     },
     "metadata": {},
     "output_type": "display_data"
    },
    {
     "name": "stdout",
     "output_type": "stream",
     "text": [
      "pred: WithMask  pred_idx:  tensor(0)  probs:  tensor([1.0000e+00, 1.8676e-09])\n",
      "______________________________\n",
      "\n",
      " The image is:  Augmented_506_9184556.png "
     ]
    },
    {
     "data": {
      "text/html": [],
      "text/plain": [
       "<IPython.core.display.HTML object>"
      ]
     },
     "metadata": {},
     "output_type": "display_data"
    },
    {
     "name": "stdout",
     "output_type": "stream",
     "text": [
      "pred: WithMask  pred_idx:  tensor(0)  probs:  tensor([1.0000e+00, 1.2548e-08])\n",
      "______________________________\n",
      "\n",
      " The image is:  Augmented_94_1984948.png "
     ]
    },
    {
     "data": {
      "text/html": [],
      "text/plain": [
       "<IPython.core.display.HTML object>"
      ]
     },
     "metadata": {},
     "output_type": "display_data"
    },
    {
     "name": "stdout",
     "output_type": "stream",
     "text": [
      "pred: WithMask  pred_idx:  tensor(0)  probs:  tensor([1.0000e+00, 8.7498e-11])\n",
      "______________________________\n",
      "\n",
      " The image is:  Augmented_251_3805250.png "
     ]
    },
    {
     "data": {
      "text/html": [],
      "text/plain": [
       "<IPython.core.display.HTML object>"
      ]
     },
     "metadata": {},
     "output_type": "display_data"
    },
    {
     "name": "stdout",
     "output_type": "stream",
     "text": [
      "pred: WithMask  pred_idx:  tensor(0)  probs:  tensor([1.0000e+00, 1.5594e-08])\n",
      "______________________________\n",
      "\n",
      " The image is:  Augmented_817_1915596.png "
     ]
    },
    {
     "data": {
      "text/html": [],
      "text/plain": [
       "<IPython.core.display.HTML object>"
      ]
     },
     "metadata": {},
     "output_type": "display_data"
    },
    {
     "name": "stdout",
     "output_type": "stream",
     "text": [
      "pred: WithMask  pred_idx:  tensor(0)  probs:  tensor([1.0000e+00, 5.4340e-08])\n",
      "______________________________\n",
      "\n",
      " The image is:  Augmented_211_7481384.png "
     ]
    },
    {
     "data": {
      "text/html": [],
      "text/plain": [
       "<IPython.core.display.HTML object>"
      ]
     },
     "metadata": {},
     "output_type": "display_data"
    },
    {
     "name": "stdout",
     "output_type": "stream",
     "text": [
      "pred: WithMask  pred_idx:  tensor(0)  probs:  tensor([1.0000e+00, 6.2504e-08])\n",
      "______________________________\n",
      "\n",
      " The image is:  Augmented_447_5861423.png "
     ]
    },
    {
     "data": {
      "text/html": [],
      "text/plain": [
       "<IPython.core.display.HTML object>"
      ]
     },
     "metadata": {},
     "output_type": "display_data"
    },
    {
     "name": "stdout",
     "output_type": "stream",
     "text": [
      "pred: WithMask  pred_idx:  tensor(0)  probs:  tensor([1.0000e+00, 2.1146e-06])\n",
      "______________________________\n",
      "\n",
      " The image is:  392.png "
     ]
    },
    {
     "data": {
      "text/html": [],
      "text/plain": [
       "<IPython.core.display.HTML object>"
      ]
     },
     "metadata": {},
     "output_type": "display_data"
    },
    {
     "name": "stdout",
     "output_type": "stream",
     "text": [
      "pred: WithMask  pred_idx:  tensor(0)  probs:  tensor([1.0000e+00, 5.7212e-09])\n",
      "______________________________\n",
      "\n",
      " The image is:  Augmented_626_1326835.png "
     ]
    },
    {
     "data": {
      "text/html": [],
      "text/plain": [
       "<IPython.core.display.HTML object>"
      ]
     },
     "metadata": {},
     "output_type": "display_data"
    },
    {
     "name": "stdout",
     "output_type": "stream",
     "text": [
      "pred: WithMask  pred_idx:  tensor(0)  probs:  tensor([1.0000e+00, 1.0768e-07])\n",
      "______________________________\n",
      "\n",
      " The image is:  53.png "
     ]
    },
    {
     "data": {
      "text/html": [],
      "text/plain": [
       "<IPython.core.display.HTML object>"
      ]
     },
     "metadata": {},
     "output_type": "display_data"
    },
    {
     "name": "stdout",
     "output_type": "stream",
     "text": [
      "pred: WithMask  pred_idx:  tensor(0)  probs:  tensor([1.0000e+00, 3.2377e-07])\n",
      "______________________________\n",
      "\n",
      " The image is:  Augmented_384_8742839.png "
     ]
    },
    {
     "data": {
      "text/html": [],
      "text/plain": [
       "<IPython.core.display.HTML object>"
      ]
     },
     "metadata": {},
     "output_type": "display_data"
    },
    {
     "name": "stdout",
     "output_type": "stream",
     "text": [
      "pred: WithMask  pred_idx:  tensor(0)  probs:  tensor([1.0000e+00, 3.0076e-09])\n",
      "______________________________\n",
      "\n",
      " The image is:  Augmented_638_473985.png "
     ]
    },
    {
     "data": {
      "text/html": [],
      "text/plain": [
       "<IPython.core.display.HTML object>"
      ]
     },
     "metadata": {},
     "output_type": "display_data"
    },
    {
     "name": "stdout",
     "output_type": "stream",
     "text": [
      "pred: WithMask  pred_idx:  tensor(0)  probs:  tensor([1.0000e+00, 9.8403e-08])\n",
      "______________________________\n",
      "\n",
      " The image is:  Augmented_879_7740828.png "
     ]
    },
    {
     "data": {
      "text/html": [],
      "text/plain": [
       "<IPython.core.display.HTML object>"
      ]
     },
     "metadata": {},
     "output_type": "display_data"
    },
    {
     "name": "stdout",
     "output_type": "stream",
     "text": [
      "pred: WithMask  pred_idx:  tensor(0)  probs:  tensor([1.0000e+00, 1.1523e-08])\n",
      "______________________________\n",
      "\n",
      " The image is:  608.png "
     ]
    },
    {
     "data": {
      "text/html": [],
      "text/plain": [
       "<IPython.core.display.HTML object>"
      ]
     },
     "metadata": {},
     "output_type": "display_data"
    },
    {
     "name": "stdout",
     "output_type": "stream",
     "text": [
      "pred: WithMask  pred_idx:  tensor(0)  probs:  tensor([1.0000e+00, 5.0523e-08])\n",
      "______________________________\n",
      "\n",
      " The image is:  1606.png "
     ]
    },
    {
     "data": {
      "text/html": [],
      "text/plain": [
       "<IPython.core.display.HTML object>"
      ]
     },
     "metadata": {},
     "output_type": "display_data"
    },
    {
     "name": "stdout",
     "output_type": "stream",
     "text": [
      "pred: WithMask  pred_idx:  tensor(0)  probs:  tensor([1.0000e+00, 1.2176e-11])\n",
      "______________________________\n",
      "\n",
      " The image is:  Augmented_498_3423715.png "
     ]
    },
    {
     "data": {
      "text/html": [],
      "text/plain": [
       "<IPython.core.display.HTML object>"
      ]
     },
     "metadata": {},
     "output_type": "display_data"
    },
    {
     "name": "stdout",
     "output_type": "stream",
     "text": [
      "pred: WithMask  pred_idx:  tensor(0)  probs:  tensor([1.0000e+00, 5.9295e-08])\n",
      "______________________________\n",
      "\n",
      " The image is:  Augmented_97_6413107.png "
     ]
    },
    {
     "data": {
      "text/html": [],
      "text/plain": [
       "<IPython.core.display.HTML object>"
      ]
     },
     "metadata": {},
     "output_type": "display_data"
    },
    {
     "name": "stdout",
     "output_type": "stream",
     "text": [
      "pred: WithMask  pred_idx:  tensor(0)  probs:  tensor([1.0000e+00, 2.3156e-08])\n",
      "______________________________\n",
      "\n",
      " The image is:  Augmented_518_6448487.png "
     ]
    },
    {
     "data": {
      "text/html": [],
      "text/plain": [
       "<IPython.core.display.HTML object>"
      ]
     },
     "metadata": {},
     "output_type": "display_data"
    },
    {
     "name": "stdout",
     "output_type": "stream",
     "text": [
      "pred: WithMask  pred_idx:  tensor(0)  probs:  tensor([1.0000e+00, 4.0126e-09])\n",
      "______________________________\n",
      "\n",
      " The image is:  Augmented_452_7610253.png "
     ]
    },
    {
     "data": {
      "text/html": [],
      "text/plain": [
       "<IPython.core.display.HTML object>"
      ]
     },
     "metadata": {},
     "output_type": "display_data"
    },
    {
     "name": "stdout",
     "output_type": "stream",
     "text": [
      "pred: WithMask  pred_idx:  tensor(0)  probs:  tensor([1.0000e+00, 1.0590e-06])\n",
      "______________________________\n",
      "\n",
      " The image is:  Augmented_699_7879059.png "
     ]
    },
    {
     "data": {
      "text/html": [],
      "text/plain": [
       "<IPython.core.display.HTML object>"
      ]
     },
     "metadata": {},
     "output_type": "display_data"
    },
    {
     "name": "stdout",
     "output_type": "stream",
     "text": [
      "pred: WithMask  pred_idx:  tensor(0)  probs:  tensor([1.0000e+00, 3.1684e-09])\n",
      "______________________________\n",
      "\n",
      " The image is:  Augmented_692_4183950.png "
     ]
    },
    {
     "data": {
      "text/html": [],
      "text/plain": [
       "<IPython.core.display.HTML object>"
      ]
     },
     "metadata": {},
     "output_type": "display_data"
    },
    {
     "name": "stdout",
     "output_type": "stream",
     "text": [
      "pred: WithMask  pred_idx:  tensor(0)  probs:  tensor([1.0000e+00, 3.1472e-10])\n",
      "______________________________\n",
      "\n",
      " The image is:  Augmented_394_6115301.png "
     ]
    },
    {
     "data": {
      "text/html": [],
      "text/plain": [
       "<IPython.core.display.HTML object>"
      ]
     },
     "metadata": {},
     "output_type": "display_data"
    },
    {
     "name": "stdout",
     "output_type": "stream",
     "text": [
      "pred: WithMask  pred_idx:  tensor(0)  probs:  tensor([1.0000e+00, 1.8438e-07])\n",
      "______________________________\n",
      "\n",
      " The image is:  783.png "
     ]
    },
    {
     "data": {
      "text/html": [],
      "text/plain": [
       "<IPython.core.display.HTML object>"
      ]
     },
     "metadata": {},
     "output_type": "display_data"
    },
    {
     "name": "stdout",
     "output_type": "stream",
     "text": [
      "pred: WithMask  pred_idx:  tensor(0)  probs:  tensor([1.0000e+00, 1.8630e-07])\n",
      "______________________________\n",
      "\n",
      " The image is:  45.png "
     ]
    },
    {
     "data": {
      "text/html": [],
      "text/plain": [
       "<IPython.core.display.HTML object>"
      ]
     },
     "metadata": {},
     "output_type": "display_data"
    },
    {
     "name": "stdout",
     "output_type": "stream",
     "text": [
      "pred: WithMask  pred_idx:  tensor(0)  probs:  tensor([1.0000e+00, 4.2233e-08])\n",
      "______________________________\n",
      "\n",
      " The image is:  Augmented_315_9550573.png "
     ]
    },
    {
     "data": {
      "text/html": [],
      "text/plain": [
       "<IPython.core.display.HTML object>"
      ]
     },
     "metadata": {},
     "output_type": "display_data"
    },
    {
     "name": "stdout",
     "output_type": "stream",
     "text": [
      "pred: WithMask  pred_idx:  tensor(0)  probs:  tensor([1.0000e+00, 4.4267e-07])\n",
      "______________________________\n",
      "\n",
      " The image is:  Augmented_191_53771.png "
     ]
    },
    {
     "data": {
      "text/html": [],
      "text/plain": [
       "<IPython.core.display.HTML object>"
      ]
     },
     "metadata": {},
     "output_type": "display_data"
    },
    {
     "name": "stdout",
     "output_type": "stream",
     "text": [
      "pred: WithMask  pred_idx:  tensor(0)  probs:  tensor([1.0000e+00, 4.6584e-08])\n",
      "______________________________\n",
      "\n",
      " The image is:  224.png "
     ]
    },
    {
     "data": {
      "text/html": [],
      "text/plain": [
       "<IPython.core.display.HTML object>"
      ]
     },
     "metadata": {},
     "output_type": "display_data"
    },
    {
     "name": "stdout",
     "output_type": "stream",
     "text": [
      "pred: WithMask  pred_idx:  tensor(0)  probs:  tensor([1.0000e+00, 6.4896e-10])\n",
      "______________________________\n",
      "\n",
      " The image is:  Augmented_572_9213014.png "
     ]
    },
    {
     "data": {
      "text/html": [],
      "text/plain": [
       "<IPython.core.display.HTML object>"
      ]
     },
     "metadata": {},
     "output_type": "display_data"
    },
    {
     "name": "stdout",
     "output_type": "stream",
     "text": [
      "pred: WithMask  pred_idx:  tensor(0)  probs:  tensor([1.0000e+00, 3.8487e-07])\n",
      "______________________________\n",
      "\n",
      " The image is:  Augmented_232_1994026.png "
     ]
    },
    {
     "data": {
      "text/html": [],
      "text/plain": [
       "<IPython.core.display.HTML object>"
      ]
     },
     "metadata": {},
     "output_type": "display_data"
    },
    {
     "name": "stdout",
     "output_type": "stream",
     "text": [
      "pred: WithMask  pred_idx:  tensor(0)  probs:  tensor([1.0000e+00, 2.4256e-08])\n",
      "______________________________\n",
      "\n",
      " The image is:  Augmented_823_3389615.png "
     ]
    },
    {
     "data": {
      "text/html": [],
      "text/plain": [
       "<IPython.core.display.HTML object>"
      ]
     },
     "metadata": {},
     "output_type": "display_data"
    },
    {
     "name": "stdout",
     "output_type": "stream",
     "text": [
      "pred: WithMask  pred_idx:  tensor(0)  probs:  tensor([1.0000e+00, 1.1789e-06])\n",
      "______________________________\n",
      "\n",
      " The image is:  Augmented_75_7687487.png "
     ]
    },
    {
     "data": {
      "text/html": [],
      "text/plain": [
       "<IPython.core.display.HTML object>"
      ]
     },
     "metadata": {},
     "output_type": "display_data"
    },
    {
     "name": "stdout",
     "output_type": "stream",
     "text": [
      "pred: WithMask  pred_idx:  tensor(0)  probs:  tensor([1.0000e+00, 8.6019e-07])\n",
      "______________________________\n",
      "\n",
      " The image is:  Augmented_767_9298576.png "
     ]
    },
    {
     "data": {
      "text/html": [],
      "text/plain": [
       "<IPython.core.display.HTML object>"
      ]
     },
     "metadata": {},
     "output_type": "display_data"
    },
    {
     "name": "stdout",
     "output_type": "stream",
     "text": [
      "pred: WithMask  pred_idx:  tensor(0)  probs:  tensor([1.0000e+00, 1.0209e-09])\n",
      "______________________________\n",
      "\n",
      " The image is:  Augmented_742_5777738.png "
     ]
    },
    {
     "data": {
      "text/html": [],
      "text/plain": [
       "<IPython.core.display.HTML object>"
      ]
     },
     "metadata": {},
     "output_type": "display_data"
    },
    {
     "name": "stdout",
     "output_type": "stream",
     "text": [
      "pred: WithMask  pred_idx:  tensor(0)  probs:  tensor([1.0000e+00, 4.8727e-09])\n",
      "______________________________\n",
      "\n",
      " The image is:  Augmented_492_43814.png "
     ]
    },
    {
     "data": {
      "text/html": [],
      "text/plain": [
       "<IPython.core.display.HTML object>"
      ]
     },
     "metadata": {},
     "output_type": "display_data"
    },
    {
     "name": "stdout",
     "output_type": "stream",
     "text": [
      "pred: WithMask  pred_idx:  tensor(0)  probs:  tensor([1.0000e+00, 1.1526e-12])\n",
      "______________________________\n",
      "\n",
      " The image is:  Augmented_391_9802469.png "
     ]
    },
    {
     "data": {
      "text/html": [],
      "text/plain": [
       "<IPython.core.display.HTML object>"
      ]
     },
     "metadata": {},
     "output_type": "display_data"
    },
    {
     "name": "stdout",
     "output_type": "stream",
     "text": [
      "pred: WithMask  pred_idx:  tensor(0)  probs:  tensor([1.0000e+00, 2.0500e-07])\n",
      "______________________________\n",
      "\n",
      " The image is:  Augmented_17_8008174.png "
     ]
    },
    {
     "data": {
      "text/html": [],
      "text/plain": [
       "<IPython.core.display.HTML object>"
      ]
     },
     "metadata": {},
     "output_type": "display_data"
    },
    {
     "name": "stdout",
     "output_type": "stream",
     "text": [
      "pred: WithMask  pred_idx:  tensor(0)  probs:  tensor([1.0000e+00, 7.2179e-07])\n",
      "______________________________\n",
      "\n",
      " The image is:  Augmented_140_6205781.png "
     ]
    },
    {
     "data": {
      "text/html": [],
      "text/plain": [
       "<IPython.core.display.HTML object>"
      ]
     },
     "metadata": {},
     "output_type": "display_data"
    },
    {
     "name": "stdout",
     "output_type": "stream",
     "text": [
      "pred: WithMask  pred_idx:  tensor(0)  probs:  tensor([1.0000e+00, 1.0406e-09])\n",
      "______________________________\n",
      "\n",
      " The image is:  754.png "
     ]
    },
    {
     "data": {
      "text/html": [],
      "text/plain": [
       "<IPython.core.display.HTML object>"
      ]
     },
     "metadata": {},
     "output_type": "display_data"
    },
    {
     "name": "stdout",
     "output_type": "stream",
     "text": [
      "pred: WithMask  pred_idx:  tensor(0)  probs:  tensor([1.0000e+00, 8.4183e-13])\n",
      "______________________________\n",
      "\n",
      " The image is:  Augmented_233_8700277.png "
     ]
    },
    {
     "data": {
      "text/html": [],
      "text/plain": [
       "<IPython.core.display.HTML object>"
      ]
     },
     "metadata": {},
     "output_type": "display_data"
    },
    {
     "name": "stdout",
     "output_type": "stream",
     "text": [
      "pred: WithMask  pred_idx:  tensor(0)  probs:  tensor([1.0000e+00, 1.3612e-09])\n",
      "______________________________\n",
      "\n",
      " The image is:  Augmented_836_6995595.png "
     ]
    },
    {
     "data": {
      "text/html": [],
      "text/plain": [
       "<IPython.core.display.HTML object>"
      ]
     },
     "metadata": {},
     "output_type": "display_data"
    },
    {
     "name": "stdout",
     "output_type": "stream",
     "text": [
      "pred: WithMask  pred_idx:  tensor(0)  probs:  tensor([1.0000e+00, 2.1879e-09])\n",
      "______________________________\n",
      "\n",
      " The image is:  Augmented_530_6138724.png "
     ]
    },
    {
     "data": {
      "text/html": [],
      "text/plain": [
       "<IPython.core.display.HTML object>"
      ]
     },
     "metadata": {},
     "output_type": "display_data"
    },
    {
     "name": "stdout",
     "output_type": "stream",
     "text": [
      "pred: WithMask  pred_idx:  tensor(0)  probs:  tensor([1.0000e+00, 2.6989e-10])\n",
      "______________________________\n",
      "\n",
      " The image is:  Augmented_207_7840097.png "
     ]
    },
    {
     "data": {
      "text/html": [],
      "text/plain": [
       "<IPython.core.display.HTML object>"
      ]
     },
     "metadata": {},
     "output_type": "display_data"
    },
    {
     "name": "stdout",
     "output_type": "stream",
     "text": [
      "pred: WithMask  pred_idx:  tensor(0)  probs:  tensor([1.0000e+00, 1.0024e-07])\n",
      "______________________________\n",
      "\n",
      " The image is:  Augmented_35_9785520.png "
     ]
    },
    {
     "data": {
      "text/html": [],
      "text/plain": [
       "<IPython.core.display.HTML object>"
      ]
     },
     "metadata": {},
     "output_type": "display_data"
    },
    {
     "name": "stdout",
     "output_type": "stream",
     "text": [
      "pred: WithMask  pred_idx:  tensor(0)  probs:  tensor([1.0000e+00, 3.7831e-07])\n",
      "______________________________\n",
      "\n",
      " The image is:  91.png "
     ]
    },
    {
     "data": {
      "text/html": [],
      "text/plain": [
       "<IPython.core.display.HTML object>"
      ]
     },
     "metadata": {},
     "output_type": "display_data"
    },
    {
     "name": "stdout",
     "output_type": "stream",
     "text": [
      "pred: WithMask  pred_idx:  tensor(0)  probs:  tensor([1.0000e+00, 2.2610e-07])\n",
      "______________________________\n",
      "\n",
      " The image is:  Augmented_52_3808930.png "
     ]
    },
    {
     "data": {
      "text/html": [],
      "text/plain": [
       "<IPython.core.display.HTML object>"
      ]
     },
     "metadata": {},
     "output_type": "display_data"
    },
    {
     "name": "stdout",
     "output_type": "stream",
     "text": [
      "pred: WithMask  pred_idx:  tensor(0)  probs:  tensor([1.0000e+00, 1.7062e-12])\n",
      "______________________________\n",
      "\n",
      " The image is:  1607.png "
     ]
    },
    {
     "data": {
      "text/html": [],
      "text/plain": [
       "<IPython.core.display.HTML object>"
      ]
     },
     "metadata": {},
     "output_type": "display_data"
    },
    {
     "name": "stdout",
     "output_type": "stream",
     "text": [
      "pred: WithMask  pred_idx:  tensor(0)  probs:  tensor([1.0000e+00, 7.4201e-15])\n",
      "______________________________\n",
      "\n",
      " The image is:  Augmented_517_3605586.png "
     ]
    },
    {
     "data": {
      "text/html": [],
      "text/plain": [
       "<IPython.core.display.HTML object>"
      ]
     },
     "metadata": {},
     "output_type": "display_data"
    },
    {
     "name": "stdout",
     "output_type": "stream",
     "text": [
      "pred: WithMask  pred_idx:  tensor(0)  probs:  tensor([1.0000e+00, 1.5492e-10])\n",
      "______________________________\n",
      "\n",
      " The image is:  Augmented_340_8941937.png "
     ]
    },
    {
     "data": {
      "text/html": [],
      "text/plain": [
       "<IPython.core.display.HTML object>"
      ]
     },
     "metadata": {},
     "output_type": "display_data"
    },
    {
     "name": "stdout",
     "output_type": "stream",
     "text": [
      "pred: WithMask  pred_idx:  tensor(0)  probs:  tensor([1.0000e+00, 5.7003e-08])\n",
      "______________________________\n",
      "\n",
      " The image is:  Augmented_187_5733934.png "
     ]
    },
    {
     "data": {
      "text/html": [],
      "text/plain": [
       "<IPython.core.display.HTML object>"
      ]
     },
     "metadata": {},
     "output_type": "display_data"
    },
    {
     "name": "stdout",
     "output_type": "stream",
     "text": [
      "pred: WithMask  pred_idx:  tensor(0)  probs:  tensor([9.9999e-01, 7.9155e-06])\n",
      "______________________________\n",
      "\n",
      " The image is:  Augmented_11_641260.png "
     ]
    },
    {
     "data": {
      "text/html": [],
      "text/plain": [
       "<IPython.core.display.HTML object>"
      ]
     },
     "metadata": {},
     "output_type": "display_data"
    },
    {
     "name": "stdout",
     "output_type": "stream",
     "text": [
      "pred: WithMask  pred_idx:  tensor(0)  probs:  tensor([1.0000e+00, 2.0440e-08])\n",
      "______________________________\n",
      "\n",
      " The image is:  Augmented_331_9746126.png "
     ]
    },
    {
     "data": {
      "text/html": [],
      "text/plain": [
       "<IPython.core.display.HTML object>"
      ]
     },
     "metadata": {},
     "output_type": "display_data"
    },
    {
     "name": "stdout",
     "output_type": "stream",
     "text": [
      "pred: WithMask  pred_idx:  tensor(0)  probs:  tensor([1.0000e+00, 8.6718e-09])\n",
      "______________________________\n",
      "\n",
      " The image is:  Augmented_365_2778718.png "
     ]
    },
    {
     "data": {
      "text/html": [],
      "text/plain": [
       "<IPython.core.display.HTML object>"
      ]
     },
     "metadata": {},
     "output_type": "display_data"
    },
    {
     "name": "stdout",
     "output_type": "stream",
     "text": [
      "pred: WithMask  pred_idx:  tensor(0)  probs:  tensor([1.0000e+00, 9.9065e-09])\n",
      "______________________________\n",
      "\n",
      " The image is:  408.png "
     ]
    },
    {
     "data": {
      "text/html": [],
      "text/plain": [
       "<IPython.core.display.HTML object>"
      ]
     },
     "metadata": {},
     "output_type": "display_data"
    },
    {
     "name": "stdout",
     "output_type": "stream",
     "text": [
      "pred: WithMask  pred_idx:  tensor(0)  probs:  tensor([1.0000e+00, 5.8536e-12])\n",
      "______________________________\n",
      "\n",
      " The image is:  Augmented_655_6706084.png "
     ]
    },
    {
     "data": {
      "text/html": [],
      "text/plain": [
       "<IPython.core.display.HTML object>"
      ]
     },
     "metadata": {},
     "output_type": "display_data"
    },
    {
     "name": "stdout",
     "output_type": "stream",
     "text": [
      "pred: WithMask  pred_idx:  tensor(0)  probs:  tensor([1.0000e+00, 2.1876e-08])\n",
      "______________________________\n",
      "\n",
      " The image is:  Augmented_490_62045.png "
     ]
    },
    {
     "data": {
      "text/html": [],
      "text/plain": [
       "<IPython.core.display.HTML object>"
      ]
     },
     "metadata": {},
     "output_type": "display_data"
    },
    {
     "name": "stdout",
     "output_type": "stream",
     "text": [
      "pred: WithMask  pred_idx:  tensor(0)  probs:  tensor([1.0000e+00, 6.0524e-09])\n",
      "______________________________\n",
      "\n",
      " The image is:  Augmented_701_7344076.png "
     ]
    },
    {
     "data": {
      "text/html": [],
      "text/plain": [
       "<IPython.core.display.HTML object>"
      ]
     },
     "metadata": {},
     "output_type": "display_data"
    },
    {
     "name": "stdout",
     "output_type": "stream",
     "text": [
      "pred: WithMask  pred_idx:  tensor(0)  probs:  tensor([1.0000e+00, 2.2977e-11])\n",
      "______________________________\n",
      "\n",
      " The image is:  86.png "
     ]
    },
    {
     "data": {
      "text/html": [],
      "text/plain": [
       "<IPython.core.display.HTML object>"
      ]
     },
     "metadata": {},
     "output_type": "display_data"
    },
    {
     "name": "stdout",
     "output_type": "stream",
     "text": [
      "pred: WithMask  pred_idx:  tensor(0)  probs:  tensor([9.9990e-01, 1.0207e-04])\n",
      "______________________________\n",
      "\n",
      " The image is:  Augmented_483_3692546.png "
     ]
    },
    {
     "data": {
      "text/html": [],
      "text/plain": [
       "<IPython.core.display.HTML object>"
      ]
     },
     "metadata": {},
     "output_type": "display_data"
    },
    {
     "name": "stdout",
     "output_type": "stream",
     "text": [
      "pred: WithMask  pred_idx:  tensor(0)  probs:  tensor([9.9995e-01, 4.5928e-05])\n",
      "______________________________\n",
      "\n",
      " The image is:  Augmented_89_289762.png "
     ]
    },
    {
     "data": {
      "text/html": [],
      "text/plain": [
       "<IPython.core.display.HTML object>"
      ]
     },
     "metadata": {},
     "output_type": "display_data"
    },
    {
     "name": "stdout",
     "output_type": "stream",
     "text": [
      "pred: WithMask  pred_idx:  tensor(0)  probs:  tensor([9.9999e-01, 1.1808e-05])\n",
      "______________________________\n",
      "\n",
      " The image is:  Augmented_746_8416316.png "
     ]
    },
    {
     "data": {
      "text/html": [],
      "text/plain": [
       "<IPython.core.display.HTML object>"
      ]
     },
     "metadata": {},
     "output_type": "display_data"
    },
    {
     "name": "stdout",
     "output_type": "stream",
     "text": [
      "pred: WithMask  pred_idx:  tensor(0)  probs:  tensor([1.0000e+00, 1.4197e-08])\n",
      "______________________________\n",
      "\n",
      " The image is:  Augmented_883_4616128.png "
     ]
    },
    {
     "data": {
      "text/html": [],
      "text/plain": [
       "<IPython.core.display.HTML object>"
      ]
     },
     "metadata": {},
     "output_type": "display_data"
    },
    {
     "name": "stdout",
     "output_type": "stream",
     "text": [
      "pred: WithMask  pred_idx:  tensor(0)  probs:  tensor([1.0000e+00, 2.2260e-07])\n",
      "______________________________\n",
      "\n",
      " The image is:  Augmented_106_3549951.png "
     ]
    },
    {
     "data": {
      "text/html": [],
      "text/plain": [
       "<IPython.core.display.HTML object>"
      ]
     },
     "metadata": {},
     "output_type": "display_data"
    },
    {
     "name": "stdout",
     "output_type": "stream",
     "text": [
      "pred: WithMask  pred_idx:  tensor(0)  probs:  tensor([1.0000e+00, 2.4039e-07])\n",
      "______________________________\n",
      "\n",
      " The image is:  Augmented_443_9987555.png "
     ]
    },
    {
     "data": {
      "text/html": [],
      "text/plain": [
       "<IPython.core.display.HTML object>"
      ]
     },
     "metadata": {},
     "output_type": "display_data"
    },
    {
     "name": "stdout",
     "output_type": "stream",
     "text": [
      "pred: WithMask  pred_idx:  tensor(0)  probs:  tensor([1.0000e+00, 3.2579e-09])\n",
      "______________________________\n",
      "\n",
      " The image is:  Augmented_189_1692194.png "
     ]
    },
    {
     "data": {
      "text/html": [],
      "text/plain": [
       "<IPython.core.display.HTML object>"
      ]
     },
     "metadata": {},
     "output_type": "display_data"
    },
    {
     "name": "stdout",
     "output_type": "stream",
     "text": [
      "pred: WithMask  pred_idx:  tensor(0)  probs:  tensor([1.0000e+00, 2.1964e-10])\n",
      "______________________________\n",
      "\n",
      " The image is:  Augmented_509_4867833.png "
     ]
    },
    {
     "data": {
      "text/html": [],
      "text/plain": [
       "<IPython.core.display.HTML object>"
      ]
     },
     "metadata": {},
     "output_type": "display_data"
    },
    {
     "name": "stdout",
     "output_type": "stream",
     "text": [
      "pred: WithMask  pred_idx:  tensor(0)  probs:  tensor([1.0000e+00, 2.3955e-09])\n",
      "______________________________\n",
      "\n",
      " The image is:  1388.png "
     ]
    },
    {
     "data": {
      "text/html": [],
      "text/plain": [
       "<IPython.core.display.HTML object>"
      ]
     },
     "metadata": {},
     "output_type": "display_data"
    },
    {
     "name": "stdout",
     "output_type": "stream",
     "text": [
      "pred: WithMask  pred_idx:  tensor(0)  probs:  tensor([1.0000e+00, 3.5490e-11])\n",
      "______________________________\n",
      "\n",
      " The image is:  90.png "
     ]
    },
    {
     "data": {
      "text/html": [],
      "text/plain": [
       "<IPython.core.display.HTML object>"
      ]
     },
     "metadata": {},
     "output_type": "display_data"
    },
    {
     "name": "stdout",
     "output_type": "stream",
     "text": [
      "pred: WithMask  pred_idx:  tensor(0)  probs:  tensor([1.0000e+00, 2.0809e-12])\n",
      "______________________________\n",
      "\n",
      " The image is:  Augmented_567_5594021.png "
     ]
    },
    {
     "data": {
      "text/html": [],
      "text/plain": [
       "<IPython.core.display.HTML object>"
      ]
     },
     "metadata": {},
     "output_type": "display_data"
    },
    {
     "name": "stdout",
     "output_type": "stream",
     "text": [
      "pred: WithMask  pred_idx:  tensor(0)  probs:  tensor([1.0000e+00, 1.6326e-12])\n",
      "______________________________\n",
      "\n",
      " The image is:  3.png "
     ]
    },
    {
     "data": {
      "text/html": [],
      "text/plain": [
       "<IPython.core.display.HTML object>"
      ]
     },
     "metadata": {},
     "output_type": "display_data"
    },
    {
     "name": "stdout",
     "output_type": "stream",
     "text": [
      "pred: WithMask  pred_idx:  tensor(0)  probs:  tensor([1.0000e+00, 1.1216e-14])\n",
      "______________________________\n",
      "\n",
      " The image is:  Augmented_236_7866802.png "
     ]
    },
    {
     "data": {
      "text/html": [],
      "text/plain": [
       "<IPython.core.display.HTML object>"
      ]
     },
     "metadata": {},
     "output_type": "display_data"
    },
    {
     "name": "stdout",
     "output_type": "stream",
     "text": [
      "pred: WithMask  pred_idx:  tensor(0)  probs:  tensor([1.0000e+00, 5.8306e-09])\n",
      "______________________________\n",
      "\n",
      " The image is:  Augmented_794_1795298.png "
     ]
    },
    {
     "data": {
      "text/html": [],
      "text/plain": [
       "<IPython.core.display.HTML object>"
      ]
     },
     "metadata": {},
     "output_type": "display_data"
    },
    {
     "name": "stdout",
     "output_type": "stream",
     "text": [
      "pred: WithMask  pred_idx:  tensor(0)  probs:  tensor([1.0000e+00, 1.4116e-06])\n",
      "______________________________\n",
      "\n",
      " The image is:  1407.png "
     ]
    },
    {
     "data": {
      "text/html": [],
      "text/plain": [
       "<IPython.core.display.HTML object>"
      ]
     },
     "metadata": {},
     "output_type": "display_data"
    },
    {
     "name": "stdout",
     "output_type": "stream",
     "text": [
      "pred: WithMask  pred_idx:  tensor(0)  probs:  tensor([1.0000e+00, 1.3676e-13])\n",
      "______________________________\n",
      "\n",
      " The image is:  Augmented_430_1476011.png "
     ]
    },
    {
     "data": {
      "text/html": [],
      "text/plain": [
       "<IPython.core.display.HTML object>"
      ]
     },
     "metadata": {},
     "output_type": "display_data"
    },
    {
     "name": "stdout",
     "output_type": "stream",
     "text": [
      "pred: WithMask  pred_idx:  tensor(0)  probs:  tensor([1.0000e+00, 1.1112e-07])\n",
      "______________________________\n",
      "\n",
      " The image is:  Augmented_478_1172838.png "
     ]
    },
    {
     "data": {
      "text/html": [],
      "text/plain": [
       "<IPython.core.display.HTML object>"
      ]
     },
     "metadata": {},
     "output_type": "display_data"
    },
    {
     "name": "stdout",
     "output_type": "stream",
     "text": [
      "pred: WithMask  pred_idx:  tensor(0)  probs:  tensor([1.0000e+00, 2.6744e-09])\n",
      "______________________________\n",
      "\n",
      " The image is:  Augmented_199_453096.png "
     ]
    },
    {
     "data": {
      "text/html": [],
      "text/plain": [
       "<IPython.core.display.HTML object>"
      ]
     },
     "metadata": {},
     "output_type": "display_data"
    },
    {
     "name": "stdout",
     "output_type": "stream",
     "text": [
      "pred: WithMask  pred_idx:  tensor(0)  probs:  tensor([1.0000e+00, 3.9611e-13])\n",
      "______________________________\n",
      "\n",
      " The image is:  Augmented_568_6994589.png "
     ]
    },
    {
     "data": {
      "text/html": [],
      "text/plain": [
       "<IPython.core.display.HTML object>"
      ]
     },
     "metadata": {},
     "output_type": "display_data"
    },
    {
     "name": "stdout",
     "output_type": "stream",
     "text": [
      "pred: WithMask  pred_idx:  tensor(0)  probs:  tensor([1.0000e+00, 6.6044e-10])\n",
      "______________________________\n",
      "\n",
      " The image is:  Augmented_543_9105735.png "
     ]
    },
    {
     "data": {
      "text/html": [],
      "text/plain": [
       "<IPython.core.display.HTML object>"
      ]
     },
     "metadata": {},
     "output_type": "display_data"
    },
    {
     "name": "stdout",
     "output_type": "stream",
     "text": [
      "pred: WithMask  pred_idx:  tensor(0)  probs:  tensor([1.0000e+00, 6.9599e-09])\n",
      "______________________________\n",
      "\n",
      " The image is:  Augmented_606_3078349.png "
     ]
    },
    {
     "data": {
      "text/html": [],
      "text/plain": [
       "<IPython.core.display.HTML object>"
      ]
     },
     "metadata": {},
     "output_type": "display_data"
    },
    {
     "name": "stdout",
     "output_type": "stream",
     "text": [
      "pred: WithMask  pred_idx:  tensor(0)  probs:  tensor([1.0000e+00, 4.2497e-09])\n",
      "______________________________\n",
      "\n",
      " The image is:  Augmented_867_239766.png "
     ]
    },
    {
     "data": {
      "text/html": [],
      "text/plain": [
       "<IPython.core.display.HTML object>"
      ]
     },
     "metadata": {},
     "output_type": "display_data"
    },
    {
     "name": "stdout",
     "output_type": "stream",
     "text": [
      "pred: WithMask  pred_idx:  tensor(0)  probs:  tensor([1.0000e+00, 2.3241e-07])\n",
      "______________________________\n",
      "\n",
      " The image is:  Augmented_678_3521762.png "
     ]
    },
    {
     "data": {
      "text/html": [],
      "text/plain": [
       "<IPython.core.display.HTML object>"
      ]
     },
     "metadata": {},
     "output_type": "display_data"
    },
    {
     "name": "stdout",
     "output_type": "stream",
     "text": [
      "pred: WithMask  pred_idx:  tensor(0)  probs:  tensor([9.9999e-01, 7.3484e-06])\n",
      "______________________________\n",
      "\n",
      " The image is:  Augmented_792_909469.png "
     ]
    },
    {
     "data": {
      "text/html": [],
      "text/plain": [
       "<IPython.core.display.HTML object>"
      ]
     },
     "metadata": {},
     "output_type": "display_data"
    },
    {
     "name": "stdout",
     "output_type": "stream",
     "text": [
      "pred: WithMask  pred_idx:  tensor(0)  probs:  tensor([1.0000e+00, 3.5046e-06])\n",
      "______________________________\n",
      "\n",
      " The image is:  Augmented_791_3816269.png "
     ]
    },
    {
     "data": {
      "text/html": [],
      "text/plain": [
       "<IPython.core.display.HTML object>"
      ]
     },
     "metadata": {},
     "output_type": "display_data"
    },
    {
     "name": "stdout",
     "output_type": "stream",
     "text": [
      "pred: WithMask  pred_idx:  tensor(0)  probs:  tensor([1.0000e+00, 3.8009e-08])\n",
      "______________________________\n",
      "\n",
      " The image is:  Augmented_167_447307.png "
     ]
    },
    {
     "data": {
      "text/html": [],
      "text/plain": [
       "<IPython.core.display.HTML object>"
      ]
     },
     "metadata": {},
     "output_type": "display_data"
    },
    {
     "name": "stdout",
     "output_type": "stream",
     "text": [
      "pred: WithMask  pred_idx:  tensor(0)  probs:  tensor([1.0000e+00, 4.1464e-10])\n",
      "______________________________\n",
      "\n",
      " The image is:  Augmented_19_9334896.png "
     ]
    },
    {
     "data": {
      "text/html": [],
      "text/plain": [
       "<IPython.core.display.HTML object>"
      ]
     },
     "metadata": {},
     "output_type": "display_data"
    },
    {
     "name": "stdout",
     "output_type": "stream",
     "text": [
      "pred: WithMask  pred_idx:  tensor(0)  probs:  tensor([1.0000e+00, 2.4632e-06])\n",
      "______________________________\n",
      "\n",
      " The image is:  Augmented_617_8208877.png "
     ]
    },
    {
     "data": {
      "text/html": [],
      "text/plain": [
       "<IPython.core.display.HTML object>"
      ]
     },
     "metadata": {},
     "output_type": "display_data"
    },
    {
     "name": "stdout",
     "output_type": "stream",
     "text": [
      "pred: WithMask  pred_idx:  tensor(0)  probs:  tensor([1.0000e+00, 2.1232e-07])\n",
      "______________________________\n",
      "\n",
      " The image is:  Augmented_812_7357598.png "
     ]
    },
    {
     "data": {
      "text/html": [],
      "text/plain": [
       "<IPython.core.display.HTML object>"
      ]
     },
     "metadata": {},
     "output_type": "display_data"
    },
    {
     "name": "stdout",
     "output_type": "stream",
     "text": [
      "pred: WithMask  pred_idx:  tensor(0)  probs:  tensor([9.9999e-01, 6.5485e-06])\n",
      "______________________________\n",
      "\n",
      " The image is:  Augmented_349_6184398.png "
     ]
    },
    {
     "data": {
      "text/html": [],
      "text/plain": [
       "<IPython.core.display.HTML object>"
      ]
     },
     "metadata": {},
     "output_type": "display_data"
    },
    {
     "name": "stdout",
     "output_type": "stream",
     "text": [
      "pred: WithMask  pred_idx:  tensor(0)  probs:  tensor([1.0000e+00, 1.4513e-08])\n",
      "______________________________\n",
      "\n",
      " The image is:  Augmented_606_8251766.png "
     ]
    },
    {
     "data": {
      "text/html": [],
      "text/plain": [
       "<IPython.core.display.HTML object>"
      ]
     },
     "metadata": {},
     "output_type": "display_data"
    },
    {
     "name": "stdout",
     "output_type": "stream",
     "text": [
      "pred: WithMask  pred_idx:  tensor(0)  probs:  tensor([1.0000e+00, 1.0549e-07])\n",
      "______________________________\n",
      "\n",
      " The image is:  Augmented_501_3197024.png "
     ]
    },
    {
     "data": {
      "text/html": [],
      "text/plain": [
       "<IPython.core.display.HTML object>"
      ]
     },
     "metadata": {},
     "output_type": "display_data"
    },
    {
     "name": "stdout",
     "output_type": "stream",
     "text": [
      "pred: WithMask  pred_idx:  tensor(0)  probs:  tensor([1.0000e+00, 3.2158e-09])\n",
      "______________________________\n",
      "\n",
      " The image is:  Augmented_744_2437969.png "
     ]
    },
    {
     "data": {
      "text/html": [],
      "text/plain": [
       "<IPython.core.display.HTML object>"
      ]
     },
     "metadata": {},
     "output_type": "display_data"
    },
    {
     "name": "stdout",
     "output_type": "stream",
     "text": [
      "pred: WithMask  pred_idx:  tensor(0)  probs:  tensor([9.9999e-01, 6.7835e-06])\n",
      "______________________________\n",
      "\n",
      " The image is:  Augmented_870_3232968.png "
     ]
    },
    {
     "data": {
      "text/html": [],
      "text/plain": [
       "<IPython.core.display.HTML object>"
      ]
     },
     "metadata": {},
     "output_type": "display_data"
    },
    {
     "name": "stdout",
     "output_type": "stream",
     "text": [
      "pred: WithMask  pred_idx:  tensor(0)  probs:  tensor([1.0000e+00, 1.8325e-13])\n",
      "______________________________\n",
      "\n",
      " The image is:  Augmented_451_3711634.png "
     ]
    },
    {
     "data": {
      "text/html": [],
      "text/plain": [
       "<IPython.core.display.HTML object>"
      ]
     },
     "metadata": {},
     "output_type": "display_data"
    },
    {
     "name": "stdout",
     "output_type": "stream",
     "text": [
      "pred: WithMask  pred_idx:  tensor(0)  probs:  tensor([1.0000e+00, 3.8382e-07])\n",
      "______________________________\n",
      "\n",
      " The image is:  Augmented_304_6499564.png "
     ]
    },
    {
     "data": {
      "text/html": [],
      "text/plain": [
       "<IPython.core.display.HTML object>"
      ]
     },
     "metadata": {},
     "output_type": "display_data"
    },
    {
     "name": "stdout",
     "output_type": "stream",
     "text": [
      "pred: WithMask  pred_idx:  tensor(0)  probs:  tensor([1.0000e+00, 1.0413e-06])\n",
      "______________________________\n",
      "\n",
      " The image is:  Augmented_553_7964791.png "
     ]
    },
    {
     "data": {
      "text/html": [],
      "text/plain": [
       "<IPython.core.display.HTML object>"
      ]
     },
     "metadata": {},
     "output_type": "display_data"
    },
    {
     "name": "stdout",
     "output_type": "stream",
     "text": [
      "pred: WithMask  pred_idx:  tensor(0)  probs:  tensor([1.0000e+00, 7.1303e-08])\n",
      "______________________________\n",
      "\n",
      " The image is:  609.png "
     ]
    },
    {
     "data": {
      "text/html": [],
      "text/plain": [
       "<IPython.core.display.HTML object>"
      ]
     },
     "metadata": {},
     "output_type": "display_data"
    },
    {
     "name": "stdout",
     "output_type": "stream",
     "text": [
      "pred: WithMask  pred_idx:  tensor(0)  probs:  tensor([1.0000e+00, 9.6773e-07])\n",
      "______________________________\n",
      "\n",
      " The image is:  Augmented_840_410277.png "
     ]
    },
    {
     "data": {
      "text/html": [],
      "text/plain": [
       "<IPython.core.display.HTML object>"
      ]
     },
     "metadata": {},
     "output_type": "display_data"
    },
    {
     "name": "stdout",
     "output_type": "stream",
     "text": [
      "pred: WithMask  pred_idx:  tensor(0)  probs:  tensor([1.0000e+00, 7.9797e-10])\n",
      "______________________________\n",
      "\n",
      " The image is:  Augmented_146_1287815.png "
     ]
    },
    {
     "data": {
      "text/html": [],
      "text/plain": [
       "<IPython.core.display.HTML object>"
      ]
     },
     "metadata": {},
     "output_type": "display_data"
    },
    {
     "name": "stdout",
     "output_type": "stream",
     "text": [
      "pred: WithMask  pred_idx:  tensor(0)  probs:  tensor([1.0000e+00, 2.4482e-07])\n",
      "______________________________\n",
      "\n",
      " The image is:  Augmented_153_1350544.png "
     ]
    },
    {
     "data": {
      "text/html": [],
      "text/plain": [
       "<IPython.core.display.HTML object>"
      ]
     },
     "metadata": {},
     "output_type": "display_data"
    },
    {
     "name": "stdout",
     "output_type": "stream",
     "text": [
      "pred: WithMask  pred_idx:  tensor(0)  probs:  tensor([1.0000e+00, 2.0976e-07])\n",
      "______________________________\n",
      "\n",
      " The image is:  Augmented_660_9255922.png "
     ]
    },
    {
     "data": {
      "text/html": [],
      "text/plain": [
       "<IPython.core.display.HTML object>"
      ]
     },
     "metadata": {},
     "output_type": "display_data"
    },
    {
     "name": "stdout",
     "output_type": "stream",
     "text": [
      "pred: WithMask  pred_idx:  tensor(0)  probs:  tensor([1.0000e+00, 2.3616e-07])\n",
      "______________________________\n",
      "\n",
      " The image is:  Augmented_18_2644445.png "
     ]
    },
    {
     "data": {
      "text/html": [],
      "text/plain": [
       "<IPython.core.display.HTML object>"
      ]
     },
     "metadata": {},
     "output_type": "display_data"
    },
    {
     "name": "stdout",
     "output_type": "stream",
     "text": [
      "pred: WithMask  pred_idx:  tensor(0)  probs:  tensor([1.0000e+00, 4.1770e-09])\n",
      "______________________________\n",
      "\n",
      " The image is:  Augmented_1_6551508.png "
     ]
    },
    {
     "data": {
      "text/html": [],
      "text/plain": [
       "<IPython.core.display.HTML object>"
      ]
     },
     "metadata": {},
     "output_type": "display_data"
    },
    {
     "name": "stdout",
     "output_type": "stream",
     "text": [
      "pred: WithMask  pred_idx:  tensor(0)  probs:  tensor([1.0000e+00, 1.4817e-06])\n",
      "______________________________\n",
      "\n",
      " The image is:  Augmented_170_1484889.png "
     ]
    },
    {
     "data": {
      "text/html": [],
      "text/plain": [
       "<IPython.core.display.HTML object>"
      ]
     },
     "metadata": {},
     "output_type": "display_data"
    },
    {
     "name": "stdout",
     "output_type": "stream",
     "text": [
      "pred: WithMask  pred_idx:  tensor(0)  probs:  tensor([1.0000e+00, 9.8704e-11])\n",
      "______________________________\n",
      "\n",
      " The image is:  Augmented_224_1661606.png "
     ]
    },
    {
     "data": {
      "text/html": [],
      "text/plain": [
       "<IPython.core.display.HTML object>"
      ]
     },
     "metadata": {},
     "output_type": "display_data"
    },
    {
     "name": "stdout",
     "output_type": "stream",
     "text": [
      "pred: WithMask  pred_idx:  tensor(0)  probs:  tensor([1.0000e+00, 1.5603e-06])\n",
      "______________________________\n",
      "\n",
      " The image is:  350.png "
     ]
    },
    {
     "data": {
      "text/html": [],
      "text/plain": [
       "<IPython.core.display.HTML object>"
      ]
     },
     "metadata": {},
     "output_type": "display_data"
    },
    {
     "name": "stdout",
     "output_type": "stream",
     "text": [
      "pred: WithMask  pred_idx:  tensor(0)  probs:  tensor([1.0000e+00, 1.1208e-09])\n",
      "______________________________\n",
      "\n",
      " The image is:  Augmented_536_7576091.png "
     ]
    },
    {
     "data": {
      "text/html": [],
      "text/plain": [
       "<IPython.core.display.HTML object>"
      ]
     },
     "metadata": {},
     "output_type": "display_data"
    },
    {
     "name": "stdout",
     "output_type": "stream",
     "text": [
      "pred: WithMask  pred_idx:  tensor(0)  probs:  tensor([1.0000e+00, 5.3532e-14])\n",
      "______________________________\n",
      "\n",
      " The image is:  Augmented_185_1096150.png "
     ]
    },
    {
     "data": {
      "text/html": [],
      "text/plain": [
       "<IPython.core.display.HTML object>"
      ]
     },
     "metadata": {},
     "output_type": "display_data"
    },
    {
     "name": "stdout",
     "output_type": "stream",
     "text": [
      "pred: WithMask  pred_idx:  tensor(0)  probs:  tensor([1.0000e+00, 2.9758e-08])\n",
      "______________________________\n",
      "\n",
      " The image is:  1612.png "
     ]
    },
    {
     "data": {
      "text/html": [],
      "text/plain": [
       "<IPython.core.display.HTML object>"
      ]
     },
     "metadata": {},
     "output_type": "display_data"
    },
    {
     "name": "stdout",
     "output_type": "stream",
     "text": [
      "pred: WithMask  pred_idx:  tensor(0)  probs:  tensor([1.0000e+00, 1.4402e-11])\n",
      "______________________________\n",
      "\n",
      " The image is:  Augmented_91_4468966.png "
     ]
    },
    {
     "data": {
      "text/html": [],
      "text/plain": [
       "<IPython.core.display.HTML object>"
      ]
     },
     "metadata": {},
     "output_type": "display_data"
    },
    {
     "name": "stdout",
     "output_type": "stream",
     "text": [
      "pred: WithMask  pred_idx:  tensor(0)  probs:  tensor([1.0000e+00, 5.6718e-08])\n",
      "______________________________\n",
      "\n",
      " The image is:  Augmented_454_5039650.png "
     ]
    },
    {
     "data": {
      "text/html": [],
      "text/plain": [
       "<IPython.core.display.HTML object>"
      ]
     },
     "metadata": {},
     "output_type": "display_data"
    },
    {
     "name": "stdout",
     "output_type": "stream",
     "text": [
      "pred: WithMask  pred_idx:  tensor(0)  probs:  tensor([1.0000e+00, 5.2378e-07])\n",
      "______________________________\n",
      "\n",
      " The image is:  Augmented_542_4711617.png "
     ]
    },
    {
     "data": {
      "text/html": [],
      "text/plain": [
       "<IPython.core.display.HTML object>"
      ]
     },
     "metadata": {},
     "output_type": "display_data"
    },
    {
     "name": "stdout",
     "output_type": "stream",
     "text": [
      "pred: WithMask  pred_idx:  tensor(0)  probs:  tensor([1.0000e+00, 2.2985e-10])\n",
      "______________________________\n",
      "\n",
      " The image is:  Augmented_615_7582235.png "
     ]
    },
    {
     "data": {
      "text/html": [],
      "text/plain": [
       "<IPython.core.display.HTML object>"
      ]
     },
     "metadata": {},
     "output_type": "display_data"
    },
    {
     "name": "stdout",
     "output_type": "stream",
     "text": [
      "pred: WithMask  pred_idx:  tensor(0)  probs:  tensor([1.0000e+00, 1.1300e-08])\n",
      "______________________________\n",
      "\n",
      " The image is:  Augmented_820_119.png "
     ]
    },
    {
     "data": {
      "text/html": [],
      "text/plain": [
       "<IPython.core.display.HTML object>"
      ]
     },
     "metadata": {},
     "output_type": "display_data"
    },
    {
     "name": "stdout",
     "output_type": "stream",
     "text": [
      "pred: WithMask  pred_idx:  tensor(0)  probs:  tensor([1.0000e+00, 2.3603e-10])\n",
      "______________________________\n",
      "\n",
      " The image is:  Augmented_316_5748974.png "
     ]
    },
    {
     "data": {
      "text/html": [],
      "text/plain": [
       "<IPython.core.display.HTML object>"
      ]
     },
     "metadata": {},
     "output_type": "display_data"
    },
    {
     "name": "stdout",
     "output_type": "stream",
     "text": [
      "pred: WithMask  pred_idx:  tensor(0)  probs:  tensor([1.0000e+00, 3.1119e-07])\n",
      "______________________________\n",
      "\n",
      " The image is:  Augmented_309_2910491.png "
     ]
    },
    {
     "data": {
      "text/html": [],
      "text/plain": [
       "<IPython.core.display.HTML object>"
      ]
     },
     "metadata": {},
     "output_type": "display_data"
    },
    {
     "name": "stdout",
     "output_type": "stream",
     "text": [
      "pred: WithMask  pred_idx:  tensor(0)  probs:  tensor([1.0000e+00, 5.5800e-13])\n",
      "______________________________\n",
      "\n",
      " The image is:  Augmented_844_2449172.png "
     ]
    },
    {
     "data": {
      "text/html": [],
      "text/plain": [
       "<IPython.core.display.HTML object>"
      ]
     },
     "metadata": {},
     "output_type": "display_data"
    },
    {
     "name": "stdout",
     "output_type": "stream",
     "text": [
      "pred: WithMask  pred_idx:  tensor(0)  probs:  tensor([1.0000e+00, 7.5744e-07])\n",
      "______________________________\n",
      "\n",
      " The image is:  Augmented_104_6573201.png "
     ]
    },
    {
     "data": {
      "text/html": [],
      "text/plain": [
       "<IPython.core.display.HTML object>"
      ]
     },
     "metadata": {},
     "output_type": "display_data"
    },
    {
     "name": "stdout",
     "output_type": "stream",
     "text": [
      "pred: WithMask  pred_idx:  tensor(0)  probs:  tensor([1.0000e+00, 2.3303e-07])\n",
      "______________________________\n",
      "\n",
      " The image is:  Augmented_161_850777.png "
     ]
    },
    {
     "data": {
      "text/html": [],
      "text/plain": [
       "<IPython.core.display.HTML object>"
      ]
     },
     "metadata": {},
     "output_type": "display_data"
    },
    {
     "name": "stdout",
     "output_type": "stream",
     "text": [
      "pred: WithMask  pred_idx:  tensor(0)  probs:  tensor([1.0000e+00, 7.3058e-07])\n",
      "______________________________\n",
      "\n",
      " The image is:  Augmented_766_9906050.png "
     ]
    },
    {
     "data": {
      "text/html": [],
      "text/plain": [
       "<IPython.core.display.HTML object>"
      ]
     },
     "metadata": {},
     "output_type": "display_data"
    },
    {
     "name": "stdout",
     "output_type": "stream",
     "text": [
      "pred: WithMask  pred_idx:  tensor(0)  probs:  tensor([1.0000e+00, 3.4718e-10])\n",
      "______________________________\n",
      "\n",
      " The image is:  Augmented_116_7228146.png "
     ]
    },
    {
     "data": {
      "text/html": [],
      "text/plain": [
       "<IPython.core.display.HTML object>"
      ]
     },
     "metadata": {},
     "output_type": "display_data"
    },
    {
     "name": "stdout",
     "output_type": "stream",
     "text": [
      "pred: WithMask  pred_idx:  tensor(0)  probs:  tensor([1.0000e+00, 1.8758e-09])\n",
      "______________________________\n",
      "\n",
      " The image is:  Augmented_428_1598598.png "
     ]
    },
    {
     "data": {
      "text/html": [],
      "text/plain": [
       "<IPython.core.display.HTML object>"
      ]
     },
     "metadata": {},
     "output_type": "display_data"
    },
    {
     "name": "stdout",
     "output_type": "stream",
     "text": [
      "pred: WithMask  pred_idx:  tensor(0)  probs:  tensor([1.0000e+00, 1.3315e-07])\n",
      "______________________________\n",
      "\n",
      " The image is:  Augmented_164_2705812.png "
     ]
    },
    {
     "data": {
      "text/html": [],
      "text/plain": [
       "<IPython.core.display.HTML object>"
      ]
     },
     "metadata": {},
     "output_type": "display_data"
    },
    {
     "name": "stdout",
     "output_type": "stream",
     "text": [
      "pred: WithMask  pred_idx:  tensor(0)  probs:  tensor([1.0000e+00, 3.3091e-08])\n",
      "______________________________\n",
      "\n",
      " The image is:  782.png "
     ]
    },
    {
     "data": {
      "text/html": [],
      "text/plain": [
       "<IPython.core.display.HTML object>"
      ]
     },
     "metadata": {},
     "output_type": "display_data"
    },
    {
     "name": "stdout",
     "output_type": "stream",
     "text": [
      "pred: WithMask  pred_idx:  tensor(0)  probs:  tensor([1.0000e+00, 3.9610e-07])\n",
      "______________________________\n",
      "\n",
      " The image is:  Augmented_819_7886690.png "
     ]
    },
    {
     "data": {
      "text/html": [],
      "text/plain": [
       "<IPython.core.display.HTML object>"
      ]
     },
     "metadata": {},
     "output_type": "display_data"
    },
    {
     "name": "stdout",
     "output_type": "stream",
     "text": [
      "pred: WithMask  pred_idx:  tensor(0)  probs:  tensor([1.0000e+00, 1.0622e-07])\n",
      "______________________________\n",
      "\n",
      " The image is:  595.png "
     ]
    },
    {
     "data": {
      "text/html": [],
      "text/plain": [
       "<IPython.core.display.HTML object>"
      ]
     },
     "metadata": {},
     "output_type": "display_data"
    },
    {
     "name": "stdout",
     "output_type": "stream",
     "text": [
      "pred: WithMask  pred_idx:  tensor(0)  probs:  tensor([1.0000e+00, 3.5211e-07])\n",
      "______________________________\n",
      "\n",
      " The image is:  Augmented_282_1324197.png "
     ]
    },
    {
     "data": {
      "text/html": [],
      "text/plain": [
       "<IPython.core.display.HTML object>"
      ]
     },
     "metadata": {},
     "output_type": "display_data"
    },
    {
     "name": "stdout",
     "output_type": "stream",
     "text": [
      "pred: WithMask  pred_idx:  tensor(0)  probs:  tensor([1.0000e+00, 1.9501e-10])\n",
      "______________________________\n",
      "\n",
      " The image is:  Augmented_744_9749775.png "
     ]
    },
    {
     "data": {
      "text/html": [],
      "text/plain": [
       "<IPython.core.display.HTML object>"
      ]
     },
     "metadata": {},
     "output_type": "display_data"
    },
    {
     "name": "stdout",
     "output_type": "stream",
     "text": [
      "pred: WithMask  pred_idx:  tensor(0)  probs:  tensor([1.0000e+00, 9.6165e-08])\n",
      "______________________________\n",
      "\n",
      " The image is:  423.png "
     ]
    },
    {
     "data": {
      "text/html": [],
      "text/plain": [
       "<IPython.core.display.HTML object>"
      ]
     },
     "metadata": {},
     "output_type": "display_data"
    },
    {
     "name": "stdout",
     "output_type": "stream",
     "text": [
      "pred: WithMask  pred_idx:  tensor(0)  probs:  tensor([1.0000e+00, 2.8528e-09])\n",
      "______________________________\n",
      "\n",
      " The image is:  1820.png "
     ]
    },
    {
     "data": {
      "text/html": [],
      "text/plain": [
       "<IPython.core.display.HTML object>"
      ]
     },
     "metadata": {},
     "output_type": "display_data"
    },
    {
     "name": "stdout",
     "output_type": "stream",
     "text": [
      "pred: WithMask  pred_idx:  tensor(0)  probs:  tensor([1.0000e+00, 4.2093e-10])\n",
      "______________________________\n",
      "\n",
      " The image is:  Augmented_796_8740990.png "
     ]
    },
    {
     "data": {
      "text/html": [],
      "text/plain": [
       "<IPython.core.display.HTML object>"
      ]
     },
     "metadata": {},
     "output_type": "display_data"
    },
    {
     "name": "stdout",
     "output_type": "stream",
     "text": [
      "pred: WithMask  pred_idx:  tensor(0)  probs:  tensor([1.0000e+00, 6.0326e-07])\n",
      "______________________________\n",
      "\n",
      " The image is:  Augmented_751_4594356.png "
     ]
    },
    {
     "data": {
      "text/html": [],
      "text/plain": [
       "<IPython.core.display.HTML object>"
      ]
     },
     "metadata": {},
     "output_type": "display_data"
    },
    {
     "name": "stdout",
     "output_type": "stream",
     "text": [
      "pred: WithMask  pred_idx:  tensor(0)  probs:  tensor([1.0000e+00, 1.5176e-07])\n",
      "______________________________\n",
      "\n",
      " The image is:  Augmented_105_2237800.png "
     ]
    },
    {
     "data": {
      "text/html": [],
      "text/plain": [
       "<IPython.core.display.HTML object>"
      ]
     },
     "metadata": {},
     "output_type": "display_data"
    },
    {
     "name": "stdout",
     "output_type": "stream",
     "text": [
      "pred: WithMask  pred_idx:  tensor(0)  probs:  tensor([1.0000e+00, 1.7049e-06])\n",
      "______________________________\n",
      "\n",
      " The image is:  Augmented_238_2487939.png "
     ]
    },
    {
     "data": {
      "text/html": [],
      "text/plain": [
       "<IPython.core.display.HTML object>"
      ]
     },
     "metadata": {},
     "output_type": "display_data"
    },
    {
     "name": "stdout",
     "output_type": "stream",
     "text": [
      "pred: WithMask  pred_idx:  tensor(0)  probs:  tensor([1.0000e+00, 2.5601e-08])\n",
      "______________________________\n",
      "\n",
      " The image is:  Augmented_360_795496.png "
     ]
    },
    {
     "data": {
      "text/html": [],
      "text/plain": [
       "<IPython.core.display.HTML object>"
      ]
     },
     "metadata": {},
     "output_type": "display_data"
    },
    {
     "name": "stdout",
     "output_type": "stream",
     "text": [
      "pred: WithMask  pred_idx:  tensor(0)  probs:  tensor([1.0000e+00, 2.3535e-07])\n",
      "______________________________\n",
      "\n",
      " The image is:  Augmented_817_307724.png "
     ]
    },
    {
     "data": {
      "text/html": [],
      "text/plain": [
       "<IPython.core.display.HTML object>"
      ]
     },
     "metadata": {},
     "output_type": "display_data"
    },
    {
     "name": "stdout",
     "output_type": "stream",
     "text": [
      "pred: WithMask  pred_idx:  tensor(0)  probs:  tensor([1.0000e+00, 1.6567e-07])\n",
      "______________________________\n",
      "\n",
      " The image is:  Augmented_589_1358873.png "
     ]
    },
    {
     "data": {
      "text/html": [],
      "text/plain": [
       "<IPython.core.display.HTML object>"
      ]
     },
     "metadata": {},
     "output_type": "display_data"
    },
    {
     "name": "stdout",
     "output_type": "stream",
     "text": [
      "pred: WithMask  pred_idx:  tensor(0)  probs:  tensor([1.0000e+00, 3.8219e-10])\n",
      "______________________________\n",
      "\n",
      " The image is:  Augmented_219_1494132.png "
     ]
    },
    {
     "data": {
      "text/html": [],
      "text/plain": [
       "<IPython.core.display.HTML object>"
      ]
     },
     "metadata": {},
     "output_type": "display_data"
    },
    {
     "name": "stdout",
     "output_type": "stream",
     "text": [
      "pred: WithMask  pred_idx:  tensor(0)  probs:  tensor([1.0000e+00, 7.1493e-10])\n",
      "______________________________\n",
      "\n",
      " The image is:  Augmented_749_2186904.png "
     ]
    },
    {
     "data": {
      "text/html": [],
      "text/plain": [
       "<IPython.core.display.HTML object>"
      ]
     },
     "metadata": {},
     "output_type": "display_data"
    },
    {
     "name": "stdout",
     "output_type": "stream",
     "text": [
      "pred: WithMask  pred_idx:  tensor(0)  probs:  tensor([1.0000e+00, 3.1754e-09])\n",
      "______________________________\n",
      "\n",
      " The image is:  Augmented_12_5160421.png "
     ]
    },
    {
     "data": {
      "text/html": [],
      "text/plain": [
       "<IPython.core.display.HTML object>"
      ]
     },
     "metadata": {},
     "output_type": "display_data"
    },
    {
     "name": "stdout",
     "output_type": "stream",
     "text": [
      "pred: WithMask  pred_idx:  tensor(0)  probs:  tensor([9.9999e-01, 1.2476e-05])\n",
      "______________________________\n",
      "\n",
      " The image is:  Augmented_579_3176705.png "
     ]
    },
    {
     "data": {
      "text/html": [],
      "text/plain": [
       "<IPython.core.display.HTML object>"
      ]
     },
     "metadata": {},
     "output_type": "display_data"
    },
    {
     "name": "stdout",
     "output_type": "stream",
     "text": [
      "pred: WithMask  pred_idx:  tensor(0)  probs:  tensor([1.0000e+00, 2.3556e-08])\n",
      "______________________________\n",
      "\n",
      " The image is:  Augmented_594_986215.png "
     ]
    },
    {
     "data": {
      "text/html": [],
      "text/plain": [
       "<IPython.core.display.HTML object>"
      ]
     },
     "metadata": {},
     "output_type": "display_data"
    },
    {
     "name": "stdout",
     "output_type": "stream",
     "text": [
      "pred: WithMask  pred_idx:  tensor(0)  probs:  tensor([1.0000e+00, 5.7967e-08])\n",
      "______________________________\n",
      "\n",
      " The image is:  Augmented_49_7071345.png "
     ]
    },
    {
     "data": {
      "text/html": [],
      "text/plain": [
       "<IPython.core.display.HTML object>"
      ]
     },
     "metadata": {},
     "output_type": "display_data"
    },
    {
     "name": "stdout",
     "output_type": "stream",
     "text": [
      "pred: WithMask  pred_idx:  tensor(0)  probs:  tensor([1.0000e+00, 2.4867e-09])\n",
      "______________________________\n",
      "\n",
      " The image is:  Augmented_621_9566044.png "
     ]
    },
    {
     "data": {
      "text/html": [],
      "text/plain": [
       "<IPython.core.display.HTML object>"
      ]
     },
     "metadata": {},
     "output_type": "display_data"
    },
    {
     "name": "stdout",
     "output_type": "stream",
     "text": [
      "pred: WithMask  pred_idx:  tensor(0)  probs:  tensor([9.9999e-01, 5.5572e-06])\n",
      "______________________________\n",
      "\n",
      " The image is:  187.png "
     ]
    },
    {
     "data": {
      "text/html": [],
      "text/plain": [
       "<IPython.core.display.HTML object>"
      ]
     },
     "metadata": {},
     "output_type": "display_data"
    },
    {
     "name": "stdout",
     "output_type": "stream",
     "text": [
      "pred: WithMask  pred_idx:  tensor(0)  probs:  tensor([1.0000e+00, 7.8180e-08])\n",
      "______________________________\n",
      "\n",
      " The image is:  Augmented_172_8199254.png "
     ]
    },
    {
     "data": {
      "text/html": [],
      "text/plain": [
       "<IPython.core.display.HTML object>"
      ]
     },
     "metadata": {},
     "output_type": "display_data"
    },
    {
     "name": "stdout",
     "output_type": "stream",
     "text": [
      "pred: WithMask  pred_idx:  tensor(0)  probs:  tensor([1.0000e+00, 3.1143e-07])\n",
      "______________________________\n",
      "\n",
      " The image is:  Augmented_463_5576613.png "
     ]
    },
    {
     "data": {
      "text/html": [],
      "text/plain": [
       "<IPython.core.display.HTML object>"
      ]
     },
     "metadata": {},
     "output_type": "display_data"
    },
    {
     "name": "stdout",
     "output_type": "stream",
     "text": [
      "pred: WithMask  pred_idx:  tensor(0)  probs:  tensor([1.0000e+00, 6.9621e-09])\n",
      "______________________________\n",
      "\n",
      " The image is:  Augmented_328_7802777.png "
     ]
    },
    {
     "data": {
      "text/html": [],
      "text/plain": [
       "<IPython.core.display.HTML object>"
      ]
     },
     "metadata": {},
     "output_type": "display_data"
    },
    {
     "name": "stdout",
     "output_type": "stream",
     "text": [
      "pred: WithMask  pred_idx:  tensor(0)  probs:  tensor([1.0000e+00, 2.2423e-09])\n",
      "______________________________\n",
      "\n",
      " The image is:  769.png "
     ]
    },
    {
     "data": {
      "text/html": [],
      "text/plain": [
       "<IPython.core.display.HTML object>"
      ]
     },
     "metadata": {},
     "output_type": "display_data"
    },
    {
     "name": "stdout",
     "output_type": "stream",
     "text": [
      "pred: WithMask  pred_idx:  tensor(0)  probs:  tensor([9.9999e-01, 5.8978e-06])\n",
      "______________________________\n",
      "\n",
      " The image is:  Augmented_432_321017.png "
     ]
    },
    {
     "data": {
      "text/html": [],
      "text/plain": [
       "<IPython.core.display.HTML object>"
      ]
     },
     "metadata": {},
     "output_type": "display_data"
    },
    {
     "name": "stdout",
     "output_type": "stream",
     "text": [
      "pred: WithMask  pred_idx:  tensor(0)  probs:  tensor([1.0000e+00, 1.5404e-06])\n",
      "______________________________\n",
      "\n",
      " The image is:  Augmented_743_3883023.png "
     ]
    },
    {
     "data": {
      "text/html": [],
      "text/plain": [
       "<IPython.core.display.HTML object>"
      ]
     },
     "metadata": {},
     "output_type": "display_data"
    },
    {
     "name": "stdout",
     "output_type": "stream",
     "text": [
      "pred: WithMask  pred_idx:  tensor(0)  probs:  tensor([1.0000e+00, 1.4079e-07])\n",
      "______________________________\n",
      "\n",
      " The image is:  Augmented_626_760061.png "
     ]
    },
    {
     "data": {
      "text/html": [],
      "text/plain": [
       "<IPython.core.display.HTML object>"
      ]
     },
     "metadata": {},
     "output_type": "display_data"
    },
    {
     "name": "stdout",
     "output_type": "stream",
     "text": [
      "pred: WithMask  pred_idx:  tensor(0)  probs:  tensor([1.0000e+00, 2.1312e-08])\n",
      "______________________________\n",
      "\n",
      " The image is:  Augmented_766_5128363.png "
     ]
    },
    {
     "data": {
      "text/html": [],
      "text/plain": [
       "<IPython.core.display.HTML object>"
      ]
     },
     "metadata": {},
     "output_type": "display_data"
    },
    {
     "name": "stdout",
     "output_type": "stream",
     "text": [
      "pred: WithMask  pred_idx:  tensor(0)  probs:  tensor([1.0000e+00, 1.3988e-11])\n",
      "______________________________\n",
      "\n",
      " The image is:  Augmented_301_4901087.png "
     ]
    },
    {
     "data": {
      "text/html": [],
      "text/plain": [
       "<IPython.core.display.HTML object>"
      ]
     },
     "metadata": {},
     "output_type": "display_data"
    },
    {
     "name": "stdout",
     "output_type": "stream",
     "text": [
      "pred: WithMask  pred_idx:  tensor(0)  probs:  tensor([9.9999e-01, 7.7300e-06])\n",
      "______________________________\n",
      "\n",
      " The image is:  Augmented_285_1609604.png "
     ]
    },
    {
     "data": {
      "text/html": [],
      "text/plain": [
       "<IPython.core.display.HTML object>"
      ]
     },
     "metadata": {},
     "output_type": "display_data"
    },
    {
     "name": "stdout",
     "output_type": "stream",
     "text": [
      "pred: WithMask  pred_idx:  tensor(0)  probs:  tensor([1.0000e+00, 1.1338e-07])\n",
      "______________________________\n",
      "\n",
      " The image is:  Augmented_367_4095639.png "
     ]
    },
    {
     "data": {
      "text/html": [],
      "text/plain": [
       "<IPython.core.display.HTML object>"
      ]
     },
     "metadata": {},
     "output_type": "display_data"
    },
    {
     "name": "stdout",
     "output_type": "stream",
     "text": [
      "pred: WithMask  pred_idx:  tensor(0)  probs:  tensor([9.9984e-01, 1.5936e-04])\n",
      "______________________________\n",
      "\n",
      " The image is:  Augmented_869_9499871.png "
     ]
    },
    {
     "data": {
      "text/html": [],
      "text/plain": [
       "<IPython.core.display.HTML object>"
      ]
     },
     "metadata": {},
     "output_type": "display_data"
    },
    {
     "name": "stdout",
     "output_type": "stream",
     "text": [
      "pred: WithMask  pred_idx:  tensor(0)  probs:  tensor([1.0000e+00, 5.5743e-07])\n",
      "______________________________\n",
      "\n",
      " The image is:  Augmented_530_370029.png "
     ]
    },
    {
     "data": {
      "text/html": [],
      "text/plain": [
       "<IPython.core.display.HTML object>"
      ]
     },
     "metadata": {},
     "output_type": "display_data"
    },
    {
     "name": "stdout",
     "output_type": "stream",
     "text": [
      "pred: WithMask  pred_idx:  tensor(0)  probs:  tensor([1.0000e+00, 5.4964e-09])\n",
      "______________________________\n",
      "\n",
      " The image is:  Augmented_866_337490.png "
     ]
    },
    {
     "data": {
      "text/html": [],
      "text/plain": [
       "<IPython.core.display.HTML object>"
      ]
     },
     "metadata": {},
     "output_type": "display_data"
    },
    {
     "name": "stdout",
     "output_type": "stream",
     "text": [
      "pred: WithMask  pred_idx:  tensor(0)  probs:  tensor([1.0000e+00, 2.2532e-07])\n",
      "______________________________\n",
      "\n",
      " The image is:  Augmented_2_5931815.png "
     ]
    },
    {
     "data": {
      "text/html": [],
      "text/plain": [
       "<IPython.core.display.HTML object>"
      ]
     },
     "metadata": {},
     "output_type": "display_data"
    },
    {
     "name": "stdout",
     "output_type": "stream",
     "text": [
      "pred: WithMask  pred_idx:  tensor(0)  probs:  tensor([1.0000e+00, 3.7729e-09])\n",
      "______________________________\n",
      "\n",
      " The image is:  Augmented_96_996275.png "
     ]
    },
    {
     "data": {
      "text/html": [],
      "text/plain": [
       "<IPython.core.display.HTML object>"
      ]
     },
     "metadata": {},
     "output_type": "display_data"
    },
    {
     "name": "stdout",
     "output_type": "stream",
     "text": [
      "pred: WithMask  pred_idx:  tensor(0)  probs:  tensor([1.0000e+00, 5.4049e-08])\n",
      "______________________________\n",
      "\n",
      " The image is:  Augmented_710_1583284.png "
     ]
    },
    {
     "data": {
      "text/html": [],
      "text/plain": [
       "<IPython.core.display.HTML object>"
      ]
     },
     "metadata": {},
     "output_type": "display_data"
    },
    {
     "name": "stdout",
     "output_type": "stream",
     "text": [
      "pred: WithMask  pred_idx:  tensor(0)  probs:  tensor([1.0000e+00, 8.0542e-08])\n",
      "______________________________\n",
      "\n",
      " The image is:  Augmented_169_2180197.png "
     ]
    },
    {
     "data": {
      "text/html": [],
      "text/plain": [
       "<IPython.core.display.HTML object>"
      ]
     },
     "metadata": {},
     "output_type": "display_data"
    },
    {
     "name": "stdout",
     "output_type": "stream",
     "text": [
      "pred: WithMask  pred_idx:  tensor(0)  probs:  tensor([1.0000e+00, 1.6878e-12])\n",
      "______________________________\n",
      "\n",
      " The image is:  Augmented_570_4040588.png "
     ]
    },
    {
     "data": {
      "text/html": [],
      "text/plain": [
       "<IPython.core.display.HTML object>"
      ]
     },
     "metadata": {},
     "output_type": "display_data"
    },
    {
     "name": "stdout",
     "output_type": "stream",
     "text": [
      "pred: WithMask  pred_idx:  tensor(0)  probs:  tensor([1.0000e+00, 1.0271e-06])\n",
      "______________________________\n",
      "\n",
      " The image is:  Augmented_666_6106924.png "
     ]
    },
    {
     "data": {
      "text/html": [],
      "text/plain": [
       "<IPython.core.display.HTML object>"
      ]
     },
     "metadata": {},
     "output_type": "display_data"
    },
    {
     "name": "stdout",
     "output_type": "stream",
     "text": [
      "pred: WithMask  pred_idx:  tensor(0)  probs:  tensor([1.0000e+00, 1.1505e-07])\n",
      "______________________________\n",
      "\n",
      " The image is:  Augmented_691_3472023.png "
     ]
    },
    {
     "data": {
      "text/html": [],
      "text/plain": [
       "<IPython.core.display.HTML object>"
      ]
     },
     "metadata": {},
     "output_type": "display_data"
    },
    {
     "name": "stdout",
     "output_type": "stream",
     "text": [
      "pred: WithMask  pred_idx:  tensor(0)  probs:  tensor([1.0000e+00, 7.8724e-08])\n",
      "______________________________\n",
      "\n",
      " The image is:  Augmented_169_9173795.png "
     ]
    },
    {
     "data": {
      "text/html": [],
      "text/plain": [
       "<IPython.core.display.HTML object>"
      ]
     },
     "metadata": {},
     "output_type": "display_data"
    },
    {
     "name": "stdout",
     "output_type": "stream",
     "text": [
      "pred: WithMask  pred_idx:  tensor(0)  probs:  tensor([1.0000e+00, 3.3383e-09])\n",
      "______________________________\n",
      "\n",
      " The image is:  Augmented_289_205760.png "
     ]
    },
    {
     "data": {
      "text/html": [],
      "text/plain": [
       "<IPython.core.display.HTML object>"
      ]
     },
     "metadata": {},
     "output_type": "display_data"
    },
    {
     "name": "stdout",
     "output_type": "stream",
     "text": [
      "pred: WithMask  pred_idx:  tensor(0)  probs:  tensor([1.0000e+00, 8.2312e-09])\n",
      "______________________________\n",
      "\n",
      " The image is:  Augmented_752_6839684.png "
     ]
    },
    {
     "data": {
      "text/html": [],
      "text/plain": [
       "<IPython.core.display.HTML object>"
      ]
     },
     "metadata": {},
     "output_type": "display_data"
    },
    {
     "name": "stdout",
     "output_type": "stream",
     "text": [
      "pred: WithMask  pred_idx:  tensor(0)  probs:  tensor([1.0000e+00, 1.3389e-09])\n",
      "______________________________\n",
      "\n",
      " The image is:  Augmented_161_3678243.png "
     ]
    },
    {
     "data": {
      "text/html": [],
      "text/plain": [
       "<IPython.core.display.HTML object>"
      ]
     },
     "metadata": {},
     "output_type": "display_data"
    },
    {
     "name": "stdout",
     "output_type": "stream",
     "text": [
      "pred: WithMask  pred_idx:  tensor(0)  probs:  tensor([1.0000e+00, 8.9570e-08])\n",
      "______________________________\n",
      "\n",
      " The image is:  Augmented_355_3262252.png "
     ]
    },
    {
     "data": {
      "text/html": [],
      "text/plain": [
       "<IPython.core.display.HTML object>"
      ]
     },
     "metadata": {},
     "output_type": "display_data"
    },
    {
     "name": "stdout",
     "output_type": "stream",
     "text": [
      "pred: WithMask  pred_idx:  tensor(0)  probs:  tensor([1.0000e+00, 2.0392e-07])\n",
      "______________________________\n",
      "\n",
      " The image is:  Augmented_31_6326889.png "
     ]
    },
    {
     "data": {
      "text/html": [],
      "text/plain": [
       "<IPython.core.display.HTML object>"
      ]
     },
     "metadata": {},
     "output_type": "display_data"
    },
    {
     "name": "stdout",
     "output_type": "stream",
     "text": [
      "pred: WithMask  pred_idx:  tensor(0)  probs:  tensor([1.0000e+00, 9.6190e-11])\n",
      "______________________________\n",
      "\n",
      " The image is:  Augmented_646_5216553.png "
     ]
    },
    {
     "data": {
      "text/html": [],
      "text/plain": [
       "<IPython.core.display.HTML object>"
      ]
     },
     "metadata": {},
     "output_type": "display_data"
    },
    {
     "name": "stdout",
     "output_type": "stream",
     "text": [
      "pred: WithMask  pred_idx:  tensor(0)  probs:  tensor([1.0000e+00, 5.3456e-07])\n",
      "______________________________\n",
      "\n",
      " The image is:  Augmented_206_4931582.png "
     ]
    },
    {
     "data": {
      "text/html": [],
      "text/plain": [
       "<IPython.core.display.HTML object>"
      ]
     },
     "metadata": {},
     "output_type": "display_data"
    },
    {
     "name": "stdout",
     "output_type": "stream",
     "text": [
      "pred: WithMask  pred_idx:  tensor(0)  probs:  tensor([1.0000e+00, 1.7728e-08])\n",
      "______________________________\n",
      "\n",
      " The image is:  Augmented_643_188913.png "
     ]
    },
    {
     "data": {
      "text/html": [],
      "text/plain": [
       "<IPython.core.display.HTML object>"
      ]
     },
     "metadata": {},
     "output_type": "display_data"
    },
    {
     "name": "stdout",
     "output_type": "stream",
     "text": [
      "pred: WithMask  pred_idx:  tensor(0)  probs:  tensor([1.0000e+00, 4.2237e-08])\n",
      "______________________________\n",
      "\n",
      " The image is:  Augmented_619_458230.png "
     ]
    },
    {
     "data": {
      "text/html": [],
      "text/plain": [
       "<IPython.core.display.HTML object>"
      ]
     },
     "metadata": {},
     "output_type": "display_data"
    },
    {
     "name": "stdout",
     "output_type": "stream",
     "text": [
      "pred: WithMask  pred_idx:  tensor(0)  probs:  tensor([1.0000e+00, 1.4479e-06])\n",
      "______________________________\n",
      "\n",
      " The image is:  Augmented_722_9432865.png "
     ]
    },
    {
     "data": {
      "text/html": [],
      "text/plain": [
       "<IPython.core.display.HTML object>"
      ]
     },
     "metadata": {},
     "output_type": "display_data"
    },
    {
     "name": "stdout",
     "output_type": "stream",
     "text": [
      "pred: WithMask  pred_idx:  tensor(0)  probs:  tensor([1.0000e+00, 1.1227e-06])\n",
      "______________________________\n",
      "\n",
      " The image is:  Augmented_682_8173193.png "
     ]
    },
    {
     "data": {
      "text/html": [],
      "text/plain": [
       "<IPython.core.display.HTML object>"
      ]
     },
     "metadata": {},
     "output_type": "display_data"
    },
    {
     "name": "stdout",
     "output_type": "stream",
     "text": [
      "pred: WithMask  pred_idx:  tensor(0)  probs:  tensor([1.0000e+00, 8.8073e-08])\n",
      "______________________________\n",
      "\n",
      " The image is:  Augmented_863_5474294.png "
     ]
    },
    {
     "data": {
      "text/html": [],
      "text/plain": [
       "<IPython.core.display.HTML object>"
      ]
     },
     "metadata": {},
     "output_type": "display_data"
    },
    {
     "name": "stdout",
     "output_type": "stream",
     "text": [
      "pred: WithMask  pred_idx:  tensor(0)  probs:  tensor([1.0000e+00, 8.8148e-08])\n",
      "______________________________\n",
      "\n",
      " The image is:  Augmented_535_101453.png "
     ]
    },
    {
     "data": {
      "text/html": [],
      "text/plain": [
       "<IPython.core.display.HTML object>"
      ]
     },
     "metadata": {},
     "output_type": "display_data"
    },
    {
     "name": "stdout",
     "output_type": "stream",
     "text": [
      "pred: WithMask  pred_idx:  tensor(0)  probs:  tensor([1.0000e+00, 3.4577e-08])\n",
      "______________________________\n",
      "\n",
      " The image is:  Augmented_195_7369506.png "
     ]
    },
    {
     "data": {
      "text/html": [],
      "text/plain": [
       "<IPython.core.display.HTML object>"
      ]
     },
     "metadata": {},
     "output_type": "display_data"
    },
    {
     "name": "stdout",
     "output_type": "stream",
     "text": [
      "pred: WithMask  pred_idx:  tensor(0)  probs:  tensor([1.0000e+00, 1.3650e-08])\n",
      "______________________________\n",
      "\n",
      " The image is:  Augmented_117_9479645.png "
     ]
    },
    {
     "data": {
      "text/html": [],
      "text/plain": [
       "<IPython.core.display.HTML object>"
      ]
     },
     "metadata": {},
     "output_type": "display_data"
    },
    {
     "name": "stdout",
     "output_type": "stream",
     "text": [
      "pred: WithMask  pred_idx:  tensor(0)  probs:  tensor([1.0000e+00, 2.3252e-08])\n",
      "______________________________\n",
      "\n",
      " The image is:  Augmented_687_7521088.png "
     ]
    },
    {
     "data": {
      "text/html": [],
      "text/plain": [
       "<IPython.core.display.HTML object>"
      ]
     },
     "metadata": {},
     "output_type": "display_data"
    },
    {
     "name": "stdout",
     "output_type": "stream",
     "text": [
      "pred: WithMask  pred_idx:  tensor(0)  probs:  tensor([1.0000e+00, 4.6521e-08])\n",
      "______________________________\n",
      "\n",
      " The image is:  1404.png "
     ]
    },
    {
     "data": {
      "text/html": [],
      "text/plain": [
       "<IPython.core.display.HTML object>"
      ]
     },
     "metadata": {},
     "output_type": "display_data"
    },
    {
     "name": "stdout",
     "output_type": "stream",
     "text": [
      "pred: WithMask  pred_idx:  tensor(0)  probs:  tensor([1.0000e+00, 7.3974e-07])\n",
      "______________________________\n",
      "\n",
      " The image is:  Augmented_165_2430673.png "
     ]
    },
    {
     "data": {
      "text/html": [],
      "text/plain": [
       "<IPython.core.display.HTML object>"
      ]
     },
     "metadata": {},
     "output_type": "display_data"
    },
    {
     "name": "stdout",
     "output_type": "stream",
     "text": [
      "pred: WithMask  pred_idx:  tensor(0)  probs:  tensor([1.0000e+00, 2.8037e-09])\n",
      "______________________________\n",
      "\n",
      " The image is:  Augmented_263_1124850.png "
     ]
    },
    {
     "data": {
      "text/html": [],
      "text/plain": [
       "<IPython.core.display.HTML object>"
      ]
     },
     "metadata": {},
     "output_type": "display_data"
    },
    {
     "name": "stdout",
     "output_type": "stream",
     "text": [
      "pred: WithMask  pred_idx:  tensor(0)  probs:  tensor([1.0000e+00, 3.2069e-13])\n",
      "______________________________\n",
      "\n",
      " The image is:  Augmented_144_1849746.png "
     ]
    },
    {
     "data": {
      "text/html": [],
      "text/plain": [
       "<IPython.core.display.HTML object>"
      ]
     },
     "metadata": {},
     "output_type": "display_data"
    },
    {
     "name": "stdout",
     "output_type": "stream",
     "text": [
      "pred: WithMask  pred_idx:  tensor(0)  probs:  tensor([1.0000e+00, 2.4507e-10])\n",
      "______________________________\n",
      "\n",
      " The image is:  1413.png "
     ]
    },
    {
     "data": {
      "text/html": [],
      "text/plain": [
       "<IPython.core.display.HTML object>"
      ]
     },
     "metadata": {},
     "output_type": "display_data"
    },
    {
     "name": "stdout",
     "output_type": "stream",
     "text": [
      "pred: WithMask  pred_idx:  tensor(0)  probs:  tensor([1.0000e+00, 1.4751e-06])\n",
      "______________________________\n",
      "\n",
      " The image is:  741.png "
     ]
    },
    {
     "data": {
      "text/html": [],
      "text/plain": [
       "<IPython.core.display.HTML object>"
      ]
     },
     "metadata": {},
     "output_type": "display_data"
    },
    {
     "name": "stdout",
     "output_type": "stream",
     "text": [
      "pred: WithMask  pred_idx:  tensor(0)  probs:  tensor([1.0000e+00, 6.2846e-11])\n",
      "______________________________\n",
      "\n",
      " The image is:  Augmented_53_6320831.png "
     ]
    },
    {
     "data": {
      "text/html": [],
      "text/plain": [
       "<IPython.core.display.HTML object>"
      ]
     },
     "metadata": {},
     "output_type": "display_data"
    },
    {
     "name": "stdout",
     "output_type": "stream",
     "text": [
      "pred: WithMask  pred_idx:  tensor(0)  probs:  tensor([1.0000e+00, 4.2715e-07])\n",
      "______________________________\n",
      "\n",
      " The image is:  Augmented_561_1833142.png "
     ]
    },
    {
     "data": {
      "text/html": [],
      "text/plain": [
       "<IPython.core.display.HTML object>"
      ]
     },
     "metadata": {},
     "output_type": "display_data"
    },
    {
     "name": "stdout",
     "output_type": "stream",
     "text": [
      "pred: WithMask  pred_idx:  tensor(0)  probs:  tensor([9.9997e-01, 2.7946e-05])\n",
      "______________________________\n",
      "\n",
      " The image is:  Augmented_399_5149958.png "
     ]
    },
    {
     "data": {
      "text/html": [],
      "text/plain": [
       "<IPython.core.display.HTML object>"
      ]
     },
     "metadata": {},
     "output_type": "display_data"
    },
    {
     "name": "stdout",
     "output_type": "stream",
     "text": [
      "pred: WithMask  pred_idx:  tensor(0)  probs:  tensor([1.0000e+00, 3.0479e-08])\n",
      "______________________________\n",
      "\n",
      " The image is:  Augmented_814_3182702.png "
     ]
    },
    {
     "data": {
      "text/html": [],
      "text/plain": [
       "<IPython.core.display.HTML object>"
      ]
     },
     "metadata": {},
     "output_type": "display_data"
    },
    {
     "name": "stdout",
     "output_type": "stream",
     "text": [
      "pred: WithMask  pred_idx:  tensor(0)  probs:  tensor([1.0000e+00, 2.1434e-09])\n",
      "______________________________\n",
      "\n",
      " The image is:  Augmented_268_6102153.png "
     ]
    },
    {
     "data": {
      "text/html": [],
      "text/plain": [
       "<IPython.core.display.HTML object>"
      ]
     },
     "metadata": {},
     "output_type": "display_data"
    },
    {
     "name": "stdout",
     "output_type": "stream",
     "text": [
      "pred: WithMask  pred_idx:  tensor(0)  probs:  tensor([1.0000e+00, 9.6566e-11])\n",
      "______________________________\n",
      "\n",
      " The image is:  Augmented_411_871195.png "
     ]
    },
    {
     "data": {
      "text/html": [],
      "text/plain": [
       "<IPython.core.display.HTML object>"
      ]
     },
     "metadata": {},
     "output_type": "display_data"
    },
    {
     "name": "stdout",
     "output_type": "stream",
     "text": [
      "pred: WithMask  pred_idx:  tensor(0)  probs:  tensor([1.0000e+00, 8.2972e-10])\n",
      "______________________________\n",
      "\n",
      " The image is:  Augmented_82_1801844.png "
     ]
    },
    {
     "data": {
      "text/html": [],
      "text/plain": [
       "<IPython.core.display.HTML object>"
      ]
     },
     "metadata": {},
     "output_type": "display_data"
    },
    {
     "name": "stdout",
     "output_type": "stream",
     "text": [
      "pred: WithMask  pred_idx:  tensor(0)  probs:  tensor([1.0000e+00, 1.1578e-13])\n",
      "______________________________\n",
      "\n",
      " The image is:  740.png "
     ]
    },
    {
     "data": {
      "text/html": [],
      "text/plain": [
       "<IPython.core.display.HTML object>"
      ]
     },
     "metadata": {},
     "output_type": "display_data"
    },
    {
     "name": "stdout",
     "output_type": "stream",
     "text": [
      "pred: WithMask  pred_idx:  tensor(0)  probs:  tensor([1.0000e+00, 4.1279e-11])\n",
      "______________________________\n",
      "\n",
      " The image is:  Augmented_406_4576935.png "
     ]
    },
    {
     "data": {
      "text/html": [],
      "text/plain": [
       "<IPython.core.display.HTML object>"
      ]
     },
     "metadata": {},
     "output_type": "display_data"
    },
    {
     "name": "stdout",
     "output_type": "stream",
     "text": [
      "pred: WithMask  pred_idx:  tensor(0)  probs:  tensor([1.0000e+00, 1.3041e-07])\n",
      "______________________________\n",
      "\n",
      " The image is:  Augmented_477_1922227.png "
     ]
    },
    {
     "data": {
      "text/html": [],
      "text/plain": [
       "<IPython.core.display.HTML object>"
      ]
     },
     "metadata": {},
     "output_type": "display_data"
    },
    {
     "name": "stdout",
     "output_type": "stream",
     "text": [
      "pred: WithMask  pred_idx:  tensor(0)  probs:  tensor([1.0000e+00, 2.8509e-07])\n",
      "______________________________\n",
      "\n",
      " The image is:  Augmented_610_3698057.png "
     ]
    },
    {
     "data": {
      "text/html": [],
      "text/plain": [
       "<IPython.core.display.HTML object>"
      ]
     },
     "metadata": {},
     "output_type": "display_data"
    },
    {
     "name": "stdout",
     "output_type": "stream",
     "text": [
      "pred: WithMask  pred_idx:  tensor(0)  probs:  tensor([1.0000e+00, 1.1715e-06])\n",
      "______________________________\n",
      "\n",
      " The image is:  152.png "
     ]
    },
    {
     "data": {
      "text/html": [],
      "text/plain": [
       "<IPython.core.display.HTML object>"
      ]
     },
     "metadata": {},
     "output_type": "display_data"
    },
    {
     "name": "stdout",
     "output_type": "stream",
     "text": [
      "pred: WithMask  pred_idx:  tensor(0)  probs:  tensor([1.0000e+00, 7.8816e-12])\n",
      "______________________________\n",
      "\n",
      " The image is:  Augmented_306_7724194.png "
     ]
    },
    {
     "data": {
      "text/html": [],
      "text/plain": [
       "<IPython.core.display.HTML object>"
      ]
     },
     "metadata": {},
     "output_type": "display_data"
    },
    {
     "name": "stdout",
     "output_type": "stream",
     "text": [
      "pred: WithMask  pred_idx:  tensor(0)  probs:  tensor([1.0000e+00, 3.9182e-08])\n",
      "______________________________\n",
      "\n",
      " The image is:  Augmented_211_1296894.png "
     ]
    },
    {
     "data": {
      "text/html": [],
      "text/plain": [
       "<IPython.core.display.HTML object>"
      ]
     },
     "metadata": {},
     "output_type": "display_data"
    },
    {
     "name": "stdout",
     "output_type": "stream",
     "text": [
      "pred: WithMask  pred_idx:  tensor(0)  probs:  tensor([1.0000e+00, 2.5423e-08])\n",
      "______________________________\n",
      "\n",
      " The image is:  Augmented_369_3360104.png "
     ]
    },
    {
     "data": {
      "text/html": [],
      "text/plain": [
       "<IPython.core.display.HTML object>"
      ]
     },
     "metadata": {},
     "output_type": "display_data"
    },
    {
     "name": "stdout",
     "output_type": "stream",
     "text": [
      "pred: WithMask  pred_idx:  tensor(0)  probs:  tensor([1.0000e+00, 2.6764e-07])\n",
      "______________________________\n",
      "\n",
      " The image is:  Augmented_57_4079686.png "
     ]
    },
    {
     "data": {
      "text/html": [],
      "text/plain": [
       "<IPython.core.display.HTML object>"
      ]
     },
     "metadata": {},
     "output_type": "display_data"
    },
    {
     "name": "stdout",
     "output_type": "stream",
     "text": [
      "pred: WithMask  pred_idx:  tensor(0)  probs:  tensor([1.0000e+00, 1.1215e-06])\n",
      "______________________________\n",
      "\n",
      " The image is:  Augmented_83_5828350.png "
     ]
    },
    {
     "data": {
      "text/html": [],
      "text/plain": [
       "<IPython.core.display.HTML object>"
      ]
     },
     "metadata": {},
     "output_type": "display_data"
    },
    {
     "name": "stdout",
     "output_type": "stream",
     "text": [
      "pred: WithMask  pred_idx:  tensor(0)  probs:  tensor([1.0000e+00, 5.0085e-07])\n",
      "______________________________\n",
      "\n",
      " The image is:  Augmented_815_3384993.png "
     ]
    },
    {
     "data": {
      "text/html": [],
      "text/plain": [
       "<IPython.core.display.HTML object>"
      ]
     },
     "metadata": {},
     "output_type": "display_data"
    },
    {
     "name": "stdout",
     "output_type": "stream",
     "text": [
      "pred: WithMask  pred_idx:  tensor(0)  probs:  tensor([1.0000e+00, 3.8142e-08])\n",
      "______________________________\n",
      "\n",
      " The image is:  Augmented_235_4640860.png "
     ]
    },
    {
     "data": {
      "text/html": [],
      "text/plain": [
       "<IPython.core.display.HTML object>"
      ]
     },
     "metadata": {},
     "output_type": "display_data"
    },
    {
     "name": "stdout",
     "output_type": "stream",
     "text": [
      "pred: WithMask  pred_idx:  tensor(0)  probs:  tensor([1.0000e+00, 8.3957e-10])\n",
      "______________________________\n",
      "\n",
      " The image is:  1573.png "
     ]
    },
    {
     "data": {
      "text/html": [],
      "text/plain": [
       "<IPython.core.display.HTML object>"
      ]
     },
     "metadata": {},
     "output_type": "display_data"
    },
    {
     "name": "stdout",
     "output_type": "stream",
     "text": [
      "pred: WithMask  pred_idx:  tensor(0)  probs:  tensor([1.0000e+00, 2.4073e-10])\n",
      "______________________________\n",
      "\n",
      " The image is:  Augmented_655_7556911.png "
     ]
    },
    {
     "data": {
      "text/html": [],
      "text/plain": [
       "<IPython.core.display.HTML object>"
      ]
     },
     "metadata": {},
     "output_type": "display_data"
    },
    {
     "name": "stdout",
     "output_type": "stream",
     "text": [
      "pred: WithMask  pred_idx:  tensor(0)  probs:  tensor([1.0000e+00, 1.8502e-09])\n",
      "______________________________\n",
      "\n",
      " The image is:  79.png "
     ]
    },
    {
     "data": {
      "text/html": [],
      "text/plain": [
       "<IPython.core.display.HTML object>"
      ]
     },
     "metadata": {},
     "output_type": "display_data"
    },
    {
     "name": "stdout",
     "output_type": "stream",
     "text": [
      "pred: WithMask  pred_idx:  tensor(0)  probs:  tensor([1.0000e+00, 1.9496e-12])\n",
      "______________________________\n",
      "\n",
      " The image is:  Augmented_317_3224825.png "
     ]
    },
    {
     "data": {
      "text/html": [],
      "text/plain": [
       "<IPython.core.display.HTML object>"
      ]
     },
     "metadata": {},
     "output_type": "display_data"
    },
    {
     "name": "stdout",
     "output_type": "stream",
     "text": [
      "pred: WithMask  pred_idx:  tensor(0)  probs:  tensor([1.0000e+00, 2.0884e-13])\n",
      "______________________________\n",
      "\n",
      " The image is:  Augmented_564_5435112.png "
     ]
    },
    {
     "data": {
      "text/html": [],
      "text/plain": [
       "<IPython.core.display.HTML object>"
      ]
     },
     "metadata": {},
     "output_type": "display_data"
    },
    {
     "name": "stdout",
     "output_type": "stream",
     "text": [
      "pred: WithMask  pred_idx:  tensor(0)  probs:  tensor([1.0000e+00, 9.2491e-11])\n",
      "______________________________\n",
      "\n",
      " The image is:  Augmented_423_5573198.png "
     ]
    },
    {
     "data": {
      "text/html": [],
      "text/plain": [
       "<IPython.core.display.HTML object>"
      ]
     },
     "metadata": {},
     "output_type": "display_data"
    },
    {
     "name": "stdout",
     "output_type": "stream",
     "text": [
      "pred: WithMask  pred_idx:  tensor(0)  probs:  tensor([1.0000e+00, 2.8347e-07])\n",
      "______________________________\n",
      "\n",
      " The image is:  Augmented_697_3351776.png "
     ]
    },
    {
     "data": {
      "text/html": [],
      "text/plain": [
       "<IPython.core.display.HTML object>"
      ]
     },
     "metadata": {},
     "output_type": "display_data"
    },
    {
     "name": "stdout",
     "output_type": "stream",
     "text": [
      "pred: WithMask  pred_idx:  tensor(0)  probs:  tensor([1.0000e+00, 1.1058e-08])\n",
      "______________________________\n",
      "\n",
      " The image is:  Augmented_890_8528242.png "
     ]
    },
    {
     "data": {
      "text/html": [],
      "text/plain": [
       "<IPython.core.display.HTML object>"
      ]
     },
     "metadata": {},
     "output_type": "display_data"
    },
    {
     "name": "stdout",
     "output_type": "stream",
     "text": [
      "pred: WithMask  pred_idx:  tensor(0)  probs:  tensor([1.0000e+00, 3.8388e-06])\n",
      "______________________________\n",
      "\n",
      " The image is:  Augmented_334_6408301.png "
     ]
    },
    {
     "data": {
      "text/html": [],
      "text/plain": [
       "<IPython.core.display.HTML object>"
      ]
     },
     "metadata": {},
     "output_type": "display_data"
    },
    {
     "name": "stdout",
     "output_type": "stream",
     "text": [
      "pred: WithMask  pred_idx:  tensor(0)  probs:  tensor([1.0000e+00, 1.0468e-11])\n",
      "______________________________\n",
      "\n",
      " The image is:  635.png "
     ]
    },
    {
     "data": {
      "text/html": [],
      "text/plain": [
       "<IPython.core.display.HTML object>"
      ]
     },
     "metadata": {},
     "output_type": "display_data"
    },
    {
     "name": "stdout",
     "output_type": "stream",
     "text": [
      "pred: WithMask  pred_idx:  tensor(0)  probs:  tensor([1.0000e+00, 5.5132e-13])\n",
      "______________________________\n",
      "\n",
      " The image is:  Augmented_6_4264821.png "
     ]
    },
    {
     "data": {
      "text/html": [],
      "text/plain": [
       "<IPython.core.display.HTML object>"
      ]
     },
     "metadata": {},
     "output_type": "display_data"
    },
    {
     "name": "stdout",
     "output_type": "stream",
     "text": [
      "pred: WithMask  pred_idx:  tensor(0)  probs:  tensor([1.0000e+00, 1.4139e-07])\n",
      "______________________________\n",
      "\n",
      " The image is:  Augmented_860_3976451.png "
     ]
    },
    {
     "data": {
      "text/html": [],
      "text/plain": [
       "<IPython.core.display.HTML object>"
      ]
     },
     "metadata": {},
     "output_type": "display_data"
    },
    {
     "name": "stdout",
     "output_type": "stream",
     "text": [
      "pred: WithMask  pred_idx:  tensor(0)  probs:  tensor([1.0000e+00, 1.5193e-08])\n",
      "______________________________\n",
      "\n",
      " The image is:  Augmented_51_2701700.png "
     ]
    },
    {
     "data": {
      "text/html": [],
      "text/plain": [
       "<IPython.core.display.HTML object>"
      ]
     },
     "metadata": {},
     "output_type": "display_data"
    },
    {
     "name": "stdout",
     "output_type": "stream",
     "text": [
      "pred: WithMask  pred_idx:  tensor(0)  probs:  tensor([1.0000e+00, 6.6505e-10])\n",
      "______________________________\n",
      "\n",
      " The image is:  153.png "
     ]
    },
    {
     "data": {
      "text/html": [],
      "text/plain": [
       "<IPython.core.display.HTML object>"
      ]
     },
     "metadata": {},
     "output_type": "display_data"
    },
    {
     "name": "stdout",
     "output_type": "stream",
     "text": [
      "pred: WithMask  pred_idx:  tensor(0)  probs:  tensor([1.0000e+00, 1.0280e-10])\n",
      "______________________________\n",
      "\n",
      " The image is:  Augmented_156_3078196.png "
     ]
    },
    {
     "data": {
      "text/html": [],
      "text/plain": [
       "<IPython.core.display.HTML object>"
      ]
     },
     "metadata": {},
     "output_type": "display_data"
    },
    {
     "name": "stdout",
     "output_type": "stream",
     "text": [
      "pred: WithMask  pred_idx:  tensor(0)  probs:  tensor([1.0000e+00, 2.7105e-07])\n",
      "______________________________\n",
      "\n",
      " The image is:  422.png "
     ]
    },
    {
     "data": {
      "text/html": [],
      "text/plain": [
       "<IPython.core.display.HTML object>"
      ]
     },
     "metadata": {},
     "output_type": "display_data"
    },
    {
     "name": "stdout",
     "output_type": "stream",
     "text": [
      "pred: WithMask  pred_idx:  tensor(0)  probs:  tensor([1.0000e+00, 4.7522e-08])\n",
      "______________________________\n",
      "\n",
      " The image is:  796.png "
     ]
    },
    {
     "data": {
      "text/html": [],
      "text/plain": [
       "<IPython.core.display.HTML object>"
      ]
     },
     "metadata": {},
     "output_type": "display_data"
    },
    {
     "name": "stdout",
     "output_type": "stream",
     "text": [
      "pred: WithMask  pred_idx:  tensor(0)  probs:  tensor([1.0000e+00, 2.4532e-11])\n",
      "______________________________\n",
      "\n",
      " The image is:  Augmented_388_7900852.png "
     ]
    },
    {
     "data": {
      "text/html": [],
      "text/plain": [
       "<IPython.core.display.HTML object>"
      ]
     },
     "metadata": {},
     "output_type": "display_data"
    },
    {
     "name": "stdout",
     "output_type": "stream",
     "text": [
      "pred: WithMask  pred_idx:  tensor(0)  probs:  tensor([1.0000e+00, 1.1704e-08])\n",
      "______________________________\n",
      "\n",
      " The image is:  Augmented_347_7369004.png "
     ]
    },
    {
     "data": {
      "text/html": [],
      "text/plain": [
       "<IPython.core.display.HTML object>"
      ]
     },
     "metadata": {},
     "output_type": "display_data"
    },
    {
     "name": "stdout",
     "output_type": "stream",
     "text": [
      "pred: WithMask  pred_idx:  tensor(0)  probs:  tensor([1.0000e+00, 3.6708e-07])\n",
      "______________________________\n",
      "\n",
      " The image is:  Augmented_879_5921906.png "
     ]
    },
    {
     "data": {
      "text/html": [],
      "text/plain": [
       "<IPython.core.display.HTML object>"
      ]
     },
     "metadata": {},
     "output_type": "display_data"
    },
    {
     "name": "stdout",
     "output_type": "stream",
     "text": [
      "pred: WithMask  pred_idx:  tensor(0)  probs:  tensor([1.0000e+00, 5.3868e-08])\n",
      "______________________________\n",
      "\n",
      " The image is:  Augmented_153_259583.png "
     ]
    },
    {
     "data": {
      "text/html": [],
      "text/plain": [
       "<IPython.core.display.HTML object>"
      ]
     },
     "metadata": {},
     "output_type": "display_data"
    },
    {
     "name": "stdout",
     "output_type": "stream",
     "text": [
      "pred: WithMask  pred_idx:  tensor(0)  probs:  tensor([9.9996e-01, 3.8761e-05])\n",
      "______________________________\n",
      "\n",
      " The image is:  147.png "
     ]
    },
    {
     "data": {
      "text/html": [],
      "text/plain": [
       "<IPython.core.display.HTML object>"
      ]
     },
     "metadata": {},
     "output_type": "display_data"
    },
    {
     "name": "stdout",
     "output_type": "stream",
     "text": [
      "pred: WithMask  pred_idx:  tensor(0)  probs:  tensor([1.0000e+00, 2.9871e-15])\n",
      "______________________________\n",
      "\n",
      " The image is:  Augmented_707_8340153.png "
     ]
    },
    {
     "data": {
      "text/html": [],
      "text/plain": [
       "<IPython.core.display.HTML object>"
      ]
     },
     "metadata": {},
     "output_type": "display_data"
    },
    {
     "name": "stdout",
     "output_type": "stream",
     "text": [
      "pred: WithMask  pred_idx:  tensor(0)  probs:  tensor([1.0000e+00, 2.5589e-06])\n",
      "______________________________\n",
      "\n",
      " The image is:  Augmented_673_1693056.png "
     ]
    },
    {
     "data": {
      "text/html": [],
      "text/plain": [
       "<IPython.core.display.HTML object>"
      ]
     },
     "metadata": {},
     "output_type": "display_data"
    },
    {
     "name": "stdout",
     "output_type": "stream",
     "text": [
      "pred: WithMask  pred_idx:  tensor(0)  probs:  tensor([1.0000e+00, 3.4314e-09])\n",
      "______________________________\n",
      "\n",
      " The image is:  Augmented_785_9106221.png "
     ]
    },
    {
     "data": {
      "text/html": [],
      "text/plain": [
       "<IPython.core.display.HTML object>"
      ]
     },
     "metadata": {},
     "output_type": "display_data"
    },
    {
     "name": "stdout",
     "output_type": "stream",
     "text": [
      "pred: WithMask  pred_idx:  tensor(0)  probs:  tensor([1.0000e+00, 7.1244e-08])\n",
      "______________________________\n",
      "\n",
      " The image is:  Augmented_329_8455316.png "
     ]
    },
    {
     "data": {
      "text/html": [],
      "text/plain": [
       "<IPython.core.display.HTML object>"
      ]
     },
     "metadata": {},
     "output_type": "display_data"
    },
    {
     "name": "stdout",
     "output_type": "stream",
     "text": [
      "pred: WithMask  pred_idx:  tensor(0)  probs:  tensor([1.0000e+00, 1.4589e-07])\n",
      "______________________________\n",
      "\n",
      " The image is:  Augmented_320_4942257.png "
     ]
    },
    {
     "data": {
      "text/html": [],
      "text/plain": [
       "<IPython.core.display.HTML object>"
      ]
     },
     "metadata": {},
     "output_type": "display_data"
    },
    {
     "name": "stdout",
     "output_type": "stream",
     "text": [
      "pred: WithMask  pred_idx:  tensor(0)  probs:  tensor([1.0000e+00, 1.9446e-10])\n",
      "______________________________\n",
      "\n",
      " The image is:  Augmented_381_7867997.png "
     ]
    },
    {
     "data": {
      "text/html": [],
      "text/plain": [
       "<IPython.core.display.HTML object>"
      ]
     },
     "metadata": {},
     "output_type": "display_data"
    },
    {
     "name": "stdout",
     "output_type": "stream",
     "text": [
      "pred: WithMask  pred_idx:  tensor(0)  probs:  tensor([1.0000e+00, 2.5583e-12])\n",
      "______________________________\n",
      "\n",
      " The image is:  Augmented_797_8118850.png "
     ]
    },
    {
     "data": {
      "text/html": [],
      "text/plain": [
       "<IPython.core.display.HTML object>"
      ]
     },
     "metadata": {},
     "output_type": "display_data"
    },
    {
     "name": "stdout",
     "output_type": "stream",
     "text": [
      "pred: WithMask  pred_idx:  tensor(0)  probs:  tensor([1.0000e+00, 2.7894e-08])\n",
      "______________________________\n",
      "\n",
      " The image is:  742.png "
     ]
    },
    {
     "data": {
      "text/html": [],
      "text/plain": [
       "<IPython.core.display.HTML object>"
      ]
     },
     "metadata": {},
     "output_type": "display_data"
    },
    {
     "name": "stdout",
     "output_type": "stream",
     "text": [
      "pred: WithMask  pred_idx:  tensor(0)  probs:  tensor([1.0000e+00, 5.6603e-10])\n",
      "______________________________\n",
      "\n",
      " The image is:  Augmented_847_6245094.png "
     ]
    },
    {
     "data": {
      "text/html": [],
      "text/plain": [
       "<IPython.core.display.HTML object>"
      ]
     },
     "metadata": {},
     "output_type": "display_data"
    },
    {
     "name": "stdout",
     "output_type": "stream",
     "text": [
      "pred: WithMask  pred_idx:  tensor(0)  probs:  tensor([1.0000e+00, 9.0439e-07])\n",
      "______________________________\n",
      "\n",
      " The image is:  Augmented_541_812397.png "
     ]
    },
    {
     "data": {
      "text/html": [],
      "text/plain": [
       "<IPython.core.display.HTML object>"
      ]
     },
     "metadata": {},
     "output_type": "display_data"
    },
    {
     "name": "stdout",
     "output_type": "stream",
     "text": [
      "pred: WithMask  pred_idx:  tensor(0)  probs:  tensor([1.0000e+00, 8.9121e-11])\n",
      "______________________________\n",
      "\n",
      " The image is:  Augmented_381_9147363.png "
     ]
    },
    {
     "data": {
      "text/html": [],
      "text/plain": [
       "<IPython.core.display.HTML object>"
      ]
     },
     "metadata": {},
     "output_type": "display_data"
    },
    {
     "name": "stdout",
     "output_type": "stream",
     "text": [
      "pred: WithMask  pred_idx:  tensor(0)  probs:  tensor([1.0000e+00, 2.3450e-09])\n",
      "______________________________\n",
      "\n",
      " The image is:  Augmented_82_8198527.png "
     ]
    },
    {
     "data": {
      "text/html": [],
      "text/plain": [
       "<IPython.core.display.HTML object>"
      ]
     },
     "metadata": {},
     "output_type": "display_data"
    },
    {
     "name": "stdout",
     "output_type": "stream",
     "text": [
      "pred: WithMask  pred_idx:  tensor(0)  probs:  tensor([1.0000e+00, 6.6737e-12])\n",
      "______________________________\n",
      "\n",
      " The image is:  Augmented_559_9982535.png "
     ]
    },
    {
     "data": {
      "text/html": [],
      "text/plain": [
       "<IPython.core.display.HTML object>"
      ]
     },
     "metadata": {},
     "output_type": "display_data"
    },
    {
     "name": "stdout",
     "output_type": "stream",
     "text": [
      "pred: WithMask  pred_idx:  tensor(0)  probs:  tensor([1.0000e+00, 1.3792e-10])\n",
      "______________________________\n",
      "\n",
      " The image is:  Augmented_722_742669.png "
     ]
    },
    {
     "data": {
      "text/html": [],
      "text/plain": [
       "<IPython.core.display.HTML object>"
      ]
     },
     "metadata": {},
     "output_type": "display_data"
    },
    {
     "name": "stdout",
     "output_type": "stream",
     "text": [
      "pred: WithMask  pred_idx:  tensor(0)  probs:  tensor([1.0000e+00, 2.1462e-07])\n",
      "______________________________\n",
      "\n",
      " The image is:  Augmented_133_8515405.png "
     ]
    },
    {
     "data": {
      "text/html": [],
      "text/plain": [
       "<IPython.core.display.HTML object>"
      ]
     },
     "metadata": {},
     "output_type": "display_data"
    },
    {
     "name": "stdout",
     "output_type": "stream",
     "text": [
      "pred: WithMask  pred_idx:  tensor(0)  probs:  tensor([1.0000e+00, 3.2819e-07])\n",
      "______________________________\n",
      "\n",
      " The image is:  Augmented_740_6001.png "
     ]
    },
    {
     "data": {
      "text/html": [],
      "text/plain": [
       "<IPython.core.display.HTML object>"
      ]
     },
     "metadata": {},
     "output_type": "display_data"
    },
    {
     "name": "stdout",
     "output_type": "stream",
     "text": [
      "pred: WithMask  pred_idx:  tensor(0)  probs:  tensor([1.0000e+00, 4.0665e-07])\n",
      "______________________________\n",
      "\n",
      " The image is:  Augmented_874_8372890.png "
     ]
    },
    {
     "data": {
      "text/html": [],
      "text/plain": [
       "<IPython.core.display.HTML object>"
      ]
     },
     "metadata": {},
     "output_type": "display_data"
    },
    {
     "name": "stdout",
     "output_type": "stream",
     "text": [
      "pred: WithMask  pred_idx:  tensor(0)  probs:  tensor([1.0000e+00, 3.5992e-07])\n",
      "______________________________\n",
      "\n",
      " The image is:  Augmented_323_5712323.png "
     ]
    },
    {
     "data": {
      "text/html": [],
      "text/plain": [
       "<IPython.core.display.HTML object>"
      ]
     },
     "metadata": {},
     "output_type": "display_data"
    },
    {
     "name": "stdout",
     "output_type": "stream",
     "text": [
      "pred: WithMask  pred_idx:  tensor(0)  probs:  tensor([1.0000e+00, 6.6459e-09])\n",
      "______________________________\n",
      "\n",
      " The image is:  Augmented_665_116492.png "
     ]
    },
    {
     "data": {
      "text/html": [],
      "text/plain": [
       "<IPython.core.display.HTML object>"
      ]
     },
     "metadata": {},
     "output_type": "display_data"
    },
    {
     "name": "stdout",
     "output_type": "stream",
     "text": [
      "pred: WithMask  pred_idx:  tensor(0)  probs:  tensor([1.0000e+00, 9.8299e-09])\n",
      "______________________________\n",
      "\n",
      " The image is:  Augmented_13_9945827.png "
     ]
    },
    {
     "data": {
      "text/html": [],
      "text/plain": [
       "<IPython.core.display.HTML object>"
      ]
     },
     "metadata": {},
     "output_type": "display_data"
    },
    {
     "name": "stdout",
     "output_type": "stream",
     "text": [
      "pred: WithMask  pred_idx:  tensor(0)  probs:  tensor([1.0000e+00, 1.2936e-08])\n",
      "______________________________\n",
      "\n",
      " The image is:  Augmented_79_1641944.png "
     ]
    },
    {
     "data": {
      "text/html": [],
      "text/plain": [
       "<IPython.core.display.HTML object>"
      ]
     },
     "metadata": {},
     "output_type": "display_data"
    },
    {
     "name": "stdout",
     "output_type": "stream",
     "text": [
      "pred: WithMask  pred_idx:  tensor(0)  probs:  tensor([1.0000e+00, 2.9355e-08])\n",
      "______________________________\n",
      "\n",
      " The image is:  1163.png "
     ]
    },
    {
     "data": {
      "text/html": [],
      "text/plain": [
       "<IPython.core.display.HTML object>"
      ]
     },
     "metadata": {},
     "output_type": "display_data"
    },
    {
     "name": "stdout",
     "output_type": "stream",
     "text": [
      "pred: WithMask  pred_idx:  tensor(0)  probs:  tensor([1.0000e+00, 1.0792e-07])\n",
      "______________________________\n",
      "\n",
      " The image is:  Augmented_99_5504654.png "
     ]
    },
    {
     "data": {
      "text/html": [],
      "text/plain": [
       "<IPython.core.display.HTML object>"
      ]
     },
     "metadata": {},
     "output_type": "display_data"
    },
    {
     "name": "stdout",
     "output_type": "stream",
     "text": [
      "pred: WithMask  pred_idx:  tensor(0)  probs:  tensor([1.0000e+00, 2.2431e-07])\n",
      "______________________________\n",
      "\n",
      " The image is:  Augmented_297_6884580.png "
     ]
    },
    {
     "data": {
      "text/html": [],
      "text/plain": [
       "<IPython.core.display.HTML object>"
      ]
     },
     "metadata": {},
     "output_type": "display_data"
    },
    {
     "name": "stdout",
     "output_type": "stream",
     "text": [
      "pred: WithMask  pred_idx:  tensor(0)  probs:  tensor([1.0000e+00, 5.9187e-11])\n",
      "______________________________\n",
      "\n",
      " The image is:  Augmented_804_4243225.png "
     ]
    },
    {
     "data": {
      "text/html": [],
      "text/plain": [
       "<IPython.core.display.HTML object>"
      ]
     },
     "metadata": {},
     "output_type": "display_data"
    },
    {
     "name": "stdout",
     "output_type": "stream",
     "text": [
      "pred: WithMask  pred_idx:  tensor(0)  probs:  tensor([1.0000e+00, 1.1522e-09])\n",
      "______________________________\n",
      "\n",
      " The image is:  Augmented_238_3915124.png "
     ]
    },
    {
     "data": {
      "text/html": [],
      "text/plain": [
       "<IPython.core.display.HTML object>"
      ]
     },
     "metadata": {},
     "output_type": "display_data"
    },
    {
     "name": "stdout",
     "output_type": "stream",
     "text": [
      "pred: WithMask  pred_idx:  tensor(0)  probs:  tensor([1.0000e+00, 2.5859e-07])\n",
      "______________________________\n",
      "\n",
      " The image is:  557.png "
     ]
    },
    {
     "data": {
      "text/html": [],
      "text/plain": [
       "<IPython.core.display.HTML object>"
      ]
     },
     "metadata": {},
     "output_type": "display_data"
    },
    {
     "name": "stdout",
     "output_type": "stream",
     "text": [
      "pred: WithMask  pred_idx:  tensor(0)  probs:  tensor([1.0000e+00, 3.6740e-08])\n",
      "______________________________\n",
      "\n",
      " The image is:  1362.png "
     ]
    },
    {
     "data": {
      "text/html": [],
      "text/plain": [
       "<IPython.core.display.HTML object>"
      ]
     },
     "metadata": {},
     "output_type": "display_data"
    },
    {
     "name": "stdout",
     "output_type": "stream",
     "text": [
      "pred: WithMask  pred_idx:  tensor(0)  probs:  tensor([1.0000e+00, 4.7114e-13])\n",
      "______________________________\n",
      "\n",
      " The image is:  Augmented_434_7331768.png "
     ]
    },
    {
     "data": {
      "text/html": [],
      "text/plain": [
       "<IPython.core.display.HTML object>"
      ]
     },
     "metadata": {},
     "output_type": "display_data"
    },
    {
     "name": "stdout",
     "output_type": "stream",
     "text": [
      "pred: WithMask  pred_idx:  tensor(0)  probs:  tensor([1.0000e+00, 8.6636e-09])\n",
      "______________________________\n",
      "\n",
      " The image is:  Augmented_445_7982531.png "
     ]
    },
    {
     "data": {
      "text/html": [],
      "text/plain": [
       "<IPython.core.display.HTML object>"
      ]
     },
     "metadata": {},
     "output_type": "display_data"
    },
    {
     "name": "stdout",
     "output_type": "stream",
     "text": [
      "pred: WithMask  pred_idx:  tensor(0)  probs:  tensor([1.0000e+00, 2.9479e-09])\n",
      "______________________________\n",
      "\n",
      " The image is:  Augmented_402_75116.png "
     ]
    },
    {
     "data": {
      "text/html": [],
      "text/plain": [
       "<IPython.core.display.HTML object>"
      ]
     },
     "metadata": {},
     "output_type": "display_data"
    },
    {
     "name": "stdout",
     "output_type": "stream",
     "text": [
      "pred: WithMask  pred_idx:  tensor(0)  probs:  tensor([1.0000e+00, 1.9251e-11])\n",
      "______________________________\n",
      "\n",
      " The image is:  Augmented_342_4906195.png "
     ]
    },
    {
     "data": {
      "text/html": [],
      "text/plain": [
       "<IPython.core.display.HTML object>"
      ]
     },
     "metadata": {},
     "output_type": "display_data"
    },
    {
     "name": "stdout",
     "output_type": "stream",
     "text": [
      "pred: WithMask  pred_idx:  tensor(0)  probs:  tensor([1.0000e+00, 8.1128e-12])\n",
      "______________________________\n"
     ]
    }
   ],
   "source": [
    "#This cell iterates over all pictures in the test sets, around 400\n",
    "#The module has never seen the images, therefore, the predication is reliable\n",
    "#All pictures in this category are with mask, therefore, the prediction should be \"WithMask\"\n",
    "imgPath = Path(\"Test/WithMask\")\n",
    "for image in os.listdir(imgPath):\n",
    "    if image.endswith(\".png\"):\n",
    "        testImagePath = Path(imgPath/image)\n",
    "        print(\"\\n\",\"The image is: \", image,end =\" \")\n",
    "        pred,pred_idx,probs = learn2.predict(testImagePath)\n",
    "        print(\"pred:\",str(pred),\" pred_idx: \",str(pred_idx), \" probs: \", str(probs))\n",
    "        print(\"______________________________\")"
   ]
  },
  {
   "cell_type": "code",
   "execution_count": 121,
   "metadata": {},
   "outputs": [
    {
     "data": {
      "text/html": [],
      "text/plain": [
       "<IPython.core.display.HTML object>"
      ]
     },
     "metadata": {},
     "output_type": "display_data"
    },
    {
     "name": "stdout",
     "output_type": "stream",
     "text": [
      "pred: WithoutMask  pred_idx:  tensor(1)  probs:  tensor([8.7407e-11, 1.0000e+00])\n"
     ]
    },
    {
     "data": {
      "text/html": [],
      "text/plain": [
       "<IPython.core.display.HTML object>"
      ]
     },
     "metadata": {},
     "output_type": "display_data"
    },
    {
     "name": "stdout",
     "output_type": "stream",
     "text": [
      "pred: WithoutMask  pred_idx:  tensor(1)  probs:  tensor([3.1118e-10, 1.0000e+00])\n"
     ]
    },
    {
     "data": {
      "text/html": [],
      "text/plain": [
       "<IPython.core.display.HTML object>"
      ]
     },
     "metadata": {},
     "output_type": "display_data"
    },
    {
     "name": "stdout",
     "output_type": "stream",
     "text": [
      "pred: WithoutMask  pred_idx:  tensor(1)  probs:  tensor([6.4261e-07, 1.0000e+00])\n"
     ]
    },
    {
     "data": {
      "text/html": [],
      "text/plain": [
       "<IPython.core.display.HTML object>"
      ]
     },
     "metadata": {},
     "output_type": "display_data"
    },
    {
     "name": "stdout",
     "output_type": "stream",
     "text": [
      "pred: WithoutMask  pred_idx:  tensor(1)  probs:  tensor([4.2386e-07, 1.0000e+00])\n"
     ]
    },
    {
     "data": {
      "text/html": [],
      "text/plain": [
       "<IPython.core.display.HTML object>"
      ]
     },
     "metadata": {},
     "output_type": "display_data"
    },
    {
     "name": "stdout",
     "output_type": "stream",
     "text": [
      "pred: WithoutMask  pred_idx:  tensor(1)  probs:  tensor([2.7368e-08, 1.0000e+00])\n"
     ]
    },
    {
     "data": {
      "text/html": [],
      "text/plain": [
       "<IPython.core.display.HTML object>"
      ]
     },
     "metadata": {},
     "output_type": "display_data"
    },
    {
     "name": "stdout",
     "output_type": "stream",
     "text": [
      "pred: WithoutMask  pred_idx:  tensor(1)  probs:  tensor([4.0331e-09, 1.0000e+00])\n"
     ]
    },
    {
     "data": {
      "text/html": [],
      "text/plain": [
       "<IPython.core.display.HTML object>"
      ]
     },
     "metadata": {},
     "output_type": "display_data"
    },
    {
     "name": "stdout",
     "output_type": "stream",
     "text": [
      "pred: WithoutMask  pred_idx:  tensor(1)  probs:  tensor([5.5837e-09, 1.0000e+00])\n"
     ]
    },
    {
     "data": {
      "text/html": [],
      "text/plain": [
       "<IPython.core.display.HTML object>"
      ]
     },
     "metadata": {},
     "output_type": "display_data"
    },
    {
     "name": "stdout",
     "output_type": "stream",
     "text": [
      "pred: WithoutMask  pred_idx:  tensor(1)  probs:  tensor([3.9550e-09, 1.0000e+00])\n"
     ]
    },
    {
     "data": {
      "text/html": [],
      "text/plain": [
       "<IPython.core.display.HTML object>"
      ]
     },
     "metadata": {},
     "output_type": "display_data"
    },
    {
     "name": "stdout",
     "output_type": "stream",
     "text": [
      "pred: WithoutMask  pred_idx:  tensor(1)  probs:  tensor([6.6700e-09, 1.0000e+00])\n"
     ]
    },
    {
     "data": {
      "text/html": [],
      "text/plain": [
       "<IPython.core.display.HTML object>"
      ]
     },
     "metadata": {},
     "output_type": "display_data"
    },
    {
     "name": "stdout",
     "output_type": "stream",
     "text": [
      "pred: WithoutMask  pred_idx:  tensor(1)  probs:  tensor([8.7194e-11, 1.0000e+00])\n"
     ]
    },
    {
     "data": {
      "text/html": [],
      "text/plain": [
       "<IPython.core.display.HTML object>"
      ]
     },
     "metadata": {},
     "output_type": "display_data"
    },
    {
     "name": "stdout",
     "output_type": "stream",
     "text": [
      "pred: WithoutMask  pred_idx:  tensor(1)  probs:  tensor([1.1697e-08, 1.0000e+00])\n"
     ]
    },
    {
     "data": {
      "text/html": [],
      "text/plain": [
       "<IPython.core.display.HTML object>"
      ]
     },
     "metadata": {},
     "output_type": "display_data"
    },
    {
     "name": "stdout",
     "output_type": "stream",
     "text": [
      "pred: WithoutMask  pred_idx:  tensor(1)  probs:  tensor([2.3038e-07, 1.0000e+00])\n"
     ]
    },
    {
     "data": {
      "text/html": [],
      "text/plain": [
       "<IPython.core.display.HTML object>"
      ]
     },
     "metadata": {},
     "output_type": "display_data"
    },
    {
     "name": "stdout",
     "output_type": "stream",
     "text": [
      "pred: WithoutMask  pred_idx:  tensor(1)  probs:  tensor([7.9374e-09, 1.0000e+00])\n"
     ]
    },
    {
     "data": {
      "text/html": [],
      "text/plain": [
       "<IPython.core.display.HTML object>"
      ]
     },
     "metadata": {},
     "output_type": "display_data"
    },
    {
     "name": "stdout",
     "output_type": "stream",
     "text": [
      "pred: WithoutMask  pred_idx:  tensor(1)  probs:  tensor([4.6182e-13, 1.0000e+00])\n"
     ]
    },
    {
     "data": {
      "text/html": [],
      "text/plain": [
       "<IPython.core.display.HTML object>"
      ]
     },
     "metadata": {},
     "output_type": "display_data"
    },
    {
     "name": "stdout",
     "output_type": "stream",
     "text": [
      "pred: WithoutMask  pred_idx:  tensor(1)  probs:  tensor([6.3164e-09, 1.0000e+00])\n"
     ]
    },
    {
     "data": {
      "text/html": [],
      "text/plain": [
       "<IPython.core.display.HTML object>"
      ]
     },
     "metadata": {},
     "output_type": "display_data"
    },
    {
     "name": "stdout",
     "output_type": "stream",
     "text": [
      "pred: WithoutMask  pred_idx:  tensor(1)  probs:  tensor([4.6504e-08, 1.0000e+00])\n"
     ]
    },
    {
     "data": {
      "text/html": [],
      "text/plain": [
       "<IPython.core.display.HTML object>"
      ]
     },
     "metadata": {},
     "output_type": "display_data"
    },
    {
     "name": "stdout",
     "output_type": "stream",
     "text": [
      "pred: WithoutMask  pred_idx:  tensor(1)  probs:  tensor([1.4045e-07, 1.0000e+00])\n"
     ]
    },
    {
     "data": {
      "text/html": [],
      "text/plain": [
       "<IPython.core.display.HTML object>"
      ]
     },
     "metadata": {},
     "output_type": "display_data"
    },
    {
     "name": "stdout",
     "output_type": "stream",
     "text": [
      "pred: WithoutMask  pred_idx:  tensor(1)  probs:  tensor([1.3222e-07, 1.0000e+00])\n"
     ]
    },
    {
     "data": {
      "text/html": [],
      "text/plain": [
       "<IPython.core.display.HTML object>"
      ]
     },
     "metadata": {},
     "output_type": "display_data"
    },
    {
     "name": "stdout",
     "output_type": "stream",
     "text": [
      "pred: WithoutMask  pred_idx:  tensor(1)  probs:  tensor([1.9062e-07, 1.0000e+00])\n"
     ]
    },
    {
     "data": {
      "text/html": [],
      "text/plain": [
       "<IPython.core.display.HTML object>"
      ]
     },
     "metadata": {},
     "output_type": "display_data"
    },
    {
     "name": "stdout",
     "output_type": "stream",
     "text": [
      "pred: WithoutMask  pred_idx:  tensor(1)  probs:  tensor([1.1578e-10, 1.0000e+00])\n"
     ]
    },
    {
     "data": {
      "text/html": [],
      "text/plain": [
       "<IPython.core.display.HTML object>"
      ]
     },
     "metadata": {},
     "output_type": "display_data"
    },
    {
     "name": "stdout",
     "output_type": "stream",
     "text": [
      "pred: WithoutMask  pred_idx:  tensor(1)  probs:  tensor([1.2866e-08, 1.0000e+00])\n"
     ]
    },
    {
     "data": {
      "text/html": [],
      "text/plain": [
       "<IPython.core.display.HTML object>"
      ]
     },
     "metadata": {},
     "output_type": "display_data"
    },
    {
     "name": "stdout",
     "output_type": "stream",
     "text": [
      "pred: WithoutMask  pred_idx:  tensor(1)  probs:  tensor([9.5983e-12, 1.0000e+00])\n"
     ]
    },
    {
     "data": {
      "text/html": [],
      "text/plain": [
       "<IPython.core.display.HTML object>"
      ]
     },
     "metadata": {},
     "output_type": "display_data"
    },
    {
     "name": "stdout",
     "output_type": "stream",
     "text": [
      "pred: WithoutMask  pred_idx:  tensor(1)  probs:  tensor([1.1240e-08, 1.0000e+00])\n"
     ]
    },
    {
     "data": {
      "text/html": [],
      "text/plain": [
       "<IPython.core.display.HTML object>"
      ]
     },
     "metadata": {},
     "output_type": "display_data"
    },
    {
     "name": "stdout",
     "output_type": "stream",
     "text": [
      "pred: WithoutMask  pred_idx:  tensor(1)  probs:  tensor([7.5781e-08, 1.0000e+00])\n"
     ]
    },
    {
     "data": {
      "text/html": [],
      "text/plain": [
       "<IPython.core.display.HTML object>"
      ]
     },
     "metadata": {},
     "output_type": "display_data"
    },
    {
     "name": "stdout",
     "output_type": "stream",
     "text": [
      "pred: WithoutMask  pred_idx:  tensor(1)  probs:  tensor([6.0212e-07, 1.0000e+00])\n"
     ]
    },
    {
     "data": {
      "text/html": [],
      "text/plain": [
       "<IPython.core.display.HTML object>"
      ]
     },
     "metadata": {},
     "output_type": "display_data"
    },
    {
     "name": "stdout",
     "output_type": "stream",
     "text": [
      "pred: WithoutMask  pred_idx:  tensor(1)  probs:  tensor([4.1863e-09, 1.0000e+00])\n"
     ]
    },
    {
     "data": {
      "text/html": [],
      "text/plain": [
       "<IPython.core.display.HTML object>"
      ]
     },
     "metadata": {},
     "output_type": "display_data"
    },
    {
     "name": "stdout",
     "output_type": "stream",
     "text": [
      "pred: WithoutMask  pred_idx:  tensor(1)  probs:  tensor([1.5296e-09, 1.0000e+00])\n"
     ]
    },
    {
     "data": {
      "text/html": [],
      "text/plain": [
       "<IPython.core.display.HTML object>"
      ]
     },
     "metadata": {},
     "output_type": "display_data"
    },
    {
     "name": "stdout",
     "output_type": "stream",
     "text": [
      "pred: WithoutMask  pred_idx:  tensor(1)  probs:  tensor([2.0140e-11, 1.0000e+00])\n"
     ]
    },
    {
     "data": {
      "text/html": [],
      "text/plain": [
       "<IPython.core.display.HTML object>"
      ]
     },
     "metadata": {},
     "output_type": "display_data"
    },
    {
     "name": "stdout",
     "output_type": "stream",
     "text": [
      "pred: WithoutMask  pred_idx:  tensor(1)  probs:  tensor([5.0989e-09, 1.0000e+00])\n"
     ]
    },
    {
     "data": {
      "text/html": [],
      "text/plain": [
       "<IPython.core.display.HTML object>"
      ]
     },
     "metadata": {},
     "output_type": "display_data"
    },
    {
     "name": "stdout",
     "output_type": "stream",
     "text": [
      "pred: WithoutMask  pred_idx:  tensor(1)  probs:  tensor([1.2867e-10, 1.0000e+00])\n"
     ]
    },
    {
     "data": {
      "text/html": [],
      "text/plain": [
       "<IPython.core.display.HTML object>"
      ]
     },
     "metadata": {},
     "output_type": "display_data"
    },
    {
     "name": "stdout",
     "output_type": "stream",
     "text": [
      "pred: WithoutMask  pred_idx:  tensor(1)  probs:  tensor([1.9126e-08, 1.0000e+00])\n"
     ]
    },
    {
     "data": {
      "text/html": [],
      "text/plain": [
       "<IPython.core.display.HTML object>"
      ]
     },
     "metadata": {},
     "output_type": "display_data"
    },
    {
     "name": "stdout",
     "output_type": "stream",
     "text": [
      "pred: WithoutMask  pred_idx:  tensor(1)  probs:  tensor([2.5568e-07, 1.0000e+00])\n"
     ]
    },
    {
     "data": {
      "text/html": [],
      "text/plain": [
       "<IPython.core.display.HTML object>"
      ]
     },
     "metadata": {},
     "output_type": "display_data"
    },
    {
     "name": "stdout",
     "output_type": "stream",
     "text": [
      "pred: WithoutMask  pred_idx:  tensor(1)  probs:  tensor([1.2164e-08, 1.0000e+00])\n"
     ]
    },
    {
     "data": {
      "text/html": [],
      "text/plain": [
       "<IPython.core.display.HTML object>"
      ]
     },
     "metadata": {},
     "output_type": "display_data"
    },
    {
     "name": "stdout",
     "output_type": "stream",
     "text": [
      "pred: WithoutMask  pred_idx:  tensor(1)  probs:  tensor([5.5461e-11, 1.0000e+00])\n"
     ]
    },
    {
     "data": {
      "text/html": [],
      "text/plain": [
       "<IPython.core.display.HTML object>"
      ]
     },
     "metadata": {},
     "output_type": "display_data"
    },
    {
     "name": "stdout",
     "output_type": "stream",
     "text": [
      "pred: WithoutMask  pred_idx:  tensor(1)  probs:  tensor([2.7172e-12, 1.0000e+00])\n"
     ]
    },
    {
     "data": {
      "text/html": [],
      "text/plain": [
       "<IPython.core.display.HTML object>"
      ]
     },
     "metadata": {},
     "output_type": "display_data"
    },
    {
     "name": "stdout",
     "output_type": "stream",
     "text": [
      "pred: WithoutMask  pred_idx:  tensor(1)  probs:  tensor([4.5295e-07, 1.0000e+00])\n"
     ]
    },
    {
     "data": {
      "text/html": [],
      "text/plain": [
       "<IPython.core.display.HTML object>"
      ]
     },
     "metadata": {},
     "output_type": "display_data"
    },
    {
     "name": "stdout",
     "output_type": "stream",
     "text": [
      "pred: WithoutMask  pred_idx:  tensor(1)  probs:  tensor([5.6664e-09, 1.0000e+00])\n"
     ]
    },
    {
     "data": {
      "text/html": [],
      "text/plain": [
       "<IPython.core.display.HTML object>"
      ]
     },
     "metadata": {},
     "output_type": "display_data"
    },
    {
     "name": "stdout",
     "output_type": "stream",
     "text": [
      "pred: WithoutMask  pred_idx:  tensor(1)  probs:  tensor([6.0431e-09, 1.0000e+00])\n"
     ]
    },
    {
     "data": {
      "text/html": [],
      "text/plain": [
       "<IPython.core.display.HTML object>"
      ]
     },
     "metadata": {},
     "output_type": "display_data"
    },
    {
     "name": "stdout",
     "output_type": "stream",
     "text": [
      "pred: WithoutMask  pred_idx:  tensor(1)  probs:  tensor([4.2811e-12, 1.0000e+00])\n"
     ]
    },
    {
     "data": {
      "text/html": [],
      "text/plain": [
       "<IPython.core.display.HTML object>"
      ]
     },
     "metadata": {},
     "output_type": "display_data"
    },
    {
     "name": "stdout",
     "output_type": "stream",
     "text": [
      "pred: WithoutMask  pred_idx:  tensor(1)  probs:  tensor([3.2436e-09, 1.0000e+00])\n"
     ]
    },
    {
     "data": {
      "text/html": [],
      "text/plain": [
       "<IPython.core.display.HTML object>"
      ]
     },
     "metadata": {},
     "output_type": "display_data"
    },
    {
     "name": "stdout",
     "output_type": "stream",
     "text": [
      "pred: WithoutMask  pred_idx:  tensor(1)  probs:  tensor([7.3499e-07, 1.0000e+00])\n"
     ]
    },
    {
     "data": {
      "text/html": [],
      "text/plain": [
       "<IPython.core.display.HTML object>"
      ]
     },
     "metadata": {},
     "output_type": "display_data"
    },
    {
     "name": "stdout",
     "output_type": "stream",
     "text": [
      "pred: WithoutMask  pred_idx:  tensor(1)  probs:  tensor([3.2271e-11, 1.0000e+00])\n"
     ]
    },
    {
     "data": {
      "text/html": [],
      "text/plain": [
       "<IPython.core.display.HTML object>"
      ]
     },
     "metadata": {},
     "output_type": "display_data"
    },
    {
     "name": "stdout",
     "output_type": "stream",
     "text": [
      "pred: WithoutMask  pred_idx:  tensor(1)  probs:  tensor([8.7854e-08, 1.0000e+00])\n"
     ]
    },
    {
     "data": {
      "text/html": [],
      "text/plain": [
       "<IPython.core.display.HTML object>"
      ]
     },
     "metadata": {},
     "output_type": "display_data"
    },
    {
     "name": "stdout",
     "output_type": "stream",
     "text": [
      "pred: WithoutMask  pred_idx:  tensor(1)  probs:  tensor([4.3089e-12, 1.0000e+00])\n"
     ]
    },
    {
     "data": {
      "text/html": [],
      "text/plain": [
       "<IPython.core.display.HTML object>"
      ]
     },
     "metadata": {},
     "output_type": "display_data"
    },
    {
     "name": "stdout",
     "output_type": "stream",
     "text": [
      "pred: WithoutMask  pred_idx:  tensor(1)  probs:  tensor([6.0870e-08, 1.0000e+00])\n"
     ]
    },
    {
     "data": {
      "text/html": [],
      "text/plain": [
       "<IPython.core.display.HTML object>"
      ]
     },
     "metadata": {},
     "output_type": "display_data"
    },
    {
     "name": "stdout",
     "output_type": "stream",
     "text": [
      "pred: WithoutMask  pred_idx:  tensor(1)  probs:  tensor([4.4641e-08, 1.0000e+00])\n"
     ]
    },
    {
     "data": {
      "text/html": [],
      "text/plain": [
       "<IPython.core.display.HTML object>"
      ]
     },
     "metadata": {},
     "output_type": "display_data"
    },
    {
     "name": "stdout",
     "output_type": "stream",
     "text": [
      "pred: WithoutMask  pred_idx:  tensor(1)  probs:  tensor([1.6713e-09, 1.0000e+00])\n"
     ]
    },
    {
     "data": {
      "text/html": [],
      "text/plain": [
       "<IPython.core.display.HTML object>"
      ]
     },
     "metadata": {},
     "output_type": "display_data"
    },
    {
     "name": "stdout",
     "output_type": "stream",
     "text": [
      "pred: WithoutMask  pred_idx:  tensor(1)  probs:  tensor([2.3278e-10, 1.0000e+00])\n"
     ]
    },
    {
     "data": {
      "text/html": [],
      "text/plain": [
       "<IPython.core.display.HTML object>"
      ]
     },
     "metadata": {},
     "output_type": "display_data"
    },
    {
     "name": "stdout",
     "output_type": "stream",
     "text": [
      "pred: WithoutMask  pred_idx:  tensor(1)  probs:  tensor([2.4569e-09, 1.0000e+00])\n"
     ]
    },
    {
     "data": {
      "text/html": [],
      "text/plain": [
       "<IPython.core.display.HTML object>"
      ]
     },
     "metadata": {},
     "output_type": "display_data"
    },
    {
     "name": "stdout",
     "output_type": "stream",
     "text": [
      "pred: WithoutMask  pred_idx:  tensor(1)  probs:  tensor([2.6344e-11, 1.0000e+00])\n"
     ]
    },
    {
     "data": {
      "text/html": [],
      "text/plain": [
       "<IPython.core.display.HTML object>"
      ]
     },
     "metadata": {},
     "output_type": "display_data"
    },
    {
     "name": "stdout",
     "output_type": "stream",
     "text": [
      "pred: WithoutMask  pred_idx:  tensor(1)  probs:  tensor([9.0136e-07, 1.0000e+00])\n"
     ]
    },
    {
     "data": {
      "text/html": [],
      "text/plain": [
       "<IPython.core.display.HTML object>"
      ]
     },
     "metadata": {},
     "output_type": "display_data"
    },
    {
     "name": "stdout",
     "output_type": "stream",
     "text": [
      "pred: WithoutMask  pred_idx:  tensor(1)  probs:  tensor([7.0638e-08, 1.0000e+00])\n"
     ]
    },
    {
     "data": {
      "text/html": [],
      "text/plain": [
       "<IPython.core.display.HTML object>"
      ]
     },
     "metadata": {},
     "output_type": "display_data"
    },
    {
     "name": "stdout",
     "output_type": "stream",
     "text": [
      "pred: WithoutMask  pred_idx:  tensor(1)  probs:  tensor([1.0418e-08, 1.0000e+00])\n"
     ]
    },
    {
     "data": {
      "text/html": [],
      "text/plain": [
       "<IPython.core.display.HTML object>"
      ]
     },
     "metadata": {},
     "output_type": "display_data"
    },
    {
     "name": "stdout",
     "output_type": "stream",
     "text": [
      "pred: WithoutMask  pred_idx:  tensor(1)  probs:  tensor([2.5161e-11, 1.0000e+00])\n"
     ]
    },
    {
     "data": {
      "text/html": [],
      "text/plain": [
       "<IPython.core.display.HTML object>"
      ]
     },
     "metadata": {},
     "output_type": "display_data"
    },
    {
     "name": "stdout",
     "output_type": "stream",
     "text": [
      "pred: WithoutMask  pred_idx:  tensor(1)  probs:  tensor([1.6018e-11, 1.0000e+00])\n"
     ]
    },
    {
     "data": {
      "text/html": [],
      "text/plain": [
       "<IPython.core.display.HTML object>"
      ]
     },
     "metadata": {},
     "output_type": "display_data"
    },
    {
     "name": "stdout",
     "output_type": "stream",
     "text": [
      "pred: WithoutMask  pred_idx:  tensor(1)  probs:  tensor([6.2352e-09, 1.0000e+00])\n"
     ]
    },
    {
     "data": {
      "text/html": [],
      "text/plain": [
       "<IPython.core.display.HTML object>"
      ]
     },
     "metadata": {},
     "output_type": "display_data"
    },
    {
     "name": "stdout",
     "output_type": "stream",
     "text": [
      "pred: WithoutMask  pred_idx:  tensor(1)  probs:  tensor([2.3993e-10, 1.0000e+00])\n"
     ]
    },
    {
     "data": {
      "text/html": [],
      "text/plain": [
       "<IPython.core.display.HTML object>"
      ]
     },
     "metadata": {},
     "output_type": "display_data"
    },
    {
     "name": "stdout",
     "output_type": "stream",
     "text": [
      "pred: WithoutMask  pred_idx:  tensor(1)  probs:  tensor([5.9271e-08, 1.0000e+00])\n"
     ]
    },
    {
     "data": {
      "text/html": [],
      "text/plain": [
       "<IPython.core.display.HTML object>"
      ]
     },
     "metadata": {},
     "output_type": "display_data"
    },
    {
     "name": "stdout",
     "output_type": "stream",
     "text": [
      "pred: WithoutMask  pred_idx:  tensor(1)  probs:  tensor([1.2698e-09, 1.0000e+00])\n"
     ]
    },
    {
     "data": {
      "text/html": [],
      "text/plain": [
       "<IPython.core.display.HTML object>"
      ]
     },
     "metadata": {},
     "output_type": "display_data"
    },
    {
     "name": "stdout",
     "output_type": "stream",
     "text": [
      "pred: WithoutMask  pred_idx:  tensor(1)  probs:  tensor([8.2625e-11, 1.0000e+00])\n"
     ]
    },
    {
     "data": {
      "text/html": [],
      "text/plain": [
       "<IPython.core.display.HTML object>"
      ]
     },
     "metadata": {},
     "output_type": "display_data"
    },
    {
     "name": "stdout",
     "output_type": "stream",
     "text": [
      "pred: WithoutMask  pred_idx:  tensor(1)  probs:  tensor([5.2600e-09, 1.0000e+00])\n"
     ]
    },
    {
     "data": {
      "text/html": [],
      "text/plain": [
       "<IPython.core.display.HTML object>"
      ]
     },
     "metadata": {},
     "output_type": "display_data"
    },
    {
     "name": "stdout",
     "output_type": "stream",
     "text": [
      "pred: WithoutMask  pred_idx:  tensor(1)  probs:  tensor([6.3689e-12, 1.0000e+00])\n"
     ]
    },
    {
     "data": {
      "text/html": [],
      "text/plain": [
       "<IPython.core.display.HTML object>"
      ]
     },
     "metadata": {},
     "output_type": "display_data"
    },
    {
     "name": "stdout",
     "output_type": "stream",
     "text": [
      "pred: WithoutMask  pred_idx:  tensor(1)  probs:  tensor([1.5752e-11, 1.0000e+00])\n"
     ]
    },
    {
     "data": {
      "text/html": [],
      "text/plain": [
       "<IPython.core.display.HTML object>"
      ]
     },
     "metadata": {},
     "output_type": "display_data"
    },
    {
     "name": "stdout",
     "output_type": "stream",
     "text": [
      "pred: WithoutMask  pred_idx:  tensor(1)  probs:  tensor([7.3019e-09, 1.0000e+00])\n"
     ]
    },
    {
     "data": {
      "text/html": [],
      "text/plain": [
       "<IPython.core.display.HTML object>"
      ]
     },
     "metadata": {},
     "output_type": "display_data"
    },
    {
     "name": "stdout",
     "output_type": "stream",
     "text": [
      "pred: WithoutMask  pred_idx:  tensor(1)  probs:  tensor([1.5471e-09, 1.0000e+00])\n"
     ]
    },
    {
     "data": {
      "text/html": [],
      "text/plain": [
       "<IPython.core.display.HTML object>"
      ]
     },
     "metadata": {},
     "output_type": "display_data"
    },
    {
     "name": "stdout",
     "output_type": "stream",
     "text": [
      "pred: WithoutMask  pred_idx:  tensor(1)  probs:  tensor([1.0354e-08, 1.0000e+00])\n"
     ]
    },
    {
     "data": {
      "text/html": [],
      "text/plain": [
       "<IPython.core.display.HTML object>"
      ]
     },
     "metadata": {},
     "output_type": "display_data"
    },
    {
     "name": "stdout",
     "output_type": "stream",
     "text": [
      "pred: WithoutMask  pred_idx:  tensor(1)  probs:  tensor([3.9858e-09, 1.0000e+00])\n"
     ]
    },
    {
     "data": {
      "text/html": [],
      "text/plain": [
       "<IPython.core.display.HTML object>"
      ]
     },
     "metadata": {},
     "output_type": "display_data"
    },
    {
     "name": "stdout",
     "output_type": "stream",
     "text": [
      "pred: WithoutMask  pred_idx:  tensor(1)  probs:  tensor([1.3855e-10, 1.0000e+00])\n"
     ]
    },
    {
     "data": {
      "text/html": [],
      "text/plain": [
       "<IPython.core.display.HTML object>"
      ]
     },
     "metadata": {},
     "output_type": "display_data"
    },
    {
     "name": "stdout",
     "output_type": "stream",
     "text": [
      "pred: WithoutMask  pred_idx:  tensor(1)  probs:  tensor([3.4834e-11, 1.0000e+00])\n"
     ]
    },
    {
     "data": {
      "text/html": [],
      "text/plain": [
       "<IPython.core.display.HTML object>"
      ]
     },
     "metadata": {},
     "output_type": "display_data"
    },
    {
     "name": "stdout",
     "output_type": "stream",
     "text": [
      "pred: WithoutMask  pred_idx:  tensor(1)  probs:  tensor([4.6675e-07, 1.0000e+00])\n"
     ]
    },
    {
     "data": {
      "text/html": [],
      "text/plain": [
       "<IPython.core.display.HTML object>"
      ]
     },
     "metadata": {},
     "output_type": "display_data"
    },
    {
     "name": "stdout",
     "output_type": "stream",
     "text": [
      "pred: WithoutMask  pred_idx:  tensor(1)  probs:  tensor([1.7832e-13, 1.0000e+00])\n"
     ]
    },
    {
     "data": {
      "text/html": [],
      "text/plain": [
       "<IPython.core.display.HTML object>"
      ]
     },
     "metadata": {},
     "output_type": "display_data"
    },
    {
     "name": "stdout",
     "output_type": "stream",
     "text": [
      "pred: WithoutMask  pred_idx:  tensor(1)  probs:  tensor([5.6061e-10, 1.0000e+00])\n"
     ]
    },
    {
     "data": {
      "text/html": [],
      "text/plain": [
       "<IPython.core.display.HTML object>"
      ]
     },
     "metadata": {},
     "output_type": "display_data"
    },
    {
     "name": "stdout",
     "output_type": "stream",
     "text": [
      "pred: WithoutMask  pred_idx:  tensor(1)  probs:  tensor([1.3472e-09, 1.0000e+00])\n"
     ]
    },
    {
     "data": {
      "text/html": [],
      "text/plain": [
       "<IPython.core.display.HTML object>"
      ]
     },
     "metadata": {},
     "output_type": "display_data"
    },
    {
     "name": "stdout",
     "output_type": "stream",
     "text": [
      "pred: WithoutMask  pred_idx:  tensor(1)  probs:  tensor([2.0559e-09, 1.0000e+00])\n"
     ]
    },
    {
     "data": {
      "text/html": [],
      "text/plain": [
       "<IPython.core.display.HTML object>"
      ]
     },
     "metadata": {},
     "output_type": "display_data"
    },
    {
     "name": "stdout",
     "output_type": "stream",
     "text": [
      "pred: WithoutMask  pred_idx:  tensor(1)  probs:  tensor([3.2506e-08, 1.0000e+00])\n"
     ]
    },
    {
     "data": {
      "text/html": [],
      "text/plain": [
       "<IPython.core.display.HTML object>"
      ]
     },
     "metadata": {},
     "output_type": "display_data"
    },
    {
     "name": "stdout",
     "output_type": "stream",
     "text": [
      "pred: WithoutMask  pred_idx:  tensor(1)  probs:  tensor([3.0709e-08, 1.0000e+00])\n"
     ]
    },
    {
     "data": {
      "text/html": [],
      "text/plain": [
       "<IPython.core.display.HTML object>"
      ]
     },
     "metadata": {},
     "output_type": "display_data"
    },
    {
     "name": "stdout",
     "output_type": "stream",
     "text": [
      "pred: WithoutMask  pred_idx:  tensor(1)  probs:  tensor([7.4953e-09, 1.0000e+00])\n"
     ]
    },
    {
     "data": {
      "text/html": [],
      "text/plain": [
       "<IPython.core.display.HTML object>"
      ]
     },
     "metadata": {},
     "output_type": "display_data"
    },
    {
     "name": "stdout",
     "output_type": "stream",
     "text": [
      "pred: WithoutMask  pred_idx:  tensor(1)  probs:  tensor([4.6203e-08, 1.0000e+00])\n"
     ]
    },
    {
     "data": {
      "text/html": [],
      "text/plain": [
       "<IPython.core.display.HTML object>"
      ]
     },
     "metadata": {},
     "output_type": "display_data"
    },
    {
     "name": "stdout",
     "output_type": "stream",
     "text": [
      "pred: WithoutMask  pred_idx:  tensor(1)  probs:  tensor([3.7116e-10, 1.0000e+00])\n"
     ]
    },
    {
     "data": {
      "text/html": [],
      "text/plain": [
       "<IPython.core.display.HTML object>"
      ]
     },
     "metadata": {},
     "output_type": "display_data"
    },
    {
     "name": "stdout",
     "output_type": "stream",
     "text": [
      "pred: WithoutMask  pred_idx:  tensor(1)  probs:  tensor([2.4412e-08, 1.0000e+00])\n"
     ]
    },
    {
     "data": {
      "text/html": [],
      "text/plain": [
       "<IPython.core.display.HTML object>"
      ]
     },
     "metadata": {},
     "output_type": "display_data"
    },
    {
     "name": "stdout",
     "output_type": "stream",
     "text": [
      "pred: WithoutMask  pred_idx:  tensor(1)  probs:  tensor([3.3026e-11, 1.0000e+00])\n"
     ]
    },
    {
     "data": {
      "text/html": [],
      "text/plain": [
       "<IPython.core.display.HTML object>"
      ]
     },
     "metadata": {},
     "output_type": "display_data"
    },
    {
     "name": "stdout",
     "output_type": "stream",
     "text": [
      "pred: WithoutMask  pred_idx:  tensor(1)  probs:  tensor([1.0443e-08, 1.0000e+00])\n"
     ]
    },
    {
     "data": {
      "text/html": [],
      "text/plain": [
       "<IPython.core.display.HTML object>"
      ]
     },
     "metadata": {},
     "output_type": "display_data"
    },
    {
     "name": "stdout",
     "output_type": "stream",
     "text": [
      "pred: WithoutMask  pred_idx:  tensor(1)  probs:  tensor([4.4593e-07, 1.0000e+00])\n"
     ]
    },
    {
     "data": {
      "text/html": [],
      "text/plain": [
       "<IPython.core.display.HTML object>"
      ]
     },
     "metadata": {},
     "output_type": "display_data"
    },
    {
     "name": "stdout",
     "output_type": "stream",
     "text": [
      "pred: WithoutMask  pred_idx:  tensor(1)  probs:  tensor([2.6560e-09, 1.0000e+00])\n"
     ]
    },
    {
     "data": {
      "text/html": [],
      "text/plain": [
       "<IPython.core.display.HTML object>"
      ]
     },
     "metadata": {},
     "output_type": "display_data"
    },
    {
     "name": "stdout",
     "output_type": "stream",
     "text": [
      "pred: WithoutMask  pred_idx:  tensor(1)  probs:  tensor([2.0258e-10, 1.0000e+00])\n"
     ]
    },
    {
     "data": {
      "text/html": [],
      "text/plain": [
       "<IPython.core.display.HTML object>"
      ]
     },
     "metadata": {},
     "output_type": "display_data"
    },
    {
     "name": "stdout",
     "output_type": "stream",
     "text": [
      "pred: WithoutMask  pred_idx:  tensor(1)  probs:  tensor([2.6706e-11, 1.0000e+00])\n"
     ]
    },
    {
     "data": {
      "text/html": [],
      "text/plain": [
       "<IPython.core.display.HTML object>"
      ]
     },
     "metadata": {},
     "output_type": "display_data"
    },
    {
     "name": "stdout",
     "output_type": "stream",
     "text": [
      "pred: WithoutMask  pred_idx:  tensor(1)  probs:  tensor([1.0184e-09, 1.0000e+00])\n"
     ]
    },
    {
     "data": {
      "text/html": [],
      "text/plain": [
       "<IPython.core.display.HTML object>"
      ]
     },
     "metadata": {},
     "output_type": "display_data"
    },
    {
     "name": "stdout",
     "output_type": "stream",
     "text": [
      "pred: WithoutMask  pred_idx:  tensor(1)  probs:  tensor([1.4762e-06, 1.0000e+00])\n"
     ]
    },
    {
     "data": {
      "text/html": [],
      "text/plain": [
       "<IPython.core.display.HTML object>"
      ]
     },
     "metadata": {},
     "output_type": "display_data"
    },
    {
     "name": "stdout",
     "output_type": "stream",
     "text": [
      "pred: WithoutMask  pred_idx:  tensor(1)  probs:  tensor([0.0126, 0.9874])\n"
     ]
    },
    {
     "data": {
      "text/html": [],
      "text/plain": [
       "<IPython.core.display.HTML object>"
      ]
     },
     "metadata": {},
     "output_type": "display_data"
    },
    {
     "name": "stdout",
     "output_type": "stream",
     "text": [
      "pred: WithoutMask  pred_idx:  tensor(1)  probs:  tensor([7.1292e-11, 1.0000e+00])\n"
     ]
    },
    {
     "data": {
      "text/html": [],
      "text/plain": [
       "<IPython.core.display.HTML object>"
      ]
     },
     "metadata": {},
     "output_type": "display_data"
    },
    {
     "name": "stdout",
     "output_type": "stream",
     "text": [
      "pred: WithoutMask  pred_idx:  tensor(1)  probs:  tensor([9.3086e-10, 1.0000e+00])\n"
     ]
    },
    {
     "data": {
      "text/html": [],
      "text/plain": [
       "<IPython.core.display.HTML object>"
      ]
     },
     "metadata": {},
     "output_type": "display_data"
    },
    {
     "name": "stdout",
     "output_type": "stream",
     "text": [
      "pred: WithoutMask  pred_idx:  tensor(1)  probs:  tensor([2.5197e-11, 1.0000e+00])\n"
     ]
    },
    {
     "data": {
      "text/html": [],
      "text/plain": [
       "<IPython.core.display.HTML object>"
      ]
     },
     "metadata": {},
     "output_type": "display_data"
    },
    {
     "name": "stdout",
     "output_type": "stream",
     "text": [
      "pred: WithoutMask  pred_idx:  tensor(1)  probs:  tensor([4.5272e-09, 1.0000e+00])\n"
     ]
    },
    {
     "data": {
      "text/html": [],
      "text/plain": [
       "<IPython.core.display.HTML object>"
      ]
     },
     "metadata": {},
     "output_type": "display_data"
    },
    {
     "name": "stdout",
     "output_type": "stream",
     "text": [
      "pred: WithoutMask  pred_idx:  tensor(1)  probs:  tensor([4.8223e-09, 1.0000e+00])\n"
     ]
    },
    {
     "data": {
      "text/html": [],
      "text/plain": [
       "<IPython.core.display.HTML object>"
      ]
     },
     "metadata": {},
     "output_type": "display_data"
    },
    {
     "name": "stdout",
     "output_type": "stream",
     "text": [
      "pred: WithoutMask  pred_idx:  tensor(1)  probs:  tensor([3.4538e-08, 1.0000e+00])\n"
     ]
    },
    {
     "data": {
      "text/html": [],
      "text/plain": [
       "<IPython.core.display.HTML object>"
      ]
     },
     "metadata": {},
     "output_type": "display_data"
    },
    {
     "name": "stdout",
     "output_type": "stream",
     "text": [
      "pred: WithoutMask  pred_idx:  tensor(1)  probs:  tensor([2.8633e-10, 1.0000e+00])\n"
     ]
    },
    {
     "data": {
      "text/html": [],
      "text/plain": [
       "<IPython.core.display.HTML object>"
      ]
     },
     "metadata": {},
     "output_type": "display_data"
    },
    {
     "name": "stdout",
     "output_type": "stream",
     "text": [
      "pred: WithoutMask  pred_idx:  tensor(1)  probs:  tensor([2.9268e-10, 1.0000e+00])\n"
     ]
    },
    {
     "data": {
      "text/html": [],
      "text/plain": [
       "<IPython.core.display.HTML object>"
      ]
     },
     "metadata": {},
     "output_type": "display_data"
    },
    {
     "name": "stdout",
     "output_type": "stream",
     "text": [
      "pred: WithoutMask  pred_idx:  tensor(1)  probs:  tensor([4.2394e-11, 1.0000e+00])\n"
     ]
    },
    {
     "data": {
      "text/html": [],
      "text/plain": [
       "<IPython.core.display.HTML object>"
      ]
     },
     "metadata": {},
     "output_type": "display_data"
    },
    {
     "name": "stdout",
     "output_type": "stream",
     "text": [
      "pred: WithoutMask  pred_idx:  tensor(1)  probs:  tensor([4.7935e-11, 1.0000e+00])\n"
     ]
    },
    {
     "data": {
      "text/html": [],
      "text/plain": [
       "<IPython.core.display.HTML object>"
      ]
     },
     "metadata": {},
     "output_type": "display_data"
    },
    {
     "name": "stdout",
     "output_type": "stream",
     "text": [
      "pred: WithoutMask  pred_idx:  tensor(1)  probs:  tensor([1.2503e-06, 1.0000e+00])\n"
     ]
    },
    {
     "data": {
      "text/html": [],
      "text/plain": [
       "<IPython.core.display.HTML object>"
      ]
     },
     "metadata": {},
     "output_type": "display_data"
    },
    {
     "name": "stdout",
     "output_type": "stream",
     "text": [
      "pred: WithoutMask  pred_idx:  tensor(1)  probs:  tensor([2.0203e-08, 1.0000e+00])\n"
     ]
    },
    {
     "data": {
      "text/html": [],
      "text/plain": [
       "<IPython.core.display.HTML object>"
      ]
     },
     "metadata": {},
     "output_type": "display_data"
    },
    {
     "name": "stdout",
     "output_type": "stream",
     "text": [
      "pred: WithoutMask  pred_idx:  tensor(1)  probs:  tensor([1.3159e-08, 1.0000e+00])\n"
     ]
    },
    {
     "data": {
      "text/html": [],
      "text/plain": [
       "<IPython.core.display.HTML object>"
      ]
     },
     "metadata": {},
     "output_type": "display_data"
    },
    {
     "name": "stdout",
     "output_type": "stream",
     "text": [
      "pred: WithoutMask  pred_idx:  tensor(1)  probs:  tensor([4.9322e-09, 1.0000e+00])\n"
     ]
    },
    {
     "data": {
      "text/html": [],
      "text/plain": [
       "<IPython.core.display.HTML object>"
      ]
     },
     "metadata": {},
     "output_type": "display_data"
    },
    {
     "name": "stdout",
     "output_type": "stream",
     "text": [
      "pred: WithoutMask  pred_idx:  tensor(1)  probs:  tensor([3.2917e-08, 1.0000e+00])\n"
     ]
    },
    {
     "data": {
      "text/html": [],
      "text/plain": [
       "<IPython.core.display.HTML object>"
      ]
     },
     "metadata": {},
     "output_type": "display_data"
    },
    {
     "name": "stdout",
     "output_type": "stream",
     "text": [
      "pred: WithoutMask  pred_idx:  tensor(1)  probs:  tensor([2.6450e-11, 1.0000e+00])\n"
     ]
    },
    {
     "data": {
      "text/html": [],
      "text/plain": [
       "<IPython.core.display.HTML object>"
      ]
     },
     "metadata": {},
     "output_type": "display_data"
    },
    {
     "name": "stdout",
     "output_type": "stream",
     "text": [
      "pred: WithoutMask  pred_idx:  tensor(1)  probs:  tensor([5.9256e-09, 1.0000e+00])\n"
     ]
    },
    {
     "data": {
      "text/html": [],
      "text/plain": [
       "<IPython.core.display.HTML object>"
      ]
     },
     "metadata": {},
     "output_type": "display_data"
    },
    {
     "name": "stdout",
     "output_type": "stream",
     "text": [
      "pred: WithoutMask  pred_idx:  tensor(1)  probs:  tensor([2.8681e-08, 1.0000e+00])\n"
     ]
    },
    {
     "data": {
      "text/html": [],
      "text/plain": [
       "<IPython.core.display.HTML object>"
      ]
     },
     "metadata": {},
     "output_type": "display_data"
    },
    {
     "name": "stdout",
     "output_type": "stream",
     "text": [
      "pred: WithoutMask  pred_idx:  tensor(1)  probs:  tensor([1.1183e-10, 1.0000e+00])\n"
     ]
    },
    {
     "data": {
      "text/html": [],
      "text/plain": [
       "<IPython.core.display.HTML object>"
      ]
     },
     "metadata": {},
     "output_type": "display_data"
    },
    {
     "name": "stdout",
     "output_type": "stream",
     "text": [
      "pred: WithoutMask  pred_idx:  tensor(1)  probs:  tensor([1.0194e-09, 1.0000e+00])\n"
     ]
    },
    {
     "data": {
      "text/html": [],
      "text/plain": [
       "<IPython.core.display.HTML object>"
      ]
     },
     "metadata": {},
     "output_type": "display_data"
    },
    {
     "name": "stdout",
     "output_type": "stream",
     "text": [
      "pred: WithoutMask  pred_idx:  tensor(1)  probs:  tensor([1.5394e-07, 1.0000e+00])\n"
     ]
    },
    {
     "data": {
      "text/html": [],
      "text/plain": [
       "<IPython.core.display.HTML object>"
      ]
     },
     "metadata": {},
     "output_type": "display_data"
    },
    {
     "name": "stdout",
     "output_type": "stream",
     "text": [
      "pred: WithoutMask  pred_idx:  tensor(1)  probs:  tensor([1.8721e-08, 1.0000e+00])\n"
     ]
    },
    {
     "data": {
      "text/html": [],
      "text/plain": [
       "<IPython.core.display.HTML object>"
      ]
     },
     "metadata": {},
     "output_type": "display_data"
    },
    {
     "name": "stdout",
     "output_type": "stream",
     "text": [
      "pred: WithoutMask  pred_idx:  tensor(1)  probs:  tensor([5.2630e-08, 1.0000e+00])\n"
     ]
    },
    {
     "data": {
      "text/html": [],
      "text/plain": [
       "<IPython.core.display.HTML object>"
      ]
     },
     "metadata": {},
     "output_type": "display_data"
    },
    {
     "name": "stdout",
     "output_type": "stream",
     "text": [
      "pred: WithoutMask  pred_idx:  tensor(1)  probs:  tensor([5.3971e-09, 1.0000e+00])\n"
     ]
    },
    {
     "data": {
      "text/html": [],
      "text/plain": [
       "<IPython.core.display.HTML object>"
      ]
     },
     "metadata": {},
     "output_type": "display_data"
    },
    {
     "name": "stdout",
     "output_type": "stream",
     "text": [
      "pred: WithoutMask  pred_idx:  tensor(1)  probs:  tensor([1.3487e-09, 1.0000e+00])\n"
     ]
    },
    {
     "data": {
      "text/html": [],
      "text/plain": [
       "<IPython.core.display.HTML object>"
      ]
     },
     "metadata": {},
     "output_type": "display_data"
    },
    {
     "name": "stdout",
     "output_type": "stream",
     "text": [
      "pred: WithoutMask  pred_idx:  tensor(1)  probs:  tensor([6.5024e-09, 1.0000e+00])\n"
     ]
    },
    {
     "data": {
      "text/html": [],
      "text/plain": [
       "<IPython.core.display.HTML object>"
      ]
     },
     "metadata": {},
     "output_type": "display_data"
    },
    {
     "name": "stdout",
     "output_type": "stream",
     "text": [
      "pred: WithoutMask  pred_idx:  tensor(1)  probs:  tensor([6.8271e-09, 1.0000e+00])\n"
     ]
    },
    {
     "data": {
      "text/html": [],
      "text/plain": [
       "<IPython.core.display.HTML object>"
      ]
     },
     "metadata": {},
     "output_type": "display_data"
    },
    {
     "name": "stdout",
     "output_type": "stream",
     "text": [
      "pred: WithoutMask  pred_idx:  tensor(1)  probs:  tensor([3.3503e-09, 1.0000e+00])\n"
     ]
    },
    {
     "data": {
      "text/html": [],
      "text/plain": [
       "<IPython.core.display.HTML object>"
      ]
     },
     "metadata": {},
     "output_type": "display_data"
    },
    {
     "name": "stdout",
     "output_type": "stream",
     "text": [
      "pred: WithoutMask  pred_idx:  tensor(1)  probs:  tensor([1.1720e-10, 1.0000e+00])\n"
     ]
    },
    {
     "data": {
      "text/html": [],
      "text/plain": [
       "<IPython.core.display.HTML object>"
      ]
     },
     "metadata": {},
     "output_type": "display_data"
    },
    {
     "name": "stdout",
     "output_type": "stream",
     "text": [
      "pred: WithoutMask  pred_idx:  tensor(1)  probs:  tensor([5.8288e-10, 1.0000e+00])\n"
     ]
    },
    {
     "data": {
      "text/html": [],
      "text/plain": [
       "<IPython.core.display.HTML object>"
      ]
     },
     "metadata": {},
     "output_type": "display_data"
    },
    {
     "name": "stdout",
     "output_type": "stream",
     "text": [
      "pred: WithoutMask  pred_idx:  tensor(1)  probs:  tensor([1.0088e-07, 1.0000e+00])\n"
     ]
    },
    {
     "data": {
      "text/html": [],
      "text/plain": [
       "<IPython.core.display.HTML object>"
      ]
     },
     "metadata": {},
     "output_type": "display_data"
    },
    {
     "name": "stdout",
     "output_type": "stream",
     "text": [
      "pred: WithoutMask  pred_idx:  tensor(1)  probs:  tensor([4.5467e-11, 1.0000e+00])\n"
     ]
    },
    {
     "data": {
      "text/html": [],
      "text/plain": [
       "<IPython.core.display.HTML object>"
      ]
     },
     "metadata": {},
     "output_type": "display_data"
    },
    {
     "name": "stdout",
     "output_type": "stream",
     "text": [
      "pred: WithoutMask  pred_idx:  tensor(1)  probs:  tensor([2.2819e-12, 1.0000e+00])\n"
     ]
    },
    {
     "data": {
      "text/html": [],
      "text/plain": [
       "<IPython.core.display.HTML object>"
      ]
     },
     "metadata": {},
     "output_type": "display_data"
    },
    {
     "name": "stdout",
     "output_type": "stream",
     "text": [
      "pred: WithoutMask  pred_idx:  tensor(1)  probs:  tensor([9.0985e-09, 1.0000e+00])\n"
     ]
    },
    {
     "data": {
      "text/html": [],
      "text/plain": [
       "<IPython.core.display.HTML object>"
      ]
     },
     "metadata": {},
     "output_type": "display_data"
    },
    {
     "name": "stdout",
     "output_type": "stream",
     "text": [
      "pred: WithoutMask  pred_idx:  tensor(1)  probs:  tensor([1.8870e-08, 1.0000e+00])\n"
     ]
    },
    {
     "data": {
      "text/html": [],
      "text/plain": [
       "<IPython.core.display.HTML object>"
      ]
     },
     "metadata": {},
     "output_type": "display_data"
    },
    {
     "name": "stdout",
     "output_type": "stream",
     "text": [
      "pred: WithoutMask  pred_idx:  tensor(1)  probs:  tensor([1.8519e-07, 1.0000e+00])\n"
     ]
    },
    {
     "data": {
      "text/html": [],
      "text/plain": [
       "<IPython.core.display.HTML object>"
      ]
     },
     "metadata": {},
     "output_type": "display_data"
    },
    {
     "name": "stdout",
     "output_type": "stream",
     "text": [
      "pred: WithoutMask  pred_idx:  tensor(1)  probs:  tensor([4.6447e-10, 1.0000e+00])\n"
     ]
    },
    {
     "data": {
      "text/html": [],
      "text/plain": [
       "<IPython.core.display.HTML object>"
      ]
     },
     "metadata": {},
     "output_type": "display_data"
    },
    {
     "name": "stdout",
     "output_type": "stream",
     "text": [
      "pred: WithoutMask  pred_idx:  tensor(1)  probs:  tensor([2.5992e-09, 1.0000e+00])\n"
     ]
    },
    {
     "data": {
      "text/html": [],
      "text/plain": [
       "<IPython.core.display.HTML object>"
      ]
     },
     "metadata": {},
     "output_type": "display_data"
    },
    {
     "name": "stdout",
     "output_type": "stream",
     "text": [
      "pred: WithoutMask  pred_idx:  tensor(1)  probs:  tensor([1.4014e-07, 1.0000e+00])\n"
     ]
    },
    {
     "data": {
      "text/html": [],
      "text/plain": [
       "<IPython.core.display.HTML object>"
      ]
     },
     "metadata": {},
     "output_type": "display_data"
    },
    {
     "name": "stdout",
     "output_type": "stream",
     "text": [
      "pred: WithoutMask  pred_idx:  tensor(1)  probs:  tensor([1.3936e-10, 1.0000e+00])\n"
     ]
    },
    {
     "data": {
      "text/html": [],
      "text/plain": [
       "<IPython.core.display.HTML object>"
      ]
     },
     "metadata": {},
     "output_type": "display_data"
    },
    {
     "name": "stdout",
     "output_type": "stream",
     "text": [
      "pred: WithoutMask  pred_idx:  tensor(1)  probs:  tensor([8.8637e-11, 1.0000e+00])\n"
     ]
    },
    {
     "data": {
      "text/html": [],
      "text/plain": [
       "<IPython.core.display.HTML object>"
      ]
     },
     "metadata": {},
     "output_type": "display_data"
    },
    {
     "name": "stdout",
     "output_type": "stream",
     "text": [
      "pred: WithoutMask  pred_idx:  tensor(1)  probs:  tensor([9.0889e-12, 1.0000e+00])\n"
     ]
    },
    {
     "data": {
      "text/html": [],
      "text/plain": [
       "<IPython.core.display.HTML object>"
      ]
     },
     "metadata": {},
     "output_type": "display_data"
    },
    {
     "name": "stdout",
     "output_type": "stream",
     "text": [
      "pred: WithoutMask  pred_idx:  tensor(1)  probs:  tensor([1.8926e-10, 1.0000e+00])\n"
     ]
    },
    {
     "data": {
      "text/html": [],
      "text/plain": [
       "<IPython.core.display.HTML object>"
      ]
     },
     "metadata": {},
     "output_type": "display_data"
    },
    {
     "name": "stdout",
     "output_type": "stream",
     "text": [
      "pred: WithoutMask  pred_idx:  tensor(1)  probs:  tensor([5.3130e-10, 1.0000e+00])\n"
     ]
    },
    {
     "data": {
      "text/html": [],
      "text/plain": [
       "<IPython.core.display.HTML object>"
      ]
     },
     "metadata": {},
     "output_type": "display_data"
    },
    {
     "name": "stdout",
     "output_type": "stream",
     "text": [
      "pred: WithoutMask  pred_idx:  tensor(1)  probs:  tensor([6.3006e-10, 1.0000e+00])\n"
     ]
    },
    {
     "data": {
      "text/html": [],
      "text/plain": [
       "<IPython.core.display.HTML object>"
      ]
     },
     "metadata": {},
     "output_type": "display_data"
    },
    {
     "name": "stdout",
     "output_type": "stream",
     "text": [
      "pred: WithoutMask  pred_idx:  tensor(1)  probs:  tensor([2.3118e-06, 1.0000e+00])\n"
     ]
    },
    {
     "data": {
      "text/html": [],
      "text/plain": [
       "<IPython.core.display.HTML object>"
      ]
     },
     "metadata": {},
     "output_type": "display_data"
    },
    {
     "name": "stdout",
     "output_type": "stream",
     "text": [
      "pred: WithoutMask  pred_idx:  tensor(1)  probs:  tensor([2.0443e-07, 1.0000e+00])\n"
     ]
    },
    {
     "data": {
      "text/html": [],
      "text/plain": [
       "<IPython.core.display.HTML object>"
      ]
     },
     "metadata": {},
     "output_type": "display_data"
    },
    {
     "name": "stdout",
     "output_type": "stream",
     "text": [
      "pred: WithoutMask  pred_idx:  tensor(1)  probs:  tensor([1.3875e-09, 1.0000e+00])\n"
     ]
    },
    {
     "data": {
      "text/html": [],
      "text/plain": [
       "<IPython.core.display.HTML object>"
      ]
     },
     "metadata": {},
     "output_type": "display_data"
    },
    {
     "name": "stdout",
     "output_type": "stream",
     "text": [
      "pred: WithoutMask  pred_idx:  tensor(1)  probs:  tensor([1.3294e-07, 1.0000e+00])\n"
     ]
    },
    {
     "data": {
      "text/html": [],
      "text/plain": [
       "<IPython.core.display.HTML object>"
      ]
     },
     "metadata": {},
     "output_type": "display_data"
    },
    {
     "name": "stdout",
     "output_type": "stream",
     "text": [
      "pred: WithoutMask  pred_idx:  tensor(1)  probs:  tensor([7.0462e-08, 1.0000e+00])\n"
     ]
    },
    {
     "data": {
      "text/html": [],
      "text/plain": [
       "<IPython.core.display.HTML object>"
      ]
     },
     "metadata": {},
     "output_type": "display_data"
    },
    {
     "name": "stdout",
     "output_type": "stream",
     "text": [
      "pred: WithoutMask  pred_idx:  tensor(1)  probs:  tensor([1.3872e-10, 1.0000e+00])\n"
     ]
    },
    {
     "data": {
      "text/html": [],
      "text/plain": [
       "<IPython.core.display.HTML object>"
      ]
     },
     "metadata": {},
     "output_type": "display_data"
    },
    {
     "name": "stdout",
     "output_type": "stream",
     "text": [
      "pred: WithoutMask  pred_idx:  tensor(1)  probs:  tensor([1.2774e-11, 1.0000e+00])\n"
     ]
    },
    {
     "data": {
      "text/html": [],
      "text/plain": [
       "<IPython.core.display.HTML object>"
      ]
     },
     "metadata": {},
     "output_type": "display_data"
    },
    {
     "name": "stdout",
     "output_type": "stream",
     "text": [
      "pred: WithoutMask  pred_idx:  tensor(1)  probs:  tensor([2.2037e-07, 1.0000e+00])\n"
     ]
    },
    {
     "data": {
      "text/html": [],
      "text/plain": [
       "<IPython.core.display.HTML object>"
      ]
     },
     "metadata": {},
     "output_type": "display_data"
    },
    {
     "name": "stdout",
     "output_type": "stream",
     "text": [
      "pred: WithoutMask  pred_idx:  tensor(1)  probs:  tensor([1.8188e-10, 1.0000e+00])\n"
     ]
    },
    {
     "data": {
      "text/html": [],
      "text/plain": [
       "<IPython.core.display.HTML object>"
      ]
     },
     "metadata": {},
     "output_type": "display_data"
    },
    {
     "name": "stdout",
     "output_type": "stream",
     "text": [
      "pred: WithoutMask  pred_idx:  tensor(1)  probs:  tensor([1.2845e-09, 1.0000e+00])\n"
     ]
    },
    {
     "data": {
      "text/html": [],
      "text/plain": [
       "<IPython.core.display.HTML object>"
      ]
     },
     "metadata": {},
     "output_type": "display_data"
    },
    {
     "name": "stdout",
     "output_type": "stream",
     "text": [
      "pred: WithoutMask  pred_idx:  tensor(1)  probs:  tensor([5.3640e-11, 1.0000e+00])\n"
     ]
    },
    {
     "data": {
      "text/html": [],
      "text/plain": [
       "<IPython.core.display.HTML object>"
      ]
     },
     "metadata": {},
     "output_type": "display_data"
    },
    {
     "name": "stdout",
     "output_type": "stream",
     "text": [
      "pred: WithoutMask  pred_idx:  tensor(1)  probs:  tensor([1.2460e-07, 1.0000e+00])\n"
     ]
    },
    {
     "data": {
      "text/html": [],
      "text/plain": [
       "<IPython.core.display.HTML object>"
      ]
     },
     "metadata": {},
     "output_type": "display_data"
    },
    {
     "name": "stdout",
     "output_type": "stream",
     "text": [
      "pred: WithoutMask  pred_idx:  tensor(1)  probs:  tensor([2.9300e-08, 1.0000e+00])\n"
     ]
    },
    {
     "data": {
      "text/html": [],
      "text/plain": [
       "<IPython.core.display.HTML object>"
      ]
     },
     "metadata": {},
     "output_type": "display_data"
    },
    {
     "name": "stdout",
     "output_type": "stream",
     "text": [
      "pred: WithoutMask  pred_idx:  tensor(1)  probs:  tensor([7.8803e-13, 1.0000e+00])\n"
     ]
    },
    {
     "data": {
      "text/html": [],
      "text/plain": [
       "<IPython.core.display.HTML object>"
      ]
     },
     "metadata": {},
     "output_type": "display_data"
    },
    {
     "name": "stdout",
     "output_type": "stream",
     "text": [
      "pred: WithoutMask  pred_idx:  tensor(1)  probs:  tensor([1.8792e-05, 9.9998e-01])\n"
     ]
    },
    {
     "data": {
      "text/html": [],
      "text/plain": [
       "<IPython.core.display.HTML object>"
      ]
     },
     "metadata": {},
     "output_type": "display_data"
    },
    {
     "name": "stdout",
     "output_type": "stream",
     "text": [
      "pred: WithoutMask  pred_idx:  tensor(1)  probs:  tensor([3.1890e-10, 1.0000e+00])\n"
     ]
    },
    {
     "data": {
      "text/html": [],
      "text/plain": [
       "<IPython.core.display.HTML object>"
      ]
     },
     "metadata": {},
     "output_type": "display_data"
    },
    {
     "name": "stdout",
     "output_type": "stream",
     "text": [
      "pred: WithoutMask  pred_idx:  tensor(1)  probs:  tensor([6.7589e-08, 1.0000e+00])\n"
     ]
    },
    {
     "data": {
      "text/html": [],
      "text/plain": [
       "<IPython.core.display.HTML object>"
      ]
     },
     "metadata": {},
     "output_type": "display_data"
    },
    {
     "name": "stdout",
     "output_type": "stream",
     "text": [
      "pred: WithoutMask  pred_idx:  tensor(1)  probs:  tensor([4.4196e-11, 1.0000e+00])\n"
     ]
    },
    {
     "data": {
      "text/html": [],
      "text/plain": [
       "<IPython.core.display.HTML object>"
      ]
     },
     "metadata": {},
     "output_type": "display_data"
    },
    {
     "name": "stdout",
     "output_type": "stream",
     "text": [
      "pred: WithoutMask  pred_idx:  tensor(1)  probs:  tensor([8.4821e-08, 1.0000e+00])\n"
     ]
    },
    {
     "data": {
      "text/html": [],
      "text/plain": [
       "<IPython.core.display.HTML object>"
      ]
     },
     "metadata": {},
     "output_type": "display_data"
    },
    {
     "name": "stdout",
     "output_type": "stream",
     "text": [
      "pred: WithoutMask  pred_idx:  tensor(1)  probs:  tensor([1.4195e-10, 1.0000e+00])\n"
     ]
    },
    {
     "data": {
      "text/html": [],
      "text/plain": [
       "<IPython.core.display.HTML object>"
      ]
     },
     "metadata": {},
     "output_type": "display_data"
    },
    {
     "name": "stdout",
     "output_type": "stream",
     "text": [
      "pred: WithoutMask  pred_idx:  tensor(1)  probs:  tensor([3.3239e-11, 1.0000e+00])\n"
     ]
    },
    {
     "data": {
      "text/html": [],
      "text/plain": [
       "<IPython.core.display.HTML object>"
      ]
     },
     "metadata": {},
     "output_type": "display_data"
    },
    {
     "name": "stdout",
     "output_type": "stream",
     "text": [
      "pred: WithoutMask  pred_idx:  tensor(1)  probs:  tensor([1.2334e-07, 1.0000e+00])\n"
     ]
    },
    {
     "data": {
      "text/html": [],
      "text/plain": [
       "<IPython.core.display.HTML object>"
      ]
     },
     "metadata": {},
     "output_type": "display_data"
    },
    {
     "name": "stdout",
     "output_type": "stream",
     "text": [
      "pred: WithoutMask  pred_idx:  tensor(1)  probs:  tensor([3.2121e-10, 1.0000e+00])\n"
     ]
    },
    {
     "data": {
      "text/html": [],
      "text/plain": [
       "<IPython.core.display.HTML object>"
      ]
     },
     "metadata": {},
     "output_type": "display_data"
    },
    {
     "name": "stdout",
     "output_type": "stream",
     "text": [
      "pred: WithoutMask  pred_idx:  tensor(1)  probs:  tensor([1.5736e-09, 1.0000e+00])\n"
     ]
    },
    {
     "data": {
      "text/html": [],
      "text/plain": [
       "<IPython.core.display.HTML object>"
      ]
     },
     "metadata": {},
     "output_type": "display_data"
    },
    {
     "name": "stdout",
     "output_type": "stream",
     "text": [
      "pred: WithoutMask  pred_idx:  tensor(1)  probs:  tensor([4.1710e-10, 1.0000e+00])\n"
     ]
    },
    {
     "data": {
      "text/html": [],
      "text/plain": [
       "<IPython.core.display.HTML object>"
      ]
     },
     "metadata": {},
     "output_type": "display_data"
    },
    {
     "name": "stdout",
     "output_type": "stream",
     "text": [
      "pred: WithoutMask  pred_idx:  tensor(1)  probs:  tensor([6.9288e-10, 1.0000e+00])\n"
     ]
    },
    {
     "data": {
      "text/html": [],
      "text/plain": [
       "<IPython.core.display.HTML object>"
      ]
     },
     "metadata": {},
     "output_type": "display_data"
    },
    {
     "name": "stdout",
     "output_type": "stream",
     "text": [
      "pred: WithoutMask  pred_idx:  tensor(1)  probs:  tensor([9.4828e-08, 1.0000e+00])\n"
     ]
    },
    {
     "data": {
      "text/html": [],
      "text/plain": [
       "<IPython.core.display.HTML object>"
      ]
     },
     "metadata": {},
     "output_type": "display_data"
    },
    {
     "name": "stdout",
     "output_type": "stream",
     "text": [
      "pred: WithoutMask  pred_idx:  tensor(1)  probs:  tensor([4.5451e-04, 9.9955e-01])\n"
     ]
    },
    {
     "data": {
      "text/html": [],
      "text/plain": [
       "<IPython.core.display.HTML object>"
      ]
     },
     "metadata": {},
     "output_type": "display_data"
    },
    {
     "name": "stdout",
     "output_type": "stream",
     "text": [
      "pred: WithoutMask  pred_idx:  tensor(1)  probs:  tensor([2.1824e-06, 1.0000e+00])\n"
     ]
    },
    {
     "data": {
      "text/html": [],
      "text/plain": [
       "<IPython.core.display.HTML object>"
      ]
     },
     "metadata": {},
     "output_type": "display_data"
    },
    {
     "name": "stdout",
     "output_type": "stream",
     "text": [
      "pred: WithoutMask  pred_idx:  tensor(1)  probs:  tensor([4.6301e-11, 1.0000e+00])\n"
     ]
    },
    {
     "data": {
      "text/html": [],
      "text/plain": [
       "<IPython.core.display.HTML object>"
      ]
     },
     "metadata": {},
     "output_type": "display_data"
    },
    {
     "name": "stdout",
     "output_type": "stream",
     "text": [
      "pred: WithoutMask  pred_idx:  tensor(1)  probs:  tensor([6.2596e-08, 1.0000e+00])\n"
     ]
    },
    {
     "data": {
      "text/html": [],
      "text/plain": [
       "<IPython.core.display.HTML object>"
      ]
     },
     "metadata": {},
     "output_type": "display_data"
    },
    {
     "name": "stdout",
     "output_type": "stream",
     "text": [
      "pred: WithoutMask  pred_idx:  tensor(1)  probs:  tensor([1.0151e-08, 1.0000e+00])\n"
     ]
    },
    {
     "data": {
      "text/html": [],
      "text/plain": [
       "<IPython.core.display.HTML object>"
      ]
     },
     "metadata": {},
     "output_type": "display_data"
    },
    {
     "name": "stdout",
     "output_type": "stream",
     "text": [
      "pred: WithoutMask  pred_idx:  tensor(1)  probs:  tensor([1.9440e-09, 1.0000e+00])\n"
     ]
    },
    {
     "data": {
      "text/html": [],
      "text/plain": [
       "<IPython.core.display.HTML object>"
      ]
     },
     "metadata": {},
     "output_type": "display_data"
    },
    {
     "name": "stdout",
     "output_type": "stream",
     "text": [
      "pred: WithoutMask  pred_idx:  tensor(1)  probs:  tensor([1.9057e-11, 1.0000e+00])\n"
     ]
    },
    {
     "data": {
      "text/html": [],
      "text/plain": [
       "<IPython.core.display.HTML object>"
      ]
     },
     "metadata": {},
     "output_type": "display_data"
    },
    {
     "name": "stdout",
     "output_type": "stream",
     "text": [
      "pred: WithoutMask  pred_idx:  tensor(1)  probs:  tensor([8.7243e-08, 1.0000e+00])\n"
     ]
    },
    {
     "data": {
      "text/html": [],
      "text/plain": [
       "<IPython.core.display.HTML object>"
      ]
     },
     "metadata": {},
     "output_type": "display_data"
    },
    {
     "name": "stdout",
     "output_type": "stream",
     "text": [
      "pred: WithoutMask  pred_idx:  tensor(1)  probs:  tensor([1.2701e-07, 1.0000e+00])\n"
     ]
    },
    {
     "data": {
      "text/html": [],
      "text/plain": [
       "<IPython.core.display.HTML object>"
      ]
     },
     "metadata": {},
     "output_type": "display_data"
    },
    {
     "name": "stdout",
     "output_type": "stream",
     "text": [
      "pred: WithoutMask  pred_idx:  tensor(1)  probs:  tensor([3.3524e-10, 1.0000e+00])\n"
     ]
    },
    {
     "data": {
      "text/html": [],
      "text/plain": [
       "<IPython.core.display.HTML object>"
      ]
     },
     "metadata": {},
     "output_type": "display_data"
    },
    {
     "name": "stdout",
     "output_type": "stream",
     "text": [
      "pred: WithoutMask  pred_idx:  tensor(1)  probs:  tensor([6.4194e-09, 1.0000e+00])\n"
     ]
    },
    {
     "data": {
      "text/html": [],
      "text/plain": [
       "<IPython.core.display.HTML object>"
      ]
     },
     "metadata": {},
     "output_type": "display_data"
    },
    {
     "name": "stdout",
     "output_type": "stream",
     "text": [
      "pred: WithoutMask  pred_idx:  tensor(1)  probs:  tensor([5.8028e-09, 1.0000e+00])\n"
     ]
    },
    {
     "data": {
      "text/html": [],
      "text/plain": [
       "<IPython.core.display.HTML object>"
      ]
     },
     "metadata": {},
     "output_type": "display_data"
    },
    {
     "name": "stdout",
     "output_type": "stream",
     "text": [
      "pred: WithoutMask  pred_idx:  tensor(1)  probs:  tensor([1.2058e-11, 1.0000e+00])\n"
     ]
    },
    {
     "data": {
      "text/html": [],
      "text/plain": [
       "<IPython.core.display.HTML object>"
      ]
     },
     "metadata": {},
     "output_type": "display_data"
    },
    {
     "name": "stdout",
     "output_type": "stream",
     "text": [
      "pred: WithoutMask  pred_idx:  tensor(1)  probs:  tensor([2.1312e-10, 1.0000e+00])\n"
     ]
    },
    {
     "data": {
      "text/html": [],
      "text/plain": [
       "<IPython.core.display.HTML object>"
      ]
     },
     "metadata": {},
     "output_type": "display_data"
    },
    {
     "name": "stdout",
     "output_type": "stream",
     "text": [
      "pred: WithoutMask  pred_idx:  tensor(1)  probs:  tensor([1.3635e-06, 1.0000e+00])\n"
     ]
    },
    {
     "data": {
      "text/html": [],
      "text/plain": [
       "<IPython.core.display.HTML object>"
      ]
     },
     "metadata": {},
     "output_type": "display_data"
    },
    {
     "name": "stdout",
     "output_type": "stream",
     "text": [
      "pred: WithoutMask  pred_idx:  tensor(1)  probs:  tensor([2.3904e-08, 1.0000e+00])\n"
     ]
    },
    {
     "data": {
      "text/html": [],
      "text/plain": [
       "<IPython.core.display.HTML object>"
      ]
     },
     "metadata": {},
     "output_type": "display_data"
    },
    {
     "name": "stdout",
     "output_type": "stream",
     "text": [
      "pred: WithoutMask  pred_idx:  tensor(1)  probs:  tensor([3.3652e-09, 1.0000e+00])\n"
     ]
    },
    {
     "data": {
      "text/html": [],
      "text/plain": [
       "<IPython.core.display.HTML object>"
      ]
     },
     "metadata": {},
     "output_type": "display_data"
    },
    {
     "name": "stdout",
     "output_type": "stream",
     "text": [
      "pred: WithoutMask  pred_idx:  tensor(1)  probs:  tensor([3.4664e-12, 1.0000e+00])\n"
     ]
    },
    {
     "data": {
      "text/html": [],
      "text/plain": [
       "<IPython.core.display.HTML object>"
      ]
     },
     "metadata": {},
     "output_type": "display_data"
    },
    {
     "name": "stdout",
     "output_type": "stream",
     "text": [
      "pred: WithoutMask  pred_idx:  tensor(1)  probs:  tensor([2.7926e-11, 1.0000e+00])\n"
     ]
    },
    {
     "data": {
      "text/html": [],
      "text/plain": [
       "<IPython.core.display.HTML object>"
      ]
     },
     "metadata": {},
     "output_type": "display_data"
    },
    {
     "name": "stdout",
     "output_type": "stream",
     "text": [
      "pred: WithoutMask  pred_idx:  tensor(1)  probs:  tensor([3.0938e-09, 1.0000e+00])\n"
     ]
    },
    {
     "data": {
      "text/html": [],
      "text/plain": [
       "<IPython.core.display.HTML object>"
      ]
     },
     "metadata": {},
     "output_type": "display_data"
    },
    {
     "name": "stdout",
     "output_type": "stream",
     "text": [
      "pred: WithoutMask  pred_idx:  tensor(1)  probs:  tensor([1.2982e-09, 1.0000e+00])\n"
     ]
    },
    {
     "data": {
      "text/html": [],
      "text/plain": [
       "<IPython.core.display.HTML object>"
      ]
     },
     "metadata": {},
     "output_type": "display_data"
    },
    {
     "name": "stdout",
     "output_type": "stream",
     "text": [
      "pred: WithoutMask  pred_idx:  tensor(1)  probs:  tensor([3.5002e-12, 1.0000e+00])\n"
     ]
    },
    {
     "data": {
      "text/html": [],
      "text/plain": [
       "<IPython.core.display.HTML object>"
      ]
     },
     "metadata": {},
     "output_type": "display_data"
    },
    {
     "name": "stdout",
     "output_type": "stream",
     "text": [
      "pred: WithoutMask  pred_idx:  tensor(1)  probs:  tensor([9.1605e-10, 1.0000e+00])\n"
     ]
    },
    {
     "data": {
      "text/html": [],
      "text/plain": [
       "<IPython.core.display.HTML object>"
      ]
     },
     "metadata": {},
     "output_type": "display_data"
    },
    {
     "name": "stdout",
     "output_type": "stream",
     "text": [
      "pred: WithoutMask  pred_idx:  tensor(1)  probs:  tensor([5.3703e-11, 1.0000e+00])\n"
     ]
    },
    {
     "data": {
      "text/html": [],
      "text/plain": [
       "<IPython.core.display.HTML object>"
      ]
     },
     "metadata": {},
     "output_type": "display_data"
    },
    {
     "name": "stdout",
     "output_type": "stream",
     "text": [
      "pred: WithoutMask  pred_idx:  tensor(1)  probs:  tensor([1.7011e-06, 1.0000e+00])\n"
     ]
    },
    {
     "data": {
      "text/html": [],
      "text/plain": [
       "<IPython.core.display.HTML object>"
      ]
     },
     "metadata": {},
     "output_type": "display_data"
    },
    {
     "name": "stdout",
     "output_type": "stream",
     "text": [
      "pred: WithoutMask  pred_idx:  tensor(1)  probs:  tensor([7.9060e-09, 1.0000e+00])\n"
     ]
    },
    {
     "data": {
      "text/html": [],
      "text/plain": [
       "<IPython.core.display.HTML object>"
      ]
     },
     "metadata": {},
     "output_type": "display_data"
    },
    {
     "name": "stdout",
     "output_type": "stream",
     "text": [
      "pred: WithoutMask  pred_idx:  tensor(1)  probs:  tensor([9.8570e-11, 1.0000e+00])\n"
     ]
    },
    {
     "data": {
      "text/html": [],
      "text/plain": [
       "<IPython.core.display.HTML object>"
      ]
     },
     "metadata": {},
     "output_type": "display_data"
    },
    {
     "name": "stdout",
     "output_type": "stream",
     "text": [
      "pred: WithoutMask  pred_idx:  tensor(1)  probs:  tensor([3.7496e-10, 1.0000e+00])\n"
     ]
    },
    {
     "data": {
      "text/html": [],
      "text/plain": [
       "<IPython.core.display.HTML object>"
      ]
     },
     "metadata": {},
     "output_type": "display_data"
    },
    {
     "name": "stdout",
     "output_type": "stream",
     "text": [
      "pred: WithoutMask  pred_idx:  tensor(1)  probs:  tensor([4.0033e-10, 1.0000e+00])\n"
     ]
    },
    {
     "data": {
      "text/html": [],
      "text/plain": [
       "<IPython.core.display.HTML object>"
      ]
     },
     "metadata": {},
     "output_type": "display_data"
    },
    {
     "name": "stdout",
     "output_type": "stream",
     "text": [
      "pred: WithoutMask  pred_idx:  tensor(1)  probs:  tensor([4.7426e-07, 1.0000e+00])\n"
     ]
    },
    {
     "data": {
      "text/html": [],
      "text/plain": [
       "<IPython.core.display.HTML object>"
      ]
     },
     "metadata": {},
     "output_type": "display_data"
    },
    {
     "name": "stdout",
     "output_type": "stream",
     "text": [
      "pred: WithoutMask  pred_idx:  tensor(1)  probs:  tensor([3.5950e-12, 1.0000e+00])\n"
     ]
    },
    {
     "data": {
      "text/html": [],
      "text/plain": [
       "<IPython.core.display.HTML object>"
      ]
     },
     "metadata": {},
     "output_type": "display_data"
    },
    {
     "name": "stdout",
     "output_type": "stream",
     "text": [
      "pred: WithoutMask  pred_idx:  tensor(1)  probs:  tensor([1.9451e-06, 1.0000e+00])\n"
     ]
    },
    {
     "data": {
      "text/html": [],
      "text/plain": [
       "<IPython.core.display.HTML object>"
      ]
     },
     "metadata": {},
     "output_type": "display_data"
    },
    {
     "name": "stdout",
     "output_type": "stream",
     "text": [
      "pred: WithoutMask  pred_idx:  tensor(1)  probs:  tensor([2.9282e-10, 1.0000e+00])\n"
     ]
    },
    {
     "data": {
      "text/html": [],
      "text/plain": [
       "<IPython.core.display.HTML object>"
      ]
     },
     "metadata": {},
     "output_type": "display_data"
    },
    {
     "name": "stdout",
     "output_type": "stream",
     "text": [
      "pred: WithoutMask  pred_idx:  tensor(1)  probs:  tensor([1.3401e-08, 1.0000e+00])\n"
     ]
    },
    {
     "data": {
      "text/html": [],
      "text/plain": [
       "<IPython.core.display.HTML object>"
      ]
     },
     "metadata": {},
     "output_type": "display_data"
    },
    {
     "name": "stdout",
     "output_type": "stream",
     "text": [
      "pred: WithoutMask  pred_idx:  tensor(1)  probs:  tensor([7.6890e-09, 1.0000e+00])\n"
     ]
    },
    {
     "data": {
      "text/html": [],
      "text/plain": [
       "<IPython.core.display.HTML object>"
      ]
     },
     "metadata": {},
     "output_type": "display_data"
    },
    {
     "name": "stdout",
     "output_type": "stream",
     "text": [
      "pred: WithoutMask  pred_idx:  tensor(1)  probs:  tensor([5.9158e-07, 1.0000e+00])\n"
     ]
    },
    {
     "data": {
      "text/html": [],
      "text/plain": [
       "<IPython.core.display.HTML object>"
      ]
     },
     "metadata": {},
     "output_type": "display_data"
    },
    {
     "name": "stdout",
     "output_type": "stream",
     "text": [
      "pred: WithoutMask  pred_idx:  tensor(1)  probs:  tensor([6.7845e-09, 1.0000e+00])\n"
     ]
    },
    {
     "data": {
      "text/html": [],
      "text/plain": [
       "<IPython.core.display.HTML object>"
      ]
     },
     "metadata": {},
     "output_type": "display_data"
    },
    {
     "name": "stdout",
     "output_type": "stream",
     "text": [
      "pred: WithoutMask  pred_idx:  tensor(1)  probs:  tensor([2.9701e-06, 1.0000e+00])\n"
     ]
    },
    {
     "data": {
      "text/html": [],
      "text/plain": [
       "<IPython.core.display.HTML object>"
      ]
     },
     "metadata": {},
     "output_type": "display_data"
    },
    {
     "name": "stdout",
     "output_type": "stream",
     "text": [
      "pred: WithoutMask  pred_idx:  tensor(1)  probs:  tensor([5.7653e-09, 1.0000e+00])\n"
     ]
    },
    {
     "data": {
      "text/html": [],
      "text/plain": [
       "<IPython.core.display.HTML object>"
      ]
     },
     "metadata": {},
     "output_type": "display_data"
    },
    {
     "name": "stdout",
     "output_type": "stream",
     "text": [
      "pred: WithoutMask  pred_idx:  tensor(1)  probs:  tensor([3.1121e-08, 1.0000e+00])\n"
     ]
    },
    {
     "data": {
      "text/html": [],
      "text/plain": [
       "<IPython.core.display.HTML object>"
      ]
     },
     "metadata": {},
     "output_type": "display_data"
    },
    {
     "name": "stdout",
     "output_type": "stream",
     "text": [
      "pred: WithoutMask  pred_idx:  tensor(1)  probs:  tensor([1.0494e-07, 1.0000e+00])\n"
     ]
    },
    {
     "data": {
      "text/html": [],
      "text/plain": [
       "<IPython.core.display.HTML object>"
      ]
     },
     "metadata": {},
     "output_type": "display_data"
    },
    {
     "name": "stdout",
     "output_type": "stream",
     "text": [
      "pred: WithoutMask  pred_idx:  tensor(1)  probs:  tensor([2.9304e-10, 1.0000e+00])\n"
     ]
    },
    {
     "data": {
      "text/html": [],
      "text/plain": [
       "<IPython.core.display.HTML object>"
      ]
     },
     "metadata": {},
     "output_type": "display_data"
    },
    {
     "name": "stdout",
     "output_type": "stream",
     "text": [
      "pred: WithoutMask  pred_idx:  tensor(1)  probs:  tensor([5.4444e-10, 1.0000e+00])\n"
     ]
    },
    {
     "data": {
      "text/html": [],
      "text/plain": [
       "<IPython.core.display.HTML object>"
      ]
     },
     "metadata": {},
     "output_type": "display_data"
    },
    {
     "name": "stdout",
     "output_type": "stream",
     "text": [
      "pred: WithoutMask  pred_idx:  tensor(1)  probs:  tensor([2.9200e-09, 1.0000e+00])\n"
     ]
    },
    {
     "data": {
      "text/html": [],
      "text/plain": [
       "<IPython.core.display.HTML object>"
      ]
     },
     "metadata": {},
     "output_type": "display_data"
    },
    {
     "name": "stdout",
     "output_type": "stream",
     "text": [
      "pred: WithoutMask  pred_idx:  tensor(1)  probs:  tensor([1.3902e-09, 1.0000e+00])\n"
     ]
    },
    {
     "data": {
      "text/html": [],
      "text/plain": [
       "<IPython.core.display.HTML object>"
      ]
     },
     "metadata": {},
     "output_type": "display_data"
    },
    {
     "name": "stdout",
     "output_type": "stream",
     "text": [
      "pred: WithoutMask  pred_idx:  tensor(1)  probs:  tensor([9.2818e-08, 1.0000e+00])\n"
     ]
    },
    {
     "data": {
      "text/html": [],
      "text/plain": [
       "<IPython.core.display.HTML object>"
      ]
     },
     "metadata": {},
     "output_type": "display_data"
    },
    {
     "name": "stdout",
     "output_type": "stream",
     "text": [
      "pred: WithoutMask  pred_idx:  tensor(1)  probs:  tensor([1.7543e-09, 1.0000e+00])\n"
     ]
    },
    {
     "data": {
      "text/html": [],
      "text/plain": [
       "<IPython.core.display.HTML object>"
      ]
     },
     "metadata": {},
     "output_type": "display_data"
    },
    {
     "name": "stdout",
     "output_type": "stream",
     "text": [
      "pred: WithoutMask  pred_idx:  tensor(1)  probs:  tensor([3.1731e-09, 1.0000e+00])\n"
     ]
    },
    {
     "data": {
      "text/html": [],
      "text/plain": [
       "<IPython.core.display.HTML object>"
      ]
     },
     "metadata": {},
     "output_type": "display_data"
    },
    {
     "name": "stdout",
     "output_type": "stream",
     "text": [
      "pred: WithoutMask  pred_idx:  tensor(1)  probs:  tensor([4.2883e-09, 1.0000e+00])\n"
     ]
    },
    {
     "data": {
      "text/html": [],
      "text/plain": [
       "<IPython.core.display.HTML object>"
      ]
     },
     "metadata": {},
     "output_type": "display_data"
    },
    {
     "name": "stdout",
     "output_type": "stream",
     "text": [
      "pred: WithoutMask  pred_idx:  tensor(1)  probs:  tensor([6.6210e-11, 1.0000e+00])\n"
     ]
    },
    {
     "data": {
      "text/html": [],
      "text/plain": [
       "<IPython.core.display.HTML object>"
      ]
     },
     "metadata": {},
     "output_type": "display_data"
    },
    {
     "name": "stdout",
     "output_type": "stream",
     "text": [
      "pred: WithoutMask  pred_idx:  tensor(1)  probs:  tensor([2.3513e-10, 1.0000e+00])\n"
     ]
    },
    {
     "data": {
      "text/html": [],
      "text/plain": [
       "<IPython.core.display.HTML object>"
      ]
     },
     "metadata": {},
     "output_type": "display_data"
    },
    {
     "name": "stdout",
     "output_type": "stream",
     "text": [
      "pred: WithoutMask  pred_idx:  tensor(1)  probs:  tensor([2.6023e-09, 1.0000e+00])\n"
     ]
    },
    {
     "data": {
      "text/html": [],
      "text/plain": [
       "<IPython.core.display.HTML object>"
      ]
     },
     "metadata": {},
     "output_type": "display_data"
    },
    {
     "name": "stdout",
     "output_type": "stream",
     "text": [
      "pred: WithoutMask  pred_idx:  tensor(1)  probs:  tensor([8.6218e-12, 1.0000e+00])\n"
     ]
    },
    {
     "data": {
      "text/html": [],
      "text/plain": [
       "<IPython.core.display.HTML object>"
      ]
     },
     "metadata": {},
     "output_type": "display_data"
    },
    {
     "name": "stdout",
     "output_type": "stream",
     "text": [
      "pred: WithoutMask  pred_idx:  tensor(1)  probs:  tensor([7.7178e-08, 1.0000e+00])\n"
     ]
    },
    {
     "data": {
      "text/html": [],
      "text/plain": [
       "<IPython.core.display.HTML object>"
      ]
     },
     "metadata": {},
     "output_type": "display_data"
    },
    {
     "name": "stdout",
     "output_type": "stream",
     "text": [
      "pred: WithoutMask  pred_idx:  tensor(1)  probs:  tensor([4.4275e-11, 1.0000e+00])\n"
     ]
    },
    {
     "data": {
      "text/html": [],
      "text/plain": [
       "<IPython.core.display.HTML object>"
      ]
     },
     "metadata": {},
     "output_type": "display_data"
    },
    {
     "name": "stdout",
     "output_type": "stream",
     "text": [
      "pred: WithoutMask  pred_idx:  tensor(1)  probs:  tensor([2.7737e-10, 1.0000e+00])\n"
     ]
    },
    {
     "data": {
      "text/html": [],
      "text/plain": [
       "<IPython.core.display.HTML object>"
      ]
     },
     "metadata": {},
     "output_type": "display_data"
    },
    {
     "name": "stdout",
     "output_type": "stream",
     "text": [
      "pred: WithoutMask  pred_idx:  tensor(1)  probs:  tensor([2.1172e-09, 1.0000e+00])\n"
     ]
    },
    {
     "data": {
      "text/html": [],
      "text/plain": [
       "<IPython.core.display.HTML object>"
      ]
     },
     "metadata": {},
     "output_type": "display_data"
    },
    {
     "name": "stdout",
     "output_type": "stream",
     "text": [
      "pred: WithoutMask  pred_idx:  tensor(1)  probs:  tensor([6.1851e-10, 1.0000e+00])\n"
     ]
    },
    {
     "data": {
      "text/html": [],
      "text/plain": [
       "<IPython.core.display.HTML object>"
      ]
     },
     "metadata": {},
     "output_type": "display_data"
    },
    {
     "name": "stdout",
     "output_type": "stream",
     "text": [
      "pred: WithoutMask  pred_idx:  tensor(1)  probs:  tensor([3.6531e-09, 1.0000e+00])\n"
     ]
    },
    {
     "data": {
      "text/html": [],
      "text/plain": [
       "<IPython.core.display.HTML object>"
      ]
     },
     "metadata": {},
     "output_type": "display_data"
    },
    {
     "name": "stdout",
     "output_type": "stream",
     "text": [
      "pred: WithoutMask  pred_idx:  tensor(1)  probs:  tensor([4.5348e-08, 1.0000e+00])\n"
     ]
    },
    {
     "data": {
      "text/html": [],
      "text/plain": [
       "<IPython.core.display.HTML object>"
      ]
     },
     "metadata": {},
     "output_type": "display_data"
    },
    {
     "name": "stdout",
     "output_type": "stream",
     "text": [
      "pred: WithoutMask  pred_idx:  tensor(1)  probs:  tensor([1.8317e-10, 1.0000e+00])\n"
     ]
    },
    {
     "data": {
      "text/html": [],
      "text/plain": [
       "<IPython.core.display.HTML object>"
      ]
     },
     "metadata": {},
     "output_type": "display_data"
    },
    {
     "name": "stdout",
     "output_type": "stream",
     "text": [
      "pred: WithoutMask  pred_idx:  tensor(1)  probs:  tensor([2.4907e-07, 1.0000e+00])\n"
     ]
    },
    {
     "data": {
      "text/html": [],
      "text/plain": [
       "<IPython.core.display.HTML object>"
      ]
     },
     "metadata": {},
     "output_type": "display_data"
    },
    {
     "name": "stdout",
     "output_type": "stream",
     "text": [
      "pred: WithoutMask  pred_idx:  tensor(1)  probs:  tensor([6.7359e-07, 1.0000e+00])\n"
     ]
    },
    {
     "data": {
      "text/html": [],
      "text/plain": [
       "<IPython.core.display.HTML object>"
      ]
     },
     "metadata": {},
     "output_type": "display_data"
    },
    {
     "name": "stdout",
     "output_type": "stream",
     "text": [
      "pred: WithoutMask  pred_idx:  tensor(1)  probs:  tensor([2.3164e-10, 1.0000e+00])\n"
     ]
    },
    {
     "data": {
      "text/html": [],
      "text/plain": [
       "<IPython.core.display.HTML object>"
      ]
     },
     "metadata": {},
     "output_type": "display_data"
    },
    {
     "name": "stdout",
     "output_type": "stream",
     "text": [
      "pred: WithoutMask  pred_idx:  tensor(1)  probs:  tensor([2.4501e-08, 1.0000e+00])\n"
     ]
    },
    {
     "data": {
      "text/html": [],
      "text/plain": [
       "<IPython.core.display.HTML object>"
      ]
     },
     "metadata": {},
     "output_type": "display_data"
    },
    {
     "name": "stdout",
     "output_type": "stream",
     "text": [
      "pred: WithoutMask  pred_idx:  tensor(1)  probs:  tensor([5.6074e-10, 1.0000e+00])\n"
     ]
    },
    {
     "data": {
      "text/html": [],
      "text/plain": [
       "<IPython.core.display.HTML object>"
      ]
     },
     "metadata": {},
     "output_type": "display_data"
    },
    {
     "name": "stdout",
     "output_type": "stream",
     "text": [
      "pred: WithoutMask  pred_idx:  tensor(1)  probs:  tensor([6.1236e-12, 1.0000e+00])\n"
     ]
    },
    {
     "data": {
      "text/html": [],
      "text/plain": [
       "<IPython.core.display.HTML object>"
      ]
     },
     "metadata": {},
     "output_type": "display_data"
    },
    {
     "name": "stdout",
     "output_type": "stream",
     "text": [
      "pred: WithoutMask  pred_idx:  tensor(1)  probs:  tensor([1.9496e-09, 1.0000e+00])\n"
     ]
    },
    {
     "data": {
      "text/html": [],
      "text/plain": [
       "<IPython.core.display.HTML object>"
      ]
     },
     "metadata": {},
     "output_type": "display_data"
    },
    {
     "name": "stdout",
     "output_type": "stream",
     "text": [
      "pred: WithoutMask  pred_idx:  tensor(1)  probs:  tensor([3.3848e-08, 1.0000e+00])\n"
     ]
    },
    {
     "data": {
      "text/html": [],
      "text/plain": [
       "<IPython.core.display.HTML object>"
      ]
     },
     "metadata": {},
     "output_type": "display_data"
    },
    {
     "name": "stdout",
     "output_type": "stream",
     "text": [
      "pred: WithoutMask  pred_idx:  tensor(1)  probs:  tensor([5.5541e-07, 1.0000e+00])\n"
     ]
    },
    {
     "data": {
      "text/html": [],
      "text/plain": [
       "<IPython.core.display.HTML object>"
      ]
     },
     "metadata": {},
     "output_type": "display_data"
    },
    {
     "name": "stdout",
     "output_type": "stream",
     "text": [
      "pred: WithoutMask  pred_idx:  tensor(1)  probs:  tensor([9.9663e-08, 1.0000e+00])\n"
     ]
    },
    {
     "data": {
      "text/html": [],
      "text/plain": [
       "<IPython.core.display.HTML object>"
      ]
     },
     "metadata": {},
     "output_type": "display_data"
    },
    {
     "name": "stdout",
     "output_type": "stream",
     "text": [
      "pred: WithoutMask  pred_idx:  tensor(1)  probs:  tensor([8.2509e-11, 1.0000e+00])\n"
     ]
    },
    {
     "data": {
      "text/html": [],
      "text/plain": [
       "<IPython.core.display.HTML object>"
      ]
     },
     "metadata": {},
     "output_type": "display_data"
    },
    {
     "name": "stdout",
     "output_type": "stream",
     "text": [
      "pred: WithoutMask  pred_idx:  tensor(1)  probs:  tensor([4.5908e-11, 1.0000e+00])\n"
     ]
    },
    {
     "data": {
      "text/html": [],
      "text/plain": [
       "<IPython.core.display.HTML object>"
      ]
     },
     "metadata": {},
     "output_type": "display_data"
    },
    {
     "name": "stdout",
     "output_type": "stream",
     "text": [
      "pred: WithoutMask  pred_idx:  tensor(1)  probs:  tensor([1.1522e-09, 1.0000e+00])\n"
     ]
    },
    {
     "data": {
      "text/html": [],
      "text/plain": [
       "<IPython.core.display.HTML object>"
      ]
     },
     "metadata": {},
     "output_type": "display_data"
    },
    {
     "name": "stdout",
     "output_type": "stream",
     "text": [
      "pred: WithoutMask  pred_idx:  tensor(1)  probs:  tensor([6.8013e-08, 1.0000e+00])\n"
     ]
    },
    {
     "data": {
      "text/html": [],
      "text/plain": [
       "<IPython.core.display.HTML object>"
      ]
     },
     "metadata": {},
     "output_type": "display_data"
    },
    {
     "name": "stdout",
     "output_type": "stream",
     "text": [
      "pred: WithoutMask  pred_idx:  tensor(1)  probs:  tensor([1.9908e-10, 1.0000e+00])\n"
     ]
    },
    {
     "data": {
      "text/html": [],
      "text/plain": [
       "<IPython.core.display.HTML object>"
      ]
     },
     "metadata": {},
     "output_type": "display_data"
    },
    {
     "name": "stdout",
     "output_type": "stream",
     "text": [
      "pred: WithoutMask  pred_idx:  tensor(1)  probs:  tensor([1.1274e-11, 1.0000e+00])\n"
     ]
    },
    {
     "data": {
      "text/html": [],
      "text/plain": [
       "<IPython.core.display.HTML object>"
      ]
     },
     "metadata": {},
     "output_type": "display_data"
    },
    {
     "name": "stdout",
     "output_type": "stream",
     "text": [
      "pred: WithoutMask  pred_idx:  tensor(1)  probs:  tensor([4.7273e-10, 1.0000e+00])\n"
     ]
    },
    {
     "data": {
      "text/html": [],
      "text/plain": [
       "<IPython.core.display.HTML object>"
      ]
     },
     "metadata": {},
     "output_type": "display_data"
    },
    {
     "name": "stdout",
     "output_type": "stream",
     "text": [
      "pred: WithoutMask  pred_idx:  tensor(1)  probs:  tensor([2.0907e-09, 1.0000e+00])\n"
     ]
    },
    {
     "data": {
      "text/html": [],
      "text/plain": [
       "<IPython.core.display.HTML object>"
      ]
     },
     "metadata": {},
     "output_type": "display_data"
    },
    {
     "name": "stdout",
     "output_type": "stream",
     "text": [
      "pred: WithoutMask  pred_idx:  tensor(1)  probs:  tensor([3.2022e-09, 1.0000e+00])\n"
     ]
    },
    {
     "data": {
      "text/html": [],
      "text/plain": [
       "<IPython.core.display.HTML object>"
      ]
     },
     "metadata": {},
     "output_type": "display_data"
    },
    {
     "name": "stdout",
     "output_type": "stream",
     "text": [
      "pred: WithoutMask  pred_idx:  tensor(1)  probs:  tensor([1.6112e-11, 1.0000e+00])\n"
     ]
    },
    {
     "data": {
      "text/html": [],
      "text/plain": [
       "<IPython.core.display.HTML object>"
      ]
     },
     "metadata": {},
     "output_type": "display_data"
    },
    {
     "name": "stdout",
     "output_type": "stream",
     "text": [
      "pred: WithoutMask  pred_idx:  tensor(1)  probs:  tensor([1.4845e-10, 1.0000e+00])\n"
     ]
    },
    {
     "data": {
      "text/html": [],
      "text/plain": [
       "<IPython.core.display.HTML object>"
      ]
     },
     "metadata": {},
     "output_type": "display_data"
    },
    {
     "name": "stdout",
     "output_type": "stream",
     "text": [
      "pred: WithoutMask  pred_idx:  tensor(1)  probs:  tensor([3.6558e-08, 1.0000e+00])\n"
     ]
    },
    {
     "data": {
      "text/html": [],
      "text/plain": [
       "<IPython.core.display.HTML object>"
      ]
     },
     "metadata": {},
     "output_type": "display_data"
    },
    {
     "name": "stdout",
     "output_type": "stream",
     "text": [
      "pred: WithoutMask  pred_idx:  tensor(1)  probs:  tensor([1.0038e-09, 1.0000e+00])\n"
     ]
    },
    {
     "data": {
      "text/html": [],
      "text/plain": [
       "<IPython.core.display.HTML object>"
      ]
     },
     "metadata": {},
     "output_type": "display_data"
    },
    {
     "name": "stdout",
     "output_type": "stream",
     "text": [
      "pred: WithoutMask  pred_idx:  tensor(1)  probs:  tensor([1.1408e-08, 1.0000e+00])\n"
     ]
    },
    {
     "data": {
      "text/html": [],
      "text/plain": [
       "<IPython.core.display.HTML object>"
      ]
     },
     "metadata": {},
     "output_type": "display_data"
    },
    {
     "name": "stdout",
     "output_type": "stream",
     "text": [
      "pred: WithoutMask  pred_idx:  tensor(1)  probs:  tensor([1.0723e-05, 9.9999e-01])\n"
     ]
    },
    {
     "data": {
      "text/html": [],
      "text/plain": [
       "<IPython.core.display.HTML object>"
      ]
     },
     "metadata": {},
     "output_type": "display_data"
    },
    {
     "name": "stdout",
     "output_type": "stream",
     "text": [
      "pred: WithoutMask  pred_idx:  tensor(1)  probs:  tensor([3.0481e-07, 1.0000e+00])\n"
     ]
    },
    {
     "data": {
      "text/html": [],
      "text/plain": [
       "<IPython.core.display.HTML object>"
      ]
     },
     "metadata": {},
     "output_type": "display_data"
    },
    {
     "name": "stdout",
     "output_type": "stream",
     "text": [
      "pred: WithoutMask  pred_idx:  tensor(1)  probs:  tensor([1.8714e-10, 1.0000e+00])\n"
     ]
    },
    {
     "data": {
      "text/html": [],
      "text/plain": [
       "<IPython.core.display.HTML object>"
      ]
     },
     "metadata": {},
     "output_type": "display_data"
    },
    {
     "name": "stdout",
     "output_type": "stream",
     "text": [
      "pred: WithoutMask  pred_idx:  tensor(1)  probs:  tensor([7.3805e-08, 1.0000e+00])\n"
     ]
    },
    {
     "data": {
      "text/html": [],
      "text/plain": [
       "<IPython.core.display.HTML object>"
      ]
     },
     "metadata": {},
     "output_type": "display_data"
    },
    {
     "name": "stdout",
     "output_type": "stream",
     "text": [
      "pred: WithoutMask  pred_idx:  tensor(1)  probs:  tensor([2.1851e-10, 1.0000e+00])\n"
     ]
    },
    {
     "data": {
      "text/html": [],
      "text/plain": [
       "<IPython.core.display.HTML object>"
      ]
     },
     "metadata": {},
     "output_type": "display_data"
    },
    {
     "name": "stdout",
     "output_type": "stream",
     "text": [
      "pred: WithoutMask  pred_idx:  tensor(1)  probs:  tensor([3.2712e-08, 1.0000e+00])\n"
     ]
    },
    {
     "data": {
      "text/html": [],
      "text/plain": [
       "<IPython.core.display.HTML object>"
      ]
     },
     "metadata": {},
     "output_type": "display_data"
    },
    {
     "name": "stdout",
     "output_type": "stream",
     "text": [
      "pred: WithoutMask  pred_idx:  tensor(1)  probs:  tensor([2.3666e-11, 1.0000e+00])\n"
     ]
    },
    {
     "data": {
      "text/html": [],
      "text/plain": [
       "<IPython.core.display.HTML object>"
      ]
     },
     "metadata": {},
     "output_type": "display_data"
    },
    {
     "name": "stdout",
     "output_type": "stream",
     "text": [
      "pred: WithoutMask  pred_idx:  tensor(1)  probs:  tensor([3.9642e-08, 1.0000e+00])\n"
     ]
    },
    {
     "data": {
      "text/html": [],
      "text/plain": [
       "<IPython.core.display.HTML object>"
      ]
     },
     "metadata": {},
     "output_type": "display_data"
    },
    {
     "name": "stdout",
     "output_type": "stream",
     "text": [
      "pred: WithoutMask  pred_idx:  tensor(1)  probs:  tensor([1.5583e-09, 1.0000e+00])\n"
     ]
    },
    {
     "data": {
      "text/html": [],
      "text/plain": [
       "<IPython.core.display.HTML object>"
      ]
     },
     "metadata": {},
     "output_type": "display_data"
    },
    {
     "name": "stdout",
     "output_type": "stream",
     "text": [
      "pred: WithoutMask  pred_idx:  tensor(1)  probs:  tensor([4.5814e-10, 1.0000e+00])\n"
     ]
    },
    {
     "data": {
      "text/html": [],
      "text/plain": [
       "<IPython.core.display.HTML object>"
      ]
     },
     "metadata": {},
     "output_type": "display_data"
    },
    {
     "name": "stdout",
     "output_type": "stream",
     "text": [
      "pred: WithoutMask  pred_idx:  tensor(1)  probs:  tensor([1.2286e-10, 1.0000e+00])\n"
     ]
    },
    {
     "data": {
      "text/html": [],
      "text/plain": [
       "<IPython.core.display.HTML object>"
      ]
     },
     "metadata": {},
     "output_type": "display_data"
    },
    {
     "name": "stdout",
     "output_type": "stream",
     "text": [
      "pred: WithoutMask  pred_idx:  tensor(1)  probs:  tensor([2.6667e-09, 1.0000e+00])\n"
     ]
    },
    {
     "data": {
      "text/html": [],
      "text/plain": [
       "<IPython.core.display.HTML object>"
      ]
     },
     "metadata": {},
     "output_type": "display_data"
    },
    {
     "name": "stdout",
     "output_type": "stream",
     "text": [
      "pred: WithoutMask  pred_idx:  tensor(1)  probs:  tensor([2.9248e-07, 1.0000e+00])\n"
     ]
    },
    {
     "data": {
      "text/html": [],
      "text/plain": [
       "<IPython.core.display.HTML object>"
      ]
     },
     "metadata": {},
     "output_type": "display_data"
    },
    {
     "name": "stdout",
     "output_type": "stream",
     "text": [
      "pred: WithoutMask  pred_idx:  tensor(1)  probs:  tensor([4.9461e-06, 1.0000e+00])\n"
     ]
    },
    {
     "data": {
      "text/html": [],
      "text/plain": [
       "<IPython.core.display.HTML object>"
      ]
     },
     "metadata": {},
     "output_type": "display_data"
    },
    {
     "name": "stdout",
     "output_type": "stream",
     "text": [
      "pred: WithoutMask  pred_idx:  tensor(1)  probs:  tensor([2.8742e-14, 1.0000e+00])\n"
     ]
    },
    {
     "data": {
      "text/html": [],
      "text/plain": [
       "<IPython.core.display.HTML object>"
      ]
     },
     "metadata": {},
     "output_type": "display_data"
    },
    {
     "name": "stdout",
     "output_type": "stream",
     "text": [
      "pred: WithoutMask  pred_idx:  tensor(1)  probs:  tensor([4.8688e-08, 1.0000e+00])\n"
     ]
    },
    {
     "data": {
      "text/html": [],
      "text/plain": [
       "<IPython.core.display.HTML object>"
      ]
     },
     "metadata": {},
     "output_type": "display_data"
    },
    {
     "name": "stdout",
     "output_type": "stream",
     "text": [
      "pred: WithoutMask  pred_idx:  tensor(1)  probs:  tensor([1.0533e-06, 1.0000e+00])\n"
     ]
    },
    {
     "data": {
      "text/html": [],
      "text/plain": [
       "<IPython.core.display.HTML object>"
      ]
     },
     "metadata": {},
     "output_type": "display_data"
    },
    {
     "name": "stdout",
     "output_type": "stream",
     "text": [
      "pred: WithoutMask  pred_idx:  tensor(1)  probs:  tensor([2.2827e-07, 1.0000e+00])\n"
     ]
    },
    {
     "data": {
      "text/html": [],
      "text/plain": [
       "<IPython.core.display.HTML object>"
      ]
     },
     "metadata": {},
     "output_type": "display_data"
    },
    {
     "name": "stdout",
     "output_type": "stream",
     "text": [
      "pred: WithoutMask  pred_idx:  tensor(1)  probs:  tensor([3.4253e-10, 1.0000e+00])\n"
     ]
    },
    {
     "data": {
      "text/html": [],
      "text/plain": [
       "<IPython.core.display.HTML object>"
      ]
     },
     "metadata": {},
     "output_type": "display_data"
    },
    {
     "name": "stdout",
     "output_type": "stream",
     "text": [
      "pred: WithoutMask  pred_idx:  tensor(1)  probs:  tensor([3.9921e-07, 1.0000e+00])\n"
     ]
    },
    {
     "data": {
      "text/html": [],
      "text/plain": [
       "<IPython.core.display.HTML object>"
      ]
     },
     "metadata": {},
     "output_type": "display_data"
    },
    {
     "name": "stdout",
     "output_type": "stream",
     "text": [
      "pred: WithoutMask  pred_idx:  tensor(1)  probs:  tensor([6.5211e-08, 1.0000e+00])\n"
     ]
    },
    {
     "data": {
      "text/html": [],
      "text/plain": [
       "<IPython.core.display.HTML object>"
      ]
     },
     "metadata": {},
     "output_type": "display_data"
    },
    {
     "name": "stdout",
     "output_type": "stream",
     "text": [
      "pred: WithoutMask  pred_idx:  tensor(1)  probs:  tensor([1.0713e-10, 1.0000e+00])\n"
     ]
    },
    {
     "data": {
      "text/html": [],
      "text/plain": [
       "<IPython.core.display.HTML object>"
      ]
     },
     "metadata": {},
     "output_type": "display_data"
    },
    {
     "name": "stdout",
     "output_type": "stream",
     "text": [
      "pred: WithoutMask  pred_idx:  tensor(1)  probs:  tensor([2.3764e-10, 1.0000e+00])\n"
     ]
    },
    {
     "data": {
      "text/html": [],
      "text/plain": [
       "<IPython.core.display.HTML object>"
      ]
     },
     "metadata": {},
     "output_type": "display_data"
    },
    {
     "name": "stdout",
     "output_type": "stream",
     "text": [
      "pred: WithoutMask  pred_idx:  tensor(1)  probs:  tensor([2.2620e-10, 1.0000e+00])\n"
     ]
    },
    {
     "data": {
      "text/html": [],
      "text/plain": [
       "<IPython.core.display.HTML object>"
      ]
     },
     "metadata": {},
     "output_type": "display_data"
    },
    {
     "name": "stdout",
     "output_type": "stream",
     "text": [
      "pred: WithoutMask  pred_idx:  tensor(1)  probs:  tensor([9.9355e-11, 1.0000e+00])\n"
     ]
    },
    {
     "data": {
      "text/html": [],
      "text/plain": [
       "<IPython.core.display.HTML object>"
      ]
     },
     "metadata": {},
     "output_type": "display_data"
    },
    {
     "name": "stdout",
     "output_type": "stream",
     "text": [
      "pred: WithoutMask  pred_idx:  tensor(1)  probs:  tensor([3.5522e-07, 1.0000e+00])\n"
     ]
    },
    {
     "data": {
      "text/html": [],
      "text/plain": [
       "<IPython.core.display.HTML object>"
      ]
     },
     "metadata": {},
     "output_type": "display_data"
    },
    {
     "name": "stdout",
     "output_type": "stream",
     "text": [
      "pred: WithoutMask  pred_idx:  tensor(1)  probs:  tensor([8.5582e-09, 1.0000e+00])\n"
     ]
    },
    {
     "data": {
      "text/html": [],
      "text/plain": [
       "<IPython.core.display.HTML object>"
      ]
     },
     "metadata": {},
     "output_type": "display_data"
    },
    {
     "name": "stdout",
     "output_type": "stream",
     "text": [
      "pred: WithoutMask  pred_idx:  tensor(1)  probs:  tensor([3.1208e-11, 1.0000e+00])\n"
     ]
    },
    {
     "data": {
      "text/html": [],
      "text/plain": [
       "<IPython.core.display.HTML object>"
      ]
     },
     "metadata": {},
     "output_type": "display_data"
    },
    {
     "name": "stdout",
     "output_type": "stream",
     "text": [
      "pred: WithoutMask  pred_idx:  tensor(1)  probs:  tensor([4.7262e-09, 1.0000e+00])\n"
     ]
    },
    {
     "data": {
      "text/html": [],
      "text/plain": [
       "<IPython.core.display.HTML object>"
      ]
     },
     "metadata": {},
     "output_type": "display_data"
    },
    {
     "name": "stdout",
     "output_type": "stream",
     "text": [
      "pred: WithoutMask  pred_idx:  tensor(1)  probs:  tensor([1.1791e-05, 9.9999e-01])\n"
     ]
    },
    {
     "data": {
      "text/html": [],
      "text/plain": [
       "<IPython.core.display.HTML object>"
      ]
     },
     "metadata": {},
     "output_type": "display_data"
    },
    {
     "name": "stdout",
     "output_type": "stream",
     "text": [
      "pred: WithoutMask  pred_idx:  tensor(1)  probs:  tensor([6.7666e-11, 1.0000e+00])\n"
     ]
    },
    {
     "data": {
      "text/html": [],
      "text/plain": [
       "<IPython.core.display.HTML object>"
      ]
     },
     "metadata": {},
     "output_type": "display_data"
    },
    {
     "name": "stdout",
     "output_type": "stream",
     "text": [
      "pred: WithoutMask  pred_idx:  tensor(1)  probs:  tensor([8.8572e-08, 1.0000e+00])\n"
     ]
    },
    {
     "data": {
      "text/html": [],
      "text/plain": [
       "<IPython.core.display.HTML object>"
      ]
     },
     "metadata": {},
     "output_type": "display_data"
    },
    {
     "name": "stdout",
     "output_type": "stream",
     "text": [
      "pred: WithoutMask  pred_idx:  tensor(1)  probs:  tensor([6.0606e-11, 1.0000e+00])\n"
     ]
    },
    {
     "data": {
      "text/html": [],
      "text/plain": [
       "<IPython.core.display.HTML object>"
      ]
     },
     "metadata": {},
     "output_type": "display_data"
    },
    {
     "name": "stdout",
     "output_type": "stream",
     "text": [
      "pred: WithoutMask  pred_idx:  tensor(1)  probs:  tensor([1.3175e-05, 9.9999e-01])\n"
     ]
    },
    {
     "data": {
      "text/html": [],
      "text/plain": [
       "<IPython.core.display.HTML object>"
      ]
     },
     "metadata": {},
     "output_type": "display_data"
    },
    {
     "name": "stdout",
     "output_type": "stream",
     "text": [
      "pred: WithoutMask  pred_idx:  tensor(1)  probs:  tensor([3.5766e-11, 1.0000e+00])\n"
     ]
    },
    {
     "data": {
      "text/html": [],
      "text/plain": [
       "<IPython.core.display.HTML object>"
      ]
     },
     "metadata": {},
     "output_type": "display_data"
    },
    {
     "name": "stdout",
     "output_type": "stream",
     "text": [
      "pred: WithoutMask  pred_idx:  tensor(1)  probs:  tensor([3.3536e-10, 1.0000e+00])\n"
     ]
    },
    {
     "data": {
      "text/html": [],
      "text/plain": [
       "<IPython.core.display.HTML object>"
      ]
     },
     "metadata": {},
     "output_type": "display_data"
    },
    {
     "name": "stdout",
     "output_type": "stream",
     "text": [
      "pred: WithoutMask  pred_idx:  tensor(1)  probs:  tensor([1.2502e-05, 9.9999e-01])\n"
     ]
    },
    {
     "data": {
      "text/html": [],
      "text/plain": [
       "<IPython.core.display.HTML object>"
      ]
     },
     "metadata": {},
     "output_type": "display_data"
    },
    {
     "name": "stdout",
     "output_type": "stream",
     "text": [
      "pred: WithoutMask  pred_idx:  tensor(1)  probs:  tensor([2.3985e-07, 1.0000e+00])\n"
     ]
    },
    {
     "data": {
      "text/html": [],
      "text/plain": [
       "<IPython.core.display.HTML object>"
      ]
     },
     "metadata": {},
     "output_type": "display_data"
    },
    {
     "name": "stdout",
     "output_type": "stream",
     "text": [
      "pred: WithoutMask  pred_idx:  tensor(1)  probs:  tensor([2.7922e-10, 1.0000e+00])\n"
     ]
    },
    {
     "data": {
      "text/html": [],
      "text/plain": [
       "<IPython.core.display.HTML object>"
      ]
     },
     "metadata": {},
     "output_type": "display_data"
    },
    {
     "name": "stdout",
     "output_type": "stream",
     "text": [
      "pred: WithoutMask  pred_idx:  tensor(1)  probs:  tensor([2.9814e-08, 1.0000e+00])\n"
     ]
    },
    {
     "data": {
      "text/html": [],
      "text/plain": [
       "<IPython.core.display.HTML object>"
      ]
     },
     "metadata": {},
     "output_type": "display_data"
    },
    {
     "name": "stdout",
     "output_type": "stream",
     "text": [
      "pred: WithoutMask  pred_idx:  tensor(1)  probs:  tensor([1.5261e-10, 1.0000e+00])\n"
     ]
    },
    {
     "data": {
      "text/html": [],
      "text/plain": [
       "<IPython.core.display.HTML object>"
      ]
     },
     "metadata": {},
     "output_type": "display_data"
    },
    {
     "name": "stdout",
     "output_type": "stream",
     "text": [
      "pred: WithoutMask  pred_idx:  tensor(1)  probs:  tensor([4.9993e-09, 1.0000e+00])\n"
     ]
    },
    {
     "data": {
      "text/html": [],
      "text/plain": [
       "<IPython.core.display.HTML object>"
      ]
     },
     "metadata": {},
     "output_type": "display_data"
    },
    {
     "name": "stdout",
     "output_type": "stream",
     "text": [
      "pred: WithoutMask  pred_idx:  tensor(1)  probs:  tensor([7.5356e-08, 1.0000e+00])\n"
     ]
    },
    {
     "data": {
      "text/html": [],
      "text/plain": [
       "<IPython.core.display.HTML object>"
      ]
     },
     "metadata": {},
     "output_type": "display_data"
    },
    {
     "name": "stdout",
     "output_type": "stream",
     "text": [
      "pred: WithoutMask  pred_idx:  tensor(1)  probs:  tensor([1.3046e-08, 1.0000e+00])\n"
     ]
    },
    {
     "data": {
      "text/html": [],
      "text/plain": [
       "<IPython.core.display.HTML object>"
      ]
     },
     "metadata": {},
     "output_type": "display_data"
    },
    {
     "name": "stdout",
     "output_type": "stream",
     "text": [
      "pred: WithoutMask  pred_idx:  tensor(1)  probs:  tensor([2.1259e-10, 1.0000e+00])\n"
     ]
    },
    {
     "data": {
      "text/html": [],
      "text/plain": [
       "<IPython.core.display.HTML object>"
      ]
     },
     "metadata": {},
     "output_type": "display_data"
    },
    {
     "name": "stdout",
     "output_type": "stream",
     "text": [
      "pred: WithoutMask  pred_idx:  tensor(1)  probs:  tensor([2.8399e-08, 1.0000e+00])\n"
     ]
    },
    {
     "data": {
      "text/html": [],
      "text/plain": [
       "<IPython.core.display.HTML object>"
      ]
     },
     "metadata": {},
     "output_type": "display_data"
    },
    {
     "name": "stdout",
     "output_type": "stream",
     "text": [
      "pred: WithoutMask  pred_idx:  tensor(1)  probs:  tensor([5.2004e-11, 1.0000e+00])\n"
     ]
    },
    {
     "data": {
      "text/html": [],
      "text/plain": [
       "<IPython.core.display.HTML object>"
      ]
     },
     "metadata": {},
     "output_type": "display_data"
    },
    {
     "name": "stdout",
     "output_type": "stream",
     "text": [
      "pred: WithoutMask  pred_idx:  tensor(1)  probs:  tensor([1.0106e-09, 1.0000e+00])\n"
     ]
    },
    {
     "data": {
      "text/html": [],
      "text/plain": [
       "<IPython.core.display.HTML object>"
      ]
     },
     "metadata": {},
     "output_type": "display_data"
    },
    {
     "name": "stdout",
     "output_type": "stream",
     "text": [
      "pred: WithoutMask  pred_idx:  tensor(1)  probs:  tensor([8.6784e-09, 1.0000e+00])\n"
     ]
    },
    {
     "data": {
      "text/html": [],
      "text/plain": [
       "<IPython.core.display.HTML object>"
      ]
     },
     "metadata": {},
     "output_type": "display_data"
    },
    {
     "name": "stdout",
     "output_type": "stream",
     "text": [
      "pred: WithoutMask  pred_idx:  tensor(1)  probs:  tensor([4.1336e-11, 1.0000e+00])\n"
     ]
    },
    {
     "data": {
      "text/html": [],
      "text/plain": [
       "<IPython.core.display.HTML object>"
      ]
     },
     "metadata": {},
     "output_type": "display_data"
    },
    {
     "name": "stdout",
     "output_type": "stream",
     "text": [
      "pred: WithoutMask  pred_idx:  tensor(1)  probs:  tensor([5.4521e-09, 1.0000e+00])\n"
     ]
    },
    {
     "data": {
      "text/html": [],
      "text/plain": [
       "<IPython.core.display.HTML object>"
      ]
     },
     "metadata": {},
     "output_type": "display_data"
    },
    {
     "name": "stdout",
     "output_type": "stream",
     "text": [
      "pred: WithoutMask  pred_idx:  tensor(1)  probs:  tensor([2.2031e-09, 1.0000e+00])\n"
     ]
    },
    {
     "data": {
      "text/html": [],
      "text/plain": [
       "<IPython.core.display.HTML object>"
      ]
     },
     "metadata": {},
     "output_type": "display_data"
    },
    {
     "name": "stdout",
     "output_type": "stream",
     "text": [
      "pred: WithoutMask  pred_idx:  tensor(1)  probs:  tensor([8.3906e-05, 9.9992e-01])\n"
     ]
    },
    {
     "data": {
      "text/html": [],
      "text/plain": [
       "<IPython.core.display.HTML object>"
      ]
     },
     "metadata": {},
     "output_type": "display_data"
    },
    {
     "name": "stdout",
     "output_type": "stream",
     "text": [
      "pred: WithoutMask  pred_idx:  tensor(1)  probs:  tensor([1.7967e-10, 1.0000e+00])\n"
     ]
    },
    {
     "data": {
      "text/html": [],
      "text/plain": [
       "<IPython.core.display.HTML object>"
      ]
     },
     "metadata": {},
     "output_type": "display_data"
    },
    {
     "name": "stdout",
     "output_type": "stream",
     "text": [
      "pred: WithoutMask  pred_idx:  tensor(1)  probs:  tensor([1.6287e-10, 1.0000e+00])\n"
     ]
    },
    {
     "data": {
      "text/html": [],
      "text/plain": [
       "<IPython.core.display.HTML object>"
      ]
     },
     "metadata": {},
     "output_type": "display_data"
    },
    {
     "name": "stdout",
     "output_type": "stream",
     "text": [
      "pred: WithoutMask  pred_idx:  tensor(1)  probs:  tensor([1.1986e-08, 1.0000e+00])\n"
     ]
    },
    {
     "data": {
      "text/html": [],
      "text/plain": [
       "<IPython.core.display.HTML object>"
      ]
     },
     "metadata": {},
     "output_type": "display_data"
    },
    {
     "name": "stdout",
     "output_type": "stream",
     "text": [
      "pred: WithoutMask  pred_idx:  tensor(1)  probs:  tensor([4.3343e-10, 1.0000e+00])\n"
     ]
    },
    {
     "data": {
      "text/html": [],
      "text/plain": [
       "<IPython.core.display.HTML object>"
      ]
     },
     "metadata": {},
     "output_type": "display_data"
    },
    {
     "name": "stdout",
     "output_type": "stream",
     "text": [
      "pred: WithoutMask  pred_idx:  tensor(1)  probs:  tensor([1.1539e-11, 1.0000e+00])\n"
     ]
    },
    {
     "data": {
      "text/html": [],
      "text/plain": [
       "<IPython.core.display.HTML object>"
      ]
     },
     "metadata": {},
     "output_type": "display_data"
    },
    {
     "name": "stdout",
     "output_type": "stream",
     "text": [
      "pred: WithoutMask  pred_idx:  tensor(1)  probs:  tensor([4.7525e-10, 1.0000e+00])\n"
     ]
    },
    {
     "data": {
      "text/html": [],
      "text/plain": [
       "<IPython.core.display.HTML object>"
      ]
     },
     "metadata": {},
     "output_type": "display_data"
    },
    {
     "name": "stdout",
     "output_type": "stream",
     "text": [
      "pred: WithoutMask  pred_idx:  tensor(1)  probs:  tensor([2.1143e-09, 1.0000e+00])\n"
     ]
    },
    {
     "data": {
      "text/html": [],
      "text/plain": [
       "<IPython.core.display.HTML object>"
      ]
     },
     "metadata": {},
     "output_type": "display_data"
    },
    {
     "name": "stdout",
     "output_type": "stream",
     "text": [
      "pred: WithoutMask  pred_idx:  tensor(1)  probs:  tensor([1.3457e-11, 1.0000e+00])\n"
     ]
    },
    {
     "data": {
      "text/html": [],
      "text/plain": [
       "<IPython.core.display.HTML object>"
      ]
     },
     "metadata": {},
     "output_type": "display_data"
    },
    {
     "name": "stdout",
     "output_type": "stream",
     "text": [
      "pred: WithoutMask  pred_idx:  tensor(1)  probs:  tensor([5.8501e-12, 1.0000e+00])\n"
     ]
    },
    {
     "data": {
      "text/html": [],
      "text/plain": [
       "<IPython.core.display.HTML object>"
      ]
     },
     "metadata": {},
     "output_type": "display_data"
    },
    {
     "name": "stdout",
     "output_type": "stream",
     "text": [
      "pred: WithoutMask  pred_idx:  tensor(1)  probs:  tensor([4.7801e-08, 1.0000e+00])\n"
     ]
    },
    {
     "data": {
      "text/html": [],
      "text/plain": [
       "<IPython.core.display.HTML object>"
      ]
     },
     "metadata": {},
     "output_type": "display_data"
    },
    {
     "name": "stdout",
     "output_type": "stream",
     "text": [
      "pred: WithoutMask  pred_idx:  tensor(1)  probs:  tensor([5.8039e-06, 9.9999e-01])\n"
     ]
    },
    {
     "data": {
      "text/html": [],
      "text/plain": [
       "<IPython.core.display.HTML object>"
      ]
     },
     "metadata": {},
     "output_type": "display_data"
    },
    {
     "name": "stdout",
     "output_type": "stream",
     "text": [
      "pred: WithoutMask  pred_idx:  tensor(1)  probs:  tensor([3.3228e-09, 1.0000e+00])\n"
     ]
    },
    {
     "data": {
      "text/html": [],
      "text/plain": [
       "<IPython.core.display.HTML object>"
      ]
     },
     "metadata": {},
     "output_type": "display_data"
    },
    {
     "name": "stdout",
     "output_type": "stream",
     "text": [
      "pred: WithoutMask  pred_idx:  tensor(1)  probs:  tensor([2.3904e-08, 1.0000e+00])\n"
     ]
    },
    {
     "data": {
      "text/html": [],
      "text/plain": [
       "<IPython.core.display.HTML object>"
      ]
     },
     "metadata": {},
     "output_type": "display_data"
    },
    {
     "name": "stdout",
     "output_type": "stream",
     "text": [
      "pred: WithoutMask  pred_idx:  tensor(1)  probs:  tensor([3.8760e-09, 1.0000e+00])\n"
     ]
    },
    {
     "data": {
      "text/html": [],
      "text/plain": [
       "<IPython.core.display.HTML object>"
      ]
     },
     "metadata": {},
     "output_type": "display_data"
    },
    {
     "name": "stdout",
     "output_type": "stream",
     "text": [
      "pred: WithoutMask  pred_idx:  tensor(1)  probs:  tensor([2.1727e-09, 1.0000e+00])\n"
     ]
    },
    {
     "data": {
      "text/html": [],
      "text/plain": [
       "<IPython.core.display.HTML object>"
      ]
     },
     "metadata": {},
     "output_type": "display_data"
    },
    {
     "name": "stdout",
     "output_type": "stream",
     "text": [
      "pred: WithoutMask  pred_idx:  tensor(1)  probs:  tensor([9.0341e-11, 1.0000e+00])\n"
     ]
    },
    {
     "data": {
      "text/html": [],
      "text/plain": [
       "<IPython.core.display.HTML object>"
      ]
     },
     "metadata": {},
     "output_type": "display_data"
    },
    {
     "name": "stdout",
     "output_type": "stream",
     "text": [
      "pred: WithoutMask  pred_idx:  tensor(1)  probs:  tensor([1.9799e-09, 1.0000e+00])\n"
     ]
    },
    {
     "data": {
      "text/html": [],
      "text/plain": [
       "<IPython.core.display.HTML object>"
      ]
     },
     "metadata": {},
     "output_type": "display_data"
    },
    {
     "name": "stdout",
     "output_type": "stream",
     "text": [
      "pred: WithoutMask  pred_idx:  tensor(1)  probs:  tensor([1.5532e-10, 1.0000e+00])\n"
     ]
    },
    {
     "data": {
      "text/html": [],
      "text/plain": [
       "<IPython.core.display.HTML object>"
      ]
     },
     "metadata": {},
     "output_type": "display_data"
    },
    {
     "name": "stdout",
     "output_type": "stream",
     "text": [
      "pred: WithoutMask  pred_idx:  tensor(1)  probs:  tensor([6.7207e-05, 9.9993e-01])\n"
     ]
    },
    {
     "data": {
      "text/html": [],
      "text/plain": [
       "<IPython.core.display.HTML object>"
      ]
     },
     "metadata": {},
     "output_type": "display_data"
    },
    {
     "name": "stdout",
     "output_type": "stream",
     "text": [
      "pred: WithoutMask  pred_idx:  tensor(1)  probs:  tensor([5.6005e-09, 1.0000e+00])\n"
     ]
    },
    {
     "data": {
      "text/html": [],
      "text/plain": [
       "<IPython.core.display.HTML object>"
      ]
     },
     "metadata": {},
     "output_type": "display_data"
    },
    {
     "name": "stdout",
     "output_type": "stream",
     "text": [
      "pred: WithoutMask  pred_idx:  tensor(1)  probs:  tensor([1.4490e-07, 1.0000e+00])\n"
     ]
    },
    {
     "data": {
      "text/html": [],
      "text/plain": [
       "<IPython.core.display.HTML object>"
      ]
     },
     "metadata": {},
     "output_type": "display_data"
    },
    {
     "name": "stdout",
     "output_type": "stream",
     "text": [
      "pred: WithoutMask  pred_idx:  tensor(1)  probs:  tensor([1.1144e-07, 1.0000e+00])\n"
     ]
    },
    {
     "data": {
      "text/html": [],
      "text/plain": [
       "<IPython.core.display.HTML object>"
      ]
     },
     "metadata": {},
     "output_type": "display_data"
    },
    {
     "name": "stdout",
     "output_type": "stream",
     "text": [
      "pred: WithoutMask  pred_idx:  tensor(1)  probs:  tensor([2.1359e-07, 1.0000e+00])\n"
     ]
    },
    {
     "data": {
      "text/html": [],
      "text/plain": [
       "<IPython.core.display.HTML object>"
      ]
     },
     "metadata": {},
     "output_type": "display_data"
    },
    {
     "name": "stdout",
     "output_type": "stream",
     "text": [
      "pred: WithoutMask  pred_idx:  tensor(1)  probs:  tensor([2.5892e-10, 1.0000e+00])\n"
     ]
    },
    {
     "data": {
      "text/html": [],
      "text/plain": [
       "<IPython.core.display.HTML object>"
      ]
     },
     "metadata": {},
     "output_type": "display_data"
    },
    {
     "name": "stdout",
     "output_type": "stream",
     "text": [
      "pred: WithoutMask  pred_idx:  tensor(1)  probs:  tensor([4.1253e-07, 1.0000e+00])\n"
     ]
    },
    {
     "data": {
      "text/html": [],
      "text/plain": [
       "<IPython.core.display.HTML object>"
      ]
     },
     "metadata": {},
     "output_type": "display_data"
    },
    {
     "name": "stdout",
     "output_type": "stream",
     "text": [
      "pred: WithoutMask  pred_idx:  tensor(1)  probs:  tensor([2.1194e-07, 1.0000e+00])\n"
     ]
    },
    {
     "data": {
      "text/html": [],
      "text/plain": [
       "<IPython.core.display.HTML object>"
      ]
     },
     "metadata": {},
     "output_type": "display_data"
    },
    {
     "name": "stdout",
     "output_type": "stream",
     "text": [
      "pred: WithoutMask  pred_idx:  tensor(1)  probs:  tensor([1.4388e-09, 1.0000e+00])\n"
     ]
    },
    {
     "data": {
      "text/html": [],
      "text/plain": [
       "<IPython.core.display.HTML object>"
      ]
     },
     "metadata": {},
     "output_type": "display_data"
    },
    {
     "name": "stdout",
     "output_type": "stream",
     "text": [
      "pred: WithoutMask  pred_idx:  tensor(1)  probs:  tensor([1.6031e-11, 1.0000e+00])\n"
     ]
    },
    {
     "data": {
      "text/html": [],
      "text/plain": [
       "<IPython.core.display.HTML object>"
      ]
     },
     "metadata": {},
     "output_type": "display_data"
    },
    {
     "name": "stdout",
     "output_type": "stream",
     "text": [
      "pred: WithoutMask  pred_idx:  tensor(1)  probs:  tensor([4.4787e-10, 1.0000e+00])\n"
     ]
    },
    {
     "data": {
      "text/html": [],
      "text/plain": [
       "<IPython.core.display.HTML object>"
      ]
     },
     "metadata": {},
     "output_type": "display_data"
    },
    {
     "name": "stdout",
     "output_type": "stream",
     "text": [
      "pred: WithoutMask  pred_idx:  tensor(1)  probs:  tensor([7.3336e-09, 1.0000e+00])\n"
     ]
    },
    {
     "data": {
      "text/html": [],
      "text/plain": [
       "<IPython.core.display.HTML object>"
      ]
     },
     "metadata": {},
     "output_type": "display_data"
    },
    {
     "name": "stdout",
     "output_type": "stream",
     "text": [
      "pred: WithoutMask  pred_idx:  tensor(1)  probs:  tensor([1.3596e-09, 1.0000e+00])\n"
     ]
    },
    {
     "data": {
      "text/html": [],
      "text/plain": [
       "<IPython.core.display.HTML object>"
      ]
     },
     "metadata": {},
     "output_type": "display_data"
    },
    {
     "name": "stdout",
     "output_type": "stream",
     "text": [
      "pred: WithoutMask  pred_idx:  tensor(1)  probs:  tensor([2.2254e-08, 1.0000e+00])\n"
     ]
    },
    {
     "data": {
      "text/html": [],
      "text/plain": [
       "<IPython.core.display.HTML object>"
      ]
     },
     "metadata": {},
     "output_type": "display_data"
    },
    {
     "name": "stdout",
     "output_type": "stream",
     "text": [
      "pred: WithoutMask  pred_idx:  tensor(1)  probs:  tensor([3.3538e-08, 1.0000e+00])\n"
     ]
    },
    {
     "data": {
      "text/html": [],
      "text/plain": [
       "<IPython.core.display.HTML object>"
      ]
     },
     "metadata": {},
     "output_type": "display_data"
    },
    {
     "name": "stdout",
     "output_type": "stream",
     "text": [
      "pred: WithoutMask  pred_idx:  tensor(1)  probs:  tensor([1.7718e-09, 1.0000e+00])\n"
     ]
    },
    {
     "data": {
      "text/html": [],
      "text/plain": [
       "<IPython.core.display.HTML object>"
      ]
     },
     "metadata": {},
     "output_type": "display_data"
    },
    {
     "name": "stdout",
     "output_type": "stream",
     "text": [
      "pred: WithoutMask  pred_idx:  tensor(1)  probs:  tensor([2.0232e-11, 1.0000e+00])\n"
     ]
    },
    {
     "data": {
      "text/html": [],
      "text/plain": [
       "<IPython.core.display.HTML object>"
      ]
     },
     "metadata": {},
     "output_type": "display_data"
    },
    {
     "name": "stdout",
     "output_type": "stream",
     "text": [
      "pred: WithoutMask  pred_idx:  tensor(1)  probs:  tensor([4.8161e-08, 1.0000e+00])\n"
     ]
    },
    {
     "data": {
      "text/html": [],
      "text/plain": [
       "<IPython.core.display.HTML object>"
      ]
     },
     "metadata": {},
     "output_type": "display_data"
    },
    {
     "name": "stdout",
     "output_type": "stream",
     "text": [
      "pred: WithoutMask  pred_idx:  tensor(1)  probs:  tensor([5.6469e-10, 1.0000e+00])\n"
     ]
    },
    {
     "data": {
      "text/html": [],
      "text/plain": [
       "<IPython.core.display.HTML object>"
      ]
     },
     "metadata": {},
     "output_type": "display_data"
    },
    {
     "name": "stdout",
     "output_type": "stream",
     "text": [
      "pred: WithoutMask  pred_idx:  tensor(1)  probs:  tensor([1.8105e-09, 1.0000e+00])\n"
     ]
    },
    {
     "data": {
      "text/html": [],
      "text/plain": [
       "<IPython.core.display.HTML object>"
      ]
     },
     "metadata": {},
     "output_type": "display_data"
    },
    {
     "name": "stdout",
     "output_type": "stream",
     "text": [
      "pred: WithoutMask  pred_idx:  tensor(1)  probs:  tensor([0.1074, 0.8926])\n"
     ]
    },
    {
     "data": {
      "text/html": [],
      "text/plain": [
       "<IPython.core.display.HTML object>"
      ]
     },
     "metadata": {},
     "output_type": "display_data"
    },
    {
     "name": "stdout",
     "output_type": "stream",
     "text": [
      "pred: WithoutMask  pred_idx:  tensor(1)  probs:  tensor([3.8897e-11, 1.0000e+00])\n"
     ]
    },
    {
     "data": {
      "text/html": [],
      "text/plain": [
       "<IPython.core.display.HTML object>"
      ]
     },
     "metadata": {},
     "output_type": "display_data"
    },
    {
     "name": "stdout",
     "output_type": "stream",
     "text": [
      "pred: WithoutMask  pred_idx:  tensor(1)  probs:  tensor([1.4591e-09, 1.0000e+00])\n"
     ]
    },
    {
     "data": {
      "text/html": [],
      "text/plain": [
       "<IPython.core.display.HTML object>"
      ]
     },
     "metadata": {},
     "output_type": "display_data"
    },
    {
     "name": "stdout",
     "output_type": "stream",
     "text": [
      "pred: WithoutMask  pred_idx:  tensor(1)  probs:  tensor([4.1161e-10, 1.0000e+00])\n"
     ]
    },
    {
     "data": {
      "text/html": [],
      "text/plain": [
       "<IPython.core.display.HTML object>"
      ]
     },
     "metadata": {},
     "output_type": "display_data"
    },
    {
     "name": "stdout",
     "output_type": "stream",
     "text": [
      "pred: WithoutMask  pred_idx:  tensor(1)  probs:  tensor([4.0229e-05, 9.9996e-01])\n"
     ]
    },
    {
     "data": {
      "text/html": [],
      "text/plain": [
       "<IPython.core.display.HTML object>"
      ]
     },
     "metadata": {},
     "output_type": "display_data"
    },
    {
     "name": "stdout",
     "output_type": "stream",
     "text": [
      "pred: WithoutMask  pred_idx:  tensor(1)  probs:  tensor([5.5751e-10, 1.0000e+00])\n"
     ]
    },
    {
     "data": {
      "text/html": [],
      "text/plain": [
       "<IPython.core.display.HTML object>"
      ]
     },
     "metadata": {},
     "output_type": "display_data"
    },
    {
     "name": "stdout",
     "output_type": "stream",
     "text": [
      "pred: WithoutMask  pred_idx:  tensor(1)  probs:  tensor([6.4076e-13, 1.0000e+00])\n"
     ]
    },
    {
     "data": {
      "text/html": [],
      "text/plain": [
       "<IPython.core.display.HTML object>"
      ]
     },
     "metadata": {},
     "output_type": "display_data"
    },
    {
     "name": "stdout",
     "output_type": "stream",
     "text": [
      "pred: WithoutMask  pred_idx:  tensor(1)  probs:  tensor([9.8414e-09, 1.0000e+00])\n"
     ]
    },
    {
     "data": {
      "text/html": [],
      "text/plain": [
       "<IPython.core.display.HTML object>"
      ]
     },
     "metadata": {},
     "output_type": "display_data"
    },
    {
     "name": "stdout",
     "output_type": "stream",
     "text": [
      "pred: WithoutMask  pred_idx:  tensor(1)  probs:  tensor([4.2674e-12, 1.0000e+00])\n"
     ]
    },
    {
     "data": {
      "text/html": [],
      "text/plain": [
       "<IPython.core.display.HTML object>"
      ]
     },
     "metadata": {},
     "output_type": "display_data"
    },
    {
     "name": "stdout",
     "output_type": "stream",
     "text": [
      "pred: WithoutMask  pred_idx:  tensor(1)  probs:  tensor([1.8587e-11, 1.0000e+00])\n"
     ]
    },
    {
     "data": {
      "text/html": [],
      "text/plain": [
       "<IPython.core.display.HTML object>"
      ]
     },
     "metadata": {},
     "output_type": "display_data"
    },
    {
     "name": "stdout",
     "output_type": "stream",
     "text": [
      "pred: WithoutMask  pred_idx:  tensor(1)  probs:  tensor([5.6345e-08, 1.0000e+00])\n"
     ]
    },
    {
     "data": {
      "text/html": [],
      "text/plain": [
       "<IPython.core.display.HTML object>"
      ]
     },
     "metadata": {},
     "output_type": "display_data"
    },
    {
     "name": "stdout",
     "output_type": "stream",
     "text": [
      "pred: WithoutMask  pred_idx:  tensor(1)  probs:  tensor([2.6757e-11, 1.0000e+00])\n"
     ]
    },
    {
     "data": {
      "text/html": [],
      "text/plain": [
       "<IPython.core.display.HTML object>"
      ]
     },
     "metadata": {},
     "output_type": "display_data"
    },
    {
     "name": "stdout",
     "output_type": "stream",
     "text": [
      "pred: WithoutMask  pred_idx:  tensor(1)  probs:  tensor([3.0756e-13, 1.0000e+00])\n"
     ]
    },
    {
     "data": {
      "text/html": [],
      "text/plain": [
       "<IPython.core.display.HTML object>"
      ]
     },
     "metadata": {},
     "output_type": "display_data"
    },
    {
     "name": "stdout",
     "output_type": "stream",
     "text": [
      "pred: WithoutMask  pred_idx:  tensor(1)  probs:  tensor([1.1802e-10, 1.0000e+00])\n"
     ]
    },
    {
     "data": {
      "text/html": [],
      "text/plain": [
       "<IPython.core.display.HTML object>"
      ]
     },
     "metadata": {},
     "output_type": "display_data"
    },
    {
     "name": "stdout",
     "output_type": "stream",
     "text": [
      "pred: WithoutMask  pred_idx:  tensor(1)  probs:  tensor([1.5620e-08, 1.0000e+00])\n"
     ]
    },
    {
     "data": {
      "text/html": [],
      "text/plain": [
       "<IPython.core.display.HTML object>"
      ]
     },
     "metadata": {},
     "output_type": "display_data"
    },
    {
     "name": "stdout",
     "output_type": "stream",
     "text": [
      "pred: WithoutMask  pred_idx:  tensor(1)  probs:  tensor([2.8164e-10, 1.0000e+00])\n"
     ]
    },
    {
     "data": {
      "text/html": [],
      "text/plain": [
       "<IPython.core.display.HTML object>"
      ]
     },
     "metadata": {},
     "output_type": "display_data"
    },
    {
     "name": "stdout",
     "output_type": "stream",
     "text": [
      "pred: WithoutMask  pred_idx:  tensor(1)  probs:  tensor([9.5563e-09, 1.0000e+00])\n"
     ]
    },
    {
     "data": {
      "text/html": [],
      "text/plain": [
       "<IPython.core.display.HTML object>"
      ]
     },
     "metadata": {},
     "output_type": "display_data"
    },
    {
     "name": "stdout",
     "output_type": "stream",
     "text": [
      "pred: WithoutMask  pred_idx:  tensor(1)  probs:  tensor([2.0750e-06, 1.0000e+00])\n"
     ]
    },
    {
     "data": {
      "text/html": [],
      "text/plain": [
       "<IPython.core.display.HTML object>"
      ]
     },
     "metadata": {},
     "output_type": "display_data"
    },
    {
     "name": "stdout",
     "output_type": "stream",
     "text": [
      "pred: WithoutMask  pred_idx:  tensor(1)  probs:  tensor([6.2783e-10, 1.0000e+00])\n"
     ]
    },
    {
     "data": {
      "text/html": [],
      "text/plain": [
       "<IPython.core.display.HTML object>"
      ]
     },
     "metadata": {},
     "output_type": "display_data"
    },
    {
     "name": "stdout",
     "output_type": "stream",
     "text": [
      "pred: WithoutMask  pred_idx:  tensor(1)  probs:  tensor([6.3070e-09, 1.0000e+00])\n"
     ]
    },
    {
     "data": {
      "text/html": [],
      "text/plain": [
       "<IPython.core.display.HTML object>"
      ]
     },
     "metadata": {},
     "output_type": "display_data"
    },
    {
     "name": "stdout",
     "output_type": "stream",
     "text": [
      "pred: WithoutMask  pred_idx:  tensor(1)  probs:  tensor([1.5266e-09, 1.0000e+00])\n"
     ]
    },
    {
     "data": {
      "text/html": [],
      "text/plain": [
       "<IPython.core.display.HTML object>"
      ]
     },
     "metadata": {},
     "output_type": "display_data"
    },
    {
     "name": "stdout",
     "output_type": "stream",
     "text": [
      "pred: WithoutMask  pred_idx:  tensor(1)  probs:  tensor([1.4327e-08, 1.0000e+00])\n"
     ]
    },
    {
     "data": {
      "text/html": [],
      "text/plain": [
       "<IPython.core.display.HTML object>"
      ]
     },
     "metadata": {},
     "output_type": "display_data"
    },
    {
     "name": "stdout",
     "output_type": "stream",
     "text": [
      "pred: WithoutMask  pred_idx:  tensor(1)  probs:  tensor([4.8943e-08, 1.0000e+00])\n"
     ]
    },
    {
     "data": {
      "text/html": [],
      "text/plain": [
       "<IPython.core.display.HTML object>"
      ]
     },
     "metadata": {},
     "output_type": "display_data"
    },
    {
     "name": "stdout",
     "output_type": "stream",
     "text": [
      "pred: WithoutMask  pred_idx:  tensor(1)  probs:  tensor([6.0213e-08, 1.0000e+00])\n"
     ]
    },
    {
     "data": {
      "text/html": [],
      "text/plain": [
       "<IPython.core.display.HTML object>"
      ]
     },
     "metadata": {},
     "output_type": "display_data"
    },
    {
     "name": "stdout",
     "output_type": "stream",
     "text": [
      "pred: WithoutMask  pred_idx:  tensor(1)  probs:  tensor([8.0250e-07, 1.0000e+00])\n"
     ]
    },
    {
     "data": {
      "text/html": [],
      "text/plain": [
       "<IPython.core.display.HTML object>"
      ]
     },
     "metadata": {},
     "output_type": "display_data"
    },
    {
     "name": "stdout",
     "output_type": "stream",
     "text": [
      "pred: WithoutMask  pred_idx:  tensor(1)  probs:  tensor([3.0639e-10, 1.0000e+00])\n"
     ]
    },
    {
     "data": {
      "text/html": [],
      "text/plain": [
       "<IPython.core.display.HTML object>"
      ]
     },
     "metadata": {},
     "output_type": "display_data"
    },
    {
     "name": "stdout",
     "output_type": "stream",
     "text": [
      "pred: WithoutMask  pred_idx:  tensor(1)  probs:  tensor([5.9984e-12, 1.0000e+00])\n"
     ]
    },
    {
     "data": {
      "text/html": [],
      "text/plain": [
       "<IPython.core.display.HTML object>"
      ]
     },
     "metadata": {},
     "output_type": "display_data"
    },
    {
     "name": "stdout",
     "output_type": "stream",
     "text": [
      "pred: WithoutMask  pred_idx:  tensor(1)  probs:  tensor([1.8523e-08, 1.0000e+00])\n"
     ]
    },
    {
     "data": {
      "text/html": [],
      "text/plain": [
       "<IPython.core.display.HTML object>"
      ]
     },
     "metadata": {},
     "output_type": "display_data"
    },
    {
     "name": "stdout",
     "output_type": "stream",
     "text": [
      "pred: WithoutMask  pred_idx:  tensor(1)  probs:  tensor([7.0775e-09, 1.0000e+00])\n"
     ]
    },
    {
     "data": {
      "text/html": [],
      "text/plain": [
       "<IPython.core.display.HTML object>"
      ]
     },
     "metadata": {},
     "output_type": "display_data"
    },
    {
     "name": "stdout",
     "output_type": "stream",
     "text": [
      "pred: WithoutMask  pred_idx:  tensor(1)  probs:  tensor([3.1102e-08, 1.0000e+00])\n"
     ]
    },
    {
     "data": {
      "text/html": [],
      "text/plain": [
       "<IPython.core.display.HTML object>"
      ]
     },
     "metadata": {},
     "output_type": "display_data"
    },
    {
     "name": "stdout",
     "output_type": "stream",
     "text": [
      "pred: WithoutMask  pred_idx:  tensor(1)  probs:  tensor([7.7638e-08, 1.0000e+00])\n"
     ]
    },
    {
     "data": {
      "text/html": [],
      "text/plain": [
       "<IPython.core.display.HTML object>"
      ]
     },
     "metadata": {},
     "output_type": "display_data"
    },
    {
     "name": "stdout",
     "output_type": "stream",
     "text": [
      "pred: WithoutMask  pred_idx:  tensor(1)  probs:  tensor([4.7793e-11, 1.0000e+00])\n"
     ]
    },
    {
     "data": {
      "text/html": [],
      "text/plain": [
       "<IPython.core.display.HTML object>"
      ]
     },
     "metadata": {},
     "output_type": "display_data"
    },
    {
     "name": "stdout",
     "output_type": "stream",
     "text": [
      "pred: WithoutMask  pred_idx:  tensor(1)  probs:  tensor([1.7519e-09, 1.0000e+00])\n"
     ]
    },
    {
     "data": {
      "text/html": [],
      "text/plain": [
       "<IPython.core.display.HTML object>"
      ]
     },
     "metadata": {},
     "output_type": "display_data"
    },
    {
     "name": "stdout",
     "output_type": "stream",
     "text": [
      "pred: WithoutMask  pred_idx:  tensor(1)  probs:  tensor([7.9002e-08, 1.0000e+00])\n"
     ]
    },
    {
     "data": {
      "text/html": [],
      "text/plain": [
       "<IPython.core.display.HTML object>"
      ]
     },
     "metadata": {},
     "output_type": "display_data"
    },
    {
     "name": "stdout",
     "output_type": "stream",
     "text": [
      "pred: WithoutMask  pred_idx:  tensor(1)  probs:  tensor([3.4517e-12, 1.0000e+00])\n"
     ]
    },
    {
     "data": {
      "text/html": [],
      "text/plain": [
       "<IPython.core.display.HTML object>"
      ]
     },
     "metadata": {},
     "output_type": "display_data"
    },
    {
     "name": "stdout",
     "output_type": "stream",
     "text": [
      "pred: WithoutMask  pred_idx:  tensor(1)  probs:  tensor([9.3897e-12, 1.0000e+00])\n"
     ]
    },
    {
     "data": {
      "text/html": [],
      "text/plain": [
       "<IPython.core.display.HTML object>"
      ]
     },
     "metadata": {},
     "output_type": "display_data"
    },
    {
     "name": "stdout",
     "output_type": "stream",
     "text": [
      "pred: WithoutMask  pred_idx:  tensor(1)  probs:  tensor([2.7013e-08, 1.0000e+00])\n"
     ]
    },
    {
     "data": {
      "text/html": [],
      "text/plain": [
       "<IPython.core.display.HTML object>"
      ]
     },
     "metadata": {},
     "output_type": "display_data"
    },
    {
     "name": "stdout",
     "output_type": "stream",
     "text": [
      "pred: WithoutMask  pred_idx:  tensor(1)  probs:  tensor([6.5507e-10, 1.0000e+00])\n"
     ]
    },
    {
     "data": {
      "text/html": [],
      "text/plain": [
       "<IPython.core.display.HTML object>"
      ]
     },
     "metadata": {},
     "output_type": "display_data"
    },
    {
     "name": "stdout",
     "output_type": "stream",
     "text": [
      "pred: WithoutMask  pred_idx:  tensor(1)  probs:  tensor([6.0155e-09, 1.0000e+00])\n"
     ]
    },
    {
     "data": {
      "text/html": [],
      "text/plain": [
       "<IPython.core.display.HTML object>"
      ]
     },
     "metadata": {},
     "output_type": "display_data"
    },
    {
     "name": "stdout",
     "output_type": "stream",
     "text": [
      "pred: WithoutMask  pred_idx:  tensor(1)  probs:  tensor([6.4922e-13, 1.0000e+00])\n"
     ]
    },
    {
     "data": {
      "text/html": [],
      "text/plain": [
       "<IPython.core.display.HTML object>"
      ]
     },
     "metadata": {},
     "output_type": "display_data"
    },
    {
     "name": "stdout",
     "output_type": "stream",
     "text": [
      "pred: WithoutMask  pred_idx:  tensor(1)  probs:  tensor([9.1851e-11, 1.0000e+00])\n"
     ]
    },
    {
     "data": {
      "text/html": [],
      "text/plain": [
       "<IPython.core.display.HTML object>"
      ]
     },
     "metadata": {},
     "output_type": "display_data"
    },
    {
     "name": "stdout",
     "output_type": "stream",
     "text": [
      "pred: WithoutMask  pred_idx:  tensor(1)  probs:  tensor([7.5696e-05, 9.9992e-01])\n"
     ]
    },
    {
     "data": {
      "text/html": [],
      "text/plain": [
       "<IPython.core.display.HTML object>"
      ]
     },
     "metadata": {},
     "output_type": "display_data"
    },
    {
     "name": "stdout",
     "output_type": "stream",
     "text": [
      "pred: WithoutMask  pred_idx:  tensor(1)  probs:  tensor([6.9236e-07, 1.0000e+00])\n"
     ]
    },
    {
     "data": {
      "text/html": [],
      "text/plain": [
       "<IPython.core.display.HTML object>"
      ]
     },
     "metadata": {},
     "output_type": "display_data"
    },
    {
     "name": "stdout",
     "output_type": "stream",
     "text": [
      "pred: WithoutMask  pred_idx:  tensor(1)  probs:  tensor([4.0052e-08, 1.0000e+00])\n"
     ]
    },
    {
     "data": {
      "text/html": [],
      "text/plain": [
       "<IPython.core.display.HTML object>"
      ]
     },
     "metadata": {},
     "output_type": "display_data"
    },
    {
     "name": "stdout",
     "output_type": "stream",
     "text": [
      "pred: WithoutMask  pred_idx:  tensor(1)  probs:  tensor([2.4323e-07, 1.0000e+00])\n"
     ]
    },
    {
     "data": {
      "text/html": [],
      "text/plain": [
       "<IPython.core.display.HTML object>"
      ]
     },
     "metadata": {},
     "output_type": "display_data"
    },
    {
     "name": "stdout",
     "output_type": "stream",
     "text": [
      "pred: WithoutMask  pred_idx:  tensor(1)  probs:  tensor([4.3696e-10, 1.0000e+00])\n"
     ]
    },
    {
     "data": {
      "text/html": [],
      "text/plain": [
       "<IPython.core.display.HTML object>"
      ]
     },
     "metadata": {},
     "output_type": "display_data"
    },
    {
     "name": "stdout",
     "output_type": "stream",
     "text": [
      "pred: WithoutMask  pred_idx:  tensor(1)  probs:  tensor([8.4363e-10, 1.0000e+00])\n"
     ]
    },
    {
     "data": {
      "text/html": [],
      "text/plain": [
       "<IPython.core.display.HTML object>"
      ]
     },
     "metadata": {},
     "output_type": "display_data"
    },
    {
     "name": "stdout",
     "output_type": "stream",
     "text": [
      "pred: WithoutMask  pred_idx:  tensor(1)  probs:  tensor([2.0752e-09, 1.0000e+00])\n"
     ]
    },
    {
     "data": {
      "text/html": [],
      "text/plain": [
       "<IPython.core.display.HTML object>"
      ]
     },
     "metadata": {},
     "output_type": "display_data"
    },
    {
     "name": "stdout",
     "output_type": "stream",
     "text": [
      "pred: WithoutMask  pred_idx:  tensor(1)  probs:  tensor([2.8304e-09, 1.0000e+00])\n"
     ]
    },
    {
     "data": {
      "text/html": [],
      "text/plain": [
       "<IPython.core.display.HTML object>"
      ]
     },
     "metadata": {},
     "output_type": "display_data"
    },
    {
     "name": "stdout",
     "output_type": "stream",
     "text": [
      "pred: WithoutMask  pred_idx:  tensor(1)  probs:  tensor([3.6723e-09, 1.0000e+00])\n"
     ]
    },
    {
     "data": {
      "text/html": [],
      "text/plain": [
       "<IPython.core.display.HTML object>"
      ]
     },
     "metadata": {},
     "output_type": "display_data"
    },
    {
     "name": "stdout",
     "output_type": "stream",
     "text": [
      "pred: WithoutMask  pred_idx:  tensor(1)  probs:  tensor([2.1281e-08, 1.0000e+00])\n"
     ]
    },
    {
     "data": {
      "text/html": [],
      "text/plain": [
       "<IPython.core.display.HTML object>"
      ]
     },
     "metadata": {},
     "output_type": "display_data"
    },
    {
     "name": "stdout",
     "output_type": "stream",
     "text": [
      "pred: WithoutMask  pred_idx:  tensor(1)  probs:  tensor([3.1949e-08, 1.0000e+00])\n"
     ]
    },
    {
     "data": {
      "text/html": [],
      "text/plain": [
       "<IPython.core.display.HTML object>"
      ]
     },
     "metadata": {},
     "output_type": "display_data"
    },
    {
     "name": "stdout",
     "output_type": "stream",
     "text": [
      "pred: WithoutMask  pred_idx:  tensor(1)  probs:  tensor([1.2088e-09, 1.0000e+00])\n"
     ]
    },
    {
     "data": {
      "text/html": [],
      "text/plain": [
       "<IPython.core.display.HTML object>"
      ]
     },
     "metadata": {},
     "output_type": "display_data"
    },
    {
     "name": "stdout",
     "output_type": "stream",
     "text": [
      "pred: WithoutMask  pred_idx:  tensor(1)  probs:  tensor([4.2111e-11, 1.0000e+00])\n"
     ]
    },
    {
     "data": {
      "text/html": [],
      "text/plain": [
       "<IPython.core.display.HTML object>"
      ]
     },
     "metadata": {},
     "output_type": "display_data"
    },
    {
     "name": "stdout",
     "output_type": "stream",
     "text": [
      "pred: WithoutMask  pred_idx:  tensor(1)  probs:  tensor([1.5294e-09, 1.0000e+00])\n"
     ]
    },
    {
     "data": {
      "text/html": [],
      "text/plain": [
       "<IPython.core.display.HTML object>"
      ]
     },
     "metadata": {},
     "output_type": "display_data"
    },
    {
     "name": "stdout",
     "output_type": "stream",
     "text": [
      "pred: WithoutMask  pred_idx:  tensor(1)  probs:  tensor([1.3201e-07, 1.0000e+00])\n"
     ]
    },
    {
     "data": {
      "text/html": [],
      "text/plain": [
       "<IPython.core.display.HTML object>"
      ]
     },
     "metadata": {},
     "output_type": "display_data"
    },
    {
     "name": "stdout",
     "output_type": "stream",
     "text": [
      "pred: WithoutMask  pred_idx:  tensor(1)  probs:  tensor([4.2640e-09, 1.0000e+00])\n"
     ]
    },
    {
     "data": {
      "text/html": [],
      "text/plain": [
       "<IPython.core.display.HTML object>"
      ]
     },
     "metadata": {},
     "output_type": "display_data"
    },
    {
     "name": "stdout",
     "output_type": "stream",
     "text": [
      "pred: WithoutMask  pred_idx:  tensor(1)  probs:  tensor([7.5333e-10, 1.0000e+00])\n"
     ]
    },
    {
     "data": {
      "text/html": [],
      "text/plain": [
       "<IPython.core.display.HTML object>"
      ]
     },
     "metadata": {},
     "output_type": "display_data"
    },
    {
     "name": "stdout",
     "output_type": "stream",
     "text": [
      "pred: WithoutMask  pred_idx:  tensor(1)  probs:  tensor([9.1594e-12, 1.0000e+00])\n"
     ]
    },
    {
     "data": {
      "text/html": [],
      "text/plain": [
       "<IPython.core.display.HTML object>"
      ]
     },
     "metadata": {},
     "output_type": "display_data"
    },
    {
     "name": "stdout",
     "output_type": "stream",
     "text": [
      "pred: WithoutMask  pred_idx:  tensor(1)  probs:  tensor([7.3474e-09, 1.0000e+00])\n"
     ]
    },
    {
     "data": {
      "text/html": [],
      "text/plain": [
       "<IPython.core.display.HTML object>"
      ]
     },
     "metadata": {},
     "output_type": "display_data"
    },
    {
     "name": "stdout",
     "output_type": "stream",
     "text": [
      "pred: WithoutMask  pred_idx:  tensor(1)  probs:  tensor([7.1294e-09, 1.0000e+00])\n"
     ]
    },
    {
     "data": {
      "text/html": [],
      "text/plain": [
       "<IPython.core.display.HTML object>"
      ]
     },
     "metadata": {},
     "output_type": "display_data"
    },
    {
     "name": "stdout",
     "output_type": "stream",
     "text": [
      "pred: WithoutMask  pred_idx:  tensor(1)  probs:  tensor([3.9833e-09, 1.0000e+00])\n"
     ]
    },
    {
     "data": {
      "text/html": [],
      "text/plain": [
       "<IPython.core.display.HTML object>"
      ]
     },
     "metadata": {},
     "output_type": "display_data"
    },
    {
     "name": "stdout",
     "output_type": "stream",
     "text": [
      "pred: WithoutMask  pred_idx:  tensor(1)  probs:  tensor([2.1279e-09, 1.0000e+00])\n"
     ]
    },
    {
     "data": {
      "text/html": [],
      "text/plain": [
       "<IPython.core.display.HTML object>"
      ]
     },
     "metadata": {},
     "output_type": "display_data"
    },
    {
     "name": "stdout",
     "output_type": "stream",
     "text": [
      "pred: WithoutMask  pred_idx:  tensor(1)  probs:  tensor([4.5256e-11, 1.0000e+00])\n"
     ]
    },
    {
     "data": {
      "text/html": [],
      "text/plain": [
       "<IPython.core.display.HTML object>"
      ]
     },
     "metadata": {},
     "output_type": "display_data"
    },
    {
     "name": "stdout",
     "output_type": "stream",
     "text": [
      "pred: WithoutMask  pred_idx:  tensor(1)  probs:  tensor([8.4358e-08, 1.0000e+00])\n"
     ]
    },
    {
     "data": {
      "text/html": [],
      "text/plain": [
       "<IPython.core.display.HTML object>"
      ]
     },
     "metadata": {},
     "output_type": "display_data"
    },
    {
     "name": "stdout",
     "output_type": "stream",
     "text": [
      "pred: WithoutMask  pred_idx:  tensor(1)  probs:  tensor([2.7816e-06, 1.0000e+00])\n"
     ]
    },
    {
     "data": {
      "text/html": [],
      "text/plain": [
       "<IPython.core.display.HTML object>"
      ]
     },
     "metadata": {},
     "output_type": "display_data"
    },
    {
     "name": "stdout",
     "output_type": "stream",
     "text": [
      "pred: WithoutMask  pred_idx:  tensor(1)  probs:  tensor([4.3991e-11, 1.0000e+00])\n"
     ]
    },
    {
     "data": {
      "text/html": [],
      "text/plain": [
       "<IPython.core.display.HTML object>"
      ]
     },
     "metadata": {},
     "output_type": "display_data"
    },
    {
     "name": "stdout",
     "output_type": "stream",
     "text": [
      "pred: WithoutMask  pred_idx:  tensor(1)  probs:  tensor([5.0137e-11, 1.0000e+00])\n"
     ]
    },
    {
     "data": {
      "text/html": [],
      "text/plain": [
       "<IPython.core.display.HTML object>"
      ]
     },
     "metadata": {},
     "output_type": "display_data"
    },
    {
     "name": "stdout",
     "output_type": "stream",
     "text": [
      "pred: WithoutMask  pred_idx:  tensor(1)  probs:  tensor([6.0376e-10, 1.0000e+00])\n"
     ]
    },
    {
     "data": {
      "text/html": [],
      "text/plain": [
       "<IPython.core.display.HTML object>"
      ]
     },
     "metadata": {},
     "output_type": "display_data"
    },
    {
     "name": "stdout",
     "output_type": "stream",
     "text": [
      "pred: WithoutMask  pred_idx:  tensor(1)  probs:  tensor([1.2844e-08, 1.0000e+00])\n"
     ]
    },
    {
     "data": {
      "text/html": [],
      "text/plain": [
       "<IPython.core.display.HTML object>"
      ]
     },
     "metadata": {},
     "output_type": "display_data"
    },
    {
     "name": "stdout",
     "output_type": "stream",
     "text": [
      "pred: WithoutMask  pred_idx:  tensor(1)  probs:  tensor([3.2581e-10, 1.0000e+00])\n"
     ]
    },
    {
     "data": {
      "text/html": [],
      "text/plain": [
       "<IPython.core.display.HTML object>"
      ]
     },
     "metadata": {},
     "output_type": "display_data"
    },
    {
     "name": "stdout",
     "output_type": "stream",
     "text": [
      "pred: WithoutMask  pred_idx:  tensor(1)  probs:  tensor([7.1611e-10, 1.0000e+00])\n"
     ]
    },
    {
     "data": {
      "text/html": [],
      "text/plain": [
       "<IPython.core.display.HTML object>"
      ]
     },
     "metadata": {},
     "output_type": "display_data"
    },
    {
     "name": "stdout",
     "output_type": "stream",
     "text": [
      "pred: WithoutMask  pred_idx:  tensor(1)  probs:  tensor([6.9922e-09, 1.0000e+00])\n"
     ]
    },
    {
     "data": {
      "text/html": [],
      "text/plain": [
       "<IPython.core.display.HTML object>"
      ]
     },
     "metadata": {},
     "output_type": "display_data"
    },
    {
     "name": "stdout",
     "output_type": "stream",
     "text": [
      "pred: WithoutMask  pred_idx:  tensor(1)  probs:  tensor([1.0339e-10, 1.0000e+00])\n"
     ]
    },
    {
     "data": {
      "text/html": [],
      "text/plain": [
       "<IPython.core.display.HTML object>"
      ]
     },
     "metadata": {},
     "output_type": "display_data"
    },
    {
     "name": "stdout",
     "output_type": "stream",
     "text": [
      "pred: WithoutMask  pred_idx:  tensor(1)  probs:  tensor([3.4283e-08, 1.0000e+00])\n"
     ]
    },
    {
     "data": {
      "text/html": [],
      "text/plain": [
       "<IPython.core.display.HTML object>"
      ]
     },
     "metadata": {},
     "output_type": "display_data"
    },
    {
     "name": "stdout",
     "output_type": "stream",
     "text": [
      "pred: WithoutMask  pred_idx:  tensor(1)  probs:  tensor([5.5262e-10, 1.0000e+00])\n"
     ]
    },
    {
     "data": {
      "text/html": [],
      "text/plain": [
       "<IPython.core.display.HTML object>"
      ]
     },
     "metadata": {},
     "output_type": "display_data"
    },
    {
     "name": "stdout",
     "output_type": "stream",
     "text": [
      "TEST CASE FAILED... Image name:  gordon.png The path is  Test/WithoutMask/gordon.png\n",
      "pred: WithMask  pred_idx:  tensor(0)  probs:  tensor([0.9928, 0.0072])\n"
     ]
    },
    {
     "data": {
      "text/html": [],
      "text/plain": [
       "<IPython.core.display.HTML object>"
      ]
     },
     "metadata": {},
     "output_type": "display_data"
    },
    {
     "name": "stdout",
     "output_type": "stream",
     "text": [
      "pred: WithoutMask  pred_idx:  tensor(1)  probs:  tensor([9.9641e-10, 1.0000e+00])\n"
     ]
    },
    {
     "data": {
      "text/html": [],
      "text/plain": [
       "<IPython.core.display.HTML object>"
      ]
     },
     "metadata": {},
     "output_type": "display_data"
    },
    {
     "name": "stdout",
     "output_type": "stream",
     "text": [
      "pred: WithoutMask  pred_idx:  tensor(1)  probs:  tensor([2.9427e-09, 1.0000e+00])\n"
     ]
    },
    {
     "data": {
      "text/html": [],
      "text/plain": [
       "<IPython.core.display.HTML object>"
      ]
     },
     "metadata": {},
     "output_type": "display_data"
    },
    {
     "name": "stdout",
     "output_type": "stream",
     "text": [
      "pred: WithoutMask  pred_idx:  tensor(1)  probs:  tensor([5.7092e-11, 1.0000e+00])\n"
     ]
    },
    {
     "data": {
      "text/html": [],
      "text/plain": [
       "<IPython.core.display.HTML object>"
      ]
     },
     "metadata": {},
     "output_type": "display_data"
    },
    {
     "name": "stdout",
     "output_type": "stream",
     "text": [
      "pred: WithoutMask  pred_idx:  tensor(1)  probs:  tensor([5.3754e-10, 1.0000e+00])\n"
     ]
    },
    {
     "data": {
      "text/html": [],
      "text/plain": [
       "<IPython.core.display.HTML object>"
      ]
     },
     "metadata": {},
     "output_type": "display_data"
    },
    {
     "name": "stdout",
     "output_type": "stream",
     "text": [
      "pred: WithoutMask  pred_idx:  tensor(1)  probs:  tensor([1.3831e-10, 1.0000e+00])\n"
     ]
    },
    {
     "data": {
      "text/html": [],
      "text/plain": [
       "<IPython.core.display.HTML object>"
      ]
     },
     "metadata": {},
     "output_type": "display_data"
    },
    {
     "name": "stdout",
     "output_type": "stream",
     "text": [
      "pred: WithoutMask  pred_idx:  tensor(1)  probs:  tensor([2.2590e-09, 1.0000e+00])\n"
     ]
    },
    {
     "data": {
      "text/html": [],
      "text/plain": [
       "<IPython.core.display.HTML object>"
      ]
     },
     "metadata": {},
     "output_type": "display_data"
    },
    {
     "name": "stdout",
     "output_type": "stream",
     "text": [
      "pred: WithoutMask  pred_idx:  tensor(1)  probs:  tensor([4.5846e-09, 1.0000e+00])\n"
     ]
    },
    {
     "data": {
      "text/html": [],
      "text/plain": [
       "<IPython.core.display.HTML object>"
      ]
     },
     "metadata": {},
     "output_type": "display_data"
    },
    {
     "name": "stdout",
     "output_type": "stream",
     "text": [
      "pred: WithoutMask  pred_idx:  tensor(1)  probs:  tensor([1.6695e-10, 1.0000e+00])\n"
     ]
    },
    {
     "data": {
      "text/html": [],
      "text/plain": [
       "<IPython.core.display.HTML object>"
      ]
     },
     "metadata": {},
     "output_type": "display_data"
    },
    {
     "name": "stdout",
     "output_type": "stream",
     "text": [
      "pred: WithoutMask  pred_idx:  tensor(1)  probs:  tensor([4.1578e-09, 1.0000e+00])\n"
     ]
    },
    {
     "data": {
      "text/html": [],
      "text/plain": [
       "<IPython.core.display.HTML object>"
      ]
     },
     "metadata": {},
     "output_type": "display_data"
    },
    {
     "name": "stdout",
     "output_type": "stream",
     "text": [
      "pred: WithoutMask  pred_idx:  tensor(1)  probs:  tensor([4.6856e-11, 1.0000e+00])\n"
     ]
    },
    {
     "data": {
      "text/html": [],
      "text/plain": [
       "<IPython.core.display.HTML object>"
      ]
     },
     "metadata": {},
     "output_type": "display_data"
    },
    {
     "name": "stdout",
     "output_type": "stream",
     "text": [
      "pred: WithoutMask  pred_idx:  tensor(1)  probs:  tensor([7.5536e-11, 1.0000e+00])\n"
     ]
    },
    {
     "data": {
      "text/html": [],
      "text/plain": [
       "<IPython.core.display.HTML object>"
      ]
     },
     "metadata": {},
     "output_type": "display_data"
    },
    {
     "name": "stdout",
     "output_type": "stream",
     "text": [
      "pred: WithoutMask  pred_idx:  tensor(1)  probs:  tensor([6.1434e-05, 9.9994e-01])\n"
     ]
    },
    {
     "data": {
      "text/html": [],
      "text/plain": [
       "<IPython.core.display.HTML object>"
      ]
     },
     "metadata": {},
     "output_type": "display_data"
    },
    {
     "name": "stdout",
     "output_type": "stream",
     "text": [
      "pred: WithoutMask  pred_idx:  tensor(1)  probs:  tensor([1.1627e-07, 1.0000e+00])\n"
     ]
    },
    {
     "data": {
      "text/html": [],
      "text/plain": [
       "<IPython.core.display.HTML object>"
      ]
     },
     "metadata": {},
     "output_type": "display_data"
    },
    {
     "name": "stdout",
     "output_type": "stream",
     "text": [
      "pred: WithoutMask  pred_idx:  tensor(1)  probs:  tensor([3.8159e-12, 1.0000e+00])\n"
     ]
    },
    {
     "data": {
      "text/html": [],
      "text/plain": [
       "<IPython.core.display.HTML object>"
      ]
     },
     "metadata": {},
     "output_type": "display_data"
    },
    {
     "name": "stdout",
     "output_type": "stream",
     "text": [
      "pred: WithoutMask  pred_idx:  tensor(1)  probs:  tensor([1.7743e-07, 1.0000e+00])\n"
     ]
    },
    {
     "data": {
      "text/html": [],
      "text/plain": [
       "<IPython.core.display.HTML object>"
      ]
     },
     "metadata": {},
     "output_type": "display_data"
    },
    {
     "name": "stdout",
     "output_type": "stream",
     "text": [
      "pred: WithoutMask  pred_idx:  tensor(1)  probs:  tensor([5.1630e-09, 1.0000e+00])\n"
     ]
    },
    {
     "data": {
      "text/html": [],
      "text/plain": [
       "<IPython.core.display.HTML object>"
      ]
     },
     "metadata": {},
     "output_type": "display_data"
    },
    {
     "name": "stdout",
     "output_type": "stream",
     "text": [
      "pred: WithoutMask  pred_idx:  tensor(1)  probs:  tensor([6.8962e-09, 1.0000e+00])\n"
     ]
    },
    {
     "data": {
      "text/html": [],
      "text/plain": [
       "<IPython.core.display.HTML object>"
      ]
     },
     "metadata": {},
     "output_type": "display_data"
    },
    {
     "name": "stdout",
     "output_type": "stream",
     "text": [
      "pred: WithoutMask  pred_idx:  tensor(1)  probs:  tensor([1.3854e-09, 1.0000e+00])\n"
     ]
    },
    {
     "data": {
      "text/html": [],
      "text/plain": [
       "<IPython.core.display.HTML object>"
      ]
     },
     "metadata": {},
     "output_type": "display_data"
    },
    {
     "name": "stdout",
     "output_type": "stream",
     "text": [
      "pred: WithoutMask  pred_idx:  tensor(1)  probs:  tensor([5.9718e-10, 1.0000e+00])\n"
     ]
    },
    {
     "data": {
      "text/html": [],
      "text/plain": [
       "<IPython.core.display.HTML object>"
      ]
     },
     "metadata": {},
     "output_type": "display_data"
    },
    {
     "name": "stdout",
     "output_type": "stream",
     "text": [
      "pred: WithoutMask  pred_idx:  tensor(1)  probs:  tensor([9.1472e-13, 1.0000e+00])\n"
     ]
    },
    {
     "data": {
      "text/html": [],
      "text/plain": [
       "<IPython.core.display.HTML object>"
      ]
     },
     "metadata": {},
     "output_type": "display_data"
    },
    {
     "name": "stdout",
     "output_type": "stream",
     "text": [
      "pred: WithoutMask  pred_idx:  tensor(1)  probs:  tensor([5.7321e-10, 1.0000e+00])\n"
     ]
    },
    {
     "data": {
      "text/html": [],
      "text/plain": [
       "<IPython.core.display.HTML object>"
      ]
     },
     "metadata": {},
     "output_type": "display_data"
    },
    {
     "name": "stdout",
     "output_type": "stream",
     "text": [
      "pred: WithoutMask  pred_idx:  tensor(1)  probs:  tensor([7.9965e-09, 1.0000e+00])\n"
     ]
    },
    {
     "data": {
      "text/html": [],
      "text/plain": [
       "<IPython.core.display.HTML object>"
      ]
     },
     "metadata": {},
     "output_type": "display_data"
    },
    {
     "name": "stdout",
     "output_type": "stream",
     "text": [
      "pred: WithoutMask  pred_idx:  tensor(1)  probs:  tensor([5.5623e-13, 1.0000e+00])\n"
     ]
    },
    {
     "data": {
      "text/html": [],
      "text/plain": [
       "<IPython.core.display.HTML object>"
      ]
     },
     "metadata": {},
     "output_type": "display_data"
    },
    {
     "name": "stdout",
     "output_type": "stream",
     "text": [
      "pred: WithoutMask  pred_idx:  tensor(1)  probs:  tensor([5.0314e-11, 1.0000e+00])\n"
     ]
    },
    {
     "data": {
      "text/html": [],
      "text/plain": [
       "<IPython.core.display.HTML object>"
      ]
     },
     "metadata": {},
     "output_type": "display_data"
    },
    {
     "name": "stdout",
     "output_type": "stream",
     "text": [
      "pred: WithoutMask  pred_idx:  tensor(1)  probs:  tensor([1.6240e-08, 1.0000e+00])\n"
     ]
    },
    {
     "data": {
      "text/html": [],
      "text/plain": [
       "<IPython.core.display.HTML object>"
      ]
     },
     "metadata": {},
     "output_type": "display_data"
    },
    {
     "name": "stdout",
     "output_type": "stream",
     "text": [
      "pred: WithoutMask  pred_idx:  tensor(1)  probs:  tensor([7.2885e-11, 1.0000e+00])\n"
     ]
    },
    {
     "data": {
      "text/html": [],
      "text/plain": [
       "<IPython.core.display.HTML object>"
      ]
     },
     "metadata": {},
     "output_type": "display_data"
    },
    {
     "name": "stdout",
     "output_type": "stream",
     "text": [
      "pred: WithoutMask  pred_idx:  tensor(1)  probs:  tensor([7.4721e-10, 1.0000e+00])\n"
     ]
    },
    {
     "data": {
      "text/html": [],
      "text/plain": [
       "<IPython.core.display.HTML object>"
      ]
     },
     "metadata": {},
     "output_type": "display_data"
    },
    {
     "name": "stdout",
     "output_type": "stream",
     "text": [
      "pred: WithoutMask  pred_idx:  tensor(1)  probs:  tensor([3.5051e-11, 1.0000e+00])\n"
     ]
    },
    {
     "data": {
      "text/html": [],
      "text/plain": [
       "<IPython.core.display.HTML object>"
      ]
     },
     "metadata": {},
     "output_type": "display_data"
    },
    {
     "name": "stdout",
     "output_type": "stream",
     "text": [
      "pred: WithoutMask  pred_idx:  tensor(1)  probs:  tensor([3.2335e-09, 1.0000e+00])\n"
     ]
    },
    {
     "data": {
      "text/html": [],
      "text/plain": [
       "<IPython.core.display.HTML object>"
      ]
     },
     "metadata": {},
     "output_type": "display_data"
    },
    {
     "name": "stdout",
     "output_type": "stream",
     "text": [
      "pred: WithoutMask  pred_idx:  tensor(1)  probs:  tensor([1.0635e-09, 1.0000e+00])\n"
     ]
    },
    {
     "data": {
      "text/html": [],
      "text/plain": [
       "<IPython.core.display.HTML object>"
      ]
     },
     "metadata": {},
     "output_type": "display_data"
    },
    {
     "name": "stdout",
     "output_type": "stream",
     "text": [
      "pred: WithoutMask  pred_idx:  tensor(1)  probs:  tensor([7.2936e-11, 1.0000e+00])\n"
     ]
    },
    {
     "data": {
      "text/html": [],
      "text/plain": [
       "<IPython.core.display.HTML object>"
      ]
     },
     "metadata": {},
     "output_type": "display_data"
    },
    {
     "name": "stdout",
     "output_type": "stream",
     "text": [
      "pred: WithoutMask  pred_idx:  tensor(1)  probs:  tensor([2.7246e-07, 1.0000e+00])\n"
     ]
    },
    {
     "data": {
      "text/html": [],
      "text/plain": [
       "<IPython.core.display.HTML object>"
      ]
     },
     "metadata": {},
     "output_type": "display_data"
    },
    {
     "name": "stdout",
     "output_type": "stream",
     "text": [
      "pred: WithoutMask  pred_idx:  tensor(1)  probs:  tensor([1.3458e-10, 1.0000e+00])\n"
     ]
    },
    {
     "data": {
      "text/html": [],
      "text/plain": [
       "<IPython.core.display.HTML object>"
      ]
     },
     "metadata": {},
     "output_type": "display_data"
    },
    {
     "name": "stdout",
     "output_type": "stream",
     "text": [
      "pred: WithoutMask  pred_idx:  tensor(1)  probs:  tensor([1.1213e-06, 1.0000e+00])\n"
     ]
    },
    {
     "data": {
      "text/html": [],
      "text/plain": [
       "<IPython.core.display.HTML object>"
      ]
     },
     "metadata": {},
     "output_type": "display_data"
    },
    {
     "name": "stdout",
     "output_type": "stream",
     "text": [
      "pred: WithoutMask  pred_idx:  tensor(1)  probs:  tensor([9.8554e-10, 1.0000e+00])\n"
     ]
    },
    {
     "data": {
      "text/html": [],
      "text/plain": [
       "<IPython.core.display.HTML object>"
      ]
     },
     "metadata": {},
     "output_type": "display_data"
    },
    {
     "name": "stdout",
     "output_type": "stream",
     "text": [
      "pred: WithoutMask  pred_idx:  tensor(1)  probs:  tensor([3.9222e-10, 1.0000e+00])\n"
     ]
    },
    {
     "data": {
      "text/html": [],
      "text/plain": [
       "<IPython.core.display.HTML object>"
      ]
     },
     "metadata": {},
     "output_type": "display_data"
    },
    {
     "name": "stdout",
     "output_type": "stream",
     "text": [
      "pred: WithoutMask  pred_idx:  tensor(1)  probs:  tensor([7.4032e-11, 1.0000e+00])\n"
     ]
    },
    {
     "data": {
      "text/html": [],
      "text/plain": [
       "<IPython.core.display.HTML object>"
      ]
     },
     "metadata": {},
     "output_type": "display_data"
    },
    {
     "name": "stdout",
     "output_type": "stream",
     "text": [
      "pred: WithoutMask  pred_idx:  tensor(1)  probs:  tensor([3.0994e-10, 1.0000e+00])\n"
     ]
    },
    {
     "data": {
      "text/html": [],
      "text/plain": [
       "<IPython.core.display.HTML object>"
      ]
     },
     "metadata": {},
     "output_type": "display_data"
    },
    {
     "name": "stdout",
     "output_type": "stream",
     "text": [
      "pred: WithoutMask  pred_idx:  tensor(1)  probs:  tensor([7.5980e-09, 1.0000e+00])\n"
     ]
    },
    {
     "data": {
      "text/html": [],
      "text/plain": [
       "<IPython.core.display.HTML object>"
      ]
     },
     "metadata": {},
     "output_type": "display_data"
    },
    {
     "name": "stdout",
     "output_type": "stream",
     "text": [
      "pred: WithoutMask  pred_idx:  tensor(1)  probs:  tensor([4.5122e-07, 1.0000e+00])\n"
     ]
    },
    {
     "data": {
      "text/html": [],
      "text/plain": [
       "<IPython.core.display.HTML object>"
      ]
     },
     "metadata": {},
     "output_type": "display_data"
    },
    {
     "name": "stdout",
     "output_type": "stream",
     "text": [
      "pred: WithoutMask  pred_idx:  tensor(1)  probs:  tensor([7.2387e-08, 1.0000e+00])\n"
     ]
    },
    {
     "data": {
      "text/html": [],
      "text/plain": [
       "<IPython.core.display.HTML object>"
      ]
     },
     "metadata": {},
     "output_type": "display_data"
    },
    {
     "name": "stdout",
     "output_type": "stream",
     "text": [
      "pred: WithoutMask  pred_idx:  tensor(1)  probs:  tensor([7.4872e-11, 1.0000e+00])\n"
     ]
    },
    {
     "data": {
      "text/html": [],
      "text/plain": [
       "<IPython.core.display.HTML object>"
      ]
     },
     "metadata": {},
     "output_type": "display_data"
    },
    {
     "name": "stdout",
     "output_type": "stream",
     "text": [
      "pred: WithoutMask  pred_idx:  tensor(1)  probs:  tensor([2.0953e-10, 1.0000e+00])\n"
     ]
    },
    {
     "data": {
      "text/html": [],
      "text/plain": [
       "<IPython.core.display.HTML object>"
      ]
     },
     "metadata": {},
     "output_type": "display_data"
    },
    {
     "name": "stdout",
     "output_type": "stream",
     "text": [
      "pred: WithoutMask  pred_idx:  tensor(1)  probs:  tensor([1.7927e-09, 1.0000e+00])\n"
     ]
    },
    {
     "data": {
      "text/html": [],
      "text/plain": [
       "<IPython.core.display.HTML object>"
      ]
     },
     "metadata": {},
     "output_type": "display_data"
    },
    {
     "name": "stdout",
     "output_type": "stream",
     "text": [
      "pred: WithoutMask  pred_idx:  tensor(1)  probs:  tensor([6.9122e-10, 1.0000e+00])\n"
     ]
    },
    {
     "data": {
      "text/html": [],
      "text/plain": [
       "<IPython.core.display.HTML object>"
      ]
     },
     "metadata": {},
     "output_type": "display_data"
    },
    {
     "name": "stdout",
     "output_type": "stream",
     "text": [
      "pred: WithoutMask  pred_idx:  tensor(1)  probs:  tensor([6.9314e-10, 1.0000e+00])\n"
     ]
    },
    {
     "data": {
      "text/html": [],
      "text/plain": [
       "<IPython.core.display.HTML object>"
      ]
     },
     "metadata": {},
     "output_type": "display_data"
    },
    {
     "name": "stdout",
     "output_type": "stream",
     "text": [
      "pred: WithoutMask  pred_idx:  tensor(1)  probs:  tensor([6.8734e-09, 1.0000e+00])\n"
     ]
    },
    {
     "data": {
      "text/html": [],
      "text/plain": [
       "<IPython.core.display.HTML object>"
      ]
     },
     "metadata": {},
     "output_type": "display_data"
    },
    {
     "name": "stdout",
     "output_type": "stream",
     "text": [
      "pred: WithoutMask  pred_idx:  tensor(1)  probs:  tensor([3.7917e-09, 1.0000e+00])\n"
     ]
    },
    {
     "data": {
      "text/html": [],
      "text/plain": [
       "<IPython.core.display.HTML object>"
      ]
     },
     "metadata": {},
     "output_type": "display_data"
    },
    {
     "name": "stdout",
     "output_type": "stream",
     "text": [
      "pred: WithoutMask  pred_idx:  tensor(1)  probs:  tensor([1.8593e-13, 1.0000e+00])\n"
     ]
    },
    {
     "data": {
      "text/html": [],
      "text/plain": [
       "<IPython.core.display.HTML object>"
      ]
     },
     "metadata": {},
     "output_type": "display_data"
    },
    {
     "name": "stdout",
     "output_type": "stream",
     "text": [
      "pred: WithoutMask  pred_idx:  tensor(1)  probs:  tensor([3.5004e-10, 1.0000e+00])\n"
     ]
    },
    {
     "data": {
      "text/html": [],
      "text/plain": [
       "<IPython.core.display.HTML object>"
      ]
     },
     "metadata": {},
     "output_type": "display_data"
    },
    {
     "name": "stdout",
     "output_type": "stream",
     "text": [
      "pred: WithoutMask  pred_idx:  tensor(1)  probs:  tensor([1.2773e-09, 1.0000e+00])\n"
     ]
    },
    {
     "data": {
      "text/html": [],
      "text/plain": [
       "<IPython.core.display.HTML object>"
      ]
     },
     "metadata": {},
     "output_type": "display_data"
    },
    {
     "name": "stdout",
     "output_type": "stream",
     "text": [
      "pred: WithoutMask  pred_idx:  tensor(1)  probs:  tensor([6.9482e-13, 1.0000e+00])\n"
     ]
    },
    {
     "data": {
      "text/html": [],
      "text/plain": [
       "<IPython.core.display.HTML object>"
      ]
     },
     "metadata": {},
     "output_type": "display_data"
    },
    {
     "name": "stdout",
     "output_type": "stream",
     "text": [
      "pred: WithoutMask  pred_idx:  tensor(1)  probs:  tensor([2.8732e-08, 1.0000e+00])\n"
     ]
    },
    {
     "data": {
      "text/html": [],
      "text/plain": [
       "<IPython.core.display.HTML object>"
      ]
     },
     "metadata": {},
     "output_type": "display_data"
    },
    {
     "name": "stdout",
     "output_type": "stream",
     "text": [
      "pred: WithoutMask  pred_idx:  tensor(1)  probs:  tensor([1.0040e-07, 1.0000e+00])\n"
     ]
    },
    {
     "data": {
      "text/html": [],
      "text/plain": [
       "<IPython.core.display.HTML object>"
      ]
     },
     "metadata": {},
     "output_type": "display_data"
    },
    {
     "name": "stdout",
     "output_type": "stream",
     "text": [
      "pred: WithoutMask  pred_idx:  tensor(1)  probs:  tensor([1.3683e-09, 1.0000e+00])\n"
     ]
    },
    {
     "data": {
      "text/html": [],
      "text/plain": [
       "<IPython.core.display.HTML object>"
      ]
     },
     "metadata": {},
     "output_type": "display_data"
    },
    {
     "name": "stdout",
     "output_type": "stream",
     "text": [
      "pred: WithoutMask  pred_idx:  tensor(1)  probs:  tensor([4.0880e-08, 1.0000e+00])\n"
     ]
    },
    {
     "data": {
      "text/html": [],
      "text/plain": [
       "<IPython.core.display.HTML object>"
      ]
     },
     "metadata": {},
     "output_type": "display_data"
    },
    {
     "name": "stdout",
     "output_type": "stream",
     "text": [
      "pred: WithoutMask  pred_idx:  tensor(1)  probs:  tensor([2.8873e-10, 1.0000e+00])\n"
     ]
    },
    {
     "data": {
      "text/html": [],
      "text/plain": [
       "<IPython.core.display.HTML object>"
      ]
     },
     "metadata": {},
     "output_type": "display_data"
    },
    {
     "name": "stdout",
     "output_type": "stream",
     "text": [
      "pred: WithoutMask  pred_idx:  tensor(1)  probs:  tensor([1.6003e-08, 1.0000e+00])\n"
     ]
    },
    {
     "data": {
      "text/html": [],
      "text/plain": [
       "<IPython.core.display.HTML object>"
      ]
     },
     "metadata": {},
     "output_type": "display_data"
    },
    {
     "name": "stdout",
     "output_type": "stream",
     "text": [
      "pred: WithoutMask  pred_idx:  tensor(1)  probs:  tensor([2.3948e-09, 1.0000e+00])\n"
     ]
    },
    {
     "data": {
      "text/html": [],
      "text/plain": [
       "<IPython.core.display.HTML object>"
      ]
     },
     "metadata": {},
     "output_type": "display_data"
    },
    {
     "name": "stdout",
     "output_type": "stream",
     "text": [
      "pred: WithoutMask  pred_idx:  tensor(1)  probs:  tensor([4.8172e-08, 1.0000e+00])\n"
     ]
    },
    {
     "data": {
      "text/html": [],
      "text/plain": [
       "<IPython.core.display.HTML object>"
      ]
     },
     "metadata": {},
     "output_type": "display_data"
    },
    {
     "name": "stdout",
     "output_type": "stream",
     "text": [
      "pred: WithoutMask  pred_idx:  tensor(1)  probs:  tensor([9.6843e-09, 1.0000e+00])\n"
     ]
    },
    {
     "data": {
      "text/html": [],
      "text/plain": [
       "<IPython.core.display.HTML object>"
      ]
     },
     "metadata": {},
     "output_type": "display_data"
    },
    {
     "name": "stdout",
     "output_type": "stream",
     "text": [
      "pred: WithoutMask  pred_idx:  tensor(1)  probs:  tensor([5.9763e-10, 1.0000e+00])\n"
     ]
    },
    {
     "data": {
      "text/html": [],
      "text/plain": [
       "<IPython.core.display.HTML object>"
      ]
     },
     "metadata": {},
     "output_type": "display_data"
    },
    {
     "name": "stdout",
     "output_type": "stream",
     "text": [
      "pred: WithoutMask  pred_idx:  tensor(1)  probs:  tensor([1.2065e-12, 1.0000e+00])\n"
     ]
    },
    {
     "data": {
      "text/html": [],
      "text/plain": [
       "<IPython.core.display.HTML object>"
      ]
     },
     "metadata": {},
     "output_type": "display_data"
    },
    {
     "name": "stdout",
     "output_type": "stream",
     "text": [
      "pred: WithoutMask  pred_idx:  tensor(1)  probs:  tensor([1.1260e-09, 1.0000e+00])\n"
     ]
    },
    {
     "data": {
      "text/html": [],
      "text/plain": [
       "<IPython.core.display.HTML object>"
      ]
     },
     "metadata": {},
     "output_type": "display_data"
    },
    {
     "name": "stdout",
     "output_type": "stream",
     "text": [
      "pred: WithoutMask  pred_idx:  tensor(1)  probs:  tensor([1.8272e-08, 1.0000e+00])\n"
     ]
    },
    {
     "data": {
      "text/html": [],
      "text/plain": [
       "<IPython.core.display.HTML object>"
      ]
     },
     "metadata": {},
     "output_type": "display_data"
    },
    {
     "name": "stdout",
     "output_type": "stream",
     "text": [
      "pred: WithoutMask  pred_idx:  tensor(1)  probs:  tensor([4.5385e-08, 1.0000e+00])\n"
     ]
    },
    {
     "data": {
      "text/html": [],
      "text/plain": [
       "<IPython.core.display.HTML object>"
      ]
     },
     "metadata": {},
     "output_type": "display_data"
    },
    {
     "name": "stdout",
     "output_type": "stream",
     "text": [
      "pred: WithoutMask  pred_idx:  tensor(1)  probs:  tensor([1.1347e-08, 1.0000e+00])\n"
     ]
    },
    {
     "data": {
      "text/html": [],
      "text/plain": [
       "<IPython.core.display.HTML object>"
      ]
     },
     "metadata": {},
     "output_type": "display_data"
    },
    {
     "name": "stdout",
     "output_type": "stream",
     "text": [
      "pred: WithoutMask  pred_idx:  tensor(1)  probs:  tensor([2.1806e-10, 1.0000e+00])\n"
     ]
    },
    {
     "data": {
      "text/html": [],
      "text/plain": [
       "<IPython.core.display.HTML object>"
      ]
     },
     "metadata": {},
     "output_type": "display_data"
    },
    {
     "name": "stdout",
     "output_type": "stream",
     "text": [
      "pred: WithoutMask  pred_idx:  tensor(1)  probs:  tensor([2.7194e-09, 1.0000e+00])\n"
     ]
    },
    {
     "data": {
      "text/html": [],
      "text/plain": [
       "<IPython.core.display.HTML object>"
      ]
     },
     "metadata": {},
     "output_type": "display_data"
    },
    {
     "name": "stdout",
     "output_type": "stream",
     "text": [
      "pred: WithoutMask  pred_idx:  tensor(1)  probs:  tensor([2.2693e-09, 1.0000e+00])\n"
     ]
    },
    {
     "data": {
      "text/html": [],
      "text/plain": [
       "<IPython.core.display.HTML object>"
      ]
     },
     "metadata": {},
     "output_type": "display_data"
    },
    {
     "name": "stdout",
     "output_type": "stream",
     "text": [
      "pred: WithoutMask  pred_idx:  tensor(1)  probs:  tensor([4.0369e-07, 1.0000e+00])\n"
     ]
    },
    {
     "data": {
      "text/html": [],
      "text/plain": [
       "<IPython.core.display.HTML object>"
      ]
     },
     "metadata": {},
     "output_type": "display_data"
    },
    {
     "name": "stdout",
     "output_type": "stream",
     "text": [
      "pred: WithoutMask  pred_idx:  tensor(1)  probs:  tensor([4.1985e-11, 1.0000e+00])\n"
     ]
    },
    {
     "data": {
      "text/html": [],
      "text/plain": [
       "<IPython.core.display.HTML object>"
      ]
     },
     "metadata": {},
     "output_type": "display_data"
    },
    {
     "name": "stdout",
     "output_type": "stream",
     "text": [
      "pred: WithoutMask  pred_idx:  tensor(1)  probs:  tensor([2.1570e-12, 1.0000e+00])\n"
     ]
    },
    {
     "data": {
      "text/html": [],
      "text/plain": [
       "<IPython.core.display.HTML object>"
      ]
     },
     "metadata": {},
     "output_type": "display_data"
    },
    {
     "name": "stdout",
     "output_type": "stream",
     "text": [
      "pred: WithoutMask  pred_idx:  tensor(1)  probs:  tensor([2.3286e-09, 1.0000e+00])\n"
     ]
    },
    {
     "data": {
      "text/html": [],
      "text/plain": [
       "<IPython.core.display.HTML object>"
      ]
     },
     "metadata": {},
     "output_type": "display_data"
    },
    {
     "name": "stdout",
     "output_type": "stream",
     "text": [
      "pred: WithoutMask  pred_idx:  tensor(1)  probs:  tensor([7.0244e-10, 1.0000e+00])\n"
     ]
    },
    {
     "data": {
      "text/html": [],
      "text/plain": [
       "<IPython.core.display.HTML object>"
      ]
     },
     "metadata": {},
     "output_type": "display_data"
    },
    {
     "name": "stdout",
     "output_type": "stream",
     "text": [
      "pred: WithoutMask  pred_idx:  tensor(1)  probs:  tensor([2.4931e-08, 1.0000e+00])\n"
     ]
    },
    {
     "data": {
      "text/html": [],
      "text/plain": [
       "<IPython.core.display.HTML object>"
      ]
     },
     "metadata": {},
     "output_type": "display_data"
    },
    {
     "name": "stdout",
     "output_type": "stream",
     "text": [
      "pred: WithoutMask  pred_idx:  tensor(1)  probs:  tensor([1.6115e-06, 1.0000e+00])\n"
     ]
    },
    {
     "data": {
      "text/html": [],
      "text/plain": [
       "<IPython.core.display.HTML object>"
      ]
     },
     "metadata": {},
     "output_type": "display_data"
    },
    {
     "name": "stdout",
     "output_type": "stream",
     "text": [
      "pred: WithoutMask  pred_idx:  tensor(1)  probs:  tensor([1.6870e-10, 1.0000e+00])\n"
     ]
    },
    {
     "data": {
      "text/html": [],
      "text/plain": [
       "<IPython.core.display.HTML object>"
      ]
     },
     "metadata": {},
     "output_type": "display_data"
    },
    {
     "name": "stdout",
     "output_type": "stream",
     "text": [
      "pred: WithoutMask  pred_idx:  tensor(1)  probs:  tensor([3.3367e-09, 1.0000e+00])\n"
     ]
    },
    {
     "data": {
      "text/html": [],
      "text/plain": [
       "<IPython.core.display.HTML object>"
      ]
     },
     "metadata": {},
     "output_type": "display_data"
    },
    {
     "name": "stdout",
     "output_type": "stream",
     "text": [
      "pred: WithoutMask  pred_idx:  tensor(1)  probs:  tensor([4.8703e-11, 1.0000e+00])\n"
     ]
    },
    {
     "data": {
      "text/html": [],
      "text/plain": [
       "<IPython.core.display.HTML object>"
      ]
     },
     "metadata": {},
     "output_type": "display_data"
    },
    {
     "name": "stdout",
     "output_type": "stream",
     "text": [
      "pred: WithoutMask  pred_idx:  tensor(1)  probs:  tensor([6.6150e-09, 1.0000e+00])\n"
     ]
    },
    {
     "data": {
      "text/html": [],
      "text/plain": [
       "<IPython.core.display.HTML object>"
      ]
     },
     "metadata": {},
     "output_type": "display_data"
    },
    {
     "name": "stdout",
     "output_type": "stream",
     "text": [
      "pred: WithoutMask  pred_idx:  tensor(1)  probs:  tensor([2.1131e-05, 9.9998e-01])\n"
     ]
    },
    {
     "data": {
      "text/html": [],
      "text/plain": [
       "<IPython.core.display.HTML object>"
      ]
     },
     "metadata": {},
     "output_type": "display_data"
    },
    {
     "name": "stdout",
     "output_type": "stream",
     "text": [
      "pred: WithoutMask  pred_idx:  tensor(1)  probs:  tensor([1.0714e-09, 1.0000e+00])\n"
     ]
    },
    {
     "data": {
      "text/html": [],
      "text/plain": [
       "<IPython.core.display.HTML object>"
      ]
     },
     "metadata": {},
     "output_type": "display_data"
    },
    {
     "name": "stdout",
     "output_type": "stream",
     "text": [
      "pred: WithoutMask  pred_idx:  tensor(1)  probs:  tensor([3.5016e-06, 1.0000e+00])\n"
     ]
    },
    {
     "data": {
      "text/html": [],
      "text/plain": [
       "<IPython.core.display.HTML object>"
      ]
     },
     "metadata": {},
     "output_type": "display_data"
    },
    {
     "name": "stdout",
     "output_type": "stream",
     "text": [
      "pred: WithoutMask  pred_idx:  tensor(1)  probs:  tensor([3.6935e-11, 1.0000e+00])\n"
     ]
    },
    {
     "data": {
      "text/html": [],
      "text/plain": [
       "<IPython.core.display.HTML object>"
      ]
     },
     "metadata": {},
     "output_type": "display_data"
    },
    {
     "name": "stdout",
     "output_type": "stream",
     "text": [
      "pred: WithoutMask  pred_idx:  tensor(1)  probs:  tensor([7.8726e-11, 1.0000e+00])\n"
     ]
    },
    {
     "data": {
      "text/html": [],
      "text/plain": [
       "<IPython.core.display.HTML object>"
      ]
     },
     "metadata": {},
     "output_type": "display_data"
    },
    {
     "name": "stdout",
     "output_type": "stream",
     "text": [
      "pred: WithoutMask  pred_idx:  tensor(1)  probs:  tensor([9.0832e-12, 1.0000e+00])\n"
     ]
    },
    {
     "data": {
      "text/html": [],
      "text/plain": [
       "<IPython.core.display.HTML object>"
      ]
     },
     "metadata": {},
     "output_type": "display_data"
    },
    {
     "name": "stdout",
     "output_type": "stream",
     "text": [
      "pred: WithoutMask  pred_idx:  tensor(1)  probs:  tensor([1.9680e-09, 1.0000e+00])\n"
     ]
    },
    {
     "data": {
      "text/html": [],
      "text/plain": [
       "<IPython.core.display.HTML object>"
      ]
     },
     "metadata": {},
     "output_type": "display_data"
    },
    {
     "name": "stdout",
     "output_type": "stream",
     "text": [
      "pred: WithoutMask  pred_idx:  tensor(1)  probs:  tensor([5.5992e-09, 1.0000e+00])\n"
     ]
    },
    {
     "data": {
      "text/html": [],
      "text/plain": [
       "<IPython.core.display.HTML object>"
      ]
     },
     "metadata": {},
     "output_type": "display_data"
    },
    {
     "name": "stdout",
     "output_type": "stream",
     "text": [
      "pred: WithoutMask  pred_idx:  tensor(1)  probs:  tensor([2.1862e-09, 1.0000e+00])\n"
     ]
    },
    {
     "data": {
      "text/html": [],
      "text/plain": [
       "<IPython.core.display.HTML object>"
      ]
     },
     "metadata": {},
     "output_type": "display_data"
    },
    {
     "name": "stdout",
     "output_type": "stream",
     "text": [
      "pred: WithoutMask  pred_idx:  tensor(1)  probs:  tensor([1.0278e-08, 1.0000e+00])\n"
     ]
    },
    {
     "data": {
      "text/html": [],
      "text/plain": [
       "<IPython.core.display.HTML object>"
      ]
     },
     "metadata": {},
     "output_type": "display_data"
    },
    {
     "name": "stdout",
     "output_type": "stream",
     "text": [
      "pred: WithoutMask  pred_idx:  tensor(1)  probs:  tensor([1.7396e-09, 1.0000e+00])\n"
     ]
    },
    {
     "data": {
      "text/html": [],
      "text/plain": [
       "<IPython.core.display.HTML object>"
      ]
     },
     "metadata": {},
     "output_type": "display_data"
    },
    {
     "name": "stdout",
     "output_type": "stream",
     "text": [
      "pred: WithoutMask  pred_idx:  tensor(1)  probs:  tensor([3.9821e-09, 1.0000e+00])\n"
     ]
    },
    {
     "data": {
      "text/html": [],
      "text/plain": [
       "<IPython.core.display.HTML object>"
      ]
     },
     "metadata": {},
     "output_type": "display_data"
    },
    {
     "name": "stdout",
     "output_type": "stream",
     "text": [
      "pred: WithoutMask  pred_idx:  tensor(1)  probs:  tensor([4.6658e-10, 1.0000e+00])\n"
     ]
    },
    {
     "data": {
      "text/html": [],
      "text/plain": [
       "<IPython.core.display.HTML object>"
      ]
     },
     "metadata": {},
     "output_type": "display_data"
    },
    {
     "name": "stdout",
     "output_type": "stream",
     "text": [
      "pred: WithoutMask  pred_idx:  tensor(1)  probs:  tensor([2.5128e-08, 1.0000e+00])\n"
     ]
    },
    {
     "data": {
      "text/html": [],
      "text/plain": [
       "<IPython.core.display.HTML object>"
      ]
     },
     "metadata": {},
     "output_type": "display_data"
    },
    {
     "name": "stdout",
     "output_type": "stream",
     "text": [
      "pred: WithoutMask  pred_idx:  tensor(1)  probs:  tensor([3.4292e-11, 1.0000e+00])\n"
     ]
    }
   ],
   "source": [
    "#All pictures in this category are without mask, therefore, the prediction should be \"WithMask\"\n",
    "imgPath = Path(\"Test/WithoutMask\")\n",
    "for image in os.listdir(imgPath):\n",
    "    if image.endswith(\".png\"):\n",
    "        testImagePath = Path(imgPath/image)\n",
    "        pred,pred_idx,probs = learn2.predict(testImagePath)\n",
    "        if(pred != \"WithoutMask\"):\n",
    "            print(\"TEST CASE FAILED... Image name: \", image, \"The path is \", testImagePath)\n",
    "        print(\"pred:\",str(pred),\" pred_idx: \",str(pred_idx), \" probs: \", str(probs))"
   ]
  },
  {
   "cell_type": "code",
   "execution_count": 135,
   "metadata": {},
   "outputs": [
    {
     "data": {
      "text/html": [],
      "text/plain": [
       "<IPython.core.display.HTML object>"
      ]
     },
     "metadata": {},
     "output_type": "display_data"
    },
    {
     "data": {
      "text/html": [],
      "text/plain": [
       "<IPython.core.display.HTML object>"
      ]
     },
     "metadata": {},
     "output_type": "display_data"
    },
    {
     "name": "stdout",
     "output_type": "stream",
     "text": [
      "pred: WithMask  pred_idx:  tensor(0)  probs:  tensor([1.0000e+00, 6.2137e-09])\n",
      "pred: WithMask  pred_idx:  tensor(0)  probs:  tensor([1.0000e+00, 1.2114e-09])\n"
     ]
    },
    {
     "data": {
      "text/plain": [
       "<matplotlib.axes._subplots.AxesSubplot at 0x7fdb2c0a9350>"
      ]
     },
     "execution_count": 135,
     "metadata": {},
     "output_type": "execute_result"
    },
    {
     "data": {
      "image/png": "[encoded data removed]",
      "text/plain": [
       "<Figure size 360x360 with 1 Axes>"
      ]
     },
     "metadata": {
      "needs_background": "light"
     },
     "output_type": "display_data"
    }
   ],
   "source": [
    "path_finalTest = Path(\"Test/gordon_low.jpg\")\n",
    "img = PILImage.create(path_finalTest)\n",
    "img.resize((460,460))\n",
    "pred,pred_idx,probs = learn2.predict(img)\n",
    "pred2,pred_idx2,probs2 = learn.predict(img)\n",
    "print(\"pred:\",str(pred),\" pred_idx: \",str(pred_idx), \" probs: \", str(probs))\n",
    "print(\"pred:\",str(pred2),\" pred_idx: \",str(pred_idx2), \" probs: \", str(probs2))\n",
    "img.show()"
   ]
  },
  {
   "cell_type": "markdown",
   "metadata": {},
   "source": [
    "### Creating GUI"
   ]
  },
  {
   "cell_type": "code",
   "execution_count": 73,
   "metadata": {},
   "outputs": [
    {
     "data": {
      "application/vnd.jupyter.widget-view+json": {
       "model_id": "d04d1bd18bd3410e9eb08721cf52f890",
       "version_major": 2,
       "version_minor": 0
      },
      "text/plain": [
       "FileUpload(value={}, description='Upload')"
      ]
     },
     "metadata": {},
     "output_type": "display_data"
    }
   ],
   "source": [
    "btn_upload = widgets.FileUpload()\n",
    "btn_upload"
   ]
  },
  {
   "cell_type": "code",
   "execution_count": 75,
   "metadata": {},
   "outputs": [],
   "source": [
    "img = PILImage.create(btn_upload.data[-1])"
   ]
  },
  {
   "cell_type": "code",
   "execution_count": 76,
   "metadata": {},
   "outputs": [
    {
     "data": {
      "application/vnd.jupyter.widget-view+json": {
       "model_id": "fa61b143ceee49b184f9b32a1416c91a",
       "version_major": 2,
       "version_minor": 0
      },
      "text/plain": [
       "Output()"
      ]
     },
     "metadata": {},
     "output_type": "display_data"
    }
   ],
   "source": [
    "out_pl = widgets.Output()\n",
    "out_pl.clear_output()\n",
    "with out_pl: display(img.to_thumb(128,128))\n",
    "out_pl"
   ]
  },
  {
   "cell_type": "code",
   "execution_count": 77,
   "metadata": {},
   "outputs": [
    {
     "data": {
      "text/html": [],
      "text/plain": [
       "<IPython.core.display.HTML object>"
      ]
     },
     "metadata": {},
     "output_type": "display_data"
    }
   ],
   "source": [
    "pred,pred_idx,probs = learn2.predict(img)"
   ]
  },
  {
   "cell_type": "code",
   "execution_count": 78,
   "metadata": {},
   "outputs": [
    {
     "data": {
      "application/vnd.jupyter.widget-view+json": {
       "model_id": "e06ae4aa34154829921aade99af26477",
       "version_major": 2,
       "version_minor": 0
      },
      "text/plain": [
       "Label(value='Prediction: WithMask ')"
      ]
     },
     "metadata": {},
     "output_type": "display_data"
    }
   ],
   "source": [
    "lbl_pred = widgets.Label()\n",
    "lbl_pred2 = widgets.Label()\n",
    "lbl_pred.value = f'Prediction: {pred} '\n",
    "lbl_pred2.value = f'Probability: {probs[pred_idx]:.04f}'\n",
    "lbl_pred"
   ]
  },
  {
   "cell_type": "code",
   "execution_count": 79,
   "metadata": {},
   "outputs": [
    {
     "data": {
      "application/vnd.jupyter.widget-view+json": {
       "model_id": "48970f4717a24443abad3d929ae8c8f5",
       "version_major": 2,
       "version_minor": 0
      },
      "text/plain": [
       "Button(description='Classify', style=ButtonStyle())"
      ]
     },
     "metadata": {},
     "output_type": "display_data"
    }
   ],
   "source": [
    "btn_run = widgets.Button(description='Classify')\n",
    "btn_run"
   ]
  },
  {
   "cell_type": "code",
   "execution_count": 83,
   "metadata": {},
   "outputs": [],
   "source": [
    "def on_click_classify(change):\n",
    "    img = PILImage.create(btn_upload.data[-1])\n",
    "    out_pl.clear_output()\n",
    "    with out_pl: display(img.to_thumb(148,148))\n",
    "    pred,pred_idx,probs = learn2.predict(img)\n",
    "    lbl_pred.value = f'Prediction: {pred}\\n Probability: {probs[pred_idx]:.04f}'\n",
    "    lbl_pred2.value = f'Prediction: {pred}\\n Probability: {probs[pred_idx]:.04f}'\n",
    "\n",
    "btn_run.on_click(on_click_classify)"
   ]
  },
  {
   "cell_type": "code",
   "execution_count": 84,
   "metadata": {},
   "outputs": [],
   "source": [
    "btn_upload = widgets.FileUpload()"
   ]
  },
  {
   "cell_type": "code",
   "execution_count": 85,
   "metadata": {},
   "outputs": [
    {
     "data": {
      "application/vnd.jupyter.widget-view+json": {
       "model_id": "19dc864856a144ddb8fe53d621424c63",
       "version_major": 2,
       "version_minor": 0
      },
      "text/plain": [
       "VBox(children=(Label(value='Welcome! Please upload an image of a monkey to classify the breed!'), FileUpload(v…"
      ]
     },
     "metadata": {},
     "output_type": "display_data"
    }
   ],
   "source": [
    "VBox([widgets.Label('Welcome! Please upload an image of a monkey to classify the breed!'), \n",
    "      btn_upload, btn_run, out_pl, lbl_pred,lbl_pred2])"
   ]
  },
  {
   "cell_type": "code",
   "execution_count": null,
   "metadata": {},
   "outputs": [],
   "source": []
  },
  {
   "cell_type": "code",
   "execution_count": null,
   "metadata": {},
   "outputs": [],
   "source": []
  }
 ],
 "metadata": {
  "environment": {
   "name": "pytorch-gpu.1-4.m50",
   "type": "gcloud",
   "uri": "gcr.io/deeplearning-platform-release/pytorch-gpu.1-4:m50"
  },
  "kernelspec": {
   "display_name": "Python 3",
   "language": "python",
   "name": "python3"
  },
  "language_info": {
   "codemirror_mode": {
    "name": "ipython",
    "version": 3
   },
   "file_extension": ".py",
   "mimetype": "text/x-python",
   "name": "python",
   "nbconvert_exporter": "python",
   "pygments_lexer": "ipython3",
   "version": "3.7.6"
  }
 },
 "nbformat": 4,
 "nbformat_minor": 4
}
